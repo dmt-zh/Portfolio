{
 "cells": [
  {
   "cell_type": "markdown",
   "metadata": {},
   "source": [
    "# Анализ АА/Б теста"
   ]
  },
  {
   "cell_type": "markdown",
   "metadata": {},
   "source": [
    "## Содержание\n",
    "\n",
    "- **[Постановка задачи](#Постановка-задачи)**\n",
    "- **[Описание данных](#Описание-данных)**\n",
    "- **[Импорт библиотек и кастомные функции](#Импорт-библиотек-и-кастомные-функции)**\n",
    "- **[1. Загрузка данных и EDA](#1.-Загрузка-данных-и-EDA)**\n",
    "    - [1.1 Данные по пользователям из тестовой группы](#1.1-Данные-по-пользователям-из-тестовой-группым)\n",
    "    - [1.2 Данные по транзакциям пользователей из тестовой группы](#1.2-Данные-по-транзакциям-пользователей-из-тестовой-группы)\n",
    "    - [1.3 Данные по пользователям из 1-й контрольной группы](#1.3-Данные-по-пользователям-из-1-й-контрольной-группы)\n",
    "    - [1.4 Данные по пользователям из 2-й контрольной группы](#1.4-Данные-по-пользователям-из-2-й-контрольной-группы)\n",
    "    - [1.5 Данные по транзакциям пользователей из 1-й контрольной группы](#1.5-Данные-по-транзакциям-пользователей-из-1-й-контрольной-группы)\n",
    "    - [1.6 Данные по транзакциям пользователей из 2-й контрольной группы](#1.5-Данные-по-транзакциям-пользователей-из-2-й-контрольной-группы)\n",
    "- **[2. Проверка качества сплитования](#2.-Проверка-качества-сплитования)**\n",
    "- **[3. Оценка результатов АА/Б теста](#3.-Оценка-результатов-АА/Б-теста)**\n",
    "    - [3.1 Гипотеза о равенстве долей пользователей сделавших покупку](#3.1-Гипотеза-о-равенстве-долей-пользователей-сделавших-покупку)\n",
    "    - [3.2 Гипотеза о равенстве долей пользователей оформивших премиум подписку](#3.2-Гипотеза-о-равенстве-долей-пользователей-оформивших-премиум-подписку)\n",
    "    - [3.3 Гипотеза о равенстве ARPPU по всем продуктам](#3.3-Гипотеза-о-равенстве-ARPPU-по-всем-продуктам)\n",
    "    - [3.4 Гипотеза о равенстве ARPPU по премиум подписке](#3.4-Гипотеза-о-равенстве-ARPPU-по-премиум-подписке)\n",
    "    - [3.5 В поисках различий групп пользователей](#3.5-В-поисках-различий-групп-пользователей)\n",
    "- **[4. Заключение](#4.-Заключение)**"
   ]
  },
  {
   "cell_type": "markdown",
   "metadata": {},
   "source": [
    "<hr>"
   ]
  },
  {
   "cell_type": "markdown",
   "metadata": {},
   "source": [
    "## Постановка задачи\n",
    "\n",
    "Представьте, что вы работаете в крупном дейтинговом приложении. Помимо базовых функций, в приложении также имеется премиум-подписка, которая дает доступ к ряду важных дополнительных возможностей. Был проведен AА/Б тест, в рамках которого для новых пользователей из нескольких стран была изменена стоимость премиум-подписки при покупке через две новые платежные системы. При этом стоимость пробного периода оставалась прежней.\n",
    "\n",
    "Проверьте:\n",
    "- Был ли эксперимент успешен в целом.\n",
    "- Проанализируйте, имеет ли нововведение смысл среди каких-либо конкретных групп пользователей.\n",
    "\n",
    "*Деньги за подписку списываются ежемесячно до тех пор, пока пользователь её не отменит.*"
   ]
  },
  {
   "cell_type": "markdown",
   "metadata": {},
   "source": [
    "<hr>"
   ]
  },
  {
   "cell_type": "markdown",
   "metadata": {},
   "source": [
    "## Описание данных\n",
    "\n",
    "Всего есть три группы: тестовая (test), контрольная 1 (control_1) и контрольная 2 (control_2). Для каждой из них:<br>\n",
    "- `users_*.csv` – информация о пользователях:\n",
    "\n",
    "| |                                                                               |\n",
    "| :----------------| :-------------------------------------------------------------------------------------|\n",
    "| uid              | идентификатор пользователя                                                            |\n",
    "| age              | возраст                                                                               |\n",
    "| attraction_coeff |  коэффициент привлекательности (от 0 до 1000, $\\frac{лайки}{просмотры}*1000$ )        |\n",
    "| coins            | число монеток (внутренняя валюта)                                                     |\n",
    "| country          | страна                                                                                |\n",
    "| visit_days       | в какие дни после регистрации пользователь посещал приложение (напр. в 1, затем в 7)  |\n",
    "| gender           | пол                                                                                   |\n",
    "| age_filter_start | фильтр поиска, мин. значение                                                          |\n",
    "| age_filter_end   | фильтр поиска, макс. значение                                                         |\n",
    "| views_count      | число полученных оценок                                                               |\n",
    "| was_premium      | был ли когда-либо премиум (либо пробный период премиум-статуса, либо купленный за деньги)  |\n",
    "| is_premium       | является ли премиум                                                                   |\n",
    "| total_revenue    | нормированная выручка                                                                 |"
   ]
  },
  {
   "cell_type": "markdown",
   "metadata": {},
   "source": [
    "- `transactions_*.csv` – информация о пользователях:\n",
    "\n",
    "|                  |                                                                                       |\n",
    "| :----------------| :-------------------------------------------------------------------------------------|\n",
    "| uid              | идентификатор пользователя                                                            |\n",
    "| country          | страна                                                                                |\n",
    "| joined_at        | дата и время регистрации                                                              |\n",
    "| paid_at          | дата и время покупки                                                                  |\n",
    "| revenue          | нормированная выручка                                                                 |\n",
    "| payment_id       | идентификатор платежа                                                                 |\n",
    "| from_page        | откуда пользователь перешел на страницу оплаты                                        |\n",
    "| product_type     | тип продукта (`trial_premium` – пробная премиум-подписка, `premium_no_trial` – премиум-подписка без пробной, `coins` – подписка за внутреннюю валюту, `other_type` – другое)                                   |"
   ]
  },
  {
   "cell_type": "markdown",
   "metadata": {},
   "source": [
    "<hr>"
   ]
  },
  {
   "cell_type": "markdown",
   "metadata": {},
   "source": [
    "## Импорт библиотек и кастомные функции"
   ]
  },
  {
   "cell_type": "code",
   "execution_count": 1,
   "metadata": {},
   "outputs": [],
   "source": [
    "# Импорт библиотек\n",
    "import pandas as pd\n",
    "import numpy as np\n",
    "\n",
    "from scipy import stats\n",
    "import statsmodels as sts\n",
    "from statsmodels.stats.proportion import proportions_ztest\n",
    "from statsmodels.sandbox.stats.multicomp import multipletests\n",
    "\n",
    "import matplotlib.pyplot as plt\n",
    "import seaborn as sns\n",
    "\n",
    "plt.style.use('ggplot')\n",
    "%matplotlib inline\n",
    "\n",
    "pd.set_option('display.max_column', None)\n",
    "\n",
    "import warnings\n",
    "warnings.filterwarnings('ignore')"
   ]
  },
  {
   "cell_type": "code",
   "execution_count": 2,
   "metadata": {},
   "outputs": [],
   "source": [
    "# Функция для визуализации % пропущенных значений в датасете\n",
    "def plot_missing_values(df):\n",
    "    \"\"\"\n",
    "        Функция возвращает барплот с процентом пропущенных значений в датасете\n",
    "    \"\"\"\n",
    "    missing = df.isna().sum().sort_values(ascending=False)\n",
    "    if missing.sum() > 0:\n",
    "        missing = missing[missing > 0]\n",
    "        missing_mean = df.isna().mean().sort_values(ascending=False) * 100\n",
    "        fig, ax = plt.subplots(figsize=(10, 2))\n",
    "        sns.barplot(missing, missing.index, palette='cool_r')\n",
    "        sns.despine()\n",
    "        plt.title('Number of missing values in features', fontsize=14)\n",
    "        for i, value in enumerate(missing_mean):\n",
    "            if value > 0:\n",
    "                plt.text(missing.iloc[i], i, str(round(value, 2)) + '%', fontdict={'fontweight':200, 'size':12}, va='center')\n",
    "    else:\n",
    "        return f'There aren\\'t any missing values'"
   ]
  },
  {
   "cell_type": "code",
   "execution_count": 3,
   "metadata": {},
   "outputs": [],
   "source": [
    "# Функция возвращает количество пользователей продливших и не продливших подписку\n",
    "def number_of_premium(df):\n",
    "    \"\"\"\n",
    "        Функция возвращает количество пользователей продливших и не продливших подписку\n",
    "    \"\"\"\n",
    "    is_premium = set(df[df.is_premium == True].uid.tolist())\n",
    "    was_premium = set(df[df.was_premium == True].uid.tolist())\n",
    "    not_canceled = len(is_premium) or len(is_premium.difference(was_premium))\n",
    "    canceled = len(was_premium.difference(is_premium))\n",
    "    print(f'Продлили премиум подписку - {not_canceled}.\\n' \\\n",
    "          f'Пользовались, но не продлили премиум подписку - {canceled}.')"
   ]
  },
  {
   "cell_type": "code",
   "execution_count": 4,
   "metadata": {},
   "outputs": [],
   "source": [
    "# Асимптотический тест для равенства средних\n",
    "def asy_mean_test(mean_hat, std_hat, mu_0=0, alpha=0.05, alternative='two-sided', margin=3):\n",
    "    \"\"\"\n",
    "        Асимптотический тест для равенства средних\n",
    "    \"\"\"\n",
    "    z_obs = (mean_hat - mu_0)/std_hat\n",
    "    \n",
    "    if alternative == 'two-sided':\n",
    "        p_value = 2 * (1 - stats.norm().cdf(np.abs(z_obs)))\n",
    "        z_crit = stats.norm().ppf(1 - alpha/2)\n",
    "        \n",
    "        statistics = ['-z_crit', 'z_crit', '-z_obs', 'z_obs']\n",
    "        params = dict(zip(statistics, [(-z_crit, -0.6, -margin, -z_crit, 'b'), \n",
    "                                       (z_crit, 0.05, z_crit, margin, 'b'),\n",
    "                                       (-z_obs, -0.6, -margin, -z_obs, 'r'), \n",
    "                                       (z_obs, 0.1, z_obs, margin, 'r')]))\n",
    "    \n",
    "    if alternative == 'less':\n",
    "        p_value = stats.norm().cdf(z_obs)\n",
    "        z_crit = stats.norm().ppf(1 - alpha)\n",
    "        \n",
    "        statistics = ['-z_crit', '-z_obs']\n",
    "        params = dict(zip(statistics, [(-z_crit, -0.6, -margin, -z_crit, 'b'), \n",
    "                                       (-z_obs, -0.6, -margin, -z_obs, 'r')]))\n",
    "\n",
    "    if alternative == 'larger':\n",
    "        p_value = 1 - stats.norm().cdf(z_obs)\n",
    "        z_crit = stats.norm().ppf(1 - alpha)\n",
    "        \n",
    "        statistics = ['z_crit', 'z_obs']\n",
    "        params = dict(zip(statistics, [(z_crit, 0.05, z_crit, margin, 'b'),\n",
    "                                       (z_obs, 0.1, z_obs, margin, 'r')]))\n",
    "    \n",
    "    \n",
    "    plt.figure(figsize = (10, 5))\n",
    "    x = np.linspace(-margin, margin)\n",
    "    pdf = stats.norm().pdf(x)\n",
    "\n",
    "    plt.plot(x, pdf, color=\"black\")\n",
    "    plt.ylabel(\"$f(x)$\", fontsize=16)\n",
    "    plt.xlabel(\"$x$\", fontsize=16)\n",
    "    y_max = plt.ylim()[1]\n",
    "    \n",
    "    for i in range(len(statistics)):\n",
    "        statistic, text_margin, left_bound, right_bound, color = params[statistics[i]]\n",
    "        \n",
    "        plt.axvline(statistic, color=color, linestyle=\"--\", lw=2)\n",
    "        h = 0.8 if statistics[i].split('_')[-1] == 'crit' else 0.6\n",
    "        plt.text(statistic + text_margin, \n",
    "                 h*y_max, round(statistic, 2), color=color, fontsize=16)\n",
    "        \n",
    "        xq = np.linspace(left_bound, right_bound)\n",
    "        yq = stats.norm().pdf(xq)\n",
    "        plt.fill_between(xq, 0, yq, color=color, alpha=0.2)\n",
    "    \n",
    "    return f'p-value: {p_value:.3}'"
   ]
  },
  {
   "cell_type": "code",
   "execution_count": 5,
   "metadata": {},
   "outputs": [],
   "source": [
    "# Объявим функцию, которая позволит проверять гипотезы с помощью бутстрапа\n",
    "def get_bootstrap(data_col_1, data_col_2, boot_it=1000, statistic=np.mean, bootstrap_conf_level=0.95):\n",
    "    \"\"\"\n",
    "        Бутстрапирование двух выборок. Функция возвращает значение p_value\n",
    "    \"\"\"\n",
    "    boot_len = max([len(data_col_1), len(data_col_2)])\n",
    "    boot_data = []\n",
    "    for i in range(boot_it):\n",
    "        sample_1 = data_col_1.sample(boot_len, replace=True).values\n",
    "        sample_2 = data_col_2.sample(boot_len, replace=True).values\n",
    "        \n",
    "        boot_data.append(statistic(sample_1 - sample_2))\n",
    "        \n",
    "        pd_boot_data = pd.DataFrame(boot_data)\n",
    "        \n",
    "        p_1 = stats.norm.cdf(x=0, loc=np.mean(boot_data), scale=np.std(boot_data))\n",
    "        p_2 = stats.norm.cdf(x=0, loc=-np.mean(boot_data), scale=np.std(boot_data))\n",
    "        p_value = min(p_1, p_2) * 2\n",
    "        \n",
    "    return p_value"
   ]
  },
  {
   "cell_type": "markdown",
   "metadata": {},
   "source": [
    "<hr>"
   ]
  },
  {
   "cell_type": "markdown",
   "metadata": {},
   "source": [
    "## 1. Загрузка данных и EDA"
   ]
  },
  {
   "cell_type": "code",
   "execution_count": 6,
   "metadata": {},
   "outputs": [],
   "source": [
    "# Загрузим все имеющиеся данные\n",
    "users_test = pd.read_csv('datasets/dating_users_test.csv', sep=';')\n",
    "users_control_1 = pd.read_csv('datasets\\dating_users_control_1.csv', sep=';')\n",
    "users_control_2 = pd.read_csv('datasets\\dating_users_control_2.csv', sep=';')\n",
    "transactions_test = pd.read_csv('datasets\\dating_transactions_test.csv', sep=';', parse_dates=['joined_at', 'paid_at'])\n",
    "transactions_control_1 = pd.read_csv('datasets\\dating_transactions_control_1.csv', sep=';', parse_dates=['joined_at', 'paid_at'])\n",
    "transactions_control_2 = pd.read_csv('datasets\\dating_transactions_control_2.csv', sep=';', parse_dates=['joined_at', 'paid_at'])"
   ]
  },
  {
   "cell_type": "markdown",
   "metadata": {},
   "source": [
    "### 1.1 Данные по пользователям из тестовой группы"
   ]
  },
  {
   "cell_type": "code",
   "execution_count": 7,
   "metadata": {},
   "outputs": [
    {
     "data": {
      "text/html": [
       "<div>\n",
       "<style scoped>\n",
       "    .dataframe tbody tr th:only-of-type {\n",
       "        vertical-align: middle;\n",
       "    }\n",
       "\n",
       "    .dataframe tbody tr th {\n",
       "        vertical-align: top;\n",
       "    }\n",
       "\n",
       "    .dataframe thead th {\n",
       "        text-align: right;\n",
       "    }\n",
       "</style>\n",
       "<table border=\"1\" class=\"dataframe\">\n",
       "  <thead>\n",
       "    <tr style=\"text-align: right;\">\n",
       "      <th></th>\n",
       "      <th>uid</th>\n",
       "      <th>age</th>\n",
       "      <th>attraction_coeff</th>\n",
       "      <th>coins</th>\n",
       "      <th>country</th>\n",
       "      <th>visit_days</th>\n",
       "      <th>gender</th>\n",
       "      <th>age_filter_start</th>\n",
       "      <th>age_filter_end</th>\n",
       "      <th>views_count</th>\n",
       "      <th>was_premium</th>\n",
       "      <th>is_premium</th>\n",
       "      <th>total_revenue</th>\n",
       "    </tr>\n",
       "  </thead>\n",
       "  <tbody>\n",
       "    <tr>\n",
       "      <th>0</th>\n",
       "      <td>892309896</td>\n",
       "      <td>27</td>\n",
       "      <td>685</td>\n",
       "      <td>NaN</td>\n",
       "      <td>United States of America</td>\n",
       "      <td>1,2,3,4,5,6,7,8,9,10,11,12,16,17</td>\n",
       "      <td>1</td>\n",
       "      <td>24</td>\n",
       "      <td>30</td>\n",
       "      <td>89</td>\n",
       "      <td>NaN</td>\n",
       "      <td>NaN</td>\n",
       "      <td>0</td>\n",
       "    </tr>\n",
       "    <tr>\n",
       "      <th>1</th>\n",
       "      <td>892044516</td>\n",
       "      <td>27</td>\n",
       "      <td>0</td>\n",
       "      <td>NaN</td>\n",
       "      <td>Germany</td>\n",
       "      <td>NaN</td>\n",
       "      <td>1</td>\n",
       "      <td>24</td>\n",
       "      <td>30</td>\n",
       "      <td>0</td>\n",
       "      <td>NaN</td>\n",
       "      <td>NaN</td>\n",
       "      <td>0</td>\n",
       "    </tr>\n",
       "    <tr>\n",
       "      <th>2</th>\n",
       "      <td>892185708</td>\n",
       "      <td>45</td>\n",
       "      <td>44</td>\n",
       "      <td>NaN</td>\n",
       "      <td>Israel</td>\n",
       "      <td>1,3,4,6,7,8,10,11,12,13,14,15,16,17,18,19,20,2...</td>\n",
       "      <td>1</td>\n",
       "      <td>42</td>\n",
       "      <td>48</td>\n",
       "      <td>68</td>\n",
       "      <td>NaN</td>\n",
       "      <td>NaN</td>\n",
       "      <td>0</td>\n",
       "    </tr>\n",
       "    <tr>\n",
       "      <th>3</th>\n",
       "      <td>892130292</td>\n",
       "      <td>32</td>\n",
       "      <td>0</td>\n",
       "      <td>NaN</td>\n",
       "      <td>United States of America</td>\n",
       "      <td>1,2,3,4,5,6,7,8,9,10,11,12</td>\n",
       "      <td>1</td>\n",
       "      <td>29</td>\n",
       "      <td>35</td>\n",
       "      <td>0</td>\n",
       "      <td>NaN</td>\n",
       "      <td>NaN</td>\n",
       "      <td>0</td>\n",
       "    </tr>\n",
       "    <tr>\n",
       "      <th>4</th>\n",
       "      <td>891406035</td>\n",
       "      <td>27</td>\n",
       "      <td>1000</td>\n",
       "      <td>NaN</td>\n",
       "      <td>France</td>\n",
       "      <td>NaN</td>\n",
       "      <td>1</td>\n",
       "      <td>24</td>\n",
       "      <td>30</td>\n",
       "      <td>1</td>\n",
       "      <td>1.0</td>\n",
       "      <td>NaN</td>\n",
       "      <td>0</td>\n",
       "    </tr>\n",
       "  </tbody>\n",
       "</table>\n",
       "</div>"
      ],
      "text/plain": [
       "         uid  age  attraction_coeff  coins                   country  \\\n",
       "0  892309896   27               685    NaN  United States of America   \n",
       "1  892044516   27                 0    NaN                   Germany   \n",
       "2  892185708   45                44    NaN                    Israel   \n",
       "3  892130292   32                 0    NaN  United States of America   \n",
       "4  891406035   27              1000    NaN                    France   \n",
       "\n",
       "                                          visit_days  gender  \\\n",
       "0                   1,2,3,4,5,6,7,8,9,10,11,12,16,17       1   \n",
       "1                                                NaN       1   \n",
       "2  1,3,4,6,7,8,10,11,12,13,14,15,16,17,18,19,20,2...       1   \n",
       "3                         1,2,3,4,5,6,7,8,9,10,11,12       1   \n",
       "4                                                NaN       1   \n",
       "\n",
       "   age_filter_start  age_filter_end  views_count  was_premium  is_premium  \\\n",
       "0                24              30           89          NaN         NaN   \n",
       "1                24              30            0          NaN         NaN   \n",
       "2                42              48           68          NaN         NaN   \n",
       "3                29              35            0          NaN         NaN   \n",
       "4                24              30            1          1.0         NaN   \n",
       "\n",
       "   total_revenue  \n",
       "0              0  \n",
       "1              0  \n",
       "2              0  \n",
       "3              0  \n",
       "4              0  "
      ]
     },
     "execution_count": 7,
     "metadata": {},
     "output_type": "execute_result"
    }
   ],
   "source": [
    "users_test.head()"
   ]
  },
  {
   "cell_type": "code",
   "execution_count": 8,
   "metadata": {},
   "outputs": [
    {
     "name": "stdout",
     "output_type": "stream",
     "text": [
      "<class 'pandas.core.frame.DataFrame'>\n",
      "RangeIndex: 4308 entries, 0 to 4307\n",
      "Data columns (total 13 columns):\n",
      " #   Column            Non-Null Count  Dtype  \n",
      "---  ------            --------------  -----  \n",
      " 0   uid               4308 non-null   int64  \n",
      " 1   age               4308 non-null   int64  \n",
      " 2   attraction_coeff  4308 non-null   int64  \n",
      " 3   coins             49 non-null     float64\n",
      " 4   country           4308 non-null   object \n",
      " 5   visit_days        2978 non-null   object \n",
      " 6   gender            4308 non-null   int64  \n",
      " 7   age_filter_start  4308 non-null   int64  \n",
      " 8   age_filter_end    4308 non-null   int64  \n",
      " 9   views_count       4308 non-null   int64  \n",
      " 10  was_premium       408 non-null    float64\n",
      " 11  is_premium        157 non-null    float64\n",
      " 12  total_revenue     4308 non-null   int64  \n",
      "dtypes: float64(3), int64(8), object(2)\n",
      "memory usage: 437.7+ KB\n"
     ]
    }
   ],
   "source": [
    "# Посмотрим на характеристики данных по пользователям\n",
    "users_test.info();"
   ]
  },
  {
   "cell_type": "code",
   "execution_count": 9,
   "metadata": {},
   "outputs": [],
   "source": [
    "# Преобразуем некоторые переменные к строковому типу\n",
    "users_test['country'] = users_test['country'].astype('str')\n",
    "users_test['uid'] = users_test['uid'].astype('str')"
   ]
  },
  {
   "cell_type": "code",
   "execution_count": 10,
   "metadata": {
    "cell_style": "center"
   },
   "outputs": [
    {
     "data": {
      "image/png": "[encoded data removed]",
      "text/plain": [
       "<Figure size 720x144 with 1 Axes>"
      ]
     },
     "metadata": {
      "needs_background": "light"
     },
     "output_type": "display_data"
    }
   ],
   "source": [
    "# Посмотрим на % пропущенных значений в данных\n",
    "plot_missing_values(users_test)"
   ]
  },
  {
   "cell_type": "markdown",
   "metadata": {
    "cell_style": "center"
   },
   "source": [
    "У большей части пользователей отсутствуют данные по монетам, при этом большое количество данных по статусу премиум также отсутствует. Можно предположить, что эти пропуски в данных обусловлены тем, что основная масса клиентов не использует премиальную подписку и, соответственно, у таких клиентов  нет монет. Также частично отсутствуют данные по дням посещений."
   ]
  },
  {
   "cell_type": "code",
   "execution_count": 11,
   "metadata": {},
   "outputs": [
    {
     "data": {
      "text/plain": [
       "1.0    157\n",
       "Name: is_premium, dtype: int64"
      ]
     },
     "execution_count": 11,
     "metadata": {},
     "output_type": "execute_result"
    }
   ],
   "source": [
    "# Посмотрим на значения в колонке is_premium\n",
    "users_test['is_premium'].value_counts()"
   ]
  },
  {
   "cell_type": "markdown",
   "metadata": {},
   "source": [
    "Таким образом, пропущенные значения в колонках `is_premium` и `was_premium` свидетельствуют о том, что пользователь не имеет статуса премиум и никогда таким статусом не обладал. Заполним пропуски в этих колонках нулями. Значение `0` будет обозначать отсутствие премиум подписки."
   ]
  },
  {
   "cell_type": "code",
   "execution_count": 12,
   "metadata": {},
   "outputs": [],
   "source": [
    "users_test['is_premium'] = users_test.is_premium.fillna(0)\n",
    "users_test['was_premium'] = users_test.was_premium.fillna(0)"
   ]
  },
  {
   "cell_type": "code",
   "execution_count": 13,
   "metadata": {},
   "outputs": [
    {
     "data": {
      "text/html": [
       "<div>\n",
       "<style scoped>\n",
       "    .dataframe tbody tr th:only-of-type {\n",
       "        vertical-align: middle;\n",
       "    }\n",
       "\n",
       "    .dataframe tbody tr th {\n",
       "        vertical-align: top;\n",
       "    }\n",
       "\n",
       "    .dataframe thead th {\n",
       "        text-align: right;\n",
       "    }\n",
       "</style>\n",
       "<table border=\"1\" class=\"dataframe\">\n",
       "  <thead>\n",
       "    <tr style=\"text-align: right;\">\n",
       "      <th></th>\n",
       "      <th>count</th>\n",
       "      <th>mean</th>\n",
       "      <th>std</th>\n",
       "      <th>min</th>\n",
       "      <th>25%</th>\n",
       "      <th>50%</th>\n",
       "      <th>75%</th>\n",
       "      <th>max</th>\n",
       "    </tr>\n",
       "  </thead>\n",
       "  <tbody>\n",
       "    <tr>\n",
       "      <th>age</th>\n",
       "      <td>4308.0</td>\n",
       "      <td>31.89</td>\n",
       "      <td>10.25</td>\n",
       "      <td>16.0</td>\n",
       "      <td>25.0</td>\n",
       "      <td>30.0</td>\n",
       "      <td>38.00</td>\n",
       "      <td>99.0</td>\n",
       "    </tr>\n",
       "    <tr>\n",
       "      <th>attraction_coeff</th>\n",
       "      <td>4308.0</td>\n",
       "      <td>316.41</td>\n",
       "      <td>323.37</td>\n",
       "      <td>0.0</td>\n",
       "      <td>0.0</td>\n",
       "      <td>250.0</td>\n",
       "      <td>520.25</td>\n",
       "      <td>1000.0</td>\n",
       "    </tr>\n",
       "    <tr>\n",
       "      <th>coins</th>\n",
       "      <td>49.0</td>\n",
       "      <td>229.84</td>\n",
       "      <td>1205.82</td>\n",
       "      <td>1.0</td>\n",
       "      <td>4.0</td>\n",
       "      <td>9.0</td>\n",
       "      <td>72.00</td>\n",
       "      <td>8466.0</td>\n",
       "    </tr>\n",
       "    <tr>\n",
       "      <th>age_filter_start</th>\n",
       "      <td>4308.0</td>\n",
       "      <td>26.70</td>\n",
       "      <td>9.39</td>\n",
       "      <td>13.0</td>\n",
       "      <td>19.0</td>\n",
       "      <td>24.0</td>\n",
       "      <td>32.00</td>\n",
       "      <td>96.0</td>\n",
       "    </tr>\n",
       "    <tr>\n",
       "      <th>age_filter_end</th>\n",
       "      <td>4308.0</td>\n",
       "      <td>38.25</td>\n",
       "      <td>15.34</td>\n",
       "      <td>19.0</td>\n",
       "      <td>28.0</td>\n",
       "      <td>35.0</td>\n",
       "      <td>44.00</td>\n",
       "      <td>102.0</td>\n",
       "    </tr>\n",
       "    <tr>\n",
       "      <th>views_count</th>\n",
       "      <td>4308.0</td>\n",
       "      <td>50.39</td>\n",
       "      <td>318.68</td>\n",
       "      <td>0.0</td>\n",
       "      <td>1.0</td>\n",
       "      <td>6.0</td>\n",
       "      <td>22.00</td>\n",
       "      <td>12831.0</td>\n",
       "    </tr>\n",
       "    <tr>\n",
       "      <th>total_revenue</th>\n",
       "      <td>4308.0</td>\n",
       "      <td>534.08</td>\n",
       "      <td>4371.68</td>\n",
       "      <td>0.0</td>\n",
       "      <td>0.0</td>\n",
       "      <td>0.0</td>\n",
       "      <td>0.00</td>\n",
       "      <td>129870.0</td>\n",
       "    </tr>\n",
       "  </tbody>\n",
       "</table>\n",
       "</div>"
      ],
      "text/plain": [
       "                   count    mean      std   min   25%    50%     75%       max\n",
       "age               4308.0   31.89    10.25  16.0  25.0   30.0   38.00      99.0\n",
       "attraction_coeff  4308.0  316.41   323.37   0.0   0.0  250.0  520.25    1000.0\n",
       "coins               49.0  229.84  1205.82   1.0   4.0    9.0   72.00    8466.0\n",
       "age_filter_start  4308.0   26.70     9.39  13.0  19.0   24.0   32.00      96.0\n",
       "age_filter_end    4308.0   38.25    15.34  19.0  28.0   35.0   44.00     102.0\n",
       "views_count       4308.0   50.39   318.68   0.0   1.0    6.0   22.00   12831.0\n",
       "total_revenue     4308.0  534.08  4371.68   0.0   0.0    0.0    0.00  129870.0"
      ]
     },
     "execution_count": 13,
     "metadata": {},
     "output_type": "execute_result"
    }
   ],
   "source": [
    "# Посмотрим на описательную статистику\n",
    "users_test.loc[:, ~users_test.columns.isin(['uid', 'is_premium', 'was_premium', 'gender'])].describe().T.round(2)"
   ]
  },
  {
   "cell_type": "code",
   "execution_count": 14,
   "metadata": {},
   "outputs": [
    {
     "data": {
      "text/html": [
       "<div>\n",
       "<style scoped>\n",
       "    .dataframe tbody tr th:only-of-type {\n",
       "        vertical-align: middle;\n",
       "    }\n",
       "\n",
       "    .dataframe tbody tr th {\n",
       "        vertical-align: top;\n",
       "    }\n",
       "\n",
       "    .dataframe thead th {\n",
       "        text-align: right;\n",
       "    }\n",
       "</style>\n",
       "<table border=\"1\" class=\"dataframe\">\n",
       "  <thead>\n",
       "    <tr style=\"text-align: right;\">\n",
       "      <th></th>\n",
       "      <th>count</th>\n",
       "      <th>unique</th>\n",
       "      <th>top</th>\n",
       "      <th>freq</th>\n",
       "    </tr>\n",
       "  </thead>\n",
       "  <tbody>\n",
       "    <tr>\n",
       "      <th>uid</th>\n",
       "      <td>4308</td>\n",
       "      <td>4308</td>\n",
       "      <td>891538020</td>\n",
       "      <td>1</td>\n",
       "    </tr>\n",
       "    <tr>\n",
       "      <th>country</th>\n",
       "      <td>4308</td>\n",
       "      <td>51</td>\n",
       "      <td>United States of America</td>\n",
       "      <td>1450</td>\n",
       "    </tr>\n",
       "    <tr>\n",
       "      <th>visit_days</th>\n",
       "      <td>2978</td>\n",
       "      <td>891</td>\n",
       "      <td>1</td>\n",
       "      <td>525</td>\n",
       "    </tr>\n",
       "  </tbody>\n",
       "</table>\n",
       "</div>"
      ],
      "text/plain": [
       "           count unique                       top  freq\n",
       "uid         4308   4308                 891538020     1\n",
       "country     4308     51  United States of America  1450\n",
       "visit_days  2978    891                         1   525"
      ]
     },
     "execution_count": 14,
     "metadata": {},
     "output_type": "execute_result"
    }
   ],
   "source": [
    "# Посмотрим на описательную статистику по категориальным переменным\n",
    "users_test.describe(include=['O']).T"
   ]
  },
  {
   "cell_type": "code",
   "execution_count": 15,
   "metadata": {},
   "outputs": [
    {
     "data": {
      "text/plain": [
       "0"
      ]
     },
     "execution_count": 15,
     "metadata": {},
     "output_type": "execute_result"
    }
   ],
   "source": [
    "# Посмотрим есть ли дубликаты строк в датафрейме\n",
    "users_test.duplicated().sum()"
   ]
  },
  {
   "cell_type": "markdown",
   "metadata": {},
   "source": [
    "Посмотрим сколько пользователей, у которых была премиальная подписка продлили ее. А также сколько пользователей не продляли подписку."
   ]
  },
  {
   "cell_type": "code",
   "execution_count": 16,
   "metadata": {},
   "outputs": [
    {
     "name": "stdout",
     "output_type": "stream",
     "text": [
      "Продлили премиум подписку - 157.\n",
      "Пользовались, но не продлили премиум подписку - 251.\n"
     ]
    }
   ],
   "source": [
    "number_of_premium(users_test)"
   ]
  },
  {
   "cell_type": "code",
   "execution_count": 17,
   "metadata": {},
   "outputs": [
    {
     "data": {
      "text/html": [
       "<div>\n",
       "<style scoped>\n",
       "    .dataframe tbody tr th:only-of-type {\n",
       "        vertical-align: middle;\n",
       "    }\n",
       "\n",
       "    .dataframe tbody tr th {\n",
       "        vertical-align: top;\n",
       "    }\n",
       "\n",
       "    .dataframe thead th {\n",
       "        text-align: right;\n",
       "    }\n",
       "</style>\n",
       "<table border=\"1\" class=\"dataframe\">\n",
       "  <thead>\n",
       "    <tr style=\"text-align: right;\">\n",
       "      <th></th>\n",
       "      <th>country</th>\n",
       "      <th>count</th>\n",
       "    </tr>\n",
       "  </thead>\n",
       "  <tbody>\n",
       "    <tr>\n",
       "      <th>0</th>\n",
       "      <td>United States of America</td>\n",
       "      <td>1450</td>\n",
       "    </tr>\n",
       "    <tr>\n",
       "      <th>1</th>\n",
       "      <td>Argentina</td>\n",
       "      <td>396</td>\n",
       "    </tr>\n",
       "    <tr>\n",
       "      <th>2</th>\n",
       "      <td>France</td>\n",
       "      <td>359</td>\n",
       "    </tr>\n",
       "    <tr>\n",
       "      <th>3</th>\n",
       "      <td>Italy</td>\n",
       "      <td>323</td>\n",
       "    </tr>\n",
       "    <tr>\n",
       "      <th>4</th>\n",
       "      <td>Spain</td>\n",
       "      <td>301</td>\n",
       "    </tr>\n",
       "    <tr>\n",
       "      <th>5</th>\n",
       "      <td>Chile</td>\n",
       "      <td>272</td>\n",
       "    </tr>\n",
       "    <tr>\n",
       "      <th>6</th>\n",
       "      <td>United Arab Emirates</td>\n",
       "      <td>226</td>\n",
       "    </tr>\n",
       "    <tr>\n",
       "      <th>7</th>\n",
       "      <td>Germany</td>\n",
       "      <td>209</td>\n",
       "    </tr>\n",
       "    <tr>\n",
       "      <th>8</th>\n",
       "      <td>United Kingdom (Great Britain)</td>\n",
       "      <td>169</td>\n",
       "    </tr>\n",
       "    <tr>\n",
       "      <th>9</th>\n",
       "      <td>Canada</td>\n",
       "      <td>137</td>\n",
       "    </tr>\n",
       "  </tbody>\n",
       "</table>\n",
       "</div>"
      ],
      "text/plain": [
       "                          country  count\n",
       "0        United States of America   1450\n",
       "1                       Argentina    396\n",
       "2                          France    359\n",
       "3                           Italy    323\n",
       "4                           Spain    301\n",
       "5                           Chile    272\n",
       "6            United Arab Emirates    226\n",
       "7                         Germany    209\n",
       "8  United Kingdom (Great Britain)    169\n",
       "9                          Canada    137"
      ]
     },
     "execution_count": 17,
     "metadata": {},
     "output_type": "execute_result"
    }
   ],
   "source": [
    "# Посмотрим на топ 10 стран по числу пользователей\n",
    "users_test.country.value_counts()[:10].reset_index().rename(columns={'index': 'country', 'country': 'count'})"
   ]
  },
  {
   "cell_type": "code",
   "execution_count": 18,
   "metadata": {},
   "outputs": [
    {
     "data": {
      "image/png": "[encoded data removed]",
      "text/plain": [
       "<Figure size 1440x612 with 9 Axes>"
      ]
     },
     "metadata": {
      "needs_background": "light"
     },
     "output_type": "display_data"
    }
   ],
   "source": [
    "# Посмотрим на распределения количественных переменных\n",
    "features = ['age', 'age_filter_start', 'age_filter_end', 'attraction_coeff', 'coins', 'total_revenue', 'views_count']\n",
    "users_test[features].hist(figsize=(20, 8.5), layout=(3, 3), bins=20);"
   ]
  },
  {
   "cell_type": "markdown",
   "metadata": {},
   "source": [
    "### 1.2 Данные по транзакциям пользователей из тестовой группы"
   ]
  },
  {
   "cell_type": "code",
   "execution_count": 19,
   "metadata": {},
   "outputs": [
    {
     "data": {
      "text/html": [
       "<div>\n",
       "<style scoped>\n",
       "    .dataframe tbody tr th:only-of-type {\n",
       "        vertical-align: middle;\n",
       "    }\n",
       "\n",
       "    .dataframe tbody tr th {\n",
       "        vertical-align: top;\n",
       "    }\n",
       "\n",
       "    .dataframe thead th {\n",
       "        text-align: right;\n",
       "    }\n",
       "</style>\n",
       "<table border=\"1\" class=\"dataframe\">\n",
       "  <thead>\n",
       "    <tr style=\"text-align: right;\">\n",
       "      <th></th>\n",
       "      <th>uid</th>\n",
       "      <th>country</th>\n",
       "      <th>joined_at</th>\n",
       "      <th>paid_at</th>\n",
       "      <th>revenue</th>\n",
       "      <th>payment_id</th>\n",
       "      <th>from_page</th>\n",
       "      <th>product_type</th>\n",
       "    </tr>\n",
       "  </thead>\n",
       "  <tbody>\n",
       "    <tr>\n",
       "      <th>0</th>\n",
       "      <td>891345942</td>\n",
       "      <td>Italy</td>\n",
       "      <td>2017-05-11 13:00:00</td>\n",
       "      <td>2017-11-13 15:04:00</td>\n",
       "      <td>12909</td>\n",
       "      <td>147</td>\n",
       "      <td>trial_vip_popup</td>\n",
       "      <td>trial_premium</td>\n",
       "    </tr>\n",
       "    <tr>\n",
       "      <th>1</th>\n",
       "      <td>892054251</td>\n",
       "      <td>United States of America</td>\n",
       "      <td>2017-10-22 00:33:00</td>\n",
       "      <td>2017-10-30 01:37:00</td>\n",
       "      <td>13923</td>\n",
       "      <td>147</td>\n",
       "      <td>trial_vip_popup</td>\n",
       "      <td>trial_premium</td>\n",
       "    </tr>\n",
       "    <tr>\n",
       "      <th>2</th>\n",
       "      <td>892236423</td>\n",
       "      <td>United States of America</td>\n",
       "      <td>2017-10-18 01:09:00</td>\n",
       "      <td>2017-10-23 00:15:00</td>\n",
       "      <td>3783</td>\n",
       "      <td>67</td>\n",
       "      <td>menu</td>\n",
       "      <td>other_type</td>\n",
       "    </tr>\n",
       "    <tr>\n",
       "      <th>3</th>\n",
       "      <td>892236423</td>\n",
       "      <td>United States of America</td>\n",
       "      <td>2017-10-18 01:09:00</td>\n",
       "      <td>2017-10-27 22:38:00</td>\n",
       "      <td>3783</td>\n",
       "      <td>67</td>\n",
       "      <td>menu</td>\n",
       "      <td>other_type</td>\n",
       "    </tr>\n",
       "    <tr>\n",
       "      <th>4</th>\n",
       "      <td>892168170</td>\n",
       "      <td>United States of America</td>\n",
       "      <td>2017-10-19 17:10:00</td>\n",
       "      <td>2017-10-27 19:10:00</td>\n",
       "      <td>9087</td>\n",
       "      <td>147</td>\n",
       "      <td>trial_vip_popup</td>\n",
       "      <td>trial_premium</td>\n",
       "    </tr>\n",
       "  </tbody>\n",
       "</table>\n",
       "</div>"
      ],
      "text/plain": [
       "         uid                   country           joined_at  \\\n",
       "0  891345942                     Italy 2017-05-11 13:00:00   \n",
       "1  892054251  United States of America 2017-10-22 00:33:00   \n",
       "2  892236423  United States of America 2017-10-18 01:09:00   \n",
       "3  892236423  United States of America 2017-10-18 01:09:00   \n",
       "4  892168170  United States of America 2017-10-19 17:10:00   \n",
       "\n",
       "              paid_at  revenue  payment_id        from_page   product_type  \n",
       "0 2017-11-13 15:04:00    12909         147  trial_vip_popup  trial_premium  \n",
       "1 2017-10-30 01:37:00    13923         147  trial_vip_popup  trial_premium  \n",
       "2 2017-10-23 00:15:00     3783          67             menu     other_type  \n",
       "3 2017-10-27 22:38:00     3783          67             menu     other_type  \n",
       "4 2017-10-27 19:10:00     9087         147  trial_vip_popup  trial_premium  "
      ]
     },
     "execution_count": 19,
     "metadata": {},
     "output_type": "execute_result"
    }
   ],
   "source": [
    "transactions_test.head()"
   ]
  },
  {
   "cell_type": "code",
   "execution_count": 20,
   "metadata": {},
   "outputs": [
    {
     "name": "stdout",
     "output_type": "stream",
     "text": [
      "<class 'pandas.core.frame.DataFrame'>\n",
      "RangeIndex: 273 entries, 0 to 272\n",
      "Data columns (total 8 columns):\n",
      " #   Column        Non-Null Count  Dtype         \n",
      "---  ------        --------------  -----         \n",
      " 0   uid           273 non-null    int64         \n",
      " 1   country       273 non-null    object        \n",
      " 2   joined_at     273 non-null    datetime64[ns]\n",
      " 3   paid_at       273 non-null    datetime64[ns]\n",
      " 4   revenue       273 non-null    int64         \n",
      " 5   payment_id    273 non-null    int64         \n",
      " 6   from_page     273 non-null    object        \n",
      " 7   product_type  273 non-null    object        \n",
      "dtypes: datetime64[ns](2), int64(3), object(3)\n",
      "memory usage: 17.2+ KB\n"
     ]
    }
   ],
   "source": [
    "transactions_test.info()"
   ]
  },
  {
   "cell_type": "code",
   "execution_count": 21,
   "metadata": {},
   "outputs": [],
   "source": [
    "# Преобразуем переменные к нужному типу\n",
    "cols = [i for i in transactions_test.columns if transactions_test[i].dtype not in ['int64','datetime64[ns]'] \n",
    "        or i in ['uid', 'payment_id']]\n",
    "\n",
    "for col in cols:\n",
    "    transactions_test[col] = transactions_test[col].astype('str')"
   ]
  },
  {
   "cell_type": "code",
   "execution_count": 22,
   "metadata": {},
   "outputs": [
    {
     "data": {
      "text/plain": [
       "7"
      ]
     },
     "execution_count": 22,
     "metadata": {},
     "output_type": "execute_result"
    }
   ],
   "source": [
    "# Посмотрим есть ли дубликаты строк в датафрейме\n",
    "transactions_test.duplicated().sum()"
   ]
  },
  {
   "cell_type": "code",
   "execution_count": 23,
   "metadata": {},
   "outputs": [
    {
     "data": {
      "text/html": [
       "<div>\n",
       "<style scoped>\n",
       "    .dataframe tbody tr th:only-of-type {\n",
       "        vertical-align: middle;\n",
       "    }\n",
       "\n",
       "    .dataframe tbody tr th {\n",
       "        vertical-align: top;\n",
       "    }\n",
       "\n",
       "    .dataframe thead th {\n",
       "        text-align: right;\n",
       "    }\n",
       "</style>\n",
       "<table border=\"1\" class=\"dataframe\">\n",
       "  <thead>\n",
       "    <tr style=\"text-align: right;\">\n",
       "      <th></th>\n",
       "      <th>uid</th>\n",
       "      <th>country</th>\n",
       "      <th>joined_at</th>\n",
       "      <th>paid_at</th>\n",
       "      <th>revenue</th>\n",
       "      <th>payment_id</th>\n",
       "      <th>from_page</th>\n",
       "      <th>product_type</th>\n",
       "    </tr>\n",
       "  </thead>\n",
       "  <tbody>\n",
       "    <tr>\n",
       "      <th>55</th>\n",
       "      <td>892236423</td>\n",
       "      <td>United States of America</td>\n",
       "      <td>2017-10-18 01:09:00</td>\n",
       "      <td>2017-10-23 00:15:00</td>\n",
       "      <td>3783</td>\n",
       "      <td>67</td>\n",
       "      <td>menu</td>\n",
       "      <td>other_type</td>\n",
       "    </tr>\n",
       "    <tr>\n",
       "      <th>96</th>\n",
       "      <td>892050108</td>\n",
       "      <td>Israel</td>\n",
       "      <td>2017-10-22 03:02:00</td>\n",
       "      <td>2017-10-23 02:53:00</td>\n",
       "      <td>1261</td>\n",
       "      <td>19</td>\n",
       "      <td>empty_likes</td>\n",
       "      <td>coins</td>\n",
       "    </tr>\n",
       "    <tr>\n",
       "      <th>127</th>\n",
       "      <td>892236423</td>\n",
       "      <td>United States of America</td>\n",
       "      <td>2017-10-18 01:09:00</td>\n",
       "      <td>2017-10-27 22:38:00</td>\n",
       "      <td>3783</td>\n",
       "      <td>67</td>\n",
       "      <td>menu</td>\n",
       "      <td>other_type</td>\n",
       "    </tr>\n",
       "    <tr>\n",
       "      <th>158</th>\n",
       "      <td>891508155</td>\n",
       "      <td>Latvia</td>\n",
       "      <td>2017-02-11 09:46:00</td>\n",
       "      <td>2017-03-11 22:06:00</td>\n",
       "      <td>936</td>\n",
       "      <td>19</td>\n",
       "      <td>empty_likes</td>\n",
       "      <td>coins</td>\n",
       "    </tr>\n",
       "    <tr>\n",
       "      <th>188</th>\n",
       "      <td>892236423</td>\n",
       "      <td>United States of America</td>\n",
       "      <td>2017-10-18 01:09:00</td>\n",
       "      <td>2017-10-22 22:08:00</td>\n",
       "      <td>1261</td>\n",
       "      <td>19</td>\n",
       "      <td>empty_likes</td>\n",
       "      <td>coins</td>\n",
       "    </tr>\n",
       "    <tr>\n",
       "      <th>205</th>\n",
       "      <td>892202526</td>\n",
       "      <td>United States of America</td>\n",
       "      <td>2017-10-18 20:34:00</td>\n",
       "      <td>2017-10-20 19:54:00</td>\n",
       "      <td>897</td>\n",
       "      <td>19</td>\n",
       "      <td>menu</td>\n",
       "      <td>coins</td>\n",
       "    </tr>\n",
       "    <tr>\n",
       "      <th>243</th>\n",
       "      <td>892339626</td>\n",
       "      <td>United States of America</td>\n",
       "      <td>2017-10-15 23:21:00</td>\n",
       "      <td>2017-10-20 18:14:00</td>\n",
       "      <td>754</td>\n",
       "      <td>19</td>\n",
       "      <td>empty_likes</td>\n",
       "      <td>coins</td>\n",
       "    </tr>\n",
       "  </tbody>\n",
       "</table>\n",
       "</div>"
      ],
      "text/plain": [
       "           uid                   country           joined_at  \\\n",
       "55   892236423  United States of America 2017-10-18 01:09:00   \n",
       "96   892050108                    Israel 2017-10-22 03:02:00   \n",
       "127  892236423  United States of America 2017-10-18 01:09:00   \n",
       "158  891508155                    Latvia 2017-02-11 09:46:00   \n",
       "188  892236423  United States of America 2017-10-18 01:09:00   \n",
       "205  892202526  United States of America 2017-10-18 20:34:00   \n",
       "243  892339626  United States of America 2017-10-15 23:21:00   \n",
       "\n",
       "                paid_at  revenue payment_id    from_page product_type  \n",
       "55  2017-10-23 00:15:00     3783         67         menu   other_type  \n",
       "96  2017-10-23 02:53:00     1261         19  empty_likes        coins  \n",
       "127 2017-10-27 22:38:00     3783         67         menu   other_type  \n",
       "158 2017-03-11 22:06:00      936         19  empty_likes        coins  \n",
       "188 2017-10-22 22:08:00     1261         19  empty_likes        coins  \n",
       "205 2017-10-20 19:54:00      897         19         menu        coins  \n",
       "243 2017-10-20 18:14:00      754         19  empty_likes        coins  "
      ]
     },
     "execution_count": 23,
     "metadata": {},
     "output_type": "execute_result"
    }
   ],
   "source": [
    "# Посмотрим на данные по которым есть дубликаты\n",
    "transactions_test[transactions_test.duplicated() == 1]"
   ]
  },
  {
   "cell_type": "markdown",
   "metadata": {},
   "source": [
    "Возьмем первые два `uid` и посмотрим более детально."
   ]
  },
  {
   "cell_type": "code",
   "execution_count": 24,
   "metadata": {},
   "outputs": [
    {
     "data": {
      "text/html": [
       "<div>\n",
       "<style scoped>\n",
       "    .dataframe tbody tr th:only-of-type {\n",
       "        vertical-align: middle;\n",
       "    }\n",
       "\n",
       "    .dataframe tbody tr th {\n",
       "        vertical-align: top;\n",
       "    }\n",
       "\n",
       "    .dataframe thead th {\n",
       "        text-align: right;\n",
       "    }\n",
       "</style>\n",
       "<table border=\"1\" class=\"dataframe\">\n",
       "  <thead>\n",
       "    <tr style=\"text-align: right;\">\n",
       "      <th></th>\n",
       "      <th>uid</th>\n",
       "      <th>country</th>\n",
       "      <th>joined_at</th>\n",
       "      <th>paid_at</th>\n",
       "      <th>revenue</th>\n",
       "      <th>payment_id</th>\n",
       "      <th>from_page</th>\n",
       "      <th>product_type</th>\n",
       "    </tr>\n",
       "  </thead>\n",
       "  <tbody>\n",
       "    <tr>\n",
       "      <th>2</th>\n",
       "      <td>892236423</td>\n",
       "      <td>United States of America</td>\n",
       "      <td>2017-10-18 01:09:00</td>\n",
       "      <td>2017-10-23 00:15:00</td>\n",
       "      <td>3783</td>\n",
       "      <td>67</td>\n",
       "      <td>menu</td>\n",
       "      <td>other_type</td>\n",
       "    </tr>\n",
       "    <tr>\n",
       "      <th>3</th>\n",
       "      <td>892236423</td>\n",
       "      <td>United States of America</td>\n",
       "      <td>2017-10-18 01:09:00</td>\n",
       "      <td>2017-10-27 22:38:00</td>\n",
       "      <td>3783</td>\n",
       "      <td>67</td>\n",
       "      <td>menu</td>\n",
       "      <td>other_type</td>\n",
       "    </tr>\n",
       "    <tr>\n",
       "      <th>17</th>\n",
       "      <td>892236423</td>\n",
       "      <td>United States of America</td>\n",
       "      <td>2017-10-18 01:09:00</td>\n",
       "      <td>2017-10-22 22:08:00</td>\n",
       "      <td>1261</td>\n",
       "      <td>19</td>\n",
       "      <td>empty_likes</td>\n",
       "      <td>coins</td>\n",
       "    </tr>\n",
       "    <tr>\n",
       "      <th>55</th>\n",
       "      <td>892236423</td>\n",
       "      <td>United States of America</td>\n",
       "      <td>2017-10-18 01:09:00</td>\n",
       "      <td>2017-10-23 00:15:00</td>\n",
       "      <td>3783</td>\n",
       "      <td>67</td>\n",
       "      <td>menu</td>\n",
       "      <td>other_type</td>\n",
       "    </tr>\n",
       "  </tbody>\n",
       "</table>\n",
       "</div>"
      ],
      "text/plain": [
       "          uid                   country           joined_at  \\\n",
       "2   892236423  United States of America 2017-10-18 01:09:00   \n",
       "3   892236423  United States of America 2017-10-18 01:09:00   \n",
       "17  892236423  United States of America 2017-10-18 01:09:00   \n",
       "55  892236423  United States of America 2017-10-18 01:09:00   \n",
       "\n",
       "               paid_at  revenue payment_id    from_page product_type  \n",
       "2  2017-10-23 00:15:00     3783         67         menu   other_type  \n",
       "3  2017-10-27 22:38:00     3783         67         menu   other_type  \n",
       "17 2017-10-22 22:08:00     1261         19  empty_likes        coins  \n",
       "55 2017-10-23 00:15:00     3783         67         menu   other_type  "
      ]
     },
     "execution_count": 24,
     "metadata": {},
     "output_type": "execute_result"
    }
   ],
   "source": [
    "transactions_test[transactions_test.uid == '892236423'][:4]"
   ]
  },
  {
   "cell_type": "code",
   "execution_count": 25,
   "metadata": {},
   "outputs": [
    {
     "data": {
      "text/html": [
       "<div>\n",
       "<style scoped>\n",
       "    .dataframe tbody tr th:only-of-type {\n",
       "        vertical-align: middle;\n",
       "    }\n",
       "\n",
       "    .dataframe tbody tr th {\n",
       "        vertical-align: top;\n",
       "    }\n",
       "\n",
       "    .dataframe thead th {\n",
       "        text-align: right;\n",
       "    }\n",
       "</style>\n",
       "<table border=\"1\" class=\"dataframe\">\n",
       "  <thead>\n",
       "    <tr style=\"text-align: right;\">\n",
       "      <th></th>\n",
       "      <th>uid</th>\n",
       "      <th>country</th>\n",
       "      <th>joined_at</th>\n",
       "      <th>paid_at</th>\n",
       "      <th>revenue</th>\n",
       "      <th>payment_id</th>\n",
       "      <th>from_page</th>\n",
       "      <th>product_type</th>\n",
       "    </tr>\n",
       "  </thead>\n",
       "  <tbody>\n",
       "    <tr>\n",
       "      <th>80</th>\n",
       "      <td>892050108</td>\n",
       "      <td>Israel</td>\n",
       "      <td>2017-10-22 03:02:00</td>\n",
       "      <td>2017-10-23 02:53:00</td>\n",
       "      <td>1261</td>\n",
       "      <td>19</td>\n",
       "      <td>empty_likes</td>\n",
       "      <td>coins</td>\n",
       "    </tr>\n",
       "    <tr>\n",
       "      <th>93</th>\n",
       "      <td>892050108</td>\n",
       "      <td>Israel</td>\n",
       "      <td>2017-10-22 03:02:00</td>\n",
       "      <td>2017-10-23 02:52:00</td>\n",
       "      <td>12597</td>\n",
       "      <td>147</td>\n",
       "      <td>left_sidebar_menu</td>\n",
       "      <td>premium_no_trial</td>\n",
       "    </tr>\n",
       "    <tr>\n",
       "      <th>96</th>\n",
       "      <td>892050108</td>\n",
       "      <td>Israel</td>\n",
       "      <td>2017-10-22 03:02:00</td>\n",
       "      <td>2017-10-23 02:53:00</td>\n",
       "      <td>1261</td>\n",
       "      <td>19</td>\n",
       "      <td>empty_likes</td>\n",
       "      <td>coins</td>\n",
       "    </tr>\n",
       "    <tr>\n",
       "      <th>212</th>\n",
       "      <td>892050108</td>\n",
       "      <td>Israel</td>\n",
       "      <td>2017-10-22 03:02:00</td>\n",
       "      <td>2017-10-23 04:50:00</td>\n",
       "      <td>1261</td>\n",
       "      <td>19</td>\n",
       "      <td>autorefill</td>\n",
       "      <td>coins</td>\n",
       "    </tr>\n",
       "  </tbody>\n",
       "</table>\n",
       "</div>"
      ],
      "text/plain": [
       "           uid country           joined_at             paid_at  revenue  \\\n",
       "80   892050108  Israel 2017-10-22 03:02:00 2017-10-23 02:53:00     1261   \n",
       "93   892050108  Israel 2017-10-22 03:02:00 2017-10-23 02:52:00    12597   \n",
       "96   892050108  Israel 2017-10-22 03:02:00 2017-10-23 02:53:00     1261   \n",
       "212  892050108  Israel 2017-10-22 03:02:00 2017-10-23 04:50:00     1261   \n",
       "\n",
       "    payment_id          from_page      product_type  \n",
       "80          19        empty_likes             coins  \n",
       "93         147  left_sidebar_menu  premium_no_trial  \n",
       "96          19        empty_likes             coins  \n",
       "212         19         autorefill             coins  "
      ]
     },
     "execution_count": 25,
     "metadata": {},
     "output_type": "execute_result"
    }
   ],
   "source": [
    "transactions_test[transactions_test.uid == '892050108']"
   ]
  },
  {
   "cell_type": "markdown",
   "metadata": {},
   "source": [
    "В данных действительно есть дубликаты."
   ]
  },
  {
   "cell_type": "code",
   "execution_count": 26,
   "metadata": {},
   "outputs": [],
   "source": [
    "# Удалим дубли\n",
    "transactions_test.drop_duplicates(inplace=True)"
   ]
  },
  {
   "cell_type": "code",
   "execution_count": 27,
   "metadata": {},
   "outputs": [
    {
     "data": {
      "text/html": [
       "<div>\n",
       "<style scoped>\n",
       "    .dataframe tbody tr th:only-of-type {\n",
       "        vertical-align: middle;\n",
       "    }\n",
       "\n",
       "    .dataframe tbody tr th {\n",
       "        vertical-align: top;\n",
       "    }\n",
       "\n",
       "    .dataframe thead th {\n",
       "        text-align: right;\n",
       "    }\n",
       "</style>\n",
       "<table border=\"1\" class=\"dataframe\">\n",
       "  <thead>\n",
       "    <tr style=\"text-align: right;\">\n",
       "      <th></th>\n",
       "      <th>joined_at</th>\n",
       "      <th>paid_at</th>\n",
       "      <th>revenue</th>\n",
       "    </tr>\n",
       "  </thead>\n",
       "  <tbody>\n",
       "    <tr>\n",
       "      <th>count</th>\n",
       "      <td>266</td>\n",
       "      <td>266</td>\n",
       "      <td>266.00</td>\n",
       "    </tr>\n",
       "    <tr>\n",
       "      <th>mean</th>\n",
       "      <td>2017-09-05 04:54:23.909774592</td>\n",
       "      <td>2017-09-05 08:19:27.969926144</td>\n",
       "      <td>8767.77</td>\n",
       "    </tr>\n",
       "    <tr>\n",
       "      <th>min</th>\n",
       "      <td>2017-01-11 03:07:00</td>\n",
       "      <td>2017-01-11 04:37:00</td>\n",
       "      <td>533.00</td>\n",
       "    </tr>\n",
       "    <tr>\n",
       "      <th>25%</th>\n",
       "      <td>2017-08-11 03:54:00</td>\n",
       "      <td>2017-07-11 20:57:45</td>\n",
       "      <td>3129.75</td>\n",
       "    </tr>\n",
       "    <tr>\n",
       "      <th>50%</th>\n",
       "      <td>2017-10-18 20:34:00</td>\n",
       "      <td>2017-10-22 14:40:30</td>\n",
       "      <td>6363.50</td>\n",
       "    </tr>\n",
       "    <tr>\n",
       "      <th>75%</th>\n",
       "      <td>2017-10-23 13:08:00</td>\n",
       "      <td>2017-10-29 07:48:00</td>\n",
       "      <td>12597.00</td>\n",
       "    </tr>\n",
       "    <tr>\n",
       "      <th>max</th>\n",
       "      <td>2017-10-31 23:40:00</td>\n",
       "      <td>2017-12-11 22:06:00</td>\n",
       "      <td>113477.00</td>\n",
       "    </tr>\n",
       "    <tr>\n",
       "      <th>std</th>\n",
       "      <td>NaN</td>\n",
       "      <td>NaN</td>\n",
       "      <td>11216.24</td>\n",
       "    </tr>\n",
       "  </tbody>\n",
       "</table>\n",
       "</div>"
      ],
      "text/plain": [
       "                           joined_at                        paid_at    revenue\n",
       "count                            266                            266     266.00\n",
       "mean   2017-09-05 04:54:23.909774592  2017-09-05 08:19:27.969926144    8767.77\n",
       "min              2017-01-11 03:07:00            2017-01-11 04:37:00     533.00\n",
       "25%              2017-08-11 03:54:00            2017-07-11 20:57:45    3129.75\n",
       "50%              2017-10-18 20:34:00            2017-10-22 14:40:30    6363.50\n",
       "75%              2017-10-23 13:08:00            2017-10-29 07:48:00   12597.00\n",
       "max              2017-10-31 23:40:00            2017-12-11 22:06:00  113477.00\n",
       "std                              NaN                            NaN   11216.24"
      ]
     },
     "execution_count": 27,
     "metadata": {},
     "output_type": "execute_result"
    }
   ],
   "source": [
    "# Посмотрим на описательную статистику\n",
    "transactions_test.describe(datetime_is_numeric=True).round(2)"
   ]
  },
  {
   "cell_type": "markdown",
   "metadata": {},
   "source": [
    "Поскольку в условии сказано, что A/Б тест проводился для для новых пользователей из нескольких стран по `min` по `max` дате можно предположить что эксперимент продолжался `2017-01` по `2017-12`."
   ]
  },
  {
   "cell_type": "code",
   "execution_count": 28,
   "metadata": {},
   "outputs": [
    {
     "data": {
      "text/html": [
       "<div>\n",
       "<style scoped>\n",
       "    .dataframe tbody tr th:only-of-type {\n",
       "        vertical-align: middle;\n",
       "    }\n",
       "\n",
       "    .dataframe tbody tr th {\n",
       "        vertical-align: top;\n",
       "    }\n",
       "\n",
       "    .dataframe thead th {\n",
       "        text-align: right;\n",
       "    }\n",
       "</style>\n",
       "<table border=\"1\" class=\"dataframe\">\n",
       "  <thead>\n",
       "    <tr style=\"text-align: right;\">\n",
       "      <th></th>\n",
       "      <th>count</th>\n",
       "      <th>unique</th>\n",
       "      <th>top</th>\n",
       "      <th>freq</th>\n",
       "    </tr>\n",
       "  </thead>\n",
       "  <tbody>\n",
       "    <tr>\n",
       "      <th>uid</th>\n",
       "      <td>266</td>\n",
       "      <td>146</td>\n",
       "      <td>892236423</td>\n",
       "      <td>11</td>\n",
       "    </tr>\n",
       "    <tr>\n",
       "      <th>country</th>\n",
       "      <td>266</td>\n",
       "      <td>17</td>\n",
       "      <td>United States of America</td>\n",
       "      <td>89</td>\n",
       "    </tr>\n",
       "    <tr>\n",
       "      <th>payment_id</th>\n",
       "      <td>266</td>\n",
       "      <td>6</td>\n",
       "      <td>147</td>\n",
       "      <td>125</td>\n",
       "    </tr>\n",
       "    <tr>\n",
       "      <th>from_page</th>\n",
       "      <td>266</td>\n",
       "      <td>22</td>\n",
       "      <td>empty_likes</td>\n",
       "      <td>68</td>\n",
       "    </tr>\n",
       "    <tr>\n",
       "      <th>product_type</th>\n",
       "      <td>266</td>\n",
       "      <td>4</td>\n",
       "      <td>coins</td>\n",
       "      <td>101</td>\n",
       "    </tr>\n",
       "  </tbody>\n",
       "</table>\n",
       "</div>"
      ],
      "text/plain": [
       "             count unique                       top freq\n",
       "uid            266    146                 892236423   11\n",
       "country        266     17  United States of America   89\n",
       "payment_id     266      6                       147  125\n",
       "from_page      266     22               empty_likes   68\n",
       "product_type   266      4                     coins  101"
      ]
     },
     "execution_count": 28,
     "metadata": {},
     "output_type": "execute_result"
    }
   ],
   "source": [
    "# Посмотрим на описательную статистику по категориальным переменным\n",
    "transactions_test.describe(include=['O']).T"
   ]
  },
  {
   "cell_type": "markdown",
   "metadata": {},
   "source": [
    "Больше всего транзакций пришло из США, при этом самый активный пользователь с `id` - совершил 14 платежей."
   ]
  },
  {
   "cell_type": "code",
   "execution_count": 29,
   "metadata": {},
   "outputs": [
    {
     "data": {
      "text/plain": [
       "['trial_premium', 'other_type', 'premium_no_trial', 'coins']"
      ]
     },
     "execution_count": 29,
     "metadata": {},
     "output_type": "execute_result"
    }
   ],
   "source": [
    "# Посмотрим на уникальные значения product_type\n",
    "transactions_test.product_type.unique().tolist()"
   ]
  },
  {
   "cell_type": "code",
   "execution_count": 30,
   "metadata": {},
   "outputs": [
    {
     "data": {
      "image/png": "[encoded data removed]",
      "text/plain": [
       "<Figure size 432x288 with 1 Axes>"
      ]
     },
     "metadata": {
      "needs_background": "light"
     },
     "output_type": "display_data"
    }
   ],
   "source": [
    "# Посмотрим на распределение по revenue\n",
    "transactions_test.revenue.hist(bins=20);"
   ]
  },
  {
   "cell_type": "markdown",
   "metadata": {},
   "source": [
    "### 1.3 Данные по пользователям из 1-й контрольной группы"
   ]
  },
  {
   "cell_type": "code",
   "execution_count": 31,
   "metadata": {},
   "outputs": [
    {
     "name": "stdout",
     "output_type": "stream",
     "text": [
      "<class 'pandas.core.frame.DataFrame'>\n",
      "RangeIndex: 4340 entries, 0 to 4339\n",
      "Data columns (total 13 columns):\n",
      " #   Column            Non-Null Count  Dtype  \n",
      "---  ------            --------------  -----  \n",
      " 0   uid               4340 non-null   int64  \n",
      " 1   age               4340 non-null   int64  \n",
      " 2   attraction_coeff  4340 non-null   int64  \n",
      " 3   coins             60 non-null     float64\n",
      " 4   country           4340 non-null   object \n",
      " 5   visit_days        3016 non-null   object \n",
      " 6   gender            4340 non-null   int64  \n",
      " 7   age_filter_start  4340 non-null   int64  \n",
      " 8   age_filter_end    4340 non-null   int64  \n",
      " 9   views_count       4340 non-null   int64  \n",
      " 10  was_premium       436 non-null    float64\n",
      " 11  is_premium        192 non-null    float64\n",
      " 12  total_revenue     4340 non-null   int64  \n",
      "dtypes: float64(3), int64(8), object(2)\n",
      "memory usage: 440.9+ KB\n"
     ]
    }
   ],
   "source": [
    "# Посмотрим на характеристики данных по пользователям\n",
    "users_control_1.info();"
   ]
  },
  {
   "cell_type": "code",
   "execution_count": 32,
   "metadata": {},
   "outputs": [],
   "source": [
    "# Преобразуем некоторые переменные к строковому типу\n",
    "users_control_1['country'] = users_control_1['country'].astype('str')\n",
    "users_control_1['uid'] = users_control_1['uid'].astype('str')"
   ]
  },
  {
   "cell_type": "code",
   "execution_count": 33,
   "metadata": {},
   "outputs": [
    {
     "data": {
      "image/png": "[encoded data removed]",
      "text/plain": [
       "<Figure size 720x144 with 1 Axes>"
      ]
     },
     "metadata": {
      "needs_background": "light"
     },
     "output_type": "display_data"
    }
   ],
   "source": [
    "# Посмотрим на % пропущенных значений в данных\n",
    "plot_missing_values(users_control_1)"
   ]
  },
  {
   "cell_type": "code",
   "execution_count": 34,
   "metadata": {},
   "outputs": [],
   "source": [
    "# Заполним пропуски нулями в колонках is_premium и was_premium\n",
    "users_control_1['is_premium'] = users_control_1.is_premium.fillna(0)\n",
    "users_control_1['was_premium'] = users_control_1.was_premium.fillna(0)"
   ]
  },
  {
   "cell_type": "code",
   "execution_count": 35,
   "metadata": {},
   "outputs": [
    {
     "data": {
      "text/plain": [
       "0"
      ]
     },
     "execution_count": 35,
     "metadata": {},
     "output_type": "execute_result"
    }
   ],
   "source": [
    "# Посмотрим есть ли дубликаты строк в датафрейме\n",
    "users_control_1.duplicated().sum()"
   ]
  },
  {
   "cell_type": "code",
   "execution_count": 36,
   "metadata": {
    "cell_style": "center"
   },
   "outputs": [
    {
     "data": {
      "text/html": [
       "<div>\n",
       "<style scoped>\n",
       "    .dataframe tbody tr th:only-of-type {\n",
       "        vertical-align: middle;\n",
       "    }\n",
       "\n",
       "    .dataframe tbody tr th {\n",
       "        vertical-align: top;\n",
       "    }\n",
       "\n",
       "    .dataframe thead th {\n",
       "        text-align: right;\n",
       "    }\n",
       "</style>\n",
       "<table border=\"1\" class=\"dataframe\">\n",
       "  <thead>\n",
       "    <tr style=\"text-align: right;\">\n",
       "      <th></th>\n",
       "      <th>count</th>\n",
       "      <th>mean</th>\n",
       "      <th>std</th>\n",
       "      <th>min</th>\n",
       "      <th>25%</th>\n",
       "      <th>50%</th>\n",
       "      <th>75%</th>\n",
       "      <th>max</th>\n",
       "    </tr>\n",
       "  </thead>\n",
       "  <tbody>\n",
       "    <tr>\n",
       "      <th>age</th>\n",
       "      <td>4340.0</td>\n",
       "      <td>32.10</td>\n",
       "      <td>10.26</td>\n",
       "      <td>16.0</td>\n",
       "      <td>24.0</td>\n",
       "      <td>30.0</td>\n",
       "      <td>38.0</td>\n",
       "      <td>99.0</td>\n",
       "    </tr>\n",
       "    <tr>\n",
       "      <th>attraction_coeff</th>\n",
       "      <td>4340.0</td>\n",
       "      <td>312.05</td>\n",
       "      <td>320.97</td>\n",
       "      <td>0.0</td>\n",
       "      <td>0.0</td>\n",
       "      <td>238.5</td>\n",
       "      <td>518.0</td>\n",
       "      <td>1000.0</td>\n",
       "    </tr>\n",
       "    <tr>\n",
       "      <th>coins</th>\n",
       "      <td>60.0</td>\n",
       "      <td>1745.90</td>\n",
       "      <td>12902.36</td>\n",
       "      <td>1.0</td>\n",
       "      <td>8.0</td>\n",
       "      <td>11.5</td>\n",
       "      <td>28.0</td>\n",
       "      <td>99958.0</td>\n",
       "    </tr>\n",
       "    <tr>\n",
       "      <th>age_filter_start</th>\n",
       "      <td>4340.0</td>\n",
       "      <td>26.79</td>\n",
       "      <td>9.41</td>\n",
       "      <td>13.0</td>\n",
       "      <td>19.0</td>\n",
       "      <td>25.0</td>\n",
       "      <td>32.0</td>\n",
       "      <td>96.0</td>\n",
       "    </tr>\n",
       "    <tr>\n",
       "      <th>age_filter_end</th>\n",
       "      <td>4340.0</td>\n",
       "      <td>38.55</td>\n",
       "      <td>15.23</td>\n",
       "      <td>19.0</td>\n",
       "      <td>28.0</td>\n",
       "      <td>35.0</td>\n",
       "      <td>45.0</td>\n",
       "      <td>102.0</td>\n",
       "    </tr>\n",
       "    <tr>\n",
       "      <th>views_count</th>\n",
       "      <td>4340.0</td>\n",
       "      <td>44.47</td>\n",
       "      <td>204.80</td>\n",
       "      <td>0.0</td>\n",
       "      <td>1.0</td>\n",
       "      <td>6.0</td>\n",
       "      <td>21.0</td>\n",
       "      <td>4953.0</td>\n",
       "    </tr>\n",
       "    <tr>\n",
       "      <th>total_revenue</th>\n",
       "      <td>4340.0</td>\n",
       "      <td>594.76</td>\n",
       "      <td>7987.92</td>\n",
       "      <td>0.0</td>\n",
       "      <td>0.0</td>\n",
       "      <td>0.0</td>\n",
       "      <td>0.0</td>\n",
       "      <td>486330.0</td>\n",
       "    </tr>\n",
       "  </tbody>\n",
       "</table>\n",
       "</div>"
      ],
      "text/plain": [
       "                   count     mean       std   min   25%    50%    75%  \\\n",
       "age               4340.0    32.10     10.26  16.0  24.0   30.0   38.0   \n",
       "attraction_coeff  4340.0   312.05    320.97   0.0   0.0  238.5  518.0   \n",
       "coins               60.0  1745.90  12902.36   1.0   8.0   11.5   28.0   \n",
       "age_filter_start  4340.0    26.79      9.41  13.0  19.0   25.0   32.0   \n",
       "age_filter_end    4340.0    38.55     15.23  19.0  28.0   35.0   45.0   \n",
       "views_count       4340.0    44.47    204.80   0.0   1.0    6.0   21.0   \n",
       "total_revenue     4340.0   594.76   7987.92   0.0   0.0    0.0    0.0   \n",
       "\n",
       "                       max  \n",
       "age                   99.0  \n",
       "attraction_coeff    1000.0  \n",
       "coins              99958.0  \n",
       "age_filter_start      96.0  \n",
       "age_filter_end       102.0  \n",
       "views_count         4953.0  \n",
       "total_revenue     486330.0  "
      ]
     },
     "execution_count": 36,
     "metadata": {},
     "output_type": "execute_result"
    }
   ],
   "source": [
    "# Посмотрим на описательную статистику\n",
    "users_control_1.loc[:, ~users_control_1.columns.isin(['uid', 'is_premium', 'was_premium', 'gender'])].describe().T.round(2)"
   ]
  },
  {
   "cell_type": "code",
   "execution_count": 37,
   "metadata": {
    "cell_style": "center"
   },
   "outputs": [
    {
     "data": {
      "text/html": [
       "<div>\n",
       "<style scoped>\n",
       "    .dataframe tbody tr th:only-of-type {\n",
       "        vertical-align: middle;\n",
       "    }\n",
       "\n",
       "    .dataframe tbody tr th {\n",
       "        vertical-align: top;\n",
       "    }\n",
       "\n",
       "    .dataframe thead th {\n",
       "        text-align: right;\n",
       "    }\n",
       "</style>\n",
       "<table border=\"1\" class=\"dataframe\">\n",
       "  <thead>\n",
       "    <tr style=\"text-align: right;\">\n",
       "      <th></th>\n",
       "      <th>count</th>\n",
       "      <th>unique</th>\n",
       "      <th>top</th>\n",
       "      <th>freq</th>\n",
       "    </tr>\n",
       "  </thead>\n",
       "  <tbody>\n",
       "    <tr>\n",
       "      <th>uid</th>\n",
       "      <td>4340</td>\n",
       "      <td>4340</td>\n",
       "      <td>892127706</td>\n",
       "      <td>1</td>\n",
       "    </tr>\n",
       "    <tr>\n",
       "      <th>country</th>\n",
       "      <td>4340</td>\n",
       "      <td>40</td>\n",
       "      <td>United States of America</td>\n",
       "      <td>1471</td>\n",
       "    </tr>\n",
       "    <tr>\n",
       "      <th>visit_days</th>\n",
       "      <td>3016</td>\n",
       "      <td>880</td>\n",
       "      <td>1</td>\n",
       "      <td>592</td>\n",
       "    </tr>\n",
       "  </tbody>\n",
       "</table>\n",
       "</div>"
      ],
      "text/plain": [
       "           count unique                       top  freq\n",
       "uid         4340   4340                 892127706     1\n",
       "country     4340     40  United States of America  1471\n",
       "visit_days  3016    880                         1   592"
      ]
     },
     "execution_count": 37,
     "metadata": {},
     "output_type": "execute_result"
    }
   ],
   "source": [
    "# Посмотрим на описательную статистику по категориальным переменным\n",
    "users_control_1.describe(include=['O']).T"
   ]
  },
  {
   "cell_type": "markdown",
   "metadata": {},
   "source": [
    "Посмотрим сколько пользователей, у которых была премиальная подписка продлили ее. А также сколько пользователей не продляли подписку."
   ]
  },
  {
   "cell_type": "code",
   "execution_count": 38,
   "metadata": {},
   "outputs": [
    {
     "name": "stdout",
     "output_type": "stream",
     "text": [
      "Продлили премиум подписку - 192.\n",
      "Пользовались, но не продлили премиум подписку - 244.\n"
     ]
    }
   ],
   "source": [
    "number_of_premium(users_control_1)"
   ]
  },
  {
   "cell_type": "code",
   "execution_count": 39,
   "metadata": {},
   "outputs": [
    {
     "data": {
      "text/html": [
       "<div>\n",
       "<style scoped>\n",
       "    .dataframe tbody tr th:only-of-type {\n",
       "        vertical-align: middle;\n",
       "    }\n",
       "\n",
       "    .dataframe tbody tr th {\n",
       "        vertical-align: top;\n",
       "    }\n",
       "\n",
       "    .dataframe thead th {\n",
       "        text-align: right;\n",
       "    }\n",
       "</style>\n",
       "<table border=\"1\" class=\"dataframe\">\n",
       "  <thead>\n",
       "    <tr style=\"text-align: right;\">\n",
       "      <th></th>\n",
       "      <th>country</th>\n",
       "      <th>count</th>\n",
       "    </tr>\n",
       "  </thead>\n",
       "  <tbody>\n",
       "    <tr>\n",
       "      <th>0</th>\n",
       "      <td>United States of America</td>\n",
       "      <td>1471</td>\n",
       "    </tr>\n",
       "    <tr>\n",
       "      <th>1</th>\n",
       "      <td>Argentina</td>\n",
       "      <td>389</td>\n",
       "    </tr>\n",
       "    <tr>\n",
       "      <th>2</th>\n",
       "      <td>France</td>\n",
       "      <td>370</td>\n",
       "    </tr>\n",
       "    <tr>\n",
       "      <th>3</th>\n",
       "      <td>Spain</td>\n",
       "      <td>342</td>\n",
       "    </tr>\n",
       "    <tr>\n",
       "      <th>4</th>\n",
       "      <td>Italy</td>\n",
       "      <td>338</td>\n",
       "    </tr>\n",
       "    <tr>\n",
       "      <th>5</th>\n",
       "      <td>Chile</td>\n",
       "      <td>287</td>\n",
       "    </tr>\n",
       "    <tr>\n",
       "      <th>6</th>\n",
       "      <td>United Arab Emirates</td>\n",
       "      <td>207</td>\n",
       "    </tr>\n",
       "    <tr>\n",
       "      <th>7</th>\n",
       "      <td>Germany</td>\n",
       "      <td>188</td>\n",
       "    </tr>\n",
       "    <tr>\n",
       "      <th>8</th>\n",
       "      <td>United Kingdom (Great Britain)</td>\n",
       "      <td>146</td>\n",
       "    </tr>\n",
       "    <tr>\n",
       "      <th>9</th>\n",
       "      <td>Canada</td>\n",
       "      <td>134</td>\n",
       "    </tr>\n",
       "  </tbody>\n",
       "</table>\n",
       "</div>"
      ],
      "text/plain": [
       "                          country  count\n",
       "0        United States of America   1471\n",
       "1                       Argentina    389\n",
       "2                          France    370\n",
       "3                           Spain    342\n",
       "4                           Italy    338\n",
       "5                           Chile    287\n",
       "6            United Arab Emirates    207\n",
       "7                         Germany    188\n",
       "8  United Kingdom (Great Britain)    146\n",
       "9                          Canada    134"
      ]
     },
     "execution_count": 39,
     "metadata": {},
     "output_type": "execute_result"
    }
   ],
   "source": [
    "# Посмотрим на топ 10 стран по числу пользователей\n",
    "users_control_1.country.value_counts()[:10].reset_index().rename(columns={'index': 'country', 'country': 'count'})"
   ]
  },
  {
   "cell_type": "code",
   "execution_count": 40,
   "metadata": {},
   "outputs": [
    {
     "data": {
      "image/png": "[encoded data removed]",
      "text/plain": [
       "<Figure size 1440x612 with 9 Axes>"
      ]
     },
     "metadata": {
      "needs_background": "light"
     },
     "output_type": "display_data"
    }
   ],
   "source": [
    "# Посмотрим на распределения количественных переменных\n",
    "features = ['age', 'age_filter_start', 'age_filter_end', 'attraction_coeff', 'coins', 'total_revenue', 'views_count']\n",
    "users_control_1[features].hist(figsize=(20, 8.5), layout=(3, 3), bins=20);"
   ]
  },
  {
   "cell_type": "markdown",
   "metadata": {},
   "source": [
    "### 1.4 Данные по пользователям из 2-й контрольной группы"
   ]
  },
  {
   "cell_type": "code",
   "execution_count": 41,
   "metadata": {},
   "outputs": [
    {
     "name": "stdout",
     "output_type": "stream",
     "text": [
      "<class 'pandas.core.frame.DataFrame'>\n",
      "RangeIndex: 4264 entries, 0 to 4263\n",
      "Data columns (total 13 columns):\n",
      " #   Column            Non-Null Count  Dtype  \n",
      "---  ------            --------------  -----  \n",
      " 0   uid               4264 non-null   int64  \n",
      " 1   age               4264 non-null   int64  \n",
      " 2   attraction_coeff  4264 non-null   int64  \n",
      " 3   coins             61 non-null     float64\n",
      " 4   country           4264 non-null   object \n",
      " 5   visit_days        2900 non-null   object \n",
      " 6   gender            4264 non-null   int64  \n",
      " 7   age_filter_start  4264 non-null   int64  \n",
      " 8   age_filter_end    4264 non-null   int64  \n",
      " 9   views_count       4264 non-null   int64  \n",
      " 10  was_premium       411 non-null    float64\n",
      " 11  is_premium        191 non-null    float64\n",
      " 12  total_revenue     4264 non-null   int64  \n",
      "dtypes: float64(3), int64(8), object(2)\n",
      "memory usage: 433.2+ KB\n"
     ]
    }
   ],
   "source": [
    "# Посмотрим на характеристики данных по пользователям\n",
    "users_control_2.info();"
   ]
  },
  {
   "cell_type": "code",
   "execution_count": 42,
   "metadata": {},
   "outputs": [],
   "source": [
    "# Преобразуем некоторые переменные к строковому типу\n",
    "users_control_2['country'] = users_control_2['country'].astype('str')\n",
    "users_control_2['uid'] = users_control_2['uid'].astype('str')"
   ]
  },
  {
   "cell_type": "code",
   "execution_count": 43,
   "metadata": {},
   "outputs": [
    {
     "data": {
      "image/png": "[encoded data removed]",
      "text/plain": [
       "<Figure size 720x144 with 1 Axes>"
      ]
     },
     "metadata": {
      "needs_background": "light"
     },
     "output_type": "display_data"
    }
   ],
   "source": [
    "# Посмотрим на % пропущенных значений в данных\n",
    "plot_missing_values(users_control_2)"
   ]
  },
  {
   "cell_type": "code",
   "execution_count": 44,
   "metadata": {},
   "outputs": [],
   "source": [
    "# Заполним пропуски нулями в колонках is_premium и was_premium\n",
    "users_control_2['is_premium'] = users_control_2.is_premium.fillna(0)\n",
    "users_control_2['was_premium'] = users_control_2.was_premium.fillna(0)"
   ]
  },
  {
   "cell_type": "code",
   "execution_count": 45,
   "metadata": {},
   "outputs": [
    {
     "data": {
      "text/plain": [
       "0"
      ]
     },
     "execution_count": 45,
     "metadata": {},
     "output_type": "execute_result"
    }
   ],
   "source": [
    "# Посмотрим есть ли дубликаты строк в датафрейме\n",
    "users_control_2.duplicated().sum()"
   ]
  },
  {
   "cell_type": "code",
   "execution_count": 46,
   "metadata": {},
   "outputs": [
    {
     "data": {
      "text/html": [
       "<div>\n",
       "<style scoped>\n",
       "    .dataframe tbody tr th:only-of-type {\n",
       "        vertical-align: middle;\n",
       "    }\n",
       "\n",
       "    .dataframe tbody tr th {\n",
       "        vertical-align: top;\n",
       "    }\n",
       "\n",
       "    .dataframe thead th {\n",
       "        text-align: right;\n",
       "    }\n",
       "</style>\n",
       "<table border=\"1\" class=\"dataframe\">\n",
       "  <thead>\n",
       "    <tr style=\"text-align: right;\">\n",
       "      <th></th>\n",
       "      <th>count</th>\n",
       "      <th>mean</th>\n",
       "      <th>std</th>\n",
       "      <th>min</th>\n",
       "      <th>25%</th>\n",
       "      <th>50%</th>\n",
       "      <th>75%</th>\n",
       "      <th>max</th>\n",
       "    </tr>\n",
       "  </thead>\n",
       "  <tbody>\n",
       "    <tr>\n",
       "      <th>age</th>\n",
       "      <td>4264.0</td>\n",
       "      <td>32.05</td>\n",
       "      <td>10.17</td>\n",
       "      <td>16.0</td>\n",
       "      <td>25.0</td>\n",
       "      <td>30.0</td>\n",
       "      <td>38.0</td>\n",
       "      <td>99.0</td>\n",
       "    </tr>\n",
       "    <tr>\n",
       "      <th>attraction_coeff</th>\n",
       "      <td>4264.0</td>\n",
       "      <td>317.96</td>\n",
       "      <td>326.19</td>\n",
       "      <td>0.0</td>\n",
       "      <td>0.0</td>\n",
       "      <td>250.0</td>\n",
       "      <td>548.5</td>\n",
       "      <td>1000.0</td>\n",
       "    </tr>\n",
       "    <tr>\n",
       "      <th>coins</th>\n",
       "      <td>61.0</td>\n",
       "      <td>18.15</td>\n",
       "      <td>35.44</td>\n",
       "      <td>1.0</td>\n",
       "      <td>4.0</td>\n",
       "      <td>10.0</td>\n",
       "      <td>20.0</td>\n",
       "      <td>271.0</td>\n",
       "    </tr>\n",
       "    <tr>\n",
       "      <th>age_filter_start</th>\n",
       "      <td>4264.0</td>\n",
       "      <td>26.95</td>\n",
       "      <td>9.55</td>\n",
       "      <td>13.0</td>\n",
       "      <td>19.0</td>\n",
       "      <td>25.0</td>\n",
       "      <td>32.0</td>\n",
       "      <td>94.0</td>\n",
       "    </tr>\n",
       "    <tr>\n",
       "      <th>age_filter_end</th>\n",
       "      <td>4264.0</td>\n",
       "      <td>38.91</td>\n",
       "      <td>15.96</td>\n",
       "      <td>19.0</td>\n",
       "      <td>28.0</td>\n",
       "      <td>35.0</td>\n",
       "      <td>45.0</td>\n",
       "      <td>99.0</td>\n",
       "    </tr>\n",
       "    <tr>\n",
       "      <th>views_count</th>\n",
       "      <td>4264.0</td>\n",
       "      <td>45.06</td>\n",
       "      <td>318.19</td>\n",
       "      <td>0.0</td>\n",
       "      <td>1.0</td>\n",
       "      <td>6.0</td>\n",
       "      <td>20.0</td>\n",
       "      <td>16157.0</td>\n",
       "    </tr>\n",
       "    <tr>\n",
       "      <th>total_revenue</th>\n",
       "      <td>4264.0</td>\n",
       "      <td>450.38</td>\n",
       "      <td>2859.24</td>\n",
       "      <td>0.0</td>\n",
       "      <td>0.0</td>\n",
       "      <td>0.0</td>\n",
       "      <td>0.0</td>\n",
       "      <td>81796.0</td>\n",
       "    </tr>\n",
       "  </tbody>\n",
       "</table>\n",
       "</div>"
      ],
      "text/plain": [
       "                   count    mean      std   min   25%    50%    75%      max\n",
       "age               4264.0   32.05    10.17  16.0  25.0   30.0   38.0     99.0\n",
       "attraction_coeff  4264.0  317.96   326.19   0.0   0.0  250.0  548.5   1000.0\n",
       "coins               61.0   18.15    35.44   1.0   4.0   10.0   20.0    271.0\n",
       "age_filter_start  4264.0   26.95     9.55  13.0  19.0   25.0   32.0     94.0\n",
       "age_filter_end    4264.0   38.91    15.96  19.0  28.0   35.0   45.0     99.0\n",
       "views_count       4264.0   45.06   318.19   0.0   1.0    6.0   20.0  16157.0\n",
       "total_revenue     4264.0  450.38  2859.24   0.0   0.0    0.0    0.0  81796.0"
      ]
     },
     "execution_count": 46,
     "metadata": {},
     "output_type": "execute_result"
    }
   ],
   "source": [
    "# Посмотрим на описательную статистику\n",
    "users_control_2.loc[:, ~users_control_2.columns.isin(['uid', 'is_premium', 'was_premium', 'gender'])].describe().T.round(2)"
   ]
  },
  {
   "cell_type": "code",
   "execution_count": 47,
   "metadata": {},
   "outputs": [
    {
     "data": {
      "text/html": [
       "<div>\n",
       "<style scoped>\n",
       "    .dataframe tbody tr th:only-of-type {\n",
       "        vertical-align: middle;\n",
       "    }\n",
       "\n",
       "    .dataframe tbody tr th {\n",
       "        vertical-align: top;\n",
       "    }\n",
       "\n",
       "    .dataframe thead th {\n",
       "        text-align: right;\n",
       "    }\n",
       "</style>\n",
       "<table border=\"1\" class=\"dataframe\">\n",
       "  <thead>\n",
       "    <tr style=\"text-align: right;\">\n",
       "      <th></th>\n",
       "      <th>count</th>\n",
       "      <th>unique</th>\n",
       "      <th>top</th>\n",
       "      <th>freq</th>\n",
       "    </tr>\n",
       "  </thead>\n",
       "  <tbody>\n",
       "    <tr>\n",
       "      <th>uid</th>\n",
       "      <td>4264</td>\n",
       "      <td>4264</td>\n",
       "      <td>892367289</td>\n",
       "      <td>1</td>\n",
       "    </tr>\n",
       "    <tr>\n",
       "      <th>country</th>\n",
       "      <td>4264</td>\n",
       "      <td>45</td>\n",
       "      <td>United States of America</td>\n",
       "      <td>1486</td>\n",
       "    </tr>\n",
       "    <tr>\n",
       "      <th>visit_days</th>\n",
       "      <td>2900</td>\n",
       "      <td>837</td>\n",
       "      <td>1</td>\n",
       "      <td>587</td>\n",
       "    </tr>\n",
       "  </tbody>\n",
       "</table>\n",
       "</div>"
      ],
      "text/plain": [
       "           count unique                       top  freq\n",
       "uid         4264   4264                 892367289     1\n",
       "country     4264     45  United States of America  1486\n",
       "visit_days  2900    837                         1   587"
      ]
     },
     "execution_count": 47,
     "metadata": {},
     "output_type": "execute_result"
    }
   ],
   "source": [
    "# Посмотрим на описательную статистику по категориальным переменным\n",
    "users_control_2.describe(include=['O']).T"
   ]
  },
  {
   "cell_type": "markdown",
   "metadata": {},
   "source": [
    "Посмотрим сколько пользователей, у которых была премиальная подписка продлили ее. А также сколько пользователей не продляли подписку."
   ]
  },
  {
   "cell_type": "code",
   "execution_count": 48,
   "metadata": {},
   "outputs": [
    {
     "name": "stdout",
     "output_type": "stream",
     "text": [
      "Продлили премиум подписку - 191.\n",
      "Пользовались, но не продлили премиум подписку - 220.\n"
     ]
    }
   ],
   "source": [
    "number_of_premium(users_control_2)"
   ]
  },
  {
   "cell_type": "code",
   "execution_count": 49,
   "metadata": {},
   "outputs": [
    {
     "data": {
      "text/html": [
       "<div>\n",
       "<style scoped>\n",
       "    .dataframe tbody tr th:only-of-type {\n",
       "        vertical-align: middle;\n",
       "    }\n",
       "\n",
       "    .dataframe tbody tr th {\n",
       "        vertical-align: top;\n",
       "    }\n",
       "\n",
       "    .dataframe thead th {\n",
       "        text-align: right;\n",
       "    }\n",
       "</style>\n",
       "<table border=\"1\" class=\"dataframe\">\n",
       "  <thead>\n",
       "    <tr style=\"text-align: right;\">\n",
       "      <th></th>\n",
       "      <th>country</th>\n",
       "      <th>count</th>\n",
       "    </tr>\n",
       "  </thead>\n",
       "  <tbody>\n",
       "    <tr>\n",
       "      <th>0</th>\n",
       "      <td>United States of America</td>\n",
       "      <td>1486</td>\n",
       "    </tr>\n",
       "    <tr>\n",
       "      <th>1</th>\n",
       "      <td>Argentina</td>\n",
       "      <td>397</td>\n",
       "    </tr>\n",
       "    <tr>\n",
       "      <th>2</th>\n",
       "      <td>France</td>\n",
       "      <td>376</td>\n",
       "    </tr>\n",
       "    <tr>\n",
       "      <th>3</th>\n",
       "      <td>Spain</td>\n",
       "      <td>310</td>\n",
       "    </tr>\n",
       "    <tr>\n",
       "      <th>4</th>\n",
       "      <td>Italy</td>\n",
       "      <td>293</td>\n",
       "    </tr>\n",
       "    <tr>\n",
       "      <th>5</th>\n",
       "      <td>Chile</td>\n",
       "      <td>286</td>\n",
       "    </tr>\n",
       "    <tr>\n",
       "      <th>6</th>\n",
       "      <td>United Arab Emirates</td>\n",
       "      <td>211</td>\n",
       "    </tr>\n",
       "    <tr>\n",
       "      <th>7</th>\n",
       "      <td>Germany</td>\n",
       "      <td>202</td>\n",
       "    </tr>\n",
       "    <tr>\n",
       "      <th>8</th>\n",
       "      <td>United Kingdom (Great Britain)</td>\n",
       "      <td>146</td>\n",
       "    </tr>\n",
       "    <tr>\n",
       "      <th>9</th>\n",
       "      <td>Canada</td>\n",
       "      <td>134</td>\n",
       "    </tr>\n",
       "  </tbody>\n",
       "</table>\n",
       "</div>"
      ],
      "text/plain": [
       "                          country  count\n",
       "0        United States of America   1486\n",
       "1                       Argentina    397\n",
       "2                          France    376\n",
       "3                           Spain    310\n",
       "4                           Italy    293\n",
       "5                           Chile    286\n",
       "6            United Arab Emirates    211\n",
       "7                         Germany    202\n",
       "8  United Kingdom (Great Britain)    146\n",
       "9                          Canada    134"
      ]
     },
     "execution_count": 49,
     "metadata": {},
     "output_type": "execute_result"
    }
   ],
   "source": [
    "# Посмотрим на топ 10 стран по числу пользователей\n",
    "users_control_2.country.value_counts()[:10].reset_index().rename(columns={'index': 'country', 'country': 'count'})"
   ]
  },
  {
   "cell_type": "code",
   "execution_count": 50,
   "metadata": {},
   "outputs": [
    {
     "data": {
      "image/png": "[encoded data removed]",
      "text/plain": [
       "<Figure size 1440x612 with 9 Axes>"
      ]
     },
     "metadata": {
      "needs_background": "light"
     },
     "output_type": "display_data"
    }
   ],
   "source": [
    "# Посмотрим на распределения количественных переменных\n",
    "features = ['age', 'age_filter_start', 'age_filter_end', 'attraction_coeff', 'coins', 'total_revenue', 'views_count']\n",
    "users_control_2[features].hist(figsize=(20, 8.5), layout=(3, 3), bins=20);"
   ]
  },
  {
   "cell_type": "markdown",
   "metadata": {},
   "source": [
    "### 1.5 Данные по транзакциям пользователей из 1-й контрольной группы"
   ]
  },
  {
   "cell_type": "code",
   "execution_count": 51,
   "metadata": {},
   "outputs": [
    {
     "name": "stdout",
     "output_type": "stream",
     "text": [
      "<class 'pandas.core.frame.DataFrame'>\n",
      "RangeIndex: 1007 entries, 0 to 1006\n",
      "Data columns (total 8 columns):\n",
      " #   Column        Non-Null Count  Dtype         \n",
      "---  ------        --------------  -----         \n",
      " 0   uid           377 non-null    float64       \n",
      " 1   country       377 non-null    object        \n",
      " 2   joined_at     377 non-null    datetime64[ns]\n",
      " 3   paid_at       377 non-null    datetime64[ns]\n",
      " 4   revenue       377 non-null    float64       \n",
      " 5   payment_id    377 non-null    float64       \n",
      " 6   from_page     377 non-null    object        \n",
      " 7   product_type  377 non-null    object        \n",
      "dtypes: datetime64[ns](2), float64(3), object(3)\n",
      "memory usage: 63.1+ KB\n"
     ]
    }
   ],
   "source": [
    "# Посмотрим на характеристики данных\n",
    "transactions_control_1.info()"
   ]
  },
  {
   "cell_type": "code",
   "execution_count": 52,
   "metadata": {},
   "outputs": [
    {
     "data": {
      "image/png": "[encoded data removed]",
      "text/plain": [
       "<Figure size 720x144 with 1 Axes>"
      ]
     },
     "metadata": {
      "needs_background": "light"
     },
     "output_type": "display_data"
    }
   ],
   "source": [
    "# Посмотрим на % пропущенных значений в данных\n",
    "plot_missing_values(transactions_control_1)"
   ]
  },
  {
   "cell_type": "code",
   "execution_count": 53,
   "metadata": {},
   "outputs": [],
   "source": [
    "# Удалим пустые строки в данных\n",
    "transactions_control_1 = transactions_control_1.dropna()"
   ]
  },
  {
   "cell_type": "code",
   "execution_count": 54,
   "metadata": {},
   "outputs": [],
   "source": [
    "# Преобразуем переменные к нужному типу\n",
    "cols = ['uid', 'country', 'payment_id', 'from_page', 'product_type']\n",
    "\n",
    "for col in cols:\n",
    "    if col in ['uid', 'payment_id']:\n",
    "        transactions_control_1[col] = transactions_control_1[col].astype('int64')\n",
    "        transactions_control_1[col] = transactions_control_1[col].astype('str')\n",
    "    else:\n",
    "        transactions_control_1[col] = transactions_control_1[col].astype('str')"
   ]
  },
  {
   "cell_type": "code",
   "execution_count": 55,
   "metadata": {},
   "outputs": [
    {
     "data": {
      "text/plain": [
       "21"
      ]
     },
     "execution_count": 55,
     "metadata": {},
     "output_type": "execute_result"
    }
   ],
   "source": [
    "# Посмотрим есть ли дубликаты строк в датафрейме\n",
    "transactions_control_1.duplicated().sum()"
   ]
  },
  {
   "cell_type": "code",
   "execution_count": 56,
   "metadata": {},
   "outputs": [],
   "source": [
    "# Удалим дубли\n",
    "transactions_control_1.drop_duplicates(inplace=True)"
   ]
  },
  {
   "cell_type": "code",
   "execution_count": 57,
   "metadata": {},
   "outputs": [
    {
     "data": {
      "text/html": [
       "<div>\n",
       "<style scoped>\n",
       "    .dataframe tbody tr th:only-of-type {\n",
       "        vertical-align: middle;\n",
       "    }\n",
       "\n",
       "    .dataframe tbody tr th {\n",
       "        vertical-align: top;\n",
       "    }\n",
       "\n",
       "    .dataframe thead th {\n",
       "        text-align: right;\n",
       "    }\n",
       "</style>\n",
       "<table border=\"1\" class=\"dataframe\">\n",
       "  <thead>\n",
       "    <tr style=\"text-align: right;\">\n",
       "      <th></th>\n",
       "      <th>joined_at</th>\n",
       "      <th>paid_at</th>\n",
       "      <th>revenue</th>\n",
       "    </tr>\n",
       "  </thead>\n",
       "  <tbody>\n",
       "    <tr>\n",
       "      <th>count</th>\n",
       "      <td>356</td>\n",
       "      <td>356</td>\n",
       "      <td>356.00</td>\n",
       "    </tr>\n",
       "    <tr>\n",
       "      <th>mean</th>\n",
       "      <td>2017-08-21 21:52:31.685394688</td>\n",
       "      <td>2017-09-03 23:56:06.067415296</td>\n",
       "      <td>7007.88</td>\n",
       "    </tr>\n",
       "    <tr>\n",
       "      <th>min</th>\n",
       "      <td>2015-01-19 11:49:00</td>\n",
       "      <td>2016-12-14 16:16:00</td>\n",
       "      <td>26.00</td>\n",
       "    </tr>\n",
       "    <tr>\n",
       "      <th>25%</th>\n",
       "      <td>2017-06-11 17:41:45</td>\n",
       "      <td>2017-07-11 11:56:15</td>\n",
       "      <td>2804.75</td>\n",
       "    </tr>\n",
       "    <tr>\n",
       "      <th>50%</th>\n",
       "      <td>2017-10-17 03:36:00</td>\n",
       "      <td>2017-10-17 10:34:30</td>\n",
       "      <td>6292.00</td>\n",
       "    </tr>\n",
       "    <tr>\n",
       "      <th>75%</th>\n",
       "      <td>2017-10-23 12:14:30</td>\n",
       "      <td>2017-10-28 05:51:45</td>\n",
       "      <td>7312.50</td>\n",
       "    </tr>\n",
       "    <tr>\n",
       "      <th>max</th>\n",
       "      <td>2017-10-31 22:17:00</td>\n",
       "      <td>2017-12-11 21:57:00</td>\n",
       "      <td>63037.00</td>\n",
       "    </tr>\n",
       "    <tr>\n",
       "      <th>std</th>\n",
       "      <td>NaN</td>\n",
       "      <td>NaN</td>\n",
       "      <td>7986.00</td>\n",
       "    </tr>\n",
       "  </tbody>\n",
       "</table>\n",
       "</div>"
      ],
      "text/plain": [
       "                           joined_at                        paid_at   revenue\n",
       "count                            356                            356    356.00\n",
       "mean   2017-08-21 21:52:31.685394688  2017-09-03 23:56:06.067415296   7007.88\n",
       "min              2015-01-19 11:49:00            2016-12-14 16:16:00     26.00\n",
       "25%              2017-06-11 17:41:45            2017-07-11 11:56:15   2804.75\n",
       "50%              2017-10-17 03:36:00            2017-10-17 10:34:30   6292.00\n",
       "75%              2017-10-23 12:14:30            2017-10-28 05:51:45   7312.50\n",
       "max              2017-10-31 22:17:00            2017-12-11 21:57:00  63037.00\n",
       "std                              NaN                            NaN   7986.00"
      ]
     },
     "execution_count": 57,
     "metadata": {},
     "output_type": "execute_result"
    }
   ],
   "source": [
    "# Посмотрим на описательную статистику\n",
    "transactions_control_1.describe(datetime_is_numeric=True).round(2)"
   ]
  },
  {
   "cell_type": "code",
   "execution_count": 58,
   "metadata": {},
   "outputs": [
    {
     "data": {
      "text/html": [
       "<div>\n",
       "<style scoped>\n",
       "    .dataframe tbody tr th:only-of-type {\n",
       "        vertical-align: middle;\n",
       "    }\n",
       "\n",
       "    .dataframe tbody tr th {\n",
       "        vertical-align: top;\n",
       "    }\n",
       "\n",
       "    .dataframe thead th {\n",
       "        text-align: right;\n",
       "    }\n",
       "</style>\n",
       "<table border=\"1\" class=\"dataframe\">\n",
       "  <thead>\n",
       "    <tr style=\"text-align: right;\">\n",
       "      <th></th>\n",
       "      <th>count</th>\n",
       "      <th>unique</th>\n",
       "      <th>top</th>\n",
       "      <th>freq</th>\n",
       "    </tr>\n",
       "  </thead>\n",
       "  <tbody>\n",
       "    <tr>\n",
       "      <th>uid</th>\n",
       "      <td>356</td>\n",
       "      <td>193</td>\n",
       "      <td>892333905</td>\n",
       "      <td>19</td>\n",
       "    </tr>\n",
       "    <tr>\n",
       "      <th>country</th>\n",
       "      <td>356</td>\n",
       "      <td>18</td>\n",
       "      <td>United States of America</td>\n",
       "      <td>100</td>\n",
       "    </tr>\n",
       "    <tr>\n",
       "      <th>payment_id</th>\n",
       "      <td>356</td>\n",
       "      <td>7</td>\n",
       "      <td>147</td>\n",
       "      <td>155</td>\n",
       "    </tr>\n",
       "    <tr>\n",
       "      <th>from_page</th>\n",
       "      <td>356</td>\n",
       "      <td>25</td>\n",
       "      <td>empty_likes</td>\n",
       "      <td>90</td>\n",
       "    </tr>\n",
       "    <tr>\n",
       "      <th>product_type</th>\n",
       "      <td>356</td>\n",
       "      <td>4</td>\n",
       "      <td>coins</td>\n",
       "      <td>137</td>\n",
       "    </tr>\n",
       "  </tbody>\n",
       "</table>\n",
       "</div>"
      ],
      "text/plain": [
       "             count unique                       top freq\n",
       "uid            356    193                 892333905   19\n",
       "country        356     18  United States of America  100\n",
       "payment_id     356      7                       147  155\n",
       "from_page      356     25               empty_likes   90\n",
       "product_type   356      4                     coins  137"
      ]
     },
     "execution_count": 58,
     "metadata": {},
     "output_type": "execute_result"
    }
   ],
   "source": [
    "# Посмотрим на описательную статистику по категориальным переменным\n",
    "transactions_control_1.describe(include=['O']).T"
   ]
  },
  {
   "cell_type": "code",
   "execution_count": 59,
   "metadata": {},
   "outputs": [
    {
     "data": {
      "text/plain": [
       "['trial_premium', 'coins', 'other_type', 'premium_no_trial']"
      ]
     },
     "execution_count": 59,
     "metadata": {},
     "output_type": "execute_result"
    }
   ],
   "source": [
    "# Посмотрим на уникальные значения product_type\n",
    "transactions_control_1.product_type.unique().tolist()"
   ]
  },
  {
   "cell_type": "code",
   "execution_count": 60,
   "metadata": {},
   "outputs": [
    {
     "data": {
      "image/png": "[encoded data removed]",
      "text/plain": [
       "<Figure size 432x288 with 1 Axes>"
      ]
     },
     "metadata": {
      "needs_background": "light"
     },
     "output_type": "display_data"
    }
   ],
   "source": [
    "# Посмотрим на распределение по revenue\n",
    "transactions_control_1.revenue.hist(bins=20);"
   ]
  },
  {
   "cell_type": "markdown",
   "metadata": {},
   "source": [
    "### 1.6 Данные по транзакциям пользователей из 2-й контрольной группы"
   ]
  },
  {
   "cell_type": "code",
   "execution_count": 61,
   "metadata": {},
   "outputs": [
    {
     "name": "stdout",
     "output_type": "stream",
     "text": [
      "<class 'pandas.core.frame.DataFrame'>\n",
      "RangeIndex: 328 entries, 0 to 327\n",
      "Data columns (total 8 columns):\n",
      " #   Column        Non-Null Count  Dtype         \n",
      "---  ------        --------------  -----         \n",
      " 0   uid           328 non-null    int64         \n",
      " 1   country       328 non-null    object        \n",
      " 2   joined_at     328 non-null    datetime64[ns]\n",
      " 3   paid_at       328 non-null    datetime64[ns]\n",
      " 4   revenue       328 non-null    int64         \n",
      " 5   payment_id    328 non-null    int64         \n",
      " 6   from_page     328 non-null    object        \n",
      " 7   product_type  328 non-null    object        \n",
      "dtypes: datetime64[ns](2), int64(3), object(3)\n",
      "memory usage: 20.6+ KB\n"
     ]
    }
   ],
   "source": [
    "# Посмотрим на характеристики данных\n",
    "transactions_control_2.info()"
   ]
  },
  {
   "cell_type": "code",
   "execution_count": 62,
   "metadata": {},
   "outputs": [
    {
     "data": {
      "text/plain": [
       "\"There aren't any missing values\""
      ]
     },
     "execution_count": 62,
     "metadata": {},
     "output_type": "execute_result"
    }
   ],
   "source": [
    "# Посмотрим на % пропущенных значений в данных\n",
    "plot_missing_values(transactions_control_1)"
   ]
  },
  {
   "cell_type": "code",
   "execution_count": 63,
   "metadata": {},
   "outputs": [],
   "source": [
    "# Преобразуем переменные к нужному типу\n",
    "cols = [i for i in transactions_control_2.columns if transactions_control_2[i].dtype not in ['int64','datetime64[ns]'] \n",
    "        or i in ['uid', 'payment_id']]\n",
    "\n",
    "for col in cols:\n",
    "    transactions_control_2[col] = transactions_control_2[col].astype('str')"
   ]
  },
  {
   "cell_type": "code",
   "execution_count": 64,
   "metadata": {},
   "outputs": [
    {
     "data": {
      "text/plain": [
       "5"
      ]
     },
     "execution_count": 64,
     "metadata": {},
     "output_type": "execute_result"
    }
   ],
   "source": [
    "# Посмотрим есть ли дубликаты строк в датафрейме\n",
    "transactions_control_2.duplicated().sum()"
   ]
  },
  {
   "cell_type": "code",
   "execution_count": 65,
   "metadata": {},
   "outputs": [],
   "source": [
    "# Удалим дубли\n",
    "transactions_control_2.drop_duplicates(inplace=True)"
   ]
  },
  {
   "cell_type": "code",
   "execution_count": 66,
   "metadata": {},
   "outputs": [
    {
     "data": {
      "text/html": [
       "<div>\n",
       "<style scoped>\n",
       "    .dataframe tbody tr th:only-of-type {\n",
       "        vertical-align: middle;\n",
       "    }\n",
       "\n",
       "    .dataframe tbody tr th {\n",
       "        vertical-align: top;\n",
       "    }\n",
       "\n",
       "    .dataframe thead th {\n",
       "        text-align: right;\n",
       "    }\n",
       "</style>\n",
       "<table border=\"1\" class=\"dataframe\">\n",
       "  <thead>\n",
       "    <tr style=\"text-align: right;\">\n",
       "      <th></th>\n",
       "      <th>joined_at</th>\n",
       "      <th>paid_at</th>\n",
       "      <th>revenue</th>\n",
       "    </tr>\n",
       "  </thead>\n",
       "  <tbody>\n",
       "    <tr>\n",
       "      <th>count</th>\n",
       "      <td>323</td>\n",
       "      <td>323</td>\n",
       "      <td>323.00</td>\n",
       "    </tr>\n",
       "    <tr>\n",
       "      <th>mean</th>\n",
       "      <td>2017-09-18 19:07:11.702786816</td>\n",
       "      <td>2017-09-03 21:10:33.250774784</td>\n",
       "      <td>5907.11</td>\n",
       "    </tr>\n",
       "    <tr>\n",
       "      <th>min</th>\n",
       "      <td>2017-01-11 08:36:00</td>\n",
       "      <td>2017-01-11 05:34:00</td>\n",
       "      <td>481.00</td>\n",
       "    </tr>\n",
       "    <tr>\n",
       "      <th>25%</th>\n",
       "      <td>2017-10-11 11:45:00</td>\n",
       "      <td>2017-07-11 11:45:00</td>\n",
       "      <td>2340.00</td>\n",
       "    </tr>\n",
       "    <tr>\n",
       "      <th>50%</th>\n",
       "      <td>2017-10-20 14:49:00</td>\n",
       "      <td>2017-10-21 20:12:00</td>\n",
       "      <td>4719.00</td>\n",
       "    </tr>\n",
       "    <tr>\n",
       "      <th>75%</th>\n",
       "      <td>2017-10-26 01:52:30</td>\n",
       "      <td>2017-10-28 10:42:30</td>\n",
       "      <td>6350.50</td>\n",
       "    </tr>\n",
       "    <tr>\n",
       "      <th>max</th>\n",
       "      <td>2017-10-31 17:43:00</td>\n",
       "      <td>2017-12-11 23:28:00</td>\n",
       "      <td>81796.00</td>\n",
       "    </tr>\n",
       "    <tr>\n",
       "      <th>std</th>\n",
       "      <td>NaN</td>\n",
       "      <td>NaN</td>\n",
       "      <td>6615.18</td>\n",
       "    </tr>\n",
       "  </tbody>\n",
       "</table>\n",
       "</div>"
      ],
      "text/plain": [
       "                           joined_at                        paid_at   revenue\n",
       "count                            323                            323    323.00\n",
       "mean   2017-09-18 19:07:11.702786816  2017-09-03 21:10:33.250774784   5907.11\n",
       "min              2017-01-11 08:36:00            2017-01-11 05:34:00    481.00\n",
       "25%              2017-10-11 11:45:00            2017-07-11 11:45:00   2340.00\n",
       "50%              2017-10-20 14:49:00            2017-10-21 20:12:00   4719.00\n",
       "75%              2017-10-26 01:52:30            2017-10-28 10:42:30   6350.50\n",
       "max              2017-10-31 17:43:00            2017-12-11 23:28:00  81796.00\n",
       "std                              NaN                            NaN   6615.18"
      ]
     },
     "execution_count": 66,
     "metadata": {},
     "output_type": "execute_result"
    }
   ],
   "source": [
    "# Посмотрим на описательную статистику\n",
    "transactions_control_2.describe(datetime_is_numeric=True).round(2)"
   ]
  },
  {
   "cell_type": "code",
   "execution_count": 67,
   "metadata": {},
   "outputs": [
    {
     "data": {
      "text/html": [
       "<div>\n",
       "<style scoped>\n",
       "    .dataframe tbody tr th:only-of-type {\n",
       "        vertical-align: middle;\n",
       "    }\n",
       "\n",
       "    .dataframe tbody tr th {\n",
       "        vertical-align: top;\n",
       "    }\n",
       "\n",
       "    .dataframe thead th {\n",
       "        text-align: right;\n",
       "    }\n",
       "</style>\n",
       "<table border=\"1\" class=\"dataframe\">\n",
       "  <thead>\n",
       "    <tr style=\"text-align: right;\">\n",
       "      <th></th>\n",
       "      <th>count</th>\n",
       "      <th>unique</th>\n",
       "      <th>top</th>\n",
       "      <th>freq</th>\n",
       "    </tr>\n",
       "  </thead>\n",
       "  <tbody>\n",
       "    <tr>\n",
       "      <th>uid</th>\n",
       "      <td>323</td>\n",
       "      <td>187</td>\n",
       "      <td>891637005</td>\n",
       "      <td>11</td>\n",
       "    </tr>\n",
       "    <tr>\n",
       "      <th>country</th>\n",
       "      <td>323</td>\n",
       "      <td>19</td>\n",
       "      <td>United States of America</td>\n",
       "      <td>105</td>\n",
       "    </tr>\n",
       "    <tr>\n",
       "      <th>payment_id</th>\n",
       "      <td>323</td>\n",
       "      <td>6</td>\n",
       "      <td>147</td>\n",
       "      <td>145</td>\n",
       "    </tr>\n",
       "    <tr>\n",
       "      <th>from_page</th>\n",
       "      <td>323</td>\n",
       "      <td>18</td>\n",
       "      <td>empty_likes</td>\n",
       "      <td>96</td>\n",
       "    </tr>\n",
       "    <tr>\n",
       "      <th>product_type</th>\n",
       "      <td>323</td>\n",
       "      <td>4</td>\n",
       "      <td>coins</td>\n",
       "      <td>120</td>\n",
       "    </tr>\n",
       "  </tbody>\n",
       "</table>\n",
       "</div>"
      ],
      "text/plain": [
       "             count unique                       top freq\n",
       "uid            323    187                 891637005   11\n",
       "country        323     19  United States of America  105\n",
       "payment_id     323      6                       147  145\n",
       "from_page      323     18               empty_likes   96\n",
       "product_type   323      4                     coins  120"
      ]
     },
     "execution_count": 67,
     "metadata": {},
     "output_type": "execute_result"
    }
   ],
   "source": [
    "# Посмотрим на описательную статистику по категориальным переменным\n",
    "transactions_control_2.describe(include=['O']).T"
   ]
  },
  {
   "cell_type": "code",
   "execution_count": 68,
   "metadata": {},
   "outputs": [
    {
     "data": {
      "text/plain": [
       "['coins', 'premium_no_trial', 'trial_premium', 'other_type']"
      ]
     },
     "execution_count": 68,
     "metadata": {},
     "output_type": "execute_result"
    }
   ],
   "source": [
    "# Посмотрим на уникальные значения product_type\n",
    "transactions_control_2.product_type.unique().tolist()"
   ]
  },
  {
   "cell_type": "code",
   "execution_count": 69,
   "metadata": {},
   "outputs": [
    {
     "data": {
      "image/png": "[encoded data removed]",
      "text/plain": [
       "<Figure size 432x288 with 1 Axes>"
      ]
     },
     "metadata": {
      "needs_background": "light"
     },
     "output_type": "display_data"
    }
   ],
   "source": [
    "# Посмотрим на распределение по revenue\n",
    "transactions_control_2.revenue.hist(bins=20);"
   ]
  },
  {
   "cell_type": "markdown",
   "metadata": {},
   "source": [
    "<hr>"
   ]
  },
  {
   "cell_type": "markdown",
   "metadata": {},
   "source": [
    "## 2. Проверка качества сплитования"
   ]
  },
  {
   "cell_type": "markdown",
   "metadata": {},
   "source": [
    "__Предположим__, что исследуемые выборки являются независимыми друг от друга. Удостоверимся, что пользователи из одной выборки не встречаются в других выборках."
   ]
  },
  {
   "cell_type": "code",
   "execution_count": 70,
   "metadata": {},
   "outputs": [
    {
     "name": "stdout",
     "output_type": "stream",
     "text": [
      "set() set() set()\n",
      "set() set() set()\n",
      "=========================\n",
      "set() {'892355163'} set()\n"
     ]
    }
   ],
   "source": [
    "# Создадим для каждой выборки множества уникальных пользователей\n",
    "test = set(users_test.uid.tolist())\n",
    "control1 = set(users_control_1.uid.tolist())\n",
    "control2 = set(users_control_2.uid.tolist())\n",
    "\n",
    "test_t = set(transactions_test.uid.tolist())\n",
    "control1_t = set(transactions_control_1.uid.tolist())\n",
    "control2_t = set(transactions_control_2.uid.tolist())\n",
    "\n",
    "# Проверим, есть ли пересечения множеств\n",
    "print(test.intersection(control1), test.intersection(control2), control1.intersection(control2))\n",
    "print(test_t.intersection(control1_t), test_t.intersection(control2_t), control1_t.intersection(control2_t))\n",
    "print('=' * 25)\n",
    "\n",
    "# Проверим, есть ли разница множеств пользователей в данных по транзакциям и общими данными по группам\n",
    "test_r = set(users_test[users_test.total_revenue > 0].uid.tolist())\n",
    "control1_r = set(users_control_1[users_control_1.total_revenue > 0].uid.tolist())\n",
    "control2_r = set(users_control_2[users_control_2.total_revenue > 0].uid.tolist())\n",
    "print(test_t.difference(test_r), control1_t.difference(control1_r), control2_t.difference(control2_r))"
   ]
  },
  {
   "cell_type": "markdown",
   "metadata": {},
   "source": [
    "Посмотрим на пользователя `892355163` в двух датасетах."
   ]
  },
  {
   "cell_type": "code",
   "execution_count": 71,
   "metadata": {},
   "outputs": [
    {
     "data": {
      "text/html": [
       "<div>\n",
       "<style scoped>\n",
       "    .dataframe tbody tr th:only-of-type {\n",
       "        vertical-align: middle;\n",
       "    }\n",
       "\n",
       "    .dataframe tbody tr th {\n",
       "        vertical-align: top;\n",
       "    }\n",
       "\n",
       "    .dataframe thead th {\n",
       "        text-align: right;\n",
       "    }\n",
       "</style>\n",
       "<table border=\"1\" class=\"dataframe\">\n",
       "  <thead>\n",
       "    <tr style=\"text-align: right;\">\n",
       "      <th></th>\n",
       "      <th>uid</th>\n",
       "      <th>age</th>\n",
       "      <th>attraction_coeff</th>\n",
       "      <th>coins</th>\n",
       "      <th>country</th>\n",
       "      <th>visit_days</th>\n",
       "      <th>gender</th>\n",
       "      <th>age_filter_start</th>\n",
       "      <th>age_filter_end</th>\n",
       "      <th>views_count</th>\n",
       "      <th>was_premium</th>\n",
       "      <th>is_premium</th>\n",
       "      <th>total_revenue</th>\n",
       "    </tr>\n",
       "  </thead>\n",
       "  <tbody>\n",
       "    <tr>\n",
       "      <th>3370</th>\n",
       "      <td>892355163</td>\n",
       "      <td>40</td>\n",
       "      <td>640</td>\n",
       "      <td>NaN</td>\n",
       "      <td>United States of America</td>\n",
       "      <td>1,2,3,4,5,6,7,8,9,10,11,12,13,14,15,16,17,18,1...</td>\n",
       "      <td>1</td>\n",
       "      <td>25</td>\n",
       "      <td>60</td>\n",
       "      <td>700</td>\n",
       "      <td>1.0</td>\n",
       "      <td>0.0</td>\n",
       "      <td>0</td>\n",
       "    </tr>\n",
       "  </tbody>\n",
       "</table>\n",
       "</div>"
      ],
      "text/plain": [
       "            uid  age  attraction_coeff  coins                   country  \\\n",
       "3370  892355163   40               640    NaN  United States of America   \n",
       "\n",
       "                                             visit_days  gender  \\\n",
       "3370  1,2,3,4,5,6,7,8,9,10,11,12,13,14,15,16,17,18,1...       1   \n",
       "\n",
       "      age_filter_start  age_filter_end  views_count  was_premium  is_premium  \\\n",
       "3370                25              60          700          1.0         0.0   \n",
       "\n",
       "      total_revenue  \n",
       "3370              0  "
      ]
     },
     "metadata": {},
     "output_type": "display_data"
    },
    {
     "data": {
      "text/html": [
       "<div>\n",
       "<style scoped>\n",
       "    .dataframe tbody tr th:only-of-type {\n",
       "        vertical-align: middle;\n",
       "    }\n",
       "\n",
       "    .dataframe tbody tr th {\n",
       "        vertical-align: top;\n",
       "    }\n",
       "\n",
       "    .dataframe thead th {\n",
       "        text-align: right;\n",
       "    }\n",
       "</style>\n",
       "<table border=\"1\" class=\"dataframe\">\n",
       "  <thead>\n",
       "    <tr style=\"text-align: right;\">\n",
       "      <th></th>\n",
       "      <th>uid</th>\n",
       "      <th>country</th>\n",
       "      <th>joined_at</th>\n",
       "      <th>paid_at</th>\n",
       "      <th>revenue</th>\n",
       "      <th>payment_id</th>\n",
       "      <th>from_page</th>\n",
       "      <th>product_type</th>\n",
       "    </tr>\n",
       "  </thead>\n",
       "  <tbody>\n",
       "    <tr>\n",
       "      <th>303</th>\n",
       "      <td>892355163</td>\n",
       "      <td>United States of America</td>\n",
       "      <td>2017-10-15 18:45:00</td>\n",
       "      <td>2017-10-16 09:52:00</td>\n",
       "      <td>30264.0</td>\n",
       "      <td>68</td>\n",
       "      <td>super_popup</td>\n",
       "      <td>other_type</td>\n",
       "    </tr>\n",
       "  </tbody>\n",
       "</table>\n",
       "</div>"
      ],
      "text/plain": [
       "           uid                   country           joined_at  \\\n",
       "303  892355163  United States of America 2017-10-15 18:45:00   \n",
       "\n",
       "                paid_at  revenue payment_id    from_page product_type  \n",
       "303 2017-10-16 09:52:00  30264.0         68  super_popup   other_type  "
      ]
     },
     "metadata": {},
     "output_type": "display_data"
    }
   ],
   "source": [
    "display(users_control_1[users_control_1.uid == '892355163'])\n",
    "display(transactions_control_1[transactions_control_1.uid == '892355163'])"
   ]
  },
  {
   "cell_type": "markdown",
   "metadata": {},
   "source": [
    "<br>\n",
    "Проверим совпадают ли общие суммы покупок в данных."
   ]
  },
  {
   "cell_type": "code",
   "execution_count": 72,
   "metadata": {},
   "outputs": [
    {
     "data": {
      "text/html": [
       "<div>\n",
       "<style scoped>\n",
       "    .dataframe tbody tr th:only-of-type {\n",
       "        vertical-align: middle;\n",
       "    }\n",
       "\n",
       "    .dataframe tbody tr th {\n",
       "        vertical-align: top;\n",
       "    }\n",
       "\n",
       "    .dataframe thead th {\n",
       "        text-align: right;\n",
       "    }\n",
       "</style>\n",
       "<table border=\"1\" class=\"dataframe\">\n",
       "  <thead>\n",
       "    <tr style=\"text-align: right;\">\n",
       "      <th></th>\n",
       "      <th>group</th>\n",
       "      <th>full_data</th>\n",
       "      <th>transactions</th>\n",
       "    </tr>\n",
       "  </thead>\n",
       "  <tbody>\n",
       "    <tr>\n",
       "      <th>0</th>\n",
       "      <td>test</td>\n",
       "      <td>2300818</td>\n",
       "      <td>2332226.0</td>\n",
       "    </tr>\n",
       "    <tr>\n",
       "      <th>1</th>\n",
       "      <td>control 1</td>\n",
       "      <td>2581267</td>\n",
       "      <td>2494804.0</td>\n",
       "    </tr>\n",
       "    <tr>\n",
       "      <th>2</th>\n",
       "      <td>control 2</td>\n",
       "      <td>1920438</td>\n",
       "      <td>1907997.0</td>\n",
       "    </tr>\n",
       "  </tbody>\n",
       "</table>\n",
       "</div>"
      ],
      "text/plain": [
       "       group  full_data  transactions\n",
       "0       test    2300818     2332226.0\n",
       "1  control 1    2581267     2494804.0\n",
       "2  control 2    1920438     1907997.0"
      ]
     },
     "execution_count": 72,
     "metadata": {},
     "output_type": "execute_result"
    }
   ],
   "source": [
    "pd.DataFrame({\n",
    "    'group': ['test', 'control 1', 'control 2'],\n",
    "    'full_data': [users_test.total_revenue.sum(), users_control_1.total_revenue.sum(), users_control_2.total_revenue.sum()],\n",
    "    'transactions': [transactions_test.revenue.sum(), transactions_control_1.revenue.sum(), transactions_control_2.revenue.sum()]\n",
    "})"
   ]
  },
  {
   "cell_type": "markdown",
   "metadata": {},
   "source": [
    "Исправим суммы по транзакциям в датасетах."
   ]
  },
  {
   "cell_type": "code",
   "execution_count": 73,
   "metadata": {},
   "outputs": [],
   "source": [
    "# Сагрегируем данные по пользователям\n",
    "t0 = transactions_test.groupby(['uid'], as_index=False).agg({'revenue': 'sum'})\n",
    "t1 = transactions_control_1.groupby(['uid'], as_index=False).agg({'revenue': 'sum'})\n",
    "t2 = transactions_control_2.groupby(['uid'], as_index=False).agg({'revenue': 'sum'})\n",
    "\n",
    "# Перезапишем данные по пользователям\n",
    "users_test = users_test.merge(t0, on='uid', how='left') \\\n",
    "                        .drop(columns=['total_revenue']) \\\n",
    "                        .rename(columns={'revenue': 'total_revenue'})\n",
    "users_test['total_revenue'] = users_test['total_revenue'].fillna(0)\n",
    "\n",
    "\n",
    "users_control_1 = users_control_1.merge(t1, on='uid', how='left') \\\n",
    "                        .drop(columns=['total_revenue']) \\\n",
    "                        .rename(columns={'revenue': 'total_revenue'})\n",
    "users_control_1['total_revenue'] = users_control_1['total_revenue'].fillna(0)\n",
    "\n",
    "\n",
    "users_control_2 = users_control_2.merge(t2, on='uid', how='left') \\\n",
    "                        .drop(columns=['total_revenue']) \\\n",
    "                        .rename(columns={'revenue':'total_revenue'})\n",
    "users_control_2['total_revenue'] = users_control_2['total_revenue'].fillna(0)"
   ]
  },
  {
   "cell_type": "code",
   "execution_count": 74,
   "metadata": {},
   "outputs": [
    {
     "data": {
      "text/html": [
       "<div>\n",
       "<style scoped>\n",
       "    .dataframe tbody tr th:only-of-type {\n",
       "        vertical-align: middle;\n",
       "    }\n",
       "\n",
       "    .dataframe tbody tr th {\n",
       "        vertical-align: top;\n",
       "    }\n",
       "\n",
       "    .dataframe thead th {\n",
       "        text-align: right;\n",
       "    }\n",
       "</style>\n",
       "<table border=\"1\" class=\"dataframe\">\n",
       "  <thead>\n",
       "    <tr style=\"text-align: right;\">\n",
       "      <th></th>\n",
       "      <th>group</th>\n",
       "      <th>full_data</th>\n",
       "      <th>transactions</th>\n",
       "    </tr>\n",
       "  </thead>\n",
       "  <tbody>\n",
       "    <tr>\n",
       "      <th>0</th>\n",
       "      <td>test</td>\n",
       "      <td>2332226.0</td>\n",
       "      <td>2332226.0</td>\n",
       "    </tr>\n",
       "    <tr>\n",
       "      <th>1</th>\n",
       "      <td>control 1</td>\n",
       "      <td>2494804.0</td>\n",
       "      <td>2494804.0</td>\n",
       "    </tr>\n",
       "    <tr>\n",
       "      <th>2</th>\n",
       "      <td>control 2</td>\n",
       "      <td>1907997.0</td>\n",
       "      <td>1907997.0</td>\n",
       "    </tr>\n",
       "  </tbody>\n",
       "</table>\n",
       "</div>"
      ],
      "text/plain": [
       "       group  full_data  transactions\n",
       "0       test  2332226.0     2332226.0\n",
       "1  control 1  2494804.0     2494804.0\n",
       "2  control 2  1907997.0     1907997.0"
      ]
     },
     "execution_count": 74,
     "metadata": {},
     "output_type": "execute_result"
    }
   ],
   "source": [
    "pd.DataFrame({\n",
    "    'group': ['test', 'control 1', 'control 2'],\n",
    "    'full_data': [users_test.total_revenue.sum(), users_control_1.total_revenue.sum(), users_control_2.total_revenue.sum()],\n",
    "    'transactions': [transactions_test.revenue.sum(), transactions_control_1.revenue.sum(), transactions_control_2.revenue.sum()]\n",
    "})"
   ]
  },
  {
   "cell_type": "markdown",
   "metadata": {},
   "source": [
    "Посмотрим как распределены пропорции по выборкам"
   ]
  },
  {
   "cell_type": "code",
   "execution_count": 75,
   "metadata": {},
   "outputs": [
    {
     "data": {
      "text/html": [
       "<div>\n",
       "<style scoped>\n",
       "    .dataframe tbody tr th:only-of-type {\n",
       "        vertical-align: middle;\n",
       "    }\n",
       "\n",
       "    .dataframe tbody tr th {\n",
       "        vertical-align: top;\n",
       "    }\n",
       "\n",
       "    .dataframe thead th {\n",
       "        text-align: right;\n",
       "    }\n",
       "</style>\n",
       "<table border=\"1\" class=\"dataframe\">\n",
       "  <thead>\n",
       "    <tr style=\"text-align: right;\">\n",
       "      <th></th>\n",
       "      <th>group</th>\n",
       "      <th>group_size</th>\n",
       "      <th>percent_revenue</th>\n",
       "      <th>percent_is_premium</th>\n",
       "      <th>percent_gender</th>\n",
       "      <th>mean_users_age</th>\n",
       "      <th>paid_at_min</th>\n",
       "      <th>paid_at_max</th>\n",
       "    </tr>\n",
       "  </thead>\n",
       "  <tbody>\n",
       "    <tr>\n",
       "      <th>0</th>\n",
       "      <td>test</td>\n",
       "      <td>4308</td>\n",
       "      <td>3.39</td>\n",
       "      <td>3.64</td>\n",
       "      <td>{1: 0.95, 0: 0.05}</td>\n",
       "      <td>31.889276</td>\n",
       "      <td>2017-01-11</td>\n",
       "      <td>2017-12-11</td>\n",
       "    </tr>\n",
       "    <tr>\n",
       "      <th>1</th>\n",
       "      <td>control 1</td>\n",
       "      <td>4340</td>\n",
       "      <td>4.45</td>\n",
       "      <td>4.42</td>\n",
       "      <td>{1: 0.96, 0: 0.04}</td>\n",
       "      <td>32.095392</td>\n",
       "      <td>2016-12-14</td>\n",
       "      <td>2017-12-11</td>\n",
       "    </tr>\n",
       "    <tr>\n",
       "      <th>2</th>\n",
       "      <td>control 2</td>\n",
       "      <td>4264</td>\n",
       "      <td>4.39</td>\n",
       "      <td>4.48</td>\n",
       "      <td>{1: 0.95, 0: 0.05}</td>\n",
       "      <td>32.046201</td>\n",
       "      <td>2017-01-11</td>\n",
       "      <td>2017-12-11</td>\n",
       "    </tr>\n",
       "  </tbody>\n",
       "</table>\n",
       "</div>"
      ],
      "text/plain": [
       "       group  group_size  percent_revenue  percent_is_premium  \\\n",
       "0       test        4308             3.39                3.64   \n",
       "1  control 1        4340             4.45                4.42   \n",
       "2  control 2        4264             4.39                4.48   \n",
       "\n",
       "       percent_gender  mean_users_age paid_at_min paid_at_max  \n",
       "0  {1: 0.95, 0: 0.05}       31.889276  2017-01-11  2017-12-11  \n",
       "1  {1: 0.96, 0: 0.04}       32.095392  2016-12-14  2017-12-11  \n",
       "2  {1: 0.95, 0: 0.05}       32.046201  2017-01-11  2017-12-11  "
      ]
     },
     "execution_count": 75,
     "metadata": {},
     "output_type": "execute_result"
    }
   ],
   "source": [
    "# Доля пользователей совершивших покупку\n",
    "pr_t = round(users_test[users_test.total_revenue > 0].shape[0] / users_test.shape[0] * 100, 2)\n",
    "pr_c1 = round(users_control_1[users_control_1.total_revenue > 0].shape[0] / users_control_1.shape[0] * 100, 2)\n",
    "pr_c2 = round(users_control_2[users_control_2.total_revenue > 0].shape[0] / users_control_2.shape[0] * 100, 2)\n",
    "\n",
    "# Доля пользователей с премиум подпиской\n",
    "pp_t = round(users_test[users_test.is_premium == 1].shape[0] / users_test.shape[0] * 100, 2)\n",
    "pp_c1 = round(users_control_1[users_control_1.is_premium == 1].shape[0] / users_control_1.shape[0] * 100, 2)\n",
    "pp_c2 = round(users_control_2[users_control_2.is_premium == 1].shape[0] / users_control_2.shape[0] * 100, 2)\n",
    "\n",
    "\n",
    "# Распределение по полу\n",
    "pg_t = dict(zip(users_test.gender.value_counts(normalize=True).round(2).index,\n",
    "                users_test.gender.value_counts(normalize=True).round(2).values))\n",
    "pg_c1 = dict(zip(users_control_1.gender.value_counts(normalize=True).round(2).index,\n",
    "                users_control_1.gender.value_counts(normalize=True).round(2).values))\n",
    "pg_c2 = dict(zip(users_control_2.gender.value_counts(normalize=True).round(2).index,\n",
    "                users_control_2.gender.value_counts(normalize=True).round(2).values))\n",
    "\n",
    "# Итоговый датафрейм\n",
    "pd.DataFrame({'group': ['test', 'control 1', 'control 2'],\n",
    "              'group_size': [users_test.shape[0], users_control_1.shape[0], users_control_2.shape[0]],\n",
    "              'percent_revenue': [pr_t, pr_c1, pr_c2],\n",
    "              'percent_is_premium': [pp_t, pp_c1, pp_c2],\n",
    "              'percent_gender': [pg_t, pg_c1, pg_c2],\n",
    "              'mean_users_age': [users_test.age.mean(), users_control_1.age.mean(), users_control_2.age.mean()],\n",
    "              'paid_at_min': [transactions_test.paid_at.min().date(), transactions_control_1.paid_at.min().date(), transactions_control_2.paid_at.min().date()],\n",
    "              'paid_at_max': [transactions_test.paid_at.max().date(), transactions_control_1.paid_at.max().date(), transactions_control_2.paid_at.max().date()]})"
   ]
  },
  {
   "cell_type": "markdown",
   "metadata": {},
   "source": [
    "> **Таким образом, анализ качества сплитования позволяет сделать вывод, что в исследуемых выборках соблюдаются пропорции в разрезе по ряду характеристик. При этом одни и те же пользователи не встречаются в различных выборках.**"
   ]
  },
  {
   "cell_type": "markdown",
   "metadata": {},
   "source": [
    "<hr>"
   ]
  },
  {
   "cell_type": "markdown",
   "metadata": {},
   "source": [
    "## 3.  Оценка результатов АА/Б теста"
   ]
  },
  {
   "cell_type": "markdown",
   "metadata": {},
   "source": [
    "### 3.1 Гипотеза о равенстве долей пользователей сделавших покупку\n",
    "\n",
    "Проверим гипотезу о том, что доля пользователей совершивших, покупку в тестовой группе равна доле пользователей, совершивших покупку как в первой, так и во второй контрольных группах против альтернативы, что в тестовой группе доля покупок изменилась:\n",
    "\n",
    "\\begin{equation*}\n",
    "\\begin{aligned} \n",
    "& H_0: p_{t} = p_{c1} = p_{c2}  \\\\\n",
    "& H_a: \\text{в тестовой группе вероятность совершения покупки отличается}  \n",
    "\\end{aligned}\n",
    "\\end{equation*}\n",
    "\n",
    "\n",
    "Посколькy выборки у нас независимы, наблюдений много, воспользуемся ЦПТ, в соотствии с которой:\n",
    "\n",
    "\\begin{equation*}\n",
    "\\begin{aligned} \n",
    "& H_{0}: p_x = p_{y} \\\\\n",
    "& H_{a}: p_x \\ne p_{y}\n",
    "\\end{aligned}\n",
    "\\end{equation*}\n",
    "\n",
    "Критерий для проверки: <br>\n",
    "$$ \n",
    "z = \\frac{p_x - p_y}{\\sqrt{P(1 - P) \\cdot \\left(\\frac{1}{n_x} + \\frac{1}{n_y}\\right)}} \\overset{asy} {\\sim} N (0, 1)\n",
    "$$\n",
    "\n",
    "Дисперсия $P$ при верности нулевой гипотезы - общая доля успехов в двух выборках:<br>\n",
    "$$\n",
    "P = \\frac{m_x + m_y}{n_x + n_y}\n",
    "$$"
   ]
  },
  {
   "cell_type": "markdown",
   "metadata": {},
   "source": [
    "Для проверки гипотез воспользуемся пакетом из `statsmodels` `proportions_ztest`"
   ]
  },
  {
   "cell_type": "code",
   "execution_count": 76,
   "metadata": {},
   "outputs": [
    {
     "data": {
      "text/html": [
       "<div>\n",
       "<style scoped>\n",
       "    .dataframe tbody tr th:only-of-type {\n",
       "        vertical-align: middle;\n",
       "    }\n",
       "\n",
       "    .dataframe tbody tr th {\n",
       "        vertical-align: top;\n",
       "    }\n",
       "\n",
       "    .dataframe thead th {\n",
       "        text-align: right;\n",
       "    }\n",
       "</style>\n",
       "<table border=\"1\" class=\"dataframe\">\n",
       "  <thead>\n",
       "    <tr style=\"text-align: right;\">\n",
       "      <th></th>\n",
       "      <th>group</th>\n",
       "      <th>purchases_num</th>\n",
       "      <th>all_users</th>\n",
       "      <th>proportion</th>\n",
       "    </tr>\n",
       "  </thead>\n",
       "  <tbody>\n",
       "    <tr>\n",
       "      <th>0</th>\n",
       "      <td>test</td>\n",
       "      <td>146</td>\n",
       "      <td>4308</td>\n",
       "      <td>0.0339</td>\n",
       "    </tr>\n",
       "    <tr>\n",
       "      <th>1</th>\n",
       "      <td>control 1</td>\n",
       "      <td>193</td>\n",
       "      <td>4340</td>\n",
       "      <td>0.0445</td>\n",
       "    </tr>\n",
       "    <tr>\n",
       "      <th>2</th>\n",
       "      <td>control 2</td>\n",
       "      <td>187</td>\n",
       "      <td>4264</td>\n",
       "      <td>0.0439</td>\n",
       "    </tr>\n",
       "  </tbody>\n",
       "</table>\n",
       "</div>"
      ],
      "text/plain": [
       "       group  purchases_num  all_users  proportion\n",
       "0       test            146       4308      0.0339\n",
       "1  control 1            193       4340      0.0445\n",
       "2  control 2            187       4264      0.0439"
      ]
     },
     "metadata": {},
     "output_type": "display_data"
    },
    {
     "name": "stdout",
     "output_type": "stream",
     "text": [
      "p-values: 0.0338, 0.0339, 0.89\n"
     ]
    }
   ],
   "source": [
    "# Промежуточные переменные\n",
    "n_t = users_test.shape[0]\n",
    "m_t = users_test[users_test.total_revenue > 0].shape[0]\n",
    "\n",
    "n_c1 = users_control_1.shape[0]\n",
    "m_c1 = users_control_1[users_control_1.total_revenue > 0].shape[0]\n",
    "\n",
    "n_c2 = users_control_2.shape[0]\n",
    "m_c2 = users_control_2[users_control_2.total_revenue > 0].shape[0]\n",
    "\n",
    "# Датафрейм с долями\n",
    "display(pd.DataFrame({'group': ['test', 'control 1', 'control 2'],\n",
    "                      'purchases_num': [m_t, m_c1, m_c2],\n",
    "                      'all_users': [n_t, n_c1, n_c2],\n",
    "                      'proportion' : [round(m_t/n_t, 4), round(m_c1/n_c1, 4), round(m_c2/n_c2, 4)]}))\n",
    "\n",
    "\n",
    "# Проверка гипотез\n",
    "_, p1 =  proportions_ztest((m_t, m_c1), \n",
    "                           (n_t, n_c1), \n",
    "                           value=0, \n",
    "                           alternative='two-sided')\n",
    "\n",
    "_, p2 =  proportions_ztest((m_t, m_c2), \n",
    "                           (n_t, n_c2), \n",
    "                           value=0, \n",
    "                           alternative='two-sided')\n",
    "\n",
    "_, p3 =  proportions_ztest((m_c1, m_c2), \n",
    "                           (n_c1, n_c2), \n",
    "                           value=0, \n",
    "                           alternative='two-sided')\n",
    "\n",
    "# Поправка Холма на множественное сравнение \n",
    "rejected, p_corrected, _, _ = multipletests([p1, p2, p3], alpha=0.05, method='holm')\n",
    "print(f'p-values: {p_corrected[0]:.3}, {p_corrected[1]:.3}, {p_corrected[2]:.3}')"
   ]
  },
  {
   "cell_type": "markdown",
   "metadata": {},
   "source": [
    "> __Первые две гипотезы о равенстве долей (вероятности совершения покупки) на 5% уровне значимости отвергаются. Гипотеза о равенстве долей в 1-й и 2-й контрольных группах на 5% уровне значимости не отвергаются. Таким образом доля пользователей совершивших покупку как в 1-й контрольной группе, так и во 2-й отличается от доли пользователей совершивших покупку в тестовой группе.__"
   ]
  },
  {
   "cell_type": "markdown",
   "metadata": {},
   "source": [
    "Проверим односторонние гипотезы:\n",
    "\n",
    "\\begin{equation*}\n",
    "\\begin{aligned} \n",
    "& H_0: p_{t} = p_{c1}  \\\\\n",
    "& H_a: p_{t} < p_{c1}\n",
    "\\\\\n",
    "\\\\\n",
    "& H_0: p_{t} = p_{c2}  \\\\\n",
    "& H_a: p_{t} < p_{c2}\n",
    "\\end{aligned}\n",
    "\\end{equation*}"
   ]
  },
  {
   "cell_type": "code",
   "execution_count": 77,
   "metadata": {},
   "outputs": [
    {
     "name": "stdout",
     "output_type": "stream",
     "text": [
      "p-values: 0.0113, 0.0113\n"
     ]
    }
   ],
   "source": [
    "# Проверка гипотез\n",
    "p_values = []\n",
    "\n",
    "for m, n in zip([m_c1, m_c2], [n_c1, n_c2]):\n",
    "    _, p = proportions_ztest((m_t, m), (n_t, n), value=0, alternative='smaller')\n",
    "    p_values.append(p)\n",
    "\n",
    "# Поправка Холма на множественное сравнение \n",
    "rejected, p_corrected, _, _ = multipletests(p_values, alpha=0.05, method='holm')\n",
    "print(f'p-values: {p_corrected[0]:.3}, {p_corrected[1]:.3}')"
   ]
  },
  {
   "cell_type": "markdown",
   "metadata": {},
   "source": [
    "> __Нулевая гипотеза на 5% уровне значимости отвергается, принимается альтернативная - доля пользователей совершивших покупку в тестовой группе снизилась по сравнению с долей пользователей как в 1-й контрольной группе, так и во 2-й контрольной группе.__"
   ]
  },
  {
   "cell_type": "markdown",
   "metadata": {},
   "source": [
    "### 3.2 Гипотеза о равенстве долей пользователей оформивших премиум подписку"
   ]
  },
  {
   "cell_type": "markdown",
   "metadata": {},
   "source": [
    "Проверим гипотезу о том, что доля пользователей оформивших премиум подписку в тестовой группе равна доле пользователей, оформивших премиум подписку как в первой, так и во второй контрольных группах против альтернативы, что в тестовой группе доля оформивших премиум подписку изменилась:\n",
    "\n",
    "\\begin{equation*}\n",
    "\\begin{aligned} \n",
    "& H_0: p_{t} = p_{c1} = p_{c2}  \\\\\n",
    "& H_a: \\text{в тестовой группе доля оформивших премиум подписку отличается}  \n",
    "\\end{aligned}\n",
    "\\end{equation*}\n",
    "\n",
    "<br>\n",
    "\n",
    "Воспользуемся ЦПТ и пакетом `proportions_ztest` из `statsmodels`"
   ]
  },
  {
   "cell_type": "code",
   "execution_count": 78,
   "metadata": {},
   "outputs": [
    {
     "data": {
      "text/html": [
       "<div>\n",
       "<style scoped>\n",
       "    .dataframe tbody tr th:only-of-type {\n",
       "        vertical-align: middle;\n",
       "    }\n",
       "\n",
       "    .dataframe tbody tr th {\n",
       "        vertical-align: top;\n",
       "    }\n",
       "\n",
       "    .dataframe thead th {\n",
       "        text-align: right;\n",
       "    }\n",
       "</style>\n",
       "<table border=\"1\" class=\"dataframe\">\n",
       "  <thead>\n",
       "    <tr style=\"text-align: right;\">\n",
       "      <th></th>\n",
       "      <th>group</th>\n",
       "      <th>trial_premium_size</th>\n",
       "      <th>unique_users_count</th>\n",
       "      <th>proportion</th>\n",
       "    </tr>\n",
       "  </thead>\n",
       "  <tbody>\n",
       "    <tr>\n",
       "      <th>0</th>\n",
       "      <td>test</td>\n",
       "      <td>61</td>\n",
       "      <td>146</td>\n",
       "      <td>0.418</td>\n",
       "    </tr>\n",
       "    <tr>\n",
       "      <th>1</th>\n",
       "      <td>control 1</td>\n",
       "      <td>67</td>\n",
       "      <td>193</td>\n",
       "      <td>0.347</td>\n",
       "    </tr>\n",
       "    <tr>\n",
       "      <th>2</th>\n",
       "      <td>control 2</td>\n",
       "      <td>53</td>\n",
       "      <td>187</td>\n",
       "      <td>0.283</td>\n",
       "    </tr>\n",
       "  </tbody>\n",
       "</table>\n",
       "</div>"
      ],
      "text/plain": [
       "       group  trial_premium_size  unique_users_count  proportion\n",
       "0       test                  61                 146       0.418\n",
       "1  control 1                  67                 193       0.347\n",
       "2  control 2                  53                 187       0.283"
      ]
     },
     "metadata": {},
     "output_type": "display_data"
    },
    {
     "name": "stdout",
     "output_type": "stream",
     "text": [
      "p-values: 0.363, 0.031, 0.363\n"
     ]
    }
   ],
   "source": [
    "# Промежуточные переменные\n",
    "tt_m = transactions_test[transactions_test.product_type == 'trial_premium'].uid.nunique()\n",
    "tt_n = transactions_test.uid.nunique()\n",
    "\n",
    "ttc1_m = transactions_control_1[transactions_control_1.product_type == 'trial_premium'].uid.nunique()\n",
    "ttc1_n = transactions_control_1.uid.nunique()\n",
    "\n",
    "ttc2_m = transactions_control_2[transactions_control_2.product_type == 'trial_premium'].uid.nunique()\n",
    "ttc2_n = transactions_control_2.uid.nunique()\n",
    "\n",
    "# Датафрейм с долями\n",
    "display(pd.DataFrame({'group': ['test', 'control 1', 'control 2'],\n",
    "                      'trial_premium_size': [tt_m, ttc1_m, ttc2_m],\n",
    "                      'unique_users_count': [tt_n, ttc1_n, ttc2_n],\n",
    "                      'proportion' : [round(tt_m/tt_n, 3), round(ttc1_m/ttc1_n, 3), round(ttc2_m/ttc2_n, 3)]}))\n",
    "\n",
    "# Проверка гипотез\n",
    "_, p1 =  proportions_ztest((tt_m, ttc1_m), \n",
    "                           (tt_n, ttc1_n), \n",
    "                           value=0, \n",
    "                           alternative='two-sided')\n",
    "\n",
    "_, p2 =  proportions_ztest((tt_m, ttc2_m), \n",
    "                           (tt_n, ttc2_n), \n",
    "                           value=0, \n",
    "                           alternative='two-sided')\n",
    "\n",
    "_, p3 =  proportions_ztest((ttc1_m, ttc2_m), \n",
    "                           (ttc1_n, ttc2_n), \n",
    "                           value=0, \n",
    "                           alternative='two-sided')\n",
    "\n",
    "# Поправка Холма на множественное сравнение \n",
    "rejected, p_corrected, _, _ = multipletests([p1, p2, p3], alpha=0.05, method='holm')\n",
    "print(f'p-values: {p_corrected[0]:.3}, {p_corrected[1]:.3}, {p_corrected[2]:.3}')"
   ]
  },
  {
   "cell_type": "markdown",
   "metadata": {},
   "source": [
    "> Таким образом:\n",
    "    > - нулевая гипотеза о равенстве долей пользователей оформивших премиум подписку в тестовой группе и 1-й контрольной на 5% уровне значимости не отвергается;\n",
    "    > - нулевая гипотеза о равенстве долей пользователей оформивших премиум подписку в тестовой группе и 2-й контрольной группе на 5%  уровне значимости отвергается - **между этим группами есть разница**;\n",
    "    > - нулевая гипотеза о равенстве долей пользователей оформивших премиум подписку в 1-й контрольной группе и 2-й контрольной на 5% уровне значимости не отвергается.\n",
    "    \n",
    "<br>\n",
    "Проверим односторонню гипотезу:\n",
    "\n",
    "\\begin{equation*}\n",
    "\\begin{aligned} \n",
    "& H_0: p_{t} \\le p_{c2}  \\\\\n",
    "& H_a: p_{t} > p_{c2}\n",
    "\\end{aligned}\n",
    "\\end{equation*}"
   ]
  },
  {
   "cell_type": "code",
   "execution_count": 79,
   "metadata": {},
   "outputs": [
    {
     "name": "stdout",
     "output_type": "stream",
     "text": [
      "p-value: 0.00517\n"
     ]
    }
   ],
   "source": [
    "_, p =  proportions_ztest((tt_m, ttc2_m), \n",
    "                           (tt_n, ttc2_n), \n",
    "                           value=0, \n",
    "                           alternative='larger')\n",
    "\n",
    "print(f'p-value: {p:.3}')"
   ]
  },
  {
   "cell_type": "markdown",
   "metadata": {},
   "source": [
    "Гипотеза о равенсве долей отвергается на 5%  уровне значимости.\n",
    "<br>\n",
    "\n",
    "Построим асимптотический доверительный интервал для разности долей между тестовой группой и 2-й контрольной."
   ]
  },
  {
   "cell_type": "code",
   "execution_count": 80,
   "metadata": {},
   "outputs": [
    {
     "name": "stdout",
     "output_type": "stream",
     "text": [
      "Доверительный интервал [3.16%; 23.72%] ширины 20.56%\n"
     ]
    }
   ],
   "source": [
    "p1, p2 = tt_m/tt_n, ttc2_m/ttc2_n\n",
    "\n",
    "p1_hat = p1 * (1 - p1)\n",
    "p2_hat = p2 * (1 - p2)\n",
    "\n",
    "diff = p1 - p2\n",
    "diff_std = np.sqrt(p1_hat/tt_n + p2_hat/ttc2_n)\n",
    "\n",
    "left, right = stats.norm.interval(0.95, loc=diff, scale=diff_std)\n",
    "delta = right - left\n",
    "\n",
    "print(f\"Доверительный интервал [{left:.2%}; {right:.2%}] ширины {delta:.2%}\")"
   ]
  },
  {
   "cell_type": "markdown",
   "metadata": {},
   "source": [
    ">**На основании результатов проверки гипотезы 3.2 можно сделать вывод, что доля пользователей оформивших премиум подписку в тестовой группе не изменилась по сравнению с 1-й контрольной группой, но `увеличилась` по сравнению со 2-й контрольной группой.**\n",
    ">\n",
    ">**Доля пользователей оформивших премиум подписку в тестовой группе отличается от доли пользвателей оформивших премиум подписку во 2-й контрольной группе на величину лежащую в диапозоне от 3.16% до 23.72%.**"
   ]
  },
  {
   "cell_type": "markdown",
   "metadata": {},
   "source": [
    "### 3.3 Гипотеза о равенстве ARPPU по всем продуктам\n",
    "<br>\n",
    "\n",
    "Посмотрим на средние значения `total_revenue` в исследуемых выборках."
   ]
  },
  {
   "cell_type": "code",
   "execution_count": 81,
   "metadata": {},
   "outputs": [
    {
     "data": {
      "text/html": [
       "<div>\n",
       "<style scoped>\n",
       "    .dataframe tbody tr th:only-of-type {\n",
       "        vertical-align: middle;\n",
       "    }\n",
       "\n",
       "    .dataframe tbody tr th {\n",
       "        vertical-align: top;\n",
       "    }\n",
       "\n",
       "    .dataframe thead th {\n",
       "        text-align: right;\n",
       "    }\n",
       "</style>\n",
       "<table border=\"1\" class=\"dataframe\">\n",
       "  <thead>\n",
       "    <tr style=\"text-align: right;\">\n",
       "      <th></th>\n",
       "      <th>group</th>\n",
       "      <th>mean_revenue</th>\n",
       "    </tr>\n",
       "  </thead>\n",
       "  <tbody>\n",
       "    <tr>\n",
       "      <th>0</th>\n",
       "      <td>test</td>\n",
       "      <td>15974</td>\n",
       "    </tr>\n",
       "    <tr>\n",
       "      <th>1</th>\n",
       "      <td>control_1</td>\n",
       "      <td>12926</td>\n",
       "    </tr>\n",
       "    <tr>\n",
       "      <th>2</th>\n",
       "      <td>control_2</td>\n",
       "      <td>10203</td>\n",
       "    </tr>\n",
       "  </tbody>\n",
       "</table>\n",
       "</div>"
      ],
      "text/plain": [
       "       group  mean_revenue\n",
       "0       test         15974\n",
       "1  control_1         12926\n",
       "2  control_2         10203"
      ]
     },
     "execution_count": 81,
     "metadata": {},
     "output_type": "execute_result"
    }
   ],
   "source": [
    "# Отфильтруем данные \n",
    "x_full = users_test[users_test.total_revenue > 0]\n",
    "y_full = users_control_1[users_control_1.total_revenue > 0]\n",
    "z_full = users_control_2[users_control_2.total_revenue > 0]\n",
    "\n",
    "\n",
    "pd.DataFrame({'group': ['test', 'control_1', 'control_2'],\n",
    "              'mean_revenue': list(map(round, [x_full.total_revenue.mean(),\n",
    "                                               y_full.total_revenue.mean(),\n",
    "                                               z_full.total_revenue.mean()]))\n",
    "             })"
   ]
  },
  {
   "cell_type": "markdown",
   "metadata": {},
   "source": [
    "Посмотрим с помощью боксплот на распределение `total_revenue` в исследуемых выборках."
   ]
  },
  {
   "cell_type": "code",
   "execution_count": 82,
   "metadata": {},
   "outputs": [
    {
     "data": {
      "image/png": "[encoded data removed]",
      "text/plain": [
       "<Figure size 1152x360 with 3 Axes>"
      ]
     },
     "metadata": {
      "needs_background": "light"
     },
     "output_type": "display_data"
    }
   ],
   "source": [
    "fig, ax = plt.subplots(1, 3, figsize=(16, 5))\n",
    "\n",
    "for ax, data, title in zip(ax.flatten(), [x_full, y_full, z_full], ['test', 'control 1', 'control 2']):\n",
    "    sns.boxplot(data=data, y='total_revenue', ax=ax)\n",
    "    ax.set(title=title)\n",
    "plt.tight_layout();"
   ]
  },
  {
   "cell_type": "markdown",
   "metadata": {},
   "source": [
    "Из распределений видно, что в трех исследуемых выборках имеются выбросы. При этом в контрольной выборке из первой группы имеется очень существенный выброс со значением $ > 400,000$ ден. единиц.\n",
    "Проверим формально наши выборки на нормальность распределения. Для этого воспользуемся тестом Колмогорова-Смирнова."
   ]
  },
  {
   "cell_type": "code",
   "execution_count": 83,
   "metadata": {},
   "outputs": [
    {
     "name": "stdout",
     "output_type": "stream",
     "text": [
      "{'test': 4.771009847320826e-10, 'control 1': 1.6571187750125733e-21, 'control 2': 1.2681949255705835e-06}\n"
     ]
    }
   ],
   "source": [
    "ks_pvals = {}\n",
    "for data, name in zip([x_full, y_full, z_full], ['test', 'control 1', 'control 2']):\n",
    "    res = stats.kstest(data.total_revenue, 'norm', args=(data.total_revenue.mean(), data.total_revenue.std(ddof=1)))[-1]\n",
    "    ks_pvals[name] = res\n",
    "print(ks_pvals)"
   ]
  },
  {
   "cell_type": "markdown",
   "metadata": {},
   "source": [
    "Данные в исследуемых выборках **не** распределены нормально. Для проверки гипотезы 3.3, можно воспользоваться непараметрическим ранговым критерием Манна-Уитни, бутстрапом или ЦПТ.\n",
    "\n",
    "По ЦПТ среднее значение будет асимптотически распределено нормально при большом количестве наблюдений и отсутствии аномалий.\n",
    "\n",
    "Предположим, что ошибок в данных нет и выбросы обусловлены наличием пользователей, которые на фоне всех остальных отличаются своим поведением.\n",
    "\n",
    "Для того, что применять ЦПТ, мы предполагаем, что ни одна случайная величина из выборки не выделяется на фоне остальных. Следовательно, необходимо удалить выбросы из выборок по 99% квантилю."
   ]
  },
  {
   "cell_type": "code",
   "execution_count": 84,
   "metadata": {},
   "outputs": [
    {
     "data": {
      "text/html": [
       "<div>\n",
       "<style scoped>\n",
       "    .dataframe tbody tr th:only-of-type {\n",
       "        vertical-align: middle;\n",
       "    }\n",
       "\n",
       "    .dataframe tbody tr th {\n",
       "        vertical-align: top;\n",
       "    }\n",
       "\n",
       "    .dataframe thead th {\n",
       "        text-align: right;\n",
       "    }\n",
       "</style>\n",
       "<table border=\"1\" class=\"dataframe\">\n",
       "  <thead>\n",
       "    <tr style=\"text-align: right;\">\n",
       "      <th></th>\n",
       "      <th>group</th>\n",
       "      <th>corrected_mean</th>\n",
       "    </tr>\n",
       "  </thead>\n",
       "  <tbody>\n",
       "    <tr>\n",
       "      <th>0</th>\n",
       "      <td>test</td>\n",
       "      <td>14436</td>\n",
       "    </tr>\n",
       "    <tr>\n",
       "      <th>1</th>\n",
       "      <td>control_1</td>\n",
       "      <td>10615</td>\n",
       "    </tr>\n",
       "    <tr>\n",
       "      <th>2</th>\n",
       "      <td>control_2</td>\n",
       "      <td>9462</td>\n",
       "    </tr>\n",
       "  </tbody>\n",
       "</table>\n",
       "</div>"
      ],
      "text/plain": [
       "       group  corrected_mean\n",
       "0       test           14436\n",
       "1  control_1           10615\n",
       "2  control_2            9462"
      ]
     },
     "metadata": {},
     "output_type": "display_data"
    },
    {
     "data": {
      "image/png": "[encoded data removed]",
      "text/plain": [
       "<Figure size 1152x360 with 3 Axes>"
      ]
     },
     "metadata": {
      "needs_background": "light"
     },
     "output_type": "display_data"
    }
   ],
   "source": [
    "# Определим 99% квантиль\n",
    "x_q99 = x_full['total_revenue'].quantile(0.99)\n",
    "y_q99 = y_full['total_revenue'].quantile(0.99)\n",
    "z_q99 = z_full['total_revenue'].quantile(0.99)\n",
    "\n",
    "# Отфильтруем данные\n",
    "x = x_full[x_full['total_revenue'] < x_q99]\n",
    "y = y_full[y_full['total_revenue'] < y_q99]\n",
    "z = z_full[z_full['total_revenue'] < z_q99]\n",
    "\n",
    "display(pd.DataFrame({\n",
    "    'group': ['test', 'control_1', 'control_2'],\n",
    "    'corrected_mean': list(map(round, [x.total_revenue.mean(), y.total_revenue.mean(), z.total_revenue.mean()]))\n",
    "}))\n",
    "\n",
    "# Визуализируем распределения\n",
    "fig, ax = plt.subplots(1, 3, figsize=(16, 5))\n",
    "for ax, data, title in zip(ax.flatten(), [x, y, z], ['test', 'control 1', 'control 2']):\n",
    "    sns.boxplot(data=data, y='total_revenue', ax=ax)\n",
    "    ax.set(title=title)\n",
    "    ax.set_yticks(np.linspace(data.total_revenue.min(), data.total_revenue.max(), 11))\n",
    "plt.tight_layout();"
   ]
  },
  {
   "cell_type": "markdown",
   "metadata": {},
   "source": [
    "Посколькy выборки у нас независимы, существенные выбросы были \"отрезаны\" по 99% квантилю, по ЦПТ разность средних значений будет иметь асимптотически нормальное распределение (вне зависимости от распределения выборки):\n",
    "\n",
    "$$\n",
    "\\bar X_1 - \\bar X_2 \\overset{asy} {\\sim} N \\left(0, \\frac{\\hat s_{1}^2}{n} +  \\frac{\\hat s_{2}^2}{m}\\right)\n",
    "$$\n",
    "\n",
    "Критерий для проверки:\n",
    "\n",
    "$$\n",
    "Z = \\frac{\\hat X - \\hat Y}{  \\sqrt{ \\frac{s_{1}^2}{n} + \\frac{s_{2}^2}{m} }  }\n",
    "$$"
   ]
  },
  {
   "cell_type": "markdown",
   "metadata": {},
   "source": [
    "Сформулируем гипотезы для проверки:\n",
    "\n",
    "$$\n",
    "\\begin{aligned}\n",
    "&H_0: \\hspace{2mm} \\mu_1 = \\mu_2\\hspace{2mm} \\text{ARPPU для тестовой группы и 1-й контрольной группы равны}\\\\\n",
    "&H_1: \\hspace{2mm} \\mu_1 > \\mu_2  \\hspace{2mm} \\text{в тестовой группе ARPPU выше}\n",
    "\\end{aligned}\n",
    "$$"
   ]
  },
  {
   "cell_type": "code",
   "execution_count": 85,
   "metadata": {},
   "outputs": [
    {
     "name": "stdout",
     "output_type": "stream",
     "text": [
      "Доверительный интервал [1377; 6266] ширины 4889\n"
     ]
    }
   ],
   "source": [
    "# Размер выборок\n",
    "nx, ny = x.total_revenue.size, y.total_revenue.size\n",
    "\n",
    "# Разность средних\n",
    "diff = x.total_revenue.mean() - y.total_revenue.mean()\n",
    "\n",
    "# Стандартное отклонение\n",
    "diff_std = np.sqrt(x.total_revenue.var(ddof=1)/nx + y.total_revenue.var(ddof=1)/ny)\n",
    "\n",
    "# Наблюдаемое значение\n",
    "z_obs = diff/diff_std\n",
    "\n",
    "# Значение p-value\n",
    "p1 = 1 - stats.norm().cdf(z_obs)\n",
    "\n",
    "# Рассчитаем доверительный интервал\n",
    "left, right = stats.norm.interval(0.95, loc=diff, scale=diff_std)\n",
    "delta = round(right) - round(left)\n",
    "print(f'Доверительный интервал [{round(left)}; {round(right)}] ширины {delta}')"
   ]
  },
  {
   "cell_type": "code",
   "execution_count": 86,
   "metadata": {},
   "outputs": [
    {
     "data": {
      "text/plain": [
       "'p-value: 0.00109'"
      ]
     },
     "execution_count": 86,
     "metadata": {},
     "output_type": "execute_result"
    },
    {
     "data": {
      "image/png": "[encoded data removed]",
      "text/plain": [
       "<Figure size 720x360 with 1 Axes>"
      ]
     },
     "metadata": {
      "needs_background": "light"
     },
     "output_type": "display_data"
    }
   ],
   "source": [
    "asy_mean_test(diff, diff_std, mu_0=0, alpha=0.05, alternative='larger', margin=4)"
   ]
  },
  {
   "cell_type": "markdown",
   "metadata": {},
   "source": [
    "> Наблюдаемое значение 3.06 больше критического 1.64, следовательно нулевая гипотеза на 5% уровне значимости отвергается."
   ]
  },
  {
   "cell_type": "markdown",
   "metadata": {},
   "source": [
    "Сформулируем гипотезы для проверки:\n",
    "\n",
    "$$\n",
    "\\begin{aligned}\n",
    "&H_0: \\hspace{2mm} \\mu_1 = \\mu_3 \\hspace{2mm} \\text{ARPPU для тестовой группы и 2-й контрольной группы равны}\\\\\n",
    "&H_1: \\hspace{2mm} \\mu_1 > \\mu_3  \\hspace{2mm} \\text{в тестовой группе ARPPU выше}\n",
    "\\end{aligned}\n",
    "$$"
   ]
  },
  {
   "cell_type": "code",
   "execution_count": 87,
   "metadata": {},
   "outputs": [
    {
     "name": "stdout",
     "output_type": "stream",
     "text": [
      "Доверительный интервал [2735; 7212] ширины 4477\n"
     ]
    }
   ],
   "source": [
    "# Размер выборки\n",
    "nz = z.total_revenue.size\n",
    "\n",
    "# Разность средних\n",
    "diff = x.total_revenue.mean() - z.total_revenue.mean()\n",
    "\n",
    "# Стандартное отклонение\n",
    "diff_std = np.sqrt(x.total_revenue.var(ddof=1)/nx + z.total_revenue.var(ddof=1)/nz)\n",
    "\n",
    "# Наблюдаемое значение\n",
    "z_obs = diff/diff_std\n",
    "\n",
    "# Значение p-value\n",
    "p2 = 1 - stats.norm().cdf(z_obs)\n",
    "\n",
    "# Рассчитаем доверительный интервал\n",
    "left, right = stats.norm.interval(0.95, loc=diff, scale=diff_std)\n",
    "delta = round(right) - round(left)\n",
    "print(f'Доверительный интервал [{round(left)}; {round(right)}] ширины {delta}')"
   ]
  },
  {
   "cell_type": "code",
   "execution_count": 88,
   "metadata": {},
   "outputs": [
    {
     "data": {
      "text/plain": [
       "'p-value: 6.66e-06'"
      ]
     },
     "execution_count": 88,
     "metadata": {},
     "output_type": "execute_result"
    },
    {
     "data": {
      "image/png": "[encoded data removed]",
      "text/plain": [
       "<Figure size 720x360 with 1 Axes>"
      ]
     },
     "metadata": {
      "needs_background": "light"
     },
     "output_type": "display_data"
    }
   ],
   "source": [
    "asy_mean_test(diff, diff_std, mu_0=0, alpha=0.05, alternative='larger', margin=5)"
   ]
  },
  {
   "cell_type": "markdown",
   "metadata": {},
   "source": [
    "> Наблюдаемое значение 4.35 больше критического 1.64, следовательно нулевая гипотеза на 5% уровне значимости отвергается."
   ]
  },
  {
   "cell_type": "code",
   "execution_count": 89,
   "metadata": {},
   "outputs": [
    {
     "name": "stdout",
     "output_type": "stream",
     "text": [
      "p-values: 0.00109, 1.33e-05\n"
     ]
    }
   ],
   "source": [
    "# Поправка Холма на множественное сравнение \n",
    "rejected, p_corrected, _, _ = multipletests([p1, p2], alpha=0.05, method='holm')\n",
    "print(f'p-values: {p_corrected[0]:.3}, {p_corrected[1]:.3}')"
   ]
  },
  {
   "cell_type": "markdown",
   "metadata": {},
   "source": [
    "> **Таким образом, гипотеза о равенстве ARPPU по всем продуктам в исследуемых выборках на 5% уровне значимости отвергается:**\n",
    ">- **ARPPU в тестовой группе превшает ARPPU в 1-й контрольной группе в среднем на $1377 - 6266$ ден. единиц;**\n",
    ">- **ARPPU в тестовой группе превшает ARPPU в 2-й контрольной группе в среднем на $2735 - 7212$ ден. единиц.**"
   ]
  },
  {
   "cell_type": "markdown",
   "metadata": {},
   "source": [
    "### 3.4 Гипотеза о равенстве ARPPU по премиум подписке\n",
    "<br>\n",
    "\n",
    "Проверим есть ли изменения в ARPPU среди пользователей оформивших премиум подписку."
   ]
  },
  {
   "cell_type": "code",
   "execution_count": 90,
   "metadata": {},
   "outputs": [
    {
     "data": {
      "text/html": [
       "<div>\n",
       "<style scoped>\n",
       "    .dataframe tbody tr th:only-of-type {\n",
       "        vertical-align: middle;\n",
       "    }\n",
       "\n",
       "    .dataframe tbody tr th {\n",
       "        vertical-align: top;\n",
       "    }\n",
       "\n",
       "    .dataframe thead th {\n",
       "        text-align: right;\n",
       "    }\n",
       "</style>\n",
       "<table border=\"1\" class=\"dataframe\">\n",
       "  <thead>\n",
       "    <tr style=\"text-align: right;\">\n",
       "      <th></th>\n",
       "      <th>uid</th>\n",
       "      <th>total</th>\n",
       "      <th>group</th>\n",
       "    </tr>\n",
       "  </thead>\n",
       "  <tbody>\n",
       "    <tr>\n",
       "      <th>0</th>\n",
       "      <td>891071157</td>\n",
       "      <td>9100.0</td>\n",
       "      <td>test</td>\n",
       "    </tr>\n",
       "    <tr>\n",
       "      <th>1</th>\n",
       "      <td>891152790</td>\n",
       "      <td>12597.0</td>\n",
       "      <td>test</td>\n",
       "    </tr>\n",
       "    <tr>\n",
       "      <th>2</th>\n",
       "      <td>891178380</td>\n",
       "      <td>113477.0</td>\n",
       "      <td>test</td>\n",
       "    </tr>\n",
       "    <tr>\n",
       "      <th>3</th>\n",
       "      <td>891222282</td>\n",
       "      <td>6292.0</td>\n",
       "      <td>test</td>\n",
       "    </tr>\n",
       "    <tr>\n",
       "      <th>4</th>\n",
       "      <td>891291531</td>\n",
       "      <td>4056.0</td>\n",
       "      <td>test</td>\n",
       "    </tr>\n",
       "  </tbody>\n",
       "</table>\n",
       "</div>"
      ],
      "text/plain": [
       "         uid     total group\n",
       "0  891071157    9100.0  test\n",
       "1  891152790   12597.0  test\n",
       "2  891178380  113477.0  test\n",
       "3  891222282    6292.0  test\n",
       "4  891291531    4056.0  test"
      ]
     },
     "execution_count": 90,
     "metadata": {},
     "output_type": "execute_result"
    }
   ],
   "source": [
    "# Данные по транзацкиям\n",
    "transactions = [transactions_test, transactions_control_1, transactions_control_2]\n",
    "\n",
    "# Итоговый датафрейм\n",
    "arppu_df = pd.DataFrame()\n",
    "\n",
    "# Преобразование и агрегация данных\n",
    "for data, group in zip(transactions, ['test', 'control_1', 'control_2']):\n",
    "    df = data.query('product_type == \"premium_no_trial\"') \\\n",
    "            .groupby('uid', as_index=False).agg(total=('revenue', 'sum'))\n",
    "    df['group'] = group    \n",
    "    arppu_df = pd.concat([arppu_df, df], axis=0, ignore_index=True)\n",
    "    \n",
    "arppu_df.head()"
   ]
  },
  {
   "cell_type": "code",
   "execution_count": 91,
   "metadata": {},
   "outputs": [
    {
     "data": {
      "image/png": "[encoded data removed]",
      "text/plain": [
       "<Figure size 576x360 with 1 Axes>"
      ]
     },
     "metadata": {
      "needs_background": "light"
     },
     "output_type": "display_data"
    }
   ],
   "source": [
    "# Посмотрим на распределения по группам\n",
    "plt.figure(figsize=(8, 5))\n",
    "sns.boxplot(data=arppu_df, x='group', y='total');"
   ]
  },
  {
   "cell_type": "markdown",
   "metadata": {},
   "source": [
    "Из распределений видно, что в каждой группе есть выбросы. Будем исходить из вышеозвученной предпосылки о наличии пользователей отличающихся своим поведением. Посмотрим на распределения без учета выбросов."
   ]
  },
  {
   "cell_type": "code",
   "execution_count": 92,
   "metadata": {},
   "outputs": [
    {
     "data": {
      "image/png": "[encoded data removed]",
      "text/plain": [
       "<Figure size 576x360 with 1 Axes>"
      ]
     },
     "metadata": {
      "needs_background": "light"
     },
     "output_type": "display_data"
    }
   ],
   "source": [
    "plt.figure(figsize=(8, 5))\n",
    "data = arppu_df[arppu_df.total < 40000]\n",
    "sns.boxplot(data=data, x='group', y='total');"
   ]
  },
  {
   "cell_type": "markdown",
   "metadata": {},
   "source": [
    "Поскольку в анализируемы выборках выбросов не много, срежем их по 99% квантилю и воспользуемся ЦПТ для проверки гипотезы 3.4."
   ]
  },
  {
   "cell_type": "code",
   "execution_count": 93,
   "metadata": {},
   "outputs": [
    {
     "data": {
      "text/html": [
       "<div>\n",
       "<style scoped>\n",
       "    .dataframe tbody tr th:only-of-type {\n",
       "        vertical-align: middle;\n",
       "    }\n",
       "\n",
       "    .dataframe tbody tr th {\n",
       "        vertical-align: top;\n",
       "    }\n",
       "\n",
       "    .dataframe thead th {\n",
       "        text-align: right;\n",
       "    }\n",
       "</style>\n",
       "<table border=\"1\" class=\"dataframe\">\n",
       "  <thead>\n",
       "    <tr style=\"text-align: right;\">\n",
       "      <th></th>\n",
       "      <th>size</th>\n",
       "      <th>mean_total</th>\n",
       "      <th>median_total</th>\n",
       "    </tr>\n",
       "    <tr>\n",
       "      <th>group</th>\n",
       "      <th></th>\n",
       "      <th></th>\n",
       "      <th></th>\n",
       "    </tr>\n",
       "  </thead>\n",
       "  <tbody>\n",
       "    <tr>\n",
       "      <th>control_1</th>\n",
       "      <td>99</td>\n",
       "      <td>7871.0</td>\n",
       "      <td>6292.0</td>\n",
       "    </tr>\n",
       "    <tr>\n",
       "      <th>control_2</th>\n",
       "      <td>102</td>\n",
       "      <td>7302.0</td>\n",
       "      <td>6292.0</td>\n",
       "    </tr>\n",
       "    <tr>\n",
       "      <th>test</th>\n",
       "      <td>67</td>\n",
       "      <td>12100.0</td>\n",
       "      <td>8268.0</td>\n",
       "    </tr>\n",
       "  </tbody>\n",
       "</table>\n",
       "</div>"
      ],
      "text/plain": [
       "           size  mean_total  median_total\n",
       "group                                    \n",
       "control_1    99      7871.0        6292.0\n",
       "control_2   102      7302.0        6292.0\n",
       "test         67     12100.0        8268.0"
      ]
     },
     "execution_count": 93,
     "metadata": {},
     "output_type": "execute_result"
    }
   ],
   "source": [
    "# Посмотрим на центральные характеристики в разрезе групп\n",
    "arppu_df.groupby('group') \\\n",
    "    .agg(size=('uid','count'),\n",
    "         mean_total=('total', 'mean'),\n",
    "         median_total=('total', 'median')) \\\n",
    "    .round()"
   ]
  },
  {
   "cell_type": "code",
   "execution_count": 94,
   "metadata": {},
   "outputs": [
    {
     "data": {
      "text/html": [
       "<div>\n",
       "<style scoped>\n",
       "    .dataframe tbody tr th:only-of-type {\n",
       "        vertical-align: middle;\n",
       "    }\n",
       "\n",
       "    .dataframe tbody tr th {\n",
       "        vertical-align: top;\n",
       "    }\n",
       "\n",
       "    .dataframe thead th {\n",
       "        text-align: right;\n",
       "    }\n",
       "</style>\n",
       "<table border=\"1\" class=\"dataframe\">\n",
       "  <thead>\n",
       "    <tr style=\"text-align: right;\">\n",
       "      <th></th>\n",
       "      <th>group</th>\n",
       "      <th>corrected_mean</th>\n",
       "    </tr>\n",
       "  </thead>\n",
       "  <tbody>\n",
       "    <tr>\n",
       "      <th>0</th>\n",
       "      <td>test</td>\n",
       "      <td>8981</td>\n",
       "    </tr>\n",
       "    <tr>\n",
       "      <th>1</th>\n",
       "      <td>control_1</td>\n",
       "      <td>6147</td>\n",
       "    </tr>\n",
       "    <tr>\n",
       "      <th>2</th>\n",
       "      <td>control_2</td>\n",
       "      <td>6000</td>\n",
       "    </tr>\n",
       "  </tbody>\n",
       "</table>\n",
       "</div>"
      ],
      "text/plain": [
       "       group  corrected_mean\n",
       "0       test            8981\n",
       "1  control_1            6147\n",
       "2  control_2            6000"
      ]
     },
     "metadata": {},
     "output_type": "display_data"
    }
   ],
   "source": [
    "# Определим 99% квантиль\n",
    "t_99 = arppu_df[arppu_df.group == 'test'].total.quantile(0.99)\n",
    "c1_99 = arppu_df[arppu_df.group == 'control_1'].total.quantile(0.99)\n",
    "c2_99 = arppu_df[arppu_df.group == 'control_2'].total.quantile(0.99)\n",
    "\n",
    "# Отфильтруем данные\n",
    "x = arppu_df[(arppu_df.group == 'test') & (arppu_df.total < t_99)]\n",
    "y = arppu_df[(arppu_df.group == 'control_1') & (arppu_df.total < c1_99)]\n",
    "z = arppu_df[(arppu_df.group == 'control_2') & (arppu_df.total < c2_99)]\n",
    "\n",
    "display(pd.DataFrame({\n",
    "    'group': ['test', 'control_1', 'control_2'],\n",
    "    'corrected_mean': list(map(round, [x.total.mean(), y.total.mean(), z.total.mean()]))\n",
    "}))"
   ]
  },
  {
   "cell_type": "markdown",
   "metadata": {},
   "source": [
    "Сформулируем гипотезы для проверки:\n",
    "\n",
    "$$\n",
    "\\begin{aligned}\n",
    "&H_0: \\hspace{2mm} \\mu_1 = \\mu_2\\hspace{2mm} \\text{ARPPU для тестовой группы и 1-й контрольной группы равны}\\\\\n",
    "&H_1: \\hspace{2mm} \\mu_1 > \\mu_2  \\hspace{2mm} \\text{в тестовой группе ARPPU выше}\n",
    "\\end{aligned}\n",
    "$$"
   ]
  },
  {
   "cell_type": "code",
   "execution_count": 95,
   "metadata": {},
   "outputs": [
    {
     "name": "stdout",
     "output_type": "stream",
     "text": [
      "Доверительный интервал [1464; 4203] ширины 2739\n"
     ]
    }
   ],
   "source": [
    "# Размер выборок\n",
    "nx, ny = x.total.size, y.total.size\n",
    "\n",
    "# Разность средних\n",
    "diff = x.total.mean() - y.total.mean()\n",
    "\n",
    "# Стандартное отклонение\n",
    "diff_std = np.sqrt(x.total.var(ddof=1)/nx + y.total.var(ddof=1)/ny)\n",
    "\n",
    "# Наблюдаемое значение\n",
    "z_obs = diff/diff_std\n",
    "\n",
    "# Значение p-value\n",
    "p1 = 1 - stats.norm().cdf(z_obs)\n",
    "\n",
    "# Рассчитаем доверительный интервал\n",
    "left, right = stats.norm.interval(0.95, loc=diff, scale=diff_std)\n",
    "delta = round(right) - round(left)\n",
    "print(f'Доверительный интервал [{round(left)}; {round(right)}] ширины {delta}')"
   ]
  },
  {
   "cell_type": "code",
   "execution_count": 96,
   "metadata": {},
   "outputs": [
    {
     "data": {
      "text/plain": [
       "'p-value: 2.49e-05'"
      ]
     },
     "execution_count": 96,
     "metadata": {},
     "output_type": "execute_result"
    },
    {
     "data": {
      "image/png": "[encoded data removed]",
      "text/plain": [
       "<Figure size 720x360 with 1 Axes>"
      ]
     },
     "metadata": {
      "needs_background": "light"
     },
     "output_type": "display_data"
    }
   ],
   "source": [
    "asy_mean_test(diff, diff_std, mu_0=0, alpha=0.05, alternative='larger', margin=5)"
   ]
  },
  {
   "cell_type": "markdown",
   "metadata": {},
   "source": [
    "> Наблюдаемое значение 4.06 больше критического 1.64, следовательно нулевая гипотеза на 5% уровне значимости отвергается."
   ]
  },
  {
   "cell_type": "markdown",
   "metadata": {},
   "source": [
    "Сформулируем гипотезы для проверки:\n",
    "\n",
    "$$\n",
    "\\begin{aligned}\n",
    "&H_0: \\hspace{2mm} \\mu_1 = \\mu_3\\hspace{2mm} \\text{ARPPU для тестовой группы и 2-й контрольной группы равны}\\\\\n",
    "&H_1: \\hspace{2mm} \\mu_1 > \\mu_3  \\hspace{2mm} \\text{в тестовой группе ARPPU выше}\n",
    "\\end{aligned}\n",
    "$$"
   ]
  },
  {
   "cell_type": "code",
   "execution_count": 97,
   "metadata": {},
   "outputs": [
    {
     "name": "stdout",
     "output_type": "stream",
     "text": [
      "Доверительный интервал [1914; 4049] ширины 2135\n"
     ]
    }
   ],
   "source": [
    "# Размер выборки\n",
    "nz = z.total.size\n",
    "\n",
    "# Разность средних\n",
    "diff = x.total.mean() - z.total.mean()\n",
    "\n",
    "# Стандартное отклонение\n",
    "diff_std = np.sqrt(x.total.var(ddof=1)/nx + z.total.var(ddof=1)/nz)\n",
    "\n",
    "# Наблюдаемое значение\n",
    "z_obs = diff/diff_std\n",
    "\n",
    "# Значение p-value\n",
    "p2 = 1 - stats.norm().cdf(z_obs)\n",
    "\n",
    "# Рассчитаем доверительный интервал\n",
    "left, right = stats.norm.interval(0.95, loc=diff, scale=diff_std)\n",
    "delta = round(right) - round(left)\n",
    "print(f'Доверительный интервал [{round(left)}; {round(right)}] ширины {delta}')"
   ]
  },
  {
   "cell_type": "code",
   "execution_count": 98,
   "metadata": {},
   "outputs": [
    {
     "data": {
      "text/plain": [
       "'p-value: 2.21e-08'"
      ]
     },
     "execution_count": 98,
     "metadata": {},
     "output_type": "execute_result"
    },
    {
     "data": {
      "image/png": "[encoded data removed]",
      "text/plain": [
       "<Figure size 720x360 with 1 Axes>"
      ]
     },
     "metadata": {
      "needs_background": "light"
     },
     "output_type": "display_data"
    }
   ],
   "source": [
    "asy_mean_test(diff, diff_std, mu_0=0, alpha=0.05, alternative='larger', margin=6)"
   ]
  },
  {
   "cell_type": "markdown",
   "metadata": {},
   "source": [
    "> Наблюдаемое значение 5.47 больше критического 1.64, следовательно нулевая гипотеза на 5% уровне значимости отвергается."
   ]
  },
  {
   "cell_type": "code",
   "execution_count": 99,
   "metadata": {},
   "outputs": [
    {
     "name": "stdout",
     "output_type": "stream",
     "text": [
      "p-values: 2.49e-05, 4.42e-08\n"
     ]
    }
   ],
   "source": [
    "# Поправка Холма на множественное сравнение \n",
    "rejected, p_corrected, _, _ = multipletests([p1, p2], alpha=0.05, method='holm')\n",
    "print(f'p-values: {p_corrected[0]:.3}, {p_corrected[1]:.3}')"
   ]
  },
  {
   "cell_type": "markdown",
   "metadata": {},
   "source": [
    "> **Таким образом, гипотеза о равенстве ARPPU по премиум подписке в исследуемых выборках на 5% уровне значимости отвергается:**\n",
    ">- **ARPPU в тестовой группе превшает ARPPU в 1-й контрольной группе в среднем на $1464 - 4203$ ден. единиц;**\n",
    ">- **ARPPU в тестовой группе превшает ARPPU в 2-й контрольной группе в среднем на $1914 - 4049$ ден. единиц.**"
   ]
  },
  {
   "cell_type": "markdown",
   "metadata": {},
   "source": [
    "### 3.5 В поисках различий групп пользователей"
   ]
  },
  {
   "cell_type": "markdown",
   "metadata": {},
   "source": [
    "Сперва посмотрим какие страны встречаются во всех трех группах для пользователей оформивших премиум подписку."
   ]
  },
  {
   "cell_type": "code",
   "execution_count": 100,
   "metadata": {},
   "outputs": [
    {
     "data": {
      "text/plain": [
       "{'Argentina',\n",
       " 'Australia',\n",
       " 'Belgium',\n",
       " 'Canada',\n",
       " 'Chile',\n",
       " 'France',\n",
       " 'Germany',\n",
       " 'Israel',\n",
       " 'Italy',\n",
       " 'Spain',\n",
       " 'United Arab Emirates',\n",
       " 'United Kingdom (Great Britain)',\n",
       " 'United States of America'}"
      ]
     },
     "execution_count": 100,
     "metadata": {},
     "output_type": "execute_result"
    }
   ],
   "source": [
    "# Создадим множества уникальных стран для каждой выборки\n",
    "t = set(transactions_test.query('product_type == \"premium_no_trial\"').country.tolist())\n",
    "c1 = set(transactions_control_1.query('product_type == \"premium_no_trial\"').country.tolist())\n",
    "c2 = set(transactions_control_2.query('product_type == \"premium_no_trial\"').country.tolist())\n",
    "\n",
    "# Посмотрим на пересечение стран для всех выборок\n",
    "common_countries = t.intersection(c1).intersection(c2)\n",
    "common_countries"
   ]
  },
  {
   "cell_type": "markdown",
   "metadata": {},
   "source": [
    "Посмотрим какие страны есть в тестовой группе но отсутствуют в контрольных группах."
   ]
  },
  {
   "cell_type": "code",
   "execution_count": 101,
   "metadata": {},
   "outputs": [
    {
     "name": "stdout",
     "output_type": "stream",
     "text": [
      "Разница в странах между тестовой и 1-й контрольной группой: {'Mexico', 'Latvia'}\n",
      "Разница в странах между тестовой и 2-й контрольной группой: {'Turkey', 'Mexico', 'Latvia'}\n",
      "Разница в странах между 1-й и 2-й контрольной группами: {'India', 'Turkey'}\n"
     ]
    }
   ],
   "source": [
    "print(f'Разница в странах между тестовой и 1-й контрольной группой: {t.difference(c1)}')\n",
    "print(f'Разница в странах между тестовой и 2-й контрольной группой: {t.difference(c2)}')\n",
    "print(f'Разница в странах между 1-й и 2-й контрольной группами: {c1.difference(c2)}')"
   ]
  },
  {
   "cell_type": "markdown",
   "metadata": {},
   "source": [
    "**Можем предположить, что изменение стоимости подписки было положительным для пользователей из Латвии и Мексики.**\n",
    "<br>\n",
    "\n",
    "Для начала посмотрим есть ли разница для пользователей оформивших премиум подписку в разрезе различных стран. Отфильтруем данные и заменим длинные названия стран на сокращенные, объединим данные в одни датасет. В качестве метрики будем использовать **`AOV` - средний чек транзакции.**"
   ]
  },
  {
   "cell_type": "code",
   "execution_count": 102,
   "metadata": {},
   "outputs": [
    {
     "data": {
      "text/html": [
       "<div>\n",
       "<style scoped>\n",
       "    .dataframe tbody tr th:only-of-type {\n",
       "        vertical-align: middle;\n",
       "    }\n",
       "\n",
       "    .dataframe tbody tr th {\n",
       "        vertical-align: top;\n",
       "    }\n",
       "\n",
       "    .dataframe thead th {\n",
       "        text-align: right;\n",
       "    }\n",
       "</style>\n",
       "<table border=\"1\" class=\"dataframe\">\n",
       "  <thead>\n",
       "    <tr style=\"text-align: right;\">\n",
       "      <th></th>\n",
       "      <th>uid</th>\n",
       "      <th>country</th>\n",
       "      <th>aov</th>\n",
       "      <th>group</th>\n",
       "    </tr>\n",
       "  </thead>\n",
       "  <tbody>\n",
       "    <tr>\n",
       "      <th>0</th>\n",
       "      <td>891071157</td>\n",
       "      <td>USA</td>\n",
       "      <td>9100.0</td>\n",
       "      <td>test</td>\n",
       "    </tr>\n",
       "    <tr>\n",
       "      <th>1</th>\n",
       "      <td>891152790</td>\n",
       "      <td>Spain</td>\n",
       "      <td>12597.0</td>\n",
       "      <td>test</td>\n",
       "    </tr>\n",
       "    <tr>\n",
       "      <th>2</th>\n",
       "      <td>891178380</td>\n",
       "      <td>Spain</td>\n",
       "      <td>113477.0</td>\n",
       "      <td>test</td>\n",
       "    </tr>\n",
       "    <tr>\n",
       "      <th>3</th>\n",
       "      <td>891222282</td>\n",
       "      <td>USA</td>\n",
       "      <td>6292.0</td>\n",
       "      <td>test</td>\n",
       "    </tr>\n",
       "    <tr>\n",
       "      <th>4</th>\n",
       "      <td>891291531</td>\n",
       "      <td>Germany</td>\n",
       "      <td>4056.0</td>\n",
       "      <td>test</td>\n",
       "    </tr>\n",
       "  </tbody>\n",
       "</table>\n",
       "</div>"
      ],
      "text/plain": [
       "         uid  country       aov group\n",
       "0  891071157      USA    9100.0  test\n",
       "1  891152790    Spain   12597.0  test\n",
       "2  891178380    Spain  113477.0  test\n",
       "3  891222282      USA    6292.0  test\n",
       "4  891291531  Germany    4056.0  test"
      ]
     },
     "execution_count": 102,
     "metadata": {},
     "output_type": "execute_result"
    }
   ],
   "source": [
    "# Создадим словарь для переименования стран\n",
    "mapping = {'United States of America': 'USA', 'United Kingdom (Great Britain)': 'UK', 'United Arab Emirates': 'UAE',\n",
    "           'Russian Federation': 'Russian'}\n",
    "\n",
    "# Итоговый датафрейм\n",
    "premium_df = pd.DataFrame()\n",
    "\n",
    "# Преобразование и агрегация данных\n",
    "for data, group in zip(transactions, ['test', 'control_1', 'control_2']):\n",
    "    df = data.query('country in @common_countries & product_type == \"premium_no_trial\"') \\\n",
    "            .groupby(['uid', 'country'], as_index=False).agg(aov=('revenue', 'mean'))\n",
    "    \n",
    "    df['country'] = df.country.apply(lambda x: mapping.get(x) if x in mapping else x)\n",
    "    df['group'] = group\n",
    "    premium_df = pd.concat([premium_df, df], axis=0, ignore_index=True)\n",
    "    \n",
    "premium_df.head()"
   ]
  },
  {
   "cell_type": "code",
   "execution_count": 103,
   "metadata": {},
   "outputs": [
    {
     "data": {
      "image/png": "[encoded data removed]",
      "text/plain": [
       "<Figure size 1296x576 with 1 Axes>"
      ]
     },
     "metadata": {
      "needs_background": "light"
     },
     "output_type": "display_data"
    }
   ],
   "source": [
    "# Посмотрим на распределения в разрезе стран\n",
    "plt.figure(figsize=(18, 8))\n",
    "sns.boxplot(data=premium_df, y='country', x='aov', hue='group');"
   ]
  },
  {
   "cell_type": "markdown",
   "metadata": {},
   "source": [
    "Из графика видно, что средний чек покупки среди пользователей оформивших премиум подписку в ряде стран превосходит 40 000 ден. единиц.<br>\n",
    "\n",
    "Сделаем сводную таблицу по странам со средним и медианным значением `AOV`"
   ]
  },
  {
   "cell_type": "code",
   "execution_count": 104,
   "metadata": {},
   "outputs": [
    {
     "ename": "NameError",
     "evalue": "name 'agg_premium' is not defined",
     "output_type": "error",
     "traceback": [
      "\u001b[1;31m---------------------------------------------------------------------------\u001b[0m",
      "\u001b[1;31mNameError\u001b[0m                                 Traceback (most recent call last)",
      "\u001b[1;32m<ipython-input-104-be04dce1b593>\u001b[0m in \u001b[0;36m<module>\u001b[1;34m\u001b[0m\n\u001b[0;32m      8\u001b[0m \u001b[1;31m#         .format('{:.6}')\u001b[0m\u001b[1;33m\u001b[0m\u001b[1;33m\u001b[0m\u001b[1;33m\u001b[0m\u001b[0m\n\u001b[0;32m      9\u001b[0m \u001b[1;33m\u001b[0m\u001b[0m\n\u001b[1;32m---> 10\u001b[1;33m \u001b[0magg_premium\u001b[0m\u001b[1;33m.\u001b[0m\u001b[0mround\u001b[0m\u001b[1;33m(\u001b[0m\u001b[1;33m)\u001b[0m\u001b[1;33m\u001b[0m\u001b[1;33m\u001b[0m\u001b[0m\n\u001b[0m",
      "\u001b[1;31mNameError\u001b[0m: name 'agg_premium' is not defined"
     ]
    }
   ],
   "source": [
    "premium_df.groupby(['group', 'country'], as_index=False) \\\n",
    "        .agg(group_size=('uid', 'count'),\n",
    "             mean_aov=('aov', 'mean'),\n",
    "             median_aov=('aov', 'median')) \\\n",
    "        .pivot(index='country', columns='group', values=['group_size', 'mean_aov', 'median_aov'])\n",
    "#         .style \\\n",
    "#         .background_gradient(cmap='cividis') \\\n",
    "#         .format('{:.6}')\n",
    "\n",
    "agg_premium.round()"
   ]
  },
  {
   "cell_type": "markdown",
   "metadata": {},
   "source": [
    "Анализ сводной таблицы показывает, что выборки в разрезе стран получились очень маленькими. Для Австралии на каждую группу приходится по одному пользователю.<br>\n",
    "\n",
    "Поскольку выборки получились очень маленькие целесообразно воспользоваться `бутстрапом`, таким образом мы попытаемся приблизить истинное распределение эмпирическим. Предположим, что бутстрап распределение окажется похожим на реальное распределение.\n",
    "\n",
    "\n",
    "Наряду с бутстрапом воспользуемся также и непараметрическим критерием `Манна-Уитни`. Применение теста Манна-Уитни требует выполнение предпосылки об одинаковом распределении сравниваемых выборок и разница между ними есть только в том, что одна из них сдвинута по отношению ко второй. Для проверки допущения о том, что две выборки пришли из одного распределения воспользуемся тестом Колмогорова-Смирнова.<br>\n",
    "\n",
    "Выборки где есть только одно наблюдение сравнивать не будем.\n",
    "\n",
    "Проверим следующие гипотезы:\n",
    "\n",
    "Бутстрап для медиан:\n",
    "\\begin{equation*}\n",
    "\\begin{aligned} \n",
    "& H_0: Me_{test} = Me_{control}  \\\\\n",
    "& H_a: Me_{test} \\ne Me_{control}\n",
    "\\end{aligned}\n",
    "\\end{equation*}\n",
    "\n",
    "\n",
    "Тест Манна-Уитни для распределений:\n",
    "\\begin{equation*}\n",
    "\\begin{aligned} \n",
    "& H_0: f_{X}(x) = f_{Y}(x)  \\\\\n",
    "& H_a: f_{X}(x) = f_{Y}(x \\pm \\Delta), \\Delta \\ne 0\n",
    "\\end{aligned}\n",
    "\\end{equation*}"
   ]
  },
  {
   "cell_type": "code",
   "execution_count": null,
   "metadata": {},
   "outputs": [],
   "source": [
    "contries = premium_df.country.unique().tolist()\n",
    "p1_vals = {}\n",
    "p2_vals = {}\n",
    "\n",
    "for name in contries:\n",
    "    test = premium_df[(premium_df.country == name) & (premium_df.group == 'test')].aov\n",
    "    control_1 = premium_df[(premium_df.country == name) & (premium_df.group == 'control_1')].aov\n",
    "    control_2 = premium_df[(premium_df.country == name) & (premium_df.group == 'control_2')].aov\n",
    "    if min([test.size, control_1.size, control_2.size]) >= 2:\n",
    "        boot1_p = get_bootstrap(test, control_1, statistic=np.median)\n",
    "        mw1_p = stats.mannwhitneyu(test, control_1, alternative='two-sided')[-1]\n",
    "        ks1_p = stats.ks_2samp(test, control_1)[-1]\n",
    "        p1_vals[name] = [boot1_p, mw1_p, ks1_p]\n",
    "        \n",
    "        boot2_p = get_bootstrap(test, control_2, statistic=np.median)\n",
    "        mw2_p = stats.mannwhitneyu(test, control_2, alternative='two-sided')[-1]\n",
    "        ks2_p = stats.ks_2samp(test, control_2)[-1]\n",
    "        p2_vals[name] = [boot2_p, mw2_p, ks2_p]\n",
    "    else:\n",
    "        continue\n",
    "        \n",
    "p_res = pd.concat([pd.DataFrame(p1_vals).T.rename(columns={0: 'boot_c1', 1: 'mw_c1', 2: 'ks_c1'}),\n",
    "                   pd.DataFrame(p2_vals).T.rename(columns={0: 'boot_c2', 1: 'mw_c2', 2: 'ks_c2'})],\n",
    "                  axis=1)"
   ]
  },
  {
   "cell_type": "code",
   "execution_count": null,
   "metadata": {
    "cell_style": "center"
   },
   "outputs": [],
   "source": [
    "p_res.round(6)"
   ]
  },
  {
   "cell_type": "markdown",
   "metadata": {
    "cell_style": "center"
   },
   "source": [
    "Из результатов проверки гипотез видно, что для тех выборок где допущение об одинаковом распределении удовлетворяется, нулевая гипотеза не отвергается - статистически значимых различий между сравниваемыми группами обнаружить не удалось.<br>\n",
    "\n",
    "Для выборок не удовлетворяющих предпосылке об одинаковом распределении будем полагаться на результаты бутстрапа. Сделаем поправку значений `p-value` на множественное сравнение для тестовых групп."
   ]
  },
  {
   "cell_type": "code",
   "execution_count": null,
   "metadata": {},
   "outputs": [],
   "source": [
    "# Поправка Холма на множественное сравнение тестовая группа - 1-я контрольная группа\n",
    "rejected, p_corrected, _, _ = multipletests(p_res.boot_c1.values, alpha=0.05, method='holm')\n",
    "msk_1 = np.array(p_corrected) < 0.05\n",
    "p_res['boot_c1'][msk_1]"
   ]
  },
  {
   "cell_type": "code",
   "execution_count": null,
   "metadata": {},
   "outputs": [],
   "source": [
    "# Поправка Холма на множественное сравнение тестовая группа - 2-я контрольная группа\n",
    "rejected, p_corrected, _, _ = multipletests(p_res.boot_c2.values, alpha=0.05, method='holm')\n",
    "msk_2 = np.array(p_corrected) < 0.05\n",
    "p_res['boot_c2'][msk_2]"
   ]
  },
  {
   "cell_type": "markdown",
   "metadata": {},
   "source": [
    "> **Таким образом, на 5% уровне значимости:**\n",
    ">- **медианное значение `среднего чека транзакции` в тестовой группе статистически значимо различается с 1-й\n",
    "контрольной группой для следующих стран: `США`, `Израиль` и `Чили`;**\n",
    ">- **медианное значение `среднего чека транзакции` в тестовой группе статистически значимо различается с 2-й\n",
    "контрольной группой для `США` и `Чили`.**"
   ]
  },
  {
   "cell_type": "markdown",
   "metadata": {},
   "source": [
    "**Посмотрим, есть ли у нас различия для пользователей оформивших премиум подписку в зависимости от возраста.**<br>\n",
    "\n",
    "Проверим следующие гипотезы для различных возрастных групп:\n",
    "\n",
    "Бутстрап для медиан:\n",
    "\\begin{equation*}\n",
    "\\begin{aligned} \n",
    "& H_0: Me_{test} = Me_{control}  \\\\\n",
    "& H_a: Me_{test} \\ne Me_{control}\n",
    "\\end{aligned}\n",
    "\\end{equation*}\n",
    "\n",
    "\n",
    "Тест Манна-Уитни для распределений:\n",
    "\\begin{equation*}\n",
    "\\begin{aligned} \n",
    "& H_0: f_{X}(x) = f_{Y}(x)  \\\\\n",
    "& H_a: f_{X}(x) = f_{Y}(x \\pm \\Delta), \\Delta \\ne 0\n",
    "\\end{aligned}\n",
    "\\end{equation*}"
   ]
  },
  {
   "cell_type": "code",
   "execution_count": null,
   "metadata": {},
   "outputs": [],
   "source": [
    "# Данные по пользователям\n",
    "users = [users_test, users_control_1, users_control_2]\n",
    "\n",
    "# Итоговый датафрейм\n",
    "age_df = pd.DataFrame()\n",
    "\n",
    "# Преобразование и агрегация данных\n",
    "for data_t, data_u, group in zip(transactions, users, ['test', 'control_1', 'control_2']):\n",
    "    df_t = data_t.query('product_type == \"premium_no_trial\"') \\\n",
    "            .groupby('uid', as_index=False).agg(aov=('revenue', 'mean'))\n",
    "    df_t['group'] = group\n",
    "    \n",
    "    data_u['age_bins'] = pd.cut(data_u['age'], bins=[15, 20, 25, 30, 35, 40, 45, 100],\n",
    "                                labels=['15-20', '20-25', '25-30', '30-35', '35-40', '40-45', 'above 45'])\n",
    "    \n",
    "    df_u = data_u[['uid', 'age_bins', 'country']]\n",
    "    merged = df_t.merge(df_u, on='uid', how='left')\n",
    "    \n",
    "    age_df = pd.concat([age_df, merged], axis=0, ignore_index=True)\n",
    "    \n",
    "age_df.head()"
   ]
  },
  {
   "cell_type": "code",
   "execution_count": null,
   "metadata": {},
   "outputs": [],
   "source": [
    "# Посмотрим на распределения в разрезе возраста\n",
    "plt.figure(figsize=(18, 8))\n",
    "sns.boxplot(data=age_df, y='age_bins', x='aov', hue='group');"
   ]
  },
  {
   "cell_type": "markdown",
   "metadata": {},
   "source": [
    "Сделаем сводную таблицу по возрастным группам со средним и медианным значением `AOV`"
   ]
  },
  {
   "cell_type": "code",
   "execution_count": null,
   "metadata": {},
   "outputs": [],
   "source": [
    "age_df.groupby(['group', 'age_bins'], as_index=False) \\\n",
    "        .agg(group_size=('uid', 'count'),\n",
    "             mean_aov=('aov', 'mean'),\n",
    "             median_aov=('aov', 'median')) \\\n",
    "        .pivot(index='age_bins', columns='group', values=['group_size', 'mean_aov', 'median_aov']) \\\n",
    "        .style \\\n",
    "        .background_gradient(cmap='cividis') \\\n",
    "        .format('{:.6}')"
   ]
  },
  {
   "cell_type": "markdown",
   "metadata": {},
   "source": [
    "Выполним необходимые преобразования и вычисления для проверки гипотез."
   ]
  },
  {
   "cell_type": "code",
   "execution_count": null,
   "metadata": {},
   "outputs": [],
   "source": [
    "bins = sorted(age_df.age_bins.unique().tolist())\n",
    "p1_vals2 = {}\n",
    "p2_vals2 = {}\n",
    "\n",
    "for age in bins:\n",
    "    test = age_df[(age_df.age_bins == age) & (age_df.group == 'test')].aov\n",
    "    control_1 = age_df[(age_df.age_bins == age) & (age_df.group == 'control_1')].aov\n",
    "    control_2 = age_df[(age_df.age_bins == age) & (age_df.group == 'control_2')].aov\n",
    "\n",
    "    boot1_p = get_bootstrap(test, control_1, statistic=np.median)\n",
    "    mw1_p = stats.mannwhitneyu(test, control_1, alternative='two-sided')[-1]\n",
    "    ks1_p = stats.ks_2samp(test, control_1)[-1]\n",
    "    p1_vals2[age] = [boot1_p, mw1_p, ks1_p]\n",
    "        \n",
    "    boot2_p = get_bootstrap(test, control_2, statistic=np.median)\n",
    "    mw2_p = stats.mannwhitneyu(test, control_2, alternative='two-sided')[-1]\n",
    "    ks2_p = stats.ks_2samp(test, control_2)[-1]\n",
    "    p2_vals2[age] = [boot2_p, mw2_p, ks2_p]\n",
    "\n",
    "        \n",
    "p_res2 = pd.concat([pd.DataFrame(p1_vals2).T.rename(columns={0: 'boot_c1', 1: 'mw_c1', 2: 'ks_c1'}),\n",
    "                   pd.DataFrame(p2_vals2).T.rename(columns={0: 'boot_c2', 1: 'mw_c2', 2: 'ks_c2'})],\n",
    "                  axis=1)"
   ]
  },
  {
   "cell_type": "code",
   "execution_count": null,
   "metadata": {},
   "outputs": [],
   "source": [
    "p_res2.round(6)"
   ]
  },
  {
   "cell_type": "code",
   "execution_count": null,
   "metadata": {},
   "outputs": [],
   "source": [
    "# Поправка Холма на множественное сравнение тестовая группа - 1-я контрольная группа\n",
    "rejected, p_corrected, _, _ = multipletests(p_res2.boot_c1.values, alpha=0.05, method='holm')\n",
    "msk_1 = np.array(p_corrected) < 0.05\n",
    "p_res2['boot_c1'][msk_1]"
   ]
  },
  {
   "cell_type": "code",
   "execution_count": null,
   "metadata": {},
   "outputs": [],
   "source": [
    "# Поправка Холма на множественное сравнение тестовая группа - 2-я контрольная группа\n",
    "rejected, p_corrected, _, _ = multipletests(p_res2.boot_c2.values, alpha=0.05, method='holm')\n",
    "msk_2 = np.array(p_corrected) < 0.05\n",
    "p_res2['boot_c2'][msk_2]"
   ]
  },
  {
   "cell_type": "markdown",
   "metadata": {},
   "source": [
    "> **Таким образом, на 5% уровне значимости медианное значение `среднего чека транзакции` в тестовой группе статистически значимо различается с 1-й и 2-й контрольной группами для пользователей в возрасте от 20 до 30 лет и пользователей с возрастом больше 45 лет.**"
   ]
  },
  {
   "cell_type": "markdown",
   "metadata": {},
   "source": [
    "<hr>"
   ]
  },
  {
   "cell_type": "markdown",
   "metadata": {},
   "source": [
    "## 4. Заключение"
   ]
  },
  {
   "cell_type": "markdown",
   "metadata": {},
   "source": [
    "Оценка эффективности АА/Б теста осуществлялась по следующим метрикам:"
   ]
  },
  {
   "cell_type": "markdown",
   "metadata": {},
   "source": [
    "\n",
    "| Метрики          |  Тестовая группа           | 1-я контрольная группа | 2-я контрольная группа |\n",
    "| :----------------| :--------------------------|:-----------------------| :----------------------|\n",
    "| Долья пользоваталей совершивших покупку                          | 3,39%    | 4,45%   | 4,39%   |\n",
    "| Долья пользоваталей совершивших покупку по премиум подписке      |  42,8%   | 34,7%   | 28,3%   |\n",
    "| ARPPU по всем продуктам (корректированное значение)              | 14 436   | 10 615  | 9 462   |\n",
    "| ARPPU по премиум подписке (корректированное значение)            | 8 981    | 6 147   | 6 000   |"
   ]
  },
  {
   "cell_type": "markdown",
   "metadata": {},
   "source": [
    "Результаты проведенного анализа позволяют сделать вывод об успешности эксперимента. Несмотря на то что доля пользователей совершивших покупку в тестовой группе снизилась по сравнению с долей пользователей как в 1-й контрольной группе, так и во 2-й контрольной группе, доля пользователей оформивших премиум подписку в тестовой группе увеличилась по сравнению со 2-й контрольной группой на величину лежащую в диапозоне от 3.16% до 23.72% (статистически значимой разницы между тестовой и 1-й контрольной группой обнаружить не удалось). \n",
    "\n",
    "Статистически значимо увеличился ARPPU по всем продуктам в тестовой группе:\n",
    " - в среднем на $1377 - 6266$ ден. единиц по сравнению с 1-й контрольной группой;\n",
    " - в среднем на $2735 - 7212$ ден. единиц по сравнению с 2-й контрольной группой.\n",
    "\n",
    "\n",
    "Статистически значимо увеличился ARPPU по **премиум подписке** в тестовой группе:\n",
    "- в среднем на $1464 - 4203$ ден. единиц по сравнению с 1-й контрольной группой;\n",
    "- в среднем на $1914 - 4049$ ден. единиц по сравнению с 2-й контрольной группой.\n",
    "<br>"
   ]
  },
  {
   "cell_type": "markdown",
   "metadata": {},
   "source": [
    "Анализ пользователей в разрезе различных групп позволяет сделать вывод, что нововведение имеет смысл:\n",
    "- для пользователей из США, Израиля и Чили (медианное значением среднего чека транзакции в тестовой группе статистически значимо увеличилось по сравнению с контрольными группами);\n",
    "- возможно для пользователей из Австралии и Бельгии (однозначный вывод сделать сложно, т.к. в выборках по этим странам всего по одному наблюдению, за исключением Бельгии во 2-й контрольной группе (5 наблюдений));\n",
    "- можно также предположить что изменение стоимости премиум-подписки при покупке через две новые платежные системы положительно повлияло на пользователей из Латвии и Мексики (пользователи из этих стран оформили премум подписку в тестовой группе, а в контрольных группах нет);\n",
    "- для пользователей в возрасте от 20 до 30 лет и пользователей с возрастом больше 45 лет (медианное значением среднего чека транзакции в тестовой группе статистически значимо изменилось по сравнению с контрольными группами)."
   ]
  },
  {
   "cell_type": "markdown",
   "metadata": {},
   "source": [
    "### [⬅ Содержание](#Содержание)"
   ]
  }
 ],
 "metadata": {
  "kernelspec": {
   "display_name": "Python 3",
   "language": "python",
   "name": "python3"
  },
  "language_info": {
   "codemirror_mode": {
    "name": "ipython",
    "version": 3
   },
   "file_extension": ".py",
   "mimetype": "text/x-python",
   "name": "python",
   "nbconvert_exporter": "python",
   "pygments_lexer": "ipython3",
   "version": "3.8.5"
  }
 },
 "nbformat": 4,
 "nbformat_minor": 4
}
