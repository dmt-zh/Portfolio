{
 "cells": [
  {
   "cell_type": "markdown",
   "metadata": {},
   "source": [
    "## Проверка статистических гипотез с помощью бутстрап\n",
    "\n",
    "Бутстрап позволяет многократно извлекать подвыборки из выборки, полученной в рамках экспериментва.<br>\n",
    "В полученных подвыборках считаются статистики (среднее, медиана и т.п.).<br>\n",
    "Из статистик можно получить ее распределение и взять доверительный интервал.<br>\n",
    "ЦПТ, например, не позволяет строить доверительные интервал для медианы, а бутстрап это может сделать."
   ]
  },
  {
   "cell_type": "code",
   "execution_count": 1,
   "metadata": {},
   "outputs": [],
   "source": [
    "# Импортируем библиотеки\n",
    "import numpy as np\n",
    "import pandas as pd\n",
    "from scipy.stats import norm, mannwhitneyu\n",
    "import seaborn as sns\n",
    "sns.set_style('whitegrid')\n",
    "import matplotlib.pyplot as plt\n",
    "\n",
    "import warnings\n",
    "warnings.filterwarnings('ignore')"
   ]
  },
  {
   "cell_type": "code",
   "execution_count": 2,
   "metadata": {},
   "outputs": [
    {
     "name": "stdout",
     "output_type": "stream",
     "text": [
      "Shape - (1000, 3)\n"
     ]
    },
    {
     "data": {
      "text/html": [
       "<div>\n",
       "<style scoped>\n",
       "    .dataframe tbody tr th:only-of-type {\n",
       "        vertical-align: middle;\n",
       "    }\n",
       "\n",
       "    .dataframe tbody tr th {\n",
       "        vertical-align: top;\n",
       "    }\n",
       "\n",
       "    .dataframe thead th {\n",
       "        text-align: right;\n",
       "    }\n",
       "</style>\n",
       "<table border=\"1\" class=\"dataframe\">\n",
       "  <thead>\n",
       "    <tr style=\"text-align: right;\">\n",
       "      <th></th>\n",
       "      <th>Unnamed: 0</th>\n",
       "      <th>value</th>\n",
       "      <th>experimentVariant</th>\n",
       "    </tr>\n",
       "  </thead>\n",
       "  <tbody>\n",
       "    <tr>\n",
       "      <th>0</th>\n",
       "      <td>1</td>\n",
       "      <td>10,3804953740268</td>\n",
       "      <td>Control</td>\n",
       "    </tr>\n",
       "    <tr>\n",
       "      <th>1</th>\n",
       "      <td>2</td>\n",
       "      <td>9,54686666784264</td>\n",
       "      <td>Control</td>\n",
       "    </tr>\n",
       "    <tr>\n",
       "      <th>2</th>\n",
       "      <td>3</td>\n",
       "      <td>11,0882146509904</td>\n",
       "      <td>Control</td>\n",
       "    </tr>\n",
       "    <tr>\n",
       "      <th>3</th>\n",
       "      <td>4</td>\n",
       "      <td>10,1472740570122</td>\n",
       "      <td>Control</td>\n",
       "    </tr>\n",
       "    <tr>\n",
       "      <th>4</th>\n",
       "      <td>5</td>\n",
       "      <td>9,78980767524929</td>\n",
       "      <td>Control</td>\n",
       "    </tr>\n",
       "  </tbody>\n",
       "</table>\n",
       "</div>"
      ],
      "text/plain": [
       "   Unnamed: 0             value experimentVariant\n",
       "0           1  10,3804953740268           Control\n",
       "1           2  9,54686666784264           Control\n",
       "2           3  11,0882146509904           Control\n",
       "3           4  10,1472740570122           Control\n",
       "4           5  9,78980767524929           Control"
      ]
     },
     "execution_count": 2,
     "metadata": {},
     "output_type": "execute_result"
    }
   ],
   "source": [
    "# Загрузим данные\n",
    "df = pd.read_csv('hw_bootstrap.csv', sep=';')\n",
    "print(f'Shape - {df.shape}')\n",
    "df.head()"
   ]
  },
  {
   "cell_type": "code",
   "execution_count": 3,
   "metadata": {},
   "outputs": [
    {
     "data": {
      "text/plain": [
       "Unnamed: 0            int64\n",
       "value                object\n",
       "experimentVariant    object\n",
       "dtype: object"
      ]
     },
     "execution_count": 3,
     "metadata": {},
     "output_type": "execute_result"
    }
   ],
   "source": [
    "# Посмотрим на типы данных\n",
    "df.dtypes"
   ]
  },
  {
   "cell_type": "code",
   "execution_count": 4,
   "metadata": {},
   "outputs": [
    {
     "data": {
      "text/html": [
       "<div>\n",
       "<style scoped>\n",
       "    .dataframe tbody tr th:only-of-type {\n",
       "        vertical-align: middle;\n",
       "    }\n",
       "\n",
       "    .dataframe tbody tr th {\n",
       "        vertical-align: top;\n",
       "    }\n",
       "\n",
       "    .dataframe thead th {\n",
       "        text-align: right;\n",
       "    }\n",
       "</style>\n",
       "<table border=\"1\" class=\"dataframe\">\n",
       "  <thead>\n",
       "    <tr style=\"text-align: right;\">\n",
       "      <th></th>\n",
       "      <th>Unnamed: 0</th>\n",
       "      <th>value</th>\n",
       "      <th>experimentVariant</th>\n",
       "    </tr>\n",
       "  </thead>\n",
       "  <tbody>\n",
       "    <tr>\n",
       "      <th>0</th>\n",
       "      <td>1</td>\n",
       "      <td>10.380495</td>\n",
       "      <td>Control</td>\n",
       "    </tr>\n",
       "    <tr>\n",
       "      <th>1</th>\n",
       "      <td>2</td>\n",
       "      <td>9.546867</td>\n",
       "      <td>Control</td>\n",
       "    </tr>\n",
       "    <tr>\n",
       "      <th>2</th>\n",
       "      <td>3</td>\n",
       "      <td>11.088215</td>\n",
       "      <td>Control</td>\n",
       "    </tr>\n",
       "    <tr>\n",
       "      <th>3</th>\n",
       "      <td>4</td>\n",
       "      <td>10.147274</td>\n",
       "      <td>Control</td>\n",
       "    </tr>\n",
       "    <tr>\n",
       "      <th>4</th>\n",
       "      <td>5</td>\n",
       "      <td>9.789808</td>\n",
       "      <td>Control</td>\n",
       "    </tr>\n",
       "  </tbody>\n",
       "</table>\n",
       "</div>"
      ],
      "text/plain": [
       "   Unnamed: 0      value experimentVariant\n",
       "0           1  10.380495           Control\n",
       "1           2   9.546867           Control\n",
       "2           3  11.088215           Control\n",
       "3           4  10.147274           Control\n",
       "4           5   9.789808           Control"
      ]
     },
     "execution_count": 4,
     "metadata": {},
     "output_type": "execute_result"
    }
   ],
   "source": [
    "# Приведем столбец value к числовому значению\n",
    "df['value'] = df.value.str.replace(',', '.').astype('float')\n",
    "df.head()"
   ]
  },
  {
   "cell_type": "code",
   "execution_count": 5,
   "metadata": {},
   "outputs": [
    {
     "data": {
      "text/plain": [
       "array(['Control', 'Treatment'], dtype=object)"
      ]
     },
     "execution_count": 5,
     "metadata": {},
     "output_type": "execute_result"
    }
   ],
   "source": [
    "# Посмотрим на уникальные значения experimentVariant\n",
    "df.experimentVariant.unique()"
   ]
  },
  {
   "cell_type": "code",
   "execution_count": 6,
   "metadata": {},
   "outputs": [],
   "source": [
    "# Создадим переменные с значениями по двум группам\n",
    "treatment = df[df['experimentVariant'] == 'Treatment'].value\n",
    "control = df[df['experimentVariant'] == 'Control'].value"
   ]
  },
  {
   "cell_type": "code",
   "execution_count": 7,
   "metadata": {},
   "outputs": [
    {
     "data": {
      "text/html": [
       "<div>\n",
       "<style scoped>\n",
       "    .dataframe tbody tr th:only-of-type {\n",
       "        vertical-align: middle;\n",
       "    }\n",
       "\n",
       "    .dataframe tbody tr th {\n",
       "        vertical-align: top;\n",
       "    }\n",
       "\n",
       "    .dataframe thead th {\n",
       "        text-align: right;\n",
       "    }\n",
       "</style>\n",
       "<table border=\"1\" class=\"dataframe\">\n",
       "  <thead>\n",
       "    <tr style=\"text-align: right;\">\n",
       "      <th></th>\n",
       "      <th>count</th>\n",
       "      <th>mean</th>\n",
       "      <th>std</th>\n",
       "      <th>min</th>\n",
       "      <th>0%</th>\n",
       "      <th>16.7%</th>\n",
       "      <th>33.3%</th>\n",
       "      <th>50%</th>\n",
       "      <th>66.7%</th>\n",
       "      <th>83.3%</th>\n",
       "      <th>100%</th>\n",
       "      <th>max</th>\n",
       "    </tr>\n",
       "  </thead>\n",
       "  <tbody>\n",
       "    <tr>\n",
       "      <th>value</th>\n",
       "      <td>500.0</td>\n",
       "      <td>10.026867</td>\n",
       "      <td>0.979377</td>\n",
       "      <td>6.436541</td>\n",
       "      <td>6.436541</td>\n",
       "      <td>9.056784</td>\n",
       "      <td>9.659439</td>\n",
       "      <td>10.018465</td>\n",
       "      <td>10.374155</td>\n",
       "      <td>10.91406</td>\n",
       "      <td>13.130346</td>\n",
       "      <td>13.130346</td>\n",
       "    </tr>\n",
       "  </tbody>\n",
       "</table>\n",
       "</div>"
      ],
      "text/plain": [
       "       count       mean       std       min        0%     16.7%     33.3%  \\\n",
       "value  500.0  10.026867  0.979377  6.436541  6.436541  9.056784  9.659439   \n",
       "\n",
       "             50%      66.7%     83.3%       100%        max  \n",
       "value  10.018465  10.374155  10.91406  13.130346  13.130346  "
      ]
     },
     "execution_count": 7,
     "metadata": {},
     "output_type": "execute_result"
    }
   ],
   "source": [
    "# Посмотрим на описательную статистику по переменной control\n",
    "control.describe(percentiles=[0, 1/6, 1/3, .5, 2/3, 5/6, 1]).to_frame().T"
   ]
  },
  {
   "cell_type": "code",
   "execution_count": 8,
   "metadata": {},
   "outputs": [
    {
     "data": {
      "text/html": [
       "<div>\n",
       "<style scoped>\n",
       "    .dataframe tbody tr th:only-of-type {\n",
       "        vertical-align: middle;\n",
       "    }\n",
       "\n",
       "    .dataframe tbody tr th {\n",
       "        vertical-align: top;\n",
       "    }\n",
       "\n",
       "    .dataframe thead th {\n",
       "        text-align: right;\n",
       "    }\n",
       "</style>\n",
       "<table border=\"1\" class=\"dataframe\">\n",
       "  <thead>\n",
       "    <tr style=\"text-align: right;\">\n",
       "      <th></th>\n",
       "      <th>count</th>\n",
       "      <th>mean</th>\n",
       "      <th>std</th>\n",
       "      <th>min</th>\n",
       "      <th>0%</th>\n",
       "      <th>16.7%</th>\n",
       "      <th>33.3%</th>\n",
       "      <th>50%</th>\n",
       "      <th>66.7%</th>\n",
       "      <th>83.3%</th>\n",
       "      <th>100%</th>\n",
       "      <th>max</th>\n",
       "    </tr>\n",
       "  </thead>\n",
       "  <tbody>\n",
       "    <tr>\n",
       "      <th>value</th>\n",
       "      <td>500.0</td>\n",
       "      <td>27.321499</td>\n",
       "      <td>186.557011</td>\n",
       "      <td>6.436541</td>\n",
       "      <td>6.436541</td>\n",
       "      <td>9.05836</td>\n",
       "      <td>9.660412</td>\n",
       "      <td>10.025847</td>\n",
       "      <td>10.380102</td>\n",
       "      <td>10.929937</td>\n",
       "      <td>3000.0</td>\n",
       "      <td>3000.0</td>\n",
       "    </tr>\n",
       "  </tbody>\n",
       "</table>\n",
       "</div>"
      ],
      "text/plain": [
       "       count       mean         std       min        0%    16.7%     33.3%  \\\n",
       "value  500.0  27.321499  186.557011  6.436541  6.436541  9.05836  9.660412   \n",
       "\n",
       "             50%      66.7%      83.3%    100%     max  \n",
       "value  10.025847  10.380102  10.929937  3000.0  3000.0  "
      ]
     },
     "execution_count": 8,
     "metadata": {},
     "output_type": "execute_result"
    }
   ],
   "source": [
    "# Посмотрим на описательную статистику по переменной tretment\n",
    "treatment.describe(percentiles=[0, 1/6, 1/3, .5, 2/3, 5/6, 1]).to_frame().T"
   ]
  },
  {
   "cell_type": "markdown",
   "metadata": {},
   "source": [
    "**Из описательной статистики видно, что 83% наблюдений в группе tretment не превышают значения 10,93. При этом максимальное значение равно 3000 что свидетельствует о возможных выбросах в исследуемых данных.**"
   ]
  },
  {
   "cell_type": "code",
   "execution_count": 9,
   "metadata": {},
   "outputs": [
    {
     "data": {
      "text/plain": [
       "995    1000.0\n",
       "996    1200.0\n",
       "997    1500.0\n",
       "998    2000.0\n",
       "999    3000.0\n",
       "Name: value, dtype: float64"
      ]
     },
     "execution_count": 9,
     "metadata": {},
     "output_type": "execute_result"
    }
   ],
   "source": [
    "# посмотрим на возможные выбросы\n",
    "treatment[treatment > 14]"
   ]
  },
  {
   "cell_type": "code",
   "execution_count": 10,
   "metadata": {},
   "outputs": [
    {
     "data": {
      "image/png": "[encoded data removed]",
      "text/plain": [
       "<Figure size 1152x360 with 2 Axes>"
      ]
     },
     "metadata": {},
     "output_type": "display_data"
    }
   ],
   "source": [
    "# Посмотрим на распределения\n",
    "fig, axes = plt.subplots(ncols=2, nrows=1, figsize=(16, 5))\n",
    "\n",
    "for ax, col, title in zip(axes.flatten(), [treatment, control], ['Treatment', 'Control']):\n",
    "    sns.distplot(col, kde=False, ax=ax)\n",
    "    ax.set(xlabel='')\n",
    "    ax.set(title=title)\n",
    "\n",
    "    \n",
    "plt.tight_layout();"
   ]
  },
  {
   "cell_type": "markdown",
   "metadata": {},
   "source": [
    "Из распределений видно, что из-за наличия сильных выбросов в группе ```treatment``` это распределение получается ассиметричным.\n",
    "Распределение наблюдений в группе ```control``` близко к нормальному распределению."
   ]
  },
  {
   "cell_type": "code",
   "execution_count": 11,
   "metadata": {},
   "outputs": [],
   "source": [
    "# Объявим функцию, которая позволит проверять гипотезы с помощью бутстрапа\n",
    "def get_bootstrap(\n",
    "    data_column_1, # числовые значения первой выборки\n",
    "    data_column_2, # числовые значения второй выборки\n",
    "    boot_it = 1000, # количество бутстрэп-подвыборок\n",
    "    statistic = np.mean, # интересующая нас статистика\n",
    "    bootstrap_conf_level = 0.95 # уровень значимости\n",
    "):\n",
    "    boot_len = max([len(data_column_1), len(data_column_2)])\n",
    "    boot_data = []\n",
    "    for i in range(boot_it): # извлекаем подвыборки\n",
    "        samples_1 = data_column_1.sample(\n",
    "            boot_len, \n",
    "            replace = True # параметр возвращения\n",
    "        ).values\n",
    "        \n",
    "        samples_2 = data_column_2.sample(\n",
    "            boot_len, \n",
    "            replace = True\n",
    "        ).values\n",
    "        \n",
    "        boot_data.append(statistic(samples_1-samples_2)) # mean() - применяем статистику\n",
    "        \n",
    "    pd_boot_data = pd.DataFrame(boot_data)\n",
    "        \n",
    "    left_quant = (1 - bootstrap_conf_level)/2\n",
    "    right_quant = 1 - (1 - bootstrap_conf_level) / 2\n",
    "    ci = pd_boot_data.quantile([left_quant, right_quant])\n",
    "        \n",
    "    p_1 = norm.cdf(\n",
    "        x = 0, \n",
    "        loc = np.mean(boot_data), \n",
    "        scale = np.std(boot_data)\n",
    "    )\n",
    "    p_2 = norm.cdf(\n",
    "        x = 0, \n",
    "        loc = -np.mean(boot_data), \n",
    "        scale = np.std(boot_data)\n",
    "    )\n",
    "    p_value = min(p_1, p_2) * 2\n",
    "        \n",
    "    # Визуализация\n",
    "    plt.figure(figsize=(10, 6))\n",
    "    sns.histplot(pd.Series(pd_boot_data[0]))\n",
    "    sns.despine()\n",
    "    plt.vlines(ci, ymin=0, ymax=100, linestyle='--', colors='r')\n",
    "    plt.xlabel('boot_data')\n",
    "    plt.ylabel('frequency')\n",
    "    plt.title(\"Histogram of boot_data\")\n",
    "    plt.show();\n",
    "       \n",
    "    return {'boot_data': boot_data, \n",
    "            'ci': ci, \n",
    "            'p_value': p_value}"
   ]
  },
  {
   "cell_type": "markdown",
   "metadata": {},
   "source": [
    "<hr>"
   ]
  },
  {
   "cell_type": "markdown",
   "metadata": {},
   "source": [
    "# Сравнение средних значений\n",
    "\n",
    "\n",
    "### Сформулируем гипотезы для проверки:\n",
    "\n",
    "\n",
    "- **Нулевая гипотеза** $(H_0)$: Средние значения в группах ```treatment``` и ```control``` НЕ различаются\n",
    "- **Альтернативная гипотеза** $(H_1)$: Разница между средними значениями в группах ```treatment``` и ```control``` есть"
   ]
  },
  {
   "cell_type": "code",
   "execution_count": 12,
   "metadata": {},
   "outputs": [
    {
     "data": {
      "image/png": "[encoded data removed]",
      "text/plain": [
       "<Figure size 720x432 with 1 Axes>"
      ]
     },
     "metadata": {},
     "output_type": "display_data"
    }
   ],
   "source": [
    "# Применим бутстрап и рассчитаем 95% дов. интервал для средних значений\n",
    "booted_mean = get_bootstrap(treatment, control)"
   ]
  },
  {
   "cell_type": "code",
   "execution_count": 13,
   "metadata": {},
   "outputs": [
    {
     "data": {
      "text/html": [
       "<div>\n",
       "<style scoped>\n",
       "    .dataframe tbody tr th:only-of-type {\n",
       "        vertical-align: middle;\n",
       "    }\n",
       "\n",
       "    .dataframe tbody tr th {\n",
       "        vertical-align: top;\n",
       "    }\n",
       "\n",
       "    .dataframe thead th {\n",
       "        text-align: right;\n",
       "    }\n",
       "</style>\n",
       "<table border=\"1\" class=\"dataframe\">\n",
       "  <thead>\n",
       "    <tr style=\"text-align: right;\">\n",
       "      <th></th>\n",
       "      <th>0</th>\n",
       "    </tr>\n",
       "  </thead>\n",
       "  <tbody>\n",
       "    <tr>\n",
       "      <th>0.025</th>\n",
       "      <td>3.948821</td>\n",
       "    </tr>\n",
       "    <tr>\n",
       "      <th>0.975</th>\n",
       "      <td>36.309560</td>\n",
       "    </tr>\n",
       "  </tbody>\n",
       "</table>\n",
       "</div>"
      ],
      "text/plain": [
       "               0\n",
       "0.025   3.948821\n",
       "0.975  36.309560"
      ]
     },
     "execution_count": 13,
     "metadata": {},
     "output_type": "execute_result"
    }
   ],
   "source": [
    "# Выведем значения 95% дов. интервала для средних\n",
    "booted_mean[\"ci\"]"
   ]
  },
  {
   "cell_type": "code",
   "execution_count": 14,
   "metadata": {},
   "outputs": [
    {
     "name": "stdout",
     "output_type": "stream",
     "text": [
      "Bootstrap p-value: 0.038\n"
     ]
    }
   ],
   "source": [
    "# Посмотрим на значение p-value\n",
    "print(f'Bootstrap p-value: {booted_mean[\"p_value\"].round(3)}')"
   ]
  },
  {
   "cell_type": "code",
   "execution_count": 15,
   "metadata": {},
   "outputs": [
    {
     "name": "stdout",
     "output_type": "stream",
     "text": [
      "Mann-Whitney p-value: 0.859\n"
     ]
    }
   ],
   "source": [
    "# Посмотрим на значение p-value критерия Манна-Уитни\n",
    "print(f'Mann-Whitney p-value: {mannwhitneyu(treatment, control)[1].round(3)}')"
   ]
  },
  {
   "cell_type": "markdown",
   "metadata": {},
   "source": [
    "**Таким образом, сравнение средних значений в двух группах с помощью бутстрап позволяет сделать вывод о том что различие статистически значимо ($p < 0.05$), т.е. позволяет отклонить нулевую гипотезу о равенстве средних значений. При этом значение p-value критерия Манна-Уитни $p > 0.05$ говорит о том, что различие средних ранговых значений в двух группах статистически НЕ значимо.**"
   ]
  },
  {
   "cell_type": "markdown",
   "metadata": {},
   "source": [
    "<br>"
   ]
  },
  {
   "cell_type": "markdown",
   "metadata": {},
   "source": [
    "# Сравнение медианных значений\n",
    "\n",
    "\n",
    "### Сформулируем гипотезы для проверки:\n",
    "\n",
    "\n",
    "- **Нулевая гипотеза** $(H_0)$: Медианные значения в группах ```treatment``` и ```control``` НЕ различаются\n",
    "- **Альтернативная гипотеза** $(H_1)$: Разница между медианными значениями в группах ```treatment``` и ```control``` есть"
   ]
  },
  {
   "cell_type": "code",
   "execution_count": 16,
   "metadata": {},
   "outputs": [
    {
     "data": {
      "image/png": "[encoded data removed]",
      "text/plain": [
       "<Figure size 720x432 with 1 Axes>"
      ]
     },
     "metadata": {},
     "output_type": "display_data"
    }
   ],
   "source": [
    "# Применим бутстрап и рассчитаем 95% дов. интервал для медианных значений\n",
    "booted_median = get_bootstrap(treatment, control, statistic = np.median)"
   ]
  },
  {
   "cell_type": "code",
   "execution_count": 17,
   "metadata": {},
   "outputs": [
    {
     "data": {
      "text/html": [
       "<div>\n",
       "<style scoped>\n",
       "    .dataframe tbody tr th:only-of-type {\n",
       "        vertical-align: middle;\n",
       "    }\n",
       "\n",
       "    .dataframe tbody tr th {\n",
       "        vertical-align: top;\n",
       "    }\n",
       "\n",
       "    .dataframe thead th {\n",
       "        text-align: right;\n",
       "    }\n",
       "</style>\n",
       "<table border=\"1\" class=\"dataframe\">\n",
       "  <thead>\n",
       "    <tr style=\"text-align: right;\">\n",
       "      <th></th>\n",
       "      <th>0</th>\n",
       "    </tr>\n",
       "  </thead>\n",
       "  <tbody>\n",
       "    <tr>\n",
       "      <th>0.025</th>\n",
       "      <td>-0.138616</td>\n",
       "    </tr>\n",
       "    <tr>\n",
       "      <th>0.975</th>\n",
       "      <td>0.157814</td>\n",
       "    </tr>\n",
       "  </tbody>\n",
       "</table>\n",
       "</div>"
      ],
      "text/plain": [
       "              0\n",
       "0.025 -0.138616\n",
       "0.975  0.157814"
      ]
     },
     "execution_count": 17,
     "metadata": {},
     "output_type": "execute_result"
    }
   ],
   "source": [
    "# Выведем значения 95% дов. интервала для медианных значений\n",
    "booted_median[\"ci\"]"
   ]
  },
  {
   "cell_type": "code",
   "execution_count": 18,
   "metadata": {},
   "outputs": [
    {
     "name": "stdout",
     "output_type": "stream",
     "text": [
      "Bootstrap p-value: 0.895\n"
     ]
    }
   ],
   "source": [
    "# Посмотрим на значение p-value\n",
    "print(f'Bootstrap p-value: {booted_median[\"p_value\"].round(3)}')"
   ]
  },
  {
   "cell_type": "code",
   "execution_count": 19,
   "metadata": {},
   "outputs": [
    {
     "name": "stdout",
     "output_type": "stream",
     "text": [
      "Mann-Whitney p-value: 0.859\n"
     ]
    }
   ],
   "source": [
    "# Посмотрим на значение p-value критерия Манна-Уитни\n",
    "print(f'Mann-Whitney p-value: {mannwhitneyu(treatment, control)[1].round(3)}')"
   ]
  },
  {
   "cell_type": "markdown",
   "metadata": {},
   "source": [
    "**Таким образом, сравнение медианных значений в двух группах с помощью бутстрап позволяет сделать вывод о том что различие статистически НЕ значимо ( $p > 0.05$), т.е. НЕТ оснований для отклонения нулевой  гипотезы о равенстве медианных значений. При этом значение p-value критерия Манна-Уитни $p > 0.05$ говорит о том, что различие средних ранговых значений в двух группах статистически НЕ значимо.**"
   ]
  },
  {
   "cell_type": "markdown",
   "metadata": {},
   "source": [
    "<br>"
   ]
  },
  {
   "cell_type": "markdown",
   "metadata": {},
   "source": [
    "**На основании проведенного исследования можно сделать следующие выводы:**\n",
    "- **применение критерия Манна-Уитни показывает, что статистически значимого различия между сравниваемыми группами нет;**\n",
    "- **применение бутстрап для сравнения средних значений двух групп показывает статистически значимые различия. Так как бутстрап и критерий Манна-Уитни показывают противоречивые результаты при сравнении средних значений, в рассматриваемом примере предпочтительнее положится на критерий Манна-Уитни, который более устойчив к выбросам в данных (в группе ```treatment``` имеются возможные очень сильные выбросы, которые смещают оценку среднего значения. Требуется дополнительный анализ чтобы понять чем обусловлены эти выбросы);**\n",
    "- **применение бутстрап для сравнения медианных значений двух групп показывает статистически НЕ значимые различия.**"
   ]
  }
 ],
 "metadata": {
  "kernelspec": {
   "display_name": "Python 3",
   "language": "python",
   "name": "python3"
  },
  "language_info": {
   "codemirror_mode": {
    "name": "ipython",
    "version": 3
   },
   "file_extension": ".py",
   "mimetype": "text/x-python",
   "name": "python",
   "nbconvert_exporter": "python",
   "pygments_lexer": "ipython3",
   "version": "3.8.5"
  }
 },
 "nbformat": 4,
 "nbformat_minor": 4
}
