{
 "cells": [
  {
   "cell_type": "markdown",
   "metadata": {},
   "source": [
    "# Предсказание цен на автомобили\n",
    "<br>\n",
    "\n",
    "Представим, что вы работаете в компании, занимающейся размещением объявлений о продаже подержанных автомобилей. Вы собрали данные о ценах подержанных автомобилей, на август 2020. Однако в вашей системе есть объявления, в которых есть описание автомобиля, но не указана цена. Команда аналитики пришла к вам и рассказала, что эти объявления без цены по набору признаков соответствуют вашей генеральной совокупности (то есть это не систематическая ошибка в какой-то конкретной области: дорогих автомобилях, каком-то регионе размещения объявления), а значит вы можете попробовать предсказать цену на эти автомобили по собранным данным. Чтобы сделать такую модель, вам нужно на имеющихся у вас данных научиться хотя бы с точностью до 1900 фунтов в среднем (а лучше меньше) предсказывать цену автомобиля. Нужно построить модель, которая будет предсказывать цену автомобиля по его характеристикам:\n",
    "\n",
    "- **model** - Модель автомобиля\n",
    "- **year** - год производства\n",
    "- **transmission** - тип трасмиссии (автомат/механика/полуавтомат)\n",
    "- **mileage** - пробег в милях\n",
    "- **fuelType** - используемый тип топлива\n",
    "- **tax** - включенный в стоимость автомобиля налог\n",
    "- **mpg (miles per gallon)** - сколько миль авто может проехать на 3,78 литрах топлива\n",
    "- **engineSize** - объем двигателя\n",
    "- **car_maker** - производитель\n",
    "\n",
    "Целевая переменная лежит в файле linreg_y_train.csv (цена автомобиля)\n",
    "\n",
    "**Ваша задача предсказать цену автомобиля так, чтобы MAE (средняя абсолютная ошибка) на тестовой выборке была не более 1800.**"
   ]
  },
  {
   "cell_type": "markdown",
   "metadata": {},
   "source": [
    "**Формат сдачи**\n",
    "\n",
    "В качестве ответа нужно загрузить в систему csv-файл с двумя колонками: id и price. id - идентификатор из файла linreg_test.csv, а price - предсказанная вами цена автомобиля.\n",
    "\n",
    "Вы получите __5__ баллов, если `MAE < 1900` и __10__ баллов если `MAE < 1800`"
   ]
  },
  {
   "cell_type": "markdown",
   "metadata": {},
   "source": [
    "<hr>"
   ]
  },
  {
   "cell_type": "markdown",
   "metadata": {},
   "source": [
    "### 1. Загрузка данных и EDA"
   ]
  },
  {
   "cell_type": "code",
   "execution_count": 1,
   "metadata": {},
   "outputs": [],
   "source": [
    "# Импорт библиотек\n",
    "import pandas as pd\n",
    "import numpy as np\n",
    "\n",
    "from sklearn import pipeline, preprocessing, model_selection\n",
    "from sklearn.model_selection import train_test_split\n",
    "from sklearn.preprocessing import StandardScaler, RobustScaler\n",
    "from sklearn.linear_model import LinearRegression, Lasso, Ridge\n",
    "from sklearn.ensemble import RandomForestRegressor\n",
    "from sklearn.metrics import mean_absolute_error as mae\n",
    "from sklearn import set_config\n",
    "\n",
    "import matplotlib.pyplot as plt\n",
    "import seaborn as sns\n",
    "plt.style.use('ggplot')\n",
    "%matplotlib inline\n",
    "\n",
    "import warnings\n",
    "warnings.filterwarnings('ignore')"
   ]
  },
  {
   "cell_type": "code",
   "execution_count": 2,
   "metadata": {},
   "outputs": [],
   "source": [
    "# Настройки\n",
    "SEED = 42\n",
    "pd.set_option('display.max_column', None)\n",
    "set_config(display='diagram')"
   ]
  },
  {
   "cell_type": "code",
   "execution_count": 3,
   "metadata": {},
   "outputs": [],
   "source": [
    "# Загрузим все имеющиеся данные\n",
    "x_train = pd.read_csv('datasets/linreg_train.csv', sep=',').drop('Unnamed: 0', axis=1)\n",
    "y_train = pd.read_csv('datasets/linreg_y_train.csv', sep=',').drop('Unnamed: 0', axis=1)\n",
    "train_df = pd.concat([x_train, y_train], axis=1)\n",
    "\n",
    "x_predict = pd.read_csv('datasets/linreg_test.csv', sep=',', index_col=0)"
   ]
  },
  {
   "cell_type": "code",
   "execution_count": 4,
   "metadata": {},
   "outputs": [
    {
     "data": {
      "text/html": [
       "<div>\n",
       "<style scoped>\n",
       "    .dataframe tbody tr th:only-of-type {\n",
       "        vertical-align: middle;\n",
       "    }\n",
       "\n",
       "    .dataframe tbody tr th {\n",
       "        vertical-align: top;\n",
       "    }\n",
       "\n",
       "    .dataframe thead th {\n",
       "        text-align: right;\n",
       "    }\n",
       "</style>\n",
       "<table border=\"1\" class=\"dataframe\">\n",
       "  <thead>\n",
       "    <tr style=\"text-align: right;\">\n",
       "      <th></th>\n",
       "      <th>model</th>\n",
       "      <th>year</th>\n",
       "      <th>transmission</th>\n",
       "      <th>mileage</th>\n",
       "      <th>fuelType</th>\n",
       "      <th>tax</th>\n",
       "      <th>mpg</th>\n",
       "      <th>engineSize</th>\n",
       "      <th>car_maker</th>\n",
       "      <th>price</th>\n",
       "    </tr>\n",
       "  </thead>\n",
       "  <tbody>\n",
       "    <tr>\n",
       "      <th>0</th>\n",
       "      <td>Passat</td>\n",
       "      <td>2019</td>\n",
       "      <td>Manual</td>\n",
       "      <td>15435</td>\n",
       "      <td>Diesel</td>\n",
       "      <td>150</td>\n",
       "      <td>51.4</td>\n",
       "      <td>2.0</td>\n",
       "      <td>vw</td>\n",
       "      <td>16795</td>\n",
       "    </tr>\n",
       "    <tr>\n",
       "      <th>1</th>\n",
       "      <td>A Class</td>\n",
       "      <td>2019</td>\n",
       "      <td>Semi-Auto</td>\n",
       "      <td>17945</td>\n",
       "      <td>Diesel</td>\n",
       "      <td>145</td>\n",
       "      <td>65.7</td>\n",
       "      <td>1.5</td>\n",
       "      <td>mercedes</td>\n",
       "      <td>18480</td>\n",
       "    </tr>\n",
       "    <tr>\n",
       "      <th>2</th>\n",
       "      <td>Focus</td>\n",
       "      <td>2017</td>\n",
       "      <td>Manual</td>\n",
       "      <td>20102</td>\n",
       "      <td>Petrol</td>\n",
       "      <td>20</td>\n",
       "      <td>60.1</td>\n",
       "      <td>1.0</td>\n",
       "      <td>ford</td>\n",
       "      <td>9995</td>\n",
       "    </tr>\n",
       "    <tr>\n",
       "      <th>3</th>\n",
       "      <td>C-HR</td>\n",
       "      <td>2018</td>\n",
       "      <td>Automatic</td>\n",
       "      <td>8661</td>\n",
       "      <td>Hybrid</td>\n",
       "      <td>135</td>\n",
       "      <td>74.3</td>\n",
       "      <td>1.8</td>\n",
       "      <td>toyota</td>\n",
       "      <td>20995</td>\n",
       "    </tr>\n",
       "    <tr>\n",
       "      <th>4</th>\n",
       "      <td>Fiesta</td>\n",
       "      <td>2020</td>\n",
       "      <td>Manual</td>\n",
       "      <td>10</td>\n",
       "      <td>Petrol</td>\n",
       "      <td>150</td>\n",
       "      <td>58.9</td>\n",
       "      <td>1.0</td>\n",
       "      <td>ford</td>\n",
       "      <td>17000</td>\n",
       "    </tr>\n",
       "  </tbody>\n",
       "</table>\n",
       "</div>"
      ],
      "text/plain": [
       "      model  year transmission  mileage fuelType  tax   mpg  engineSize  \\\n",
       "0    Passat  2019       Manual    15435   Diesel  150  51.4         2.0   \n",
       "1   A Class  2019    Semi-Auto    17945   Diesel  145  65.7         1.5   \n",
       "2     Focus  2017       Manual    20102   Petrol   20  60.1         1.0   \n",
       "3      C-HR  2018    Automatic     8661   Hybrid  135  74.3         1.8   \n",
       "4    Fiesta  2020       Manual       10   Petrol  150  58.9         1.0   \n",
       "\n",
       "  car_maker  price  \n",
       "0        vw  16795  \n",
       "1  mercedes  18480  \n",
       "2      ford   9995  \n",
       "3    toyota  20995  \n",
       "4      ford  17000  "
      ]
     },
     "execution_count": 4,
     "metadata": {},
     "output_type": "execute_result"
    }
   ],
   "source": [
    "# Посмотрим на наши данные для обучения модели\n",
    "train_df.head()"
   ]
  },
  {
   "cell_type": "code",
   "execution_count": 5,
   "metadata": {},
   "outputs": [
    {
     "name": "stdout",
     "output_type": "stream",
     "text": [
      "<class 'pandas.core.frame.DataFrame'>\n",
      "RangeIndex: 64556 entries, 0 to 64555\n",
      "Data columns (total 10 columns):\n",
      " #   Column        Non-Null Count  Dtype  \n",
      "---  ------        --------------  -----  \n",
      " 0   model         64556 non-null  object \n",
      " 1   year          64556 non-null  int64  \n",
      " 2   transmission  64556 non-null  object \n",
      " 3   mileage       64556 non-null  int64  \n",
      " 4   fuelType      64556 non-null  object \n",
      " 5   tax           64556 non-null  int64  \n",
      " 6   mpg           64556 non-null  float64\n",
      " 7   engineSize    64556 non-null  float64\n",
      " 8   car_maker     64556 non-null  object \n",
      " 9   price         64556 non-null  int64  \n",
      "dtypes: float64(2), int64(4), object(4)\n",
      "memory usage: 4.9+ MB\n"
     ]
    }
   ],
   "source": [
    "# Посмотрим на характеристики датафрейма\n",
    "train_df.info()"
   ]
  },
  {
   "cell_type": "code",
   "execution_count": 6,
   "metadata": {},
   "outputs": [
    {
     "data": {
      "text/html": [
       "<div>\n",
       "<style scoped>\n",
       "    .dataframe tbody tr th:only-of-type {\n",
       "        vertical-align: middle;\n",
       "    }\n",
       "\n",
       "    .dataframe tbody tr th {\n",
       "        vertical-align: top;\n",
       "    }\n",
       "\n",
       "    .dataframe thead th {\n",
       "        text-align: right;\n",
       "    }\n",
       "</style>\n",
       "<table border=\"1\" class=\"dataframe\">\n",
       "  <thead>\n",
       "    <tr style=\"text-align: right;\">\n",
       "      <th></th>\n",
       "      <th>model</th>\n",
       "      <th>year</th>\n",
       "      <th>transmission</th>\n",
       "      <th>mileage</th>\n",
       "      <th>fuelType</th>\n",
       "      <th>tax</th>\n",
       "      <th>mpg</th>\n",
       "      <th>engineSize</th>\n",
       "      <th>car_maker</th>\n",
       "      <th>id</th>\n",
       "    </tr>\n",
       "  </thead>\n",
       "  <tbody>\n",
       "    <tr>\n",
       "      <th>0</th>\n",
       "      <td>C-MAX</td>\n",
       "      <td>2017</td>\n",
       "      <td>Manual</td>\n",
       "      <td>26805</td>\n",
       "      <td>Diesel</td>\n",
       "      <td>145</td>\n",
       "      <td>68.9</td>\n",
       "      <td>1.5</td>\n",
       "      <td>ford</td>\n",
       "      <td>0</td>\n",
       "    </tr>\n",
       "    <tr>\n",
       "      <th>1</th>\n",
       "      <td>1 Series</td>\n",
       "      <td>2017</td>\n",
       "      <td>Manual</td>\n",
       "      <td>24104</td>\n",
       "      <td>Petrol</td>\n",
       "      <td>125</td>\n",
       "      <td>53.3</td>\n",
       "      <td>1.5</td>\n",
       "      <td>bmw</td>\n",
       "      <td>1</td>\n",
       "    </tr>\n",
       "    <tr>\n",
       "      <th>2</th>\n",
       "      <td>T-Cross</td>\n",
       "      <td>2019</td>\n",
       "      <td>Manual</td>\n",
       "      <td>4899</td>\n",
       "      <td>Petrol</td>\n",
       "      <td>145</td>\n",
       "      <td>47.9</td>\n",
       "      <td>1.0</td>\n",
       "      <td>vw</td>\n",
       "      <td>2</td>\n",
       "    </tr>\n",
       "    <tr>\n",
       "      <th>3</th>\n",
       "      <td>A1</td>\n",
       "      <td>2019</td>\n",
       "      <td>Automatic</td>\n",
       "      <td>7000</td>\n",
       "      <td>Petrol</td>\n",
       "      <td>145</td>\n",
       "      <td>47.1</td>\n",
       "      <td>1.0</td>\n",
       "      <td>audi</td>\n",
       "      <td>3</td>\n",
       "    </tr>\n",
       "    <tr>\n",
       "      <th>4</th>\n",
       "      <td>Yaris</td>\n",
       "      <td>2016</td>\n",
       "      <td>Automatic</td>\n",
       "      <td>35588</td>\n",
       "      <td>Hybrid</td>\n",
       "      <td>0</td>\n",
       "      <td>86.0</td>\n",
       "      <td>1.5</td>\n",
       "      <td>toyota</td>\n",
       "      <td>4</td>\n",
       "    </tr>\n",
       "  </tbody>\n",
       "</table>\n",
       "</div>"
      ],
      "text/plain": [
       "       model  year transmission  mileage fuelType  tax   mpg  engineSize  \\\n",
       "0      C-MAX  2017       Manual    26805   Diesel  145  68.9         1.5   \n",
       "1   1 Series  2017       Manual    24104   Petrol  125  53.3         1.5   \n",
       "2    T-Cross  2019       Manual     4899   Petrol  145  47.9         1.0   \n",
       "3         A1  2019    Automatic     7000   Petrol  145  47.1         1.0   \n",
       "4      Yaris  2016    Automatic    35588   Hybrid    0  86.0         1.5   \n",
       "\n",
       "  car_maker  id  \n",
       "0      ford   0  \n",
       "1       bmw   1  \n",
       "2        vw   2  \n",
       "3      audi   3  \n",
       "4    toyota   4  "
      ]
     },
     "execution_count": 6,
     "metadata": {},
     "output_type": "execute_result"
    }
   ],
   "source": [
    "# Посмотрим на наши данные для получения прогноза модели\n",
    "x_predict.head()"
   ]
  },
  {
   "cell_type": "code",
   "execution_count": 7,
   "metadata": {},
   "outputs": [
    {
     "name": "stdout",
     "output_type": "stream",
     "text": [
      "<class 'pandas.core.frame.DataFrame'>\n",
      "Int64Index: 16139 entries, 0 to 16138\n",
      "Data columns (total 10 columns):\n",
      " #   Column        Non-Null Count  Dtype  \n",
      "---  ------        --------------  -----  \n",
      " 0   model         16139 non-null  object \n",
      " 1   year          16139 non-null  int64  \n",
      " 2   transmission  16139 non-null  object \n",
      " 3   mileage       16139 non-null  int64  \n",
      " 4   fuelType      16139 non-null  object \n",
      " 5   tax           16139 non-null  int64  \n",
      " 6   mpg           16139 non-null  float64\n",
      " 7   engineSize    16139 non-null  float64\n",
      " 8   car_maker     16139 non-null  object \n",
      " 9   id            16139 non-null  int64  \n",
      "dtypes: float64(2), int64(4), object(4)\n",
      "memory usage: 1.4+ MB\n"
     ]
    }
   ],
   "source": [
    "# Посмотрим на характеристику тестовой выборки\n",
    "x_predict.info()"
   ]
  },
  {
   "cell_type": "code",
   "execution_count": 8,
   "metadata": {},
   "outputs": [],
   "source": [
    "# Выделим количественные переменные и категориальные\n",
    "numeric_columns = [col for col in train_df.columns if train_df[col].dtype in ['int64', 'float64']]\n",
    "categorical_columns = [col for col in train_df.columns if col not in numeric_columns]\n",
    "\n",
    "# Уберем лишние пробельные символы в категориальных переменных\n",
    "data = [train_df, x_predict]\n",
    "for df in data:\n",
    "    for col in categorical_columns:\n",
    "        df[col] = df[col].apply(lambda x: x.strip())"
   ]
  },
  {
   "cell_type": "code",
   "execution_count": 9,
   "metadata": {},
   "outputs": [
    {
     "data": {
      "text/plain": [
       "696"
      ]
     },
     "execution_count": 9,
     "metadata": {},
     "output_type": "execute_result"
    }
   ],
   "source": [
    "# Посмотрим есть ли дубликаты строк в train_df\n",
    "train_df.duplicated().sum()"
   ]
  },
  {
   "cell_type": "code",
   "execution_count": 10,
   "metadata": {},
   "outputs": [
    {
     "data": {
      "text/html": [
       "<div>\n",
       "<style scoped>\n",
       "    .dataframe tbody tr th:only-of-type {\n",
       "        vertical-align: middle;\n",
       "    }\n",
       "\n",
       "    .dataframe tbody tr th {\n",
       "        vertical-align: top;\n",
       "    }\n",
       "\n",
       "    .dataframe thead th {\n",
       "        text-align: right;\n",
       "    }\n",
       "</style>\n",
       "<table border=\"1\" class=\"dataframe\">\n",
       "  <thead>\n",
       "    <tr style=\"text-align: right;\">\n",
       "      <th></th>\n",
       "      <th>model</th>\n",
       "      <th>year</th>\n",
       "      <th>transmission</th>\n",
       "      <th>mileage</th>\n",
       "      <th>fuelType</th>\n",
       "      <th>tax</th>\n",
       "      <th>mpg</th>\n",
       "      <th>engineSize</th>\n",
       "      <th>car_maker</th>\n",
       "      <th>price</th>\n",
       "    </tr>\n",
       "  </thead>\n",
       "  <tbody>\n",
       "    <tr>\n",
       "      <th>936</th>\n",
       "      <td>Kuga</td>\n",
       "      <td>2017</td>\n",
       "      <td>Manual</td>\n",
       "      <td>19333</td>\n",
       "      <td>Diesel</td>\n",
       "      <td>145</td>\n",
       "      <td>54.3</td>\n",
       "      <td>2.0</td>\n",
       "      <td>ford</td>\n",
       "      <td>15265</td>\n",
       "    </tr>\n",
       "    <tr>\n",
       "      <th>1606</th>\n",
       "      <td>A Class</td>\n",
       "      <td>2020</td>\n",
       "      <td>Semi-Auto</td>\n",
       "      <td>1000</td>\n",
       "      <td>Petrol</td>\n",
       "      <td>145</td>\n",
       "      <td>53.3</td>\n",
       "      <td>1.3</td>\n",
       "      <td>mercedes</td>\n",
       "      <td>25879</td>\n",
       "    </tr>\n",
       "    <tr>\n",
       "      <th>2591</th>\n",
       "      <td>A Class</td>\n",
       "      <td>2020</td>\n",
       "      <td>Semi-Auto</td>\n",
       "      <td>1000</td>\n",
       "      <td>Petrol</td>\n",
       "      <td>145</td>\n",
       "      <td>53.3</td>\n",
       "      <td>1.3</td>\n",
       "      <td>mercedes</td>\n",
       "      <td>25879</td>\n",
       "    </tr>\n",
       "    <tr>\n",
       "      <th>2821</th>\n",
       "      <td>2 Series</td>\n",
       "      <td>2019</td>\n",
       "      <td>Manual</td>\n",
       "      <td>123</td>\n",
       "      <td>Petrol</td>\n",
       "      <td>145</td>\n",
       "      <td>52.3</td>\n",
       "      <td>1.5</td>\n",
       "      <td>bmw</td>\n",
       "      <td>22646</td>\n",
       "    </tr>\n",
       "    <tr>\n",
       "      <th>2842</th>\n",
       "      <td>A3</td>\n",
       "      <td>2019</td>\n",
       "      <td>Semi-Auto</td>\n",
       "      <td>2000</td>\n",
       "      <td>Petrol</td>\n",
       "      <td>145</td>\n",
       "      <td>40.9</td>\n",
       "      <td>2.0</td>\n",
       "      <td>audi</td>\n",
       "      <td>23000</td>\n",
       "    </tr>\n",
       "  </tbody>\n",
       "</table>\n",
       "</div>"
      ],
      "text/plain": [
       "         model  year transmission  mileage fuelType  tax   mpg  engineSize  \\\n",
       "936       Kuga  2017       Manual    19333   Diesel  145  54.3         2.0   \n",
       "1606   A Class  2020    Semi-Auto     1000   Petrol  145  53.3         1.3   \n",
       "2591   A Class  2020    Semi-Auto     1000   Petrol  145  53.3         1.3   \n",
       "2821  2 Series  2019       Manual      123   Petrol  145  52.3         1.5   \n",
       "2842        A3  2019    Semi-Auto     2000   Petrol  145  40.9         2.0   \n",
       "\n",
       "     car_maker  price  \n",
       "936       ford  15265  \n",
       "1606  mercedes  25879  \n",
       "2591  mercedes  25879  \n",
       "2821       bmw  22646  \n",
       "2842      audi  23000  "
      ]
     },
     "execution_count": 10,
     "metadata": {},
     "output_type": "execute_result"
    }
   ],
   "source": [
    "# Посмотрим на данные по которым есть дубликаты\n",
    "train_df[train_df.duplicated() == 1][:5]"
   ]
  },
  {
   "cell_type": "code",
   "execution_count": 11,
   "metadata": {},
   "outputs": [
    {
     "data": {
      "text/html": [
       "<div>\n",
       "<style scoped>\n",
       "    .dataframe tbody tr th:only-of-type {\n",
       "        vertical-align: middle;\n",
       "    }\n",
       "\n",
       "    .dataframe tbody tr th {\n",
       "        vertical-align: top;\n",
       "    }\n",
       "\n",
       "    .dataframe thead th {\n",
       "        text-align: right;\n",
       "    }\n",
       "</style>\n",
       "<table border=\"1\" class=\"dataframe\">\n",
       "  <thead>\n",
       "    <tr style=\"text-align: right;\">\n",
       "      <th></th>\n",
       "      <th>model</th>\n",
       "      <th>year</th>\n",
       "      <th>transmission</th>\n",
       "      <th>mileage</th>\n",
       "      <th>fuelType</th>\n",
       "      <th>tax</th>\n",
       "      <th>mpg</th>\n",
       "      <th>engineSize</th>\n",
       "      <th>car_maker</th>\n",
       "      <th>price</th>\n",
       "    </tr>\n",
       "  </thead>\n",
       "  <tbody>\n",
       "    <tr>\n",
       "      <th>556</th>\n",
       "      <td>Kuga</td>\n",
       "      <td>2017</td>\n",
       "      <td>Manual</td>\n",
       "      <td>19333</td>\n",
       "      <td>Diesel</td>\n",
       "      <td>145</td>\n",
       "      <td>54.3</td>\n",
       "      <td>2.0</td>\n",
       "      <td>ford</td>\n",
       "      <td>15265</td>\n",
       "    </tr>\n",
       "    <tr>\n",
       "      <th>936</th>\n",
       "      <td>Kuga</td>\n",
       "      <td>2017</td>\n",
       "      <td>Manual</td>\n",
       "      <td>19333</td>\n",
       "      <td>Diesel</td>\n",
       "      <td>145</td>\n",
       "      <td>54.3</td>\n",
       "      <td>2.0</td>\n",
       "      <td>ford</td>\n",
       "      <td>15265</td>\n",
       "    </tr>\n",
       "  </tbody>\n",
       "</table>\n",
       "</div>"
      ],
      "text/plain": [
       "    model  year transmission  mileage fuelType  tax   mpg  engineSize  \\\n",
       "556  Kuga  2017       Manual    19333   Diesel  145  54.3         2.0   \n",
       "936  Kuga  2017       Manual    19333   Diesel  145  54.3         2.0   \n",
       "\n",
       "    car_maker  price  \n",
       "556      ford  15265  \n",
       "936      ford  15265  "
      ]
     },
     "execution_count": 11,
     "metadata": {},
     "output_type": "execute_result"
    }
   ],
   "source": [
    "# Посмотрим более детально на дубли на примере первого наблюдения\n",
    "train_df.query('model == \"Kuga\" & year == 2017 & mileage == 19333 & price == 15265')"
   ]
  },
  {
   "cell_type": "code",
   "execution_count": 12,
   "metadata": {},
   "outputs": [],
   "source": [
    "# Удалим дубли\n",
    "train_df.drop_duplicates(inplace=True)"
   ]
  },
  {
   "cell_type": "code",
   "execution_count": 13,
   "metadata": {},
   "outputs": [
    {
     "data": {
      "text/plain": [
       "0"
      ]
     },
     "execution_count": 13,
     "metadata": {},
     "output_type": "execute_result"
    }
   ],
   "source": [
    "# Посмотрим есть ли дубликаты строк в x_predict\n",
    "x_predict.duplicated().sum()"
   ]
  },
  {
   "cell_type": "code",
   "execution_count": 14,
   "metadata": {},
   "outputs": [
    {
     "data": {
      "text/html": [
       "<div>\n",
       "<style scoped>\n",
       "    .dataframe tbody tr th:only-of-type {\n",
       "        vertical-align: middle;\n",
       "    }\n",
       "\n",
       "    .dataframe tbody tr th {\n",
       "        vertical-align: top;\n",
       "    }\n",
       "\n",
       "    .dataframe thead th {\n",
       "        text-align: right;\n",
       "    }\n",
       "</style>\n",
       "<table border=\"1\" class=\"dataframe\">\n",
       "  <thead>\n",
       "    <tr style=\"text-align: right;\">\n",
       "      <th></th>\n",
       "      <th>count</th>\n",
       "      <th>mean</th>\n",
       "      <th>std</th>\n",
       "      <th>min</th>\n",
       "      <th>25%</th>\n",
       "      <th>50%</th>\n",
       "      <th>75%</th>\n",
       "      <th>max</th>\n",
       "    </tr>\n",
       "  </thead>\n",
       "  <tbody>\n",
       "    <tr>\n",
       "      <th>year</th>\n",
       "      <td>63860.0</td>\n",
       "      <td>2017.10</td>\n",
       "      <td>2.13</td>\n",
       "      <td>1996.0</td>\n",
       "      <td>2016.00</td>\n",
       "      <td>2017.0</td>\n",
       "      <td>2019.0</td>\n",
       "      <td>2060.0</td>\n",
       "    </tr>\n",
       "    <tr>\n",
       "      <th>mileage</th>\n",
       "      <td>63860.0</td>\n",
       "      <td>23131.80</td>\n",
       "      <td>21447.77</td>\n",
       "      <td>1.0</td>\n",
       "      <td>7076.75</td>\n",
       "      <td>17304.0</td>\n",
       "      <td>32500.0</td>\n",
       "      <td>323000.0</td>\n",
       "    </tr>\n",
       "    <tr>\n",
       "      <th>tax</th>\n",
       "      <td>63860.0</td>\n",
       "      <td>118.67</td>\n",
       "      <td>64.68</td>\n",
       "      <td>0.0</td>\n",
       "      <td>125.00</td>\n",
       "      <td>145.0</td>\n",
       "      <td>145.0</td>\n",
       "      <td>580.0</td>\n",
       "    </tr>\n",
       "    <tr>\n",
       "      <th>mpg</th>\n",
       "      <td>63860.0</td>\n",
       "      <td>55.89</td>\n",
       "      <td>17.07</td>\n",
       "      <td>1.1</td>\n",
       "      <td>47.90</td>\n",
       "      <td>55.4</td>\n",
       "      <td>64.2</td>\n",
       "      <td>470.8</td>\n",
       "    </tr>\n",
       "    <tr>\n",
       "      <th>engineSize</th>\n",
       "      <td>63860.0</td>\n",
       "      <td>1.72</td>\n",
       "      <td>0.59</td>\n",
       "      <td>0.0</td>\n",
       "      <td>1.20</td>\n",
       "      <td>1.6</td>\n",
       "      <td>2.0</td>\n",
       "      <td>6.6</td>\n",
       "    </tr>\n",
       "    <tr>\n",
       "      <th>price</th>\n",
       "      <td>63860.0</td>\n",
       "      <td>18099.64</td>\n",
       "      <td>10258.79</td>\n",
       "      <td>650.0</td>\n",
       "      <td>10990.00</td>\n",
       "      <td>15995.0</td>\n",
       "      <td>22450.0</td>\n",
       "      <td>154998.0</td>\n",
       "    </tr>\n",
       "  </tbody>\n",
       "</table>\n",
       "</div>"
      ],
      "text/plain": [
       "              count      mean       std     min       25%      50%      75%  \\\n",
       "year        63860.0   2017.10      2.13  1996.0   2016.00   2017.0   2019.0   \n",
       "mileage     63860.0  23131.80  21447.77     1.0   7076.75  17304.0  32500.0   \n",
       "tax         63860.0    118.67     64.68     0.0    125.00    145.0    145.0   \n",
       "mpg         63860.0     55.89     17.07     1.1     47.90     55.4     64.2   \n",
       "engineSize  63860.0      1.72      0.59     0.0      1.20      1.6      2.0   \n",
       "price       63860.0  18099.64  10258.79   650.0  10990.00  15995.0  22450.0   \n",
       "\n",
       "                 max  \n",
       "year          2060.0  \n",
       "mileage     323000.0  \n",
       "tax            580.0  \n",
       "mpg            470.8  \n",
       "engineSize       6.6  \n",
       "price       154998.0  "
      ]
     },
     "execution_count": 14,
     "metadata": {},
     "output_type": "execute_result"
    }
   ],
   "source": [
    "# Посмотрим на описательную статистику количественных переменных в train_df\n",
    "train_df.describe().round(2).T"
   ]
  },
  {
   "cell_type": "code",
   "execution_count": 15,
   "metadata": {},
   "outputs": [
    {
     "data": {
      "text/html": [
       "<div>\n",
       "<style scoped>\n",
       "    .dataframe tbody tr th:only-of-type {\n",
       "        vertical-align: middle;\n",
       "    }\n",
       "\n",
       "    .dataframe tbody tr th {\n",
       "        vertical-align: top;\n",
       "    }\n",
       "\n",
       "    .dataframe thead th {\n",
       "        text-align: right;\n",
       "    }\n",
       "</style>\n",
       "<table border=\"1\" class=\"dataframe\">\n",
       "  <thead>\n",
       "    <tr style=\"text-align: right;\">\n",
       "      <th></th>\n",
       "      <th>count</th>\n",
       "      <th>mean</th>\n",
       "      <th>std</th>\n",
       "      <th>min</th>\n",
       "      <th>25%</th>\n",
       "      <th>50%</th>\n",
       "      <th>75%</th>\n",
       "      <th>max</th>\n",
       "    </tr>\n",
       "  </thead>\n",
       "  <tbody>\n",
       "    <tr>\n",
       "      <th>year</th>\n",
       "      <td>16139.0</td>\n",
       "      <td>2017.09</td>\n",
       "      <td>2.17</td>\n",
       "      <td>1970.0</td>\n",
       "      <td>2016.0</td>\n",
       "      <td>2017.0</td>\n",
       "      <td>2019.0</td>\n",
       "      <td>2020.0</td>\n",
       "    </tr>\n",
       "    <tr>\n",
       "      <th>mileage</th>\n",
       "      <td>16139.0</td>\n",
       "      <td>23269.39</td>\n",
       "      <td>21536.23</td>\n",
       "      <td>1.0</td>\n",
       "      <td>7147.0</td>\n",
       "      <td>17406.0</td>\n",
       "      <td>32793.5</td>\n",
       "      <td>177644.0</td>\n",
       "    </tr>\n",
       "    <tr>\n",
       "      <th>tax</th>\n",
       "      <td>16139.0</td>\n",
       "      <td>118.96</td>\n",
       "      <td>65.59</td>\n",
       "      <td>0.0</td>\n",
       "      <td>125.0</td>\n",
       "      <td>145.0</td>\n",
       "      <td>145.0</td>\n",
       "      <td>580.0</td>\n",
       "    </tr>\n",
       "    <tr>\n",
       "      <th>mpg</th>\n",
       "      <td>16139.0</td>\n",
       "      <td>55.92</td>\n",
       "      <td>17.08</td>\n",
       "      <td>0.3</td>\n",
       "      <td>47.1</td>\n",
       "      <td>55.4</td>\n",
       "      <td>64.2</td>\n",
       "      <td>470.8</td>\n",
       "    </tr>\n",
       "    <tr>\n",
       "      <th>engineSize</th>\n",
       "      <td>16139.0</td>\n",
       "      <td>1.72</td>\n",
       "      <td>0.59</td>\n",
       "      <td>0.0</td>\n",
       "      <td>1.2</td>\n",
       "      <td>1.6</td>\n",
       "      <td>2.0</td>\n",
       "      <td>6.2</td>\n",
       "    </tr>\n",
       "    <tr>\n",
       "      <th>id</th>\n",
       "      <td>16139.0</td>\n",
       "      <td>8069.00</td>\n",
       "      <td>4659.07</td>\n",
       "      <td>0.0</td>\n",
       "      <td>4034.5</td>\n",
       "      <td>8069.0</td>\n",
       "      <td>12103.5</td>\n",
       "      <td>16138.0</td>\n",
       "    </tr>\n",
       "  </tbody>\n",
       "</table>\n",
       "</div>"
      ],
      "text/plain": [
       "              count      mean       std     min     25%      50%      75%  \\\n",
       "year        16139.0   2017.09      2.17  1970.0  2016.0   2017.0   2019.0   \n",
       "mileage     16139.0  23269.39  21536.23     1.0  7147.0  17406.0  32793.5   \n",
       "tax         16139.0    118.96     65.59     0.0   125.0    145.0    145.0   \n",
       "mpg         16139.0     55.92     17.08     0.3    47.1     55.4     64.2   \n",
       "engineSize  16139.0      1.72      0.59     0.0     1.2      1.6      2.0   \n",
       "id          16139.0   8069.00   4659.07     0.0  4034.5   8069.0  12103.5   \n",
       "\n",
       "                 max  \n",
       "year          2020.0  \n",
       "mileage     177644.0  \n",
       "tax            580.0  \n",
       "mpg            470.8  \n",
       "engineSize       6.2  \n",
       "id           16138.0  "
      ]
     },
     "execution_count": 15,
     "metadata": {},
     "output_type": "execute_result"
    }
   ],
   "source": [
    "# Посмотрим на описательную статистику количественных переменных в train_df\n",
    "x_predict.describe().round(2).T"
   ]
  },
  {
   "cell_type": "code",
   "execution_count": 16,
   "metadata": {},
   "outputs": [
    {
     "data": {
      "text/html": [
       "<div>\n",
       "<style scoped>\n",
       "    .dataframe tbody tr th:only-of-type {\n",
       "        vertical-align: middle;\n",
       "    }\n",
       "\n",
       "    .dataframe tbody tr th {\n",
       "        vertical-align: top;\n",
       "    }\n",
       "\n",
       "    .dataframe thead th {\n",
       "        text-align: right;\n",
       "    }\n",
       "</style>\n",
       "<table border=\"1\" class=\"dataframe\">\n",
       "  <thead>\n",
       "    <tr style=\"text-align: right;\">\n",
       "      <th></th>\n",
       "      <th>count</th>\n",
       "      <th>unique</th>\n",
       "      <th>top</th>\n",
       "      <th>freq</th>\n",
       "    </tr>\n",
       "  </thead>\n",
       "  <tbody>\n",
       "    <tr>\n",
       "      <th>model</th>\n",
       "      <td>63860</td>\n",
       "      <td>155</td>\n",
       "      <td>Fiesta</td>\n",
       "      <td>5210</td>\n",
       "    </tr>\n",
       "    <tr>\n",
       "      <th>transmission</th>\n",
       "      <td>63860</td>\n",
       "      <td>4</td>\n",
       "      <td>Manual</td>\n",
       "      <td>32350</td>\n",
       "    </tr>\n",
       "    <tr>\n",
       "      <th>fuelType</th>\n",
       "      <td>63860</td>\n",
       "      <td>5</td>\n",
       "      <td>Petrol</td>\n",
       "      <td>32602</td>\n",
       "    </tr>\n",
       "    <tr>\n",
       "      <th>car_maker</th>\n",
       "      <td>63860</td>\n",
       "      <td>7</td>\n",
       "      <td>ford</td>\n",
       "      <td>14279</td>\n",
       "    </tr>\n",
       "  </tbody>\n",
       "</table>\n",
       "</div>"
      ],
      "text/plain": [
       "              count unique     top   freq\n",
       "model         63860    155  Fiesta   5210\n",
       "transmission  63860      4  Manual  32350\n",
       "fuelType      63860      5  Petrol  32602\n",
       "car_maker     63860      7    ford  14279"
      ]
     },
     "execution_count": 16,
     "metadata": {},
     "output_type": "execute_result"
    }
   ],
   "source": [
    "# Посмотрим на описательную статистику категориальных переменных в train_df\n",
    "train_df.describe(include=['O']).T"
   ]
  },
  {
   "cell_type": "code",
   "execution_count": 17,
   "metadata": {},
   "outputs": [
    {
     "data": {
      "text/html": [
       "<div>\n",
       "<style scoped>\n",
       "    .dataframe tbody tr th:only-of-type {\n",
       "        vertical-align: middle;\n",
       "    }\n",
       "\n",
       "    .dataframe tbody tr th {\n",
       "        vertical-align: top;\n",
       "    }\n",
       "\n",
       "    .dataframe thead th {\n",
       "        text-align: right;\n",
       "    }\n",
       "</style>\n",
       "<table border=\"1\" class=\"dataframe\">\n",
       "  <thead>\n",
       "    <tr style=\"text-align: right;\">\n",
       "      <th></th>\n",
       "      <th>count</th>\n",
       "      <th>unique</th>\n",
       "      <th>top</th>\n",
       "      <th>freq</th>\n",
       "    </tr>\n",
       "  </thead>\n",
       "  <tbody>\n",
       "    <tr>\n",
       "      <th>model</th>\n",
       "      <td>16139</td>\n",
       "      <td>143</td>\n",
       "      <td>Fiesta</td>\n",
       "      <td>1316</td>\n",
       "    </tr>\n",
       "    <tr>\n",
       "      <th>transmission</th>\n",
       "      <td>16139</td>\n",
       "      <td>3</td>\n",
       "      <td>Manual</td>\n",
       "      <td>8161</td>\n",
       "    </tr>\n",
       "    <tr>\n",
       "      <th>fuelType</th>\n",
       "      <td>16139</td>\n",
       "      <td>4</td>\n",
       "      <td>Petrol</td>\n",
       "      <td>8233</td>\n",
       "    </tr>\n",
       "    <tr>\n",
       "      <th>car_maker</th>\n",
       "      <td>16139</td>\n",
       "      <td>7</td>\n",
       "      <td>ford</td>\n",
       "      <td>3593</td>\n",
       "    </tr>\n",
       "  </tbody>\n",
       "</table>\n",
       "</div>"
      ],
      "text/plain": [
       "              count unique     top  freq\n",
       "model         16139    143  Fiesta  1316\n",
       "transmission  16139      3  Manual  8161\n",
       "fuelType      16139      4  Petrol  8233\n",
       "car_maker     16139      7    ford  3593"
      ]
     },
     "execution_count": 17,
     "metadata": {},
     "output_type": "execute_result"
    }
   ],
   "source": [
    "# Посмотрим на описательную статистику категориальных переменных в x_predict\n",
    "x_predict.describe(include=['O']).T"
   ]
  },
  {
   "cell_type": "code",
   "execution_count": 18,
   "metadata": {},
   "outputs": [
    {
     "data": {
      "image/png": "[encoded data removed]",
      "text/plain": [
       "<Figure size 1440x612 with 6 Axes>"
      ]
     },
     "metadata": {
      "needs_background": "light"
     },
     "output_type": "display_data"
    }
   ],
   "source": [
    "# Посмотрим на распределения количественных переменных в train_df\n",
    "train_df[numeric_columns].hist(figsize=(20, 8.5), layout=(2, 3), bins=20);"
   ]
  },
  {
   "cell_type": "markdown",
   "metadata": {},
   "source": [
    "Видно что у целевой переменной `price` тяжёлый правый хвост."
   ]
  },
  {
   "cell_type": "code",
   "execution_count": 19,
   "metadata": {},
   "outputs": [
    {
     "data": {
      "image/png": "[encoded data removed]",
      "text/plain": [
       "<Figure size 1296x432 with 6 Axes>"
      ]
     },
     "metadata": {
      "needs_background": "light"
     },
     "output_type": "display_data"
    }
   ],
   "source": [
    "# Посмотрим на распределения количественных переменных с помоьщью боксплот\n",
    "fig, ax = plt.subplots(2, 3, figsize=(18, 6))\n",
    "\n",
    "for ax, data in zip(ax.flatten(), numeric_columns):\n",
    "    sns.boxplot(data=train_df, x=data, ax=ax)\n",
    "    ax.set(title=data, xlabel='')\n",
    "plt.tight_layout();"
   ]
  },
  {
   "cell_type": "markdown",
   "metadata": {},
   "source": [
    "Из разпределений видно, что во всех количественных переменных имеются существенные выбросы. При этом есть ошибка в данных - год выпуска автомобиля 2060. Посмотрим на это наблюдение."
   ]
  },
  {
   "cell_type": "code",
   "execution_count": 20,
   "metadata": {},
   "outputs": [
    {
     "data": {
      "text/html": [
       "<div>\n",
       "<style scoped>\n",
       "    .dataframe tbody tr th:only-of-type {\n",
       "        vertical-align: middle;\n",
       "    }\n",
       "\n",
       "    .dataframe tbody tr th {\n",
       "        vertical-align: top;\n",
       "    }\n",
       "\n",
       "    .dataframe thead th {\n",
       "        text-align: right;\n",
       "    }\n",
       "</style>\n",
       "<table border=\"1\" class=\"dataframe\">\n",
       "  <thead>\n",
       "    <tr style=\"text-align: right;\">\n",
       "      <th></th>\n",
       "      <th>model</th>\n",
       "      <th>year</th>\n",
       "      <th>transmission</th>\n",
       "      <th>mileage</th>\n",
       "      <th>fuelType</th>\n",
       "      <th>tax</th>\n",
       "      <th>mpg</th>\n",
       "      <th>engineSize</th>\n",
       "      <th>car_maker</th>\n",
       "      <th>price</th>\n",
       "    </tr>\n",
       "  </thead>\n",
       "  <tbody>\n",
       "    <tr>\n",
       "      <th>31534</th>\n",
       "      <td>Fiesta</td>\n",
       "      <td>2060</td>\n",
       "      <td>Automatic</td>\n",
       "      <td>54807</td>\n",
       "      <td>Petrol</td>\n",
       "      <td>205</td>\n",
       "      <td>42.8</td>\n",
       "      <td>1.4</td>\n",
       "      <td>ford</td>\n",
       "      <td>6495</td>\n",
       "    </tr>\n",
       "  </tbody>\n",
       "</table>\n",
       "</div>"
      ],
      "text/plain": [
       "        model  year transmission  mileage fuelType  tax   mpg  engineSize  \\\n",
       "31534  Fiesta  2060    Automatic    54807   Petrol  205  42.8         1.4   \n",
       "\n",
       "      car_maker  price  \n",
       "31534      ford   6495  "
      ]
     },
     "execution_count": 20,
     "metadata": {},
     "output_type": "execute_result"
    }
   ],
   "source": [
    "train_df[train_df.year > 2022]"
   ]
  },
  {
   "cell_type": "code",
   "execution_count": 21,
   "metadata": {},
   "outputs": [],
   "source": [
    "# Исправим год выпуска на среднее значение среди этих моделей с похожими характеристиками\n",
    "fieata_mean = np.round(train_df.query('model == \"Fiesta\" & engineSize == 1.4 & fuelType == \"Petrol\"').year.mean()).astype(int)\n",
    "train_df.loc[31534, 'year'] = fieata_mean"
   ]
  },
  {
   "cell_type": "code",
   "execution_count": 22,
   "metadata": {},
   "outputs": [
    {
     "data": {
      "image/png": "[encoded data removed]",
      "text/plain": [
       "<Figure size 1296x432 with 1 Axes>"
      ]
     },
     "metadata": {
      "needs_background": "light"
     },
     "output_type": "display_data"
    }
   ],
   "source": [
    "# Посмотрим на распределение стоимости автомобиля в зависимости от производителя\n",
    "plt.figure(figsize=(18, 6))\n",
    "sns.boxplot(data=train_df, y='car_maker', x='price');"
   ]
  },
  {
   "cell_type": "markdown",
   "metadata": {},
   "source": [
    "Стоимость автомобилей марок `Mercedes`, `Audi` и `BMW` в среднем выше."
   ]
  },
  {
   "cell_type": "code",
   "execution_count": 23,
   "metadata": {},
   "outputs": [
    {
     "data": {
      "image/png": "[encoded data removed]",
      "text/plain": [
       "<Figure size 1296x432 with 1 Axes>"
      ]
     },
     "metadata": {
      "needs_background": "light"
     },
     "output_type": "display_data"
    }
   ],
   "source": [
    "# Посмотрим на распределение стоимости автомобиля в разрезе по типу топлива и трансмиссии\n",
    "plt.figure(figsize=(18, 6))\n",
    "sns.boxplot(data=train_df, x='price', y='fuelType', hue='transmission');"
   ]
  },
  {
   "cell_type": "markdown",
   "metadata": {},
   "source": [
    "Автомобили с полуавтоматической и автоматической коробкой передач в среднем дороже чем автомобили с механической коробкой передач в независимости от типа топлива."
   ]
  },
  {
   "cell_type": "code",
   "execution_count": 24,
   "metadata": {},
   "outputs": [
    {
     "data": {
      "image/png": "[encoded data removed]",
      "text/plain": [
       "<Figure size 1296x432 with 1 Axes>"
      ]
     },
     "metadata": {
      "needs_background": "light"
     },
     "output_type": "display_data"
    }
   ],
   "source": [
    "# Посмотрим на пробег автомобиля в зависимости от типа топлива и коробки передач\n",
    "plt.figure(figsize=(18, 6))\n",
    "sns.boxplot(data=train_df, y='fuelType', x='mileage', hue='transmission');"
   ]
  },
  {
   "cell_type": "markdown",
   "metadata": {},
   "source": [
    "У автомобилей с дизельным и бензиновым двигателем и ручной коробкой передач в среднем пробег выше."
   ]
  },
  {
   "cell_type": "code",
   "execution_count": 25,
   "metadata": {},
   "outputs": [
    {
     "data": {
      "image/png": "[encoded data removed]",
      "text/plain": [
       "<Figure size 1152x576 with 6 Axes>"
      ]
     },
     "metadata": {
      "needs_background": "light"
     },
     "output_type": "display_data"
    }
   ],
   "source": [
    "# Посмотрим на диаграмы рассеяния\n",
    "fig, axes = plt.subplots(nrows=2, ncols=3, figsize=(16, 8))\n",
    "for idx, feature in enumerate(numeric_columns):\n",
    "    train_df.plot(feature, 'price', subplots=True, kind='scatter', ax=axes[idx//3, idx%3], grid=True)\n",
    "plt.tight_layout();"
   ]
  },
  {
   "cell_type": "markdown",
   "metadata": {},
   "source": [
    "Из диаграмм рассеяния можно заметить ряд зависимостей:\n",
    "- чем выше год производства, тем выше стоимость авто;\n",
    "- чем меньше пробег в милях, тем дороже автомобиль;\n",
    "- включенный в стоимость автомобиля налог не имеет заметной линойной зависимости от уровня стоимости;\n",
    "- с увеличением количества миль, которые авто может проехать на 3,78 литрах топлива, снижается стоимости авто;\n",
    "- объем двигателя влияет на стоимость автомобиля."
   ]
  },
  {
   "cell_type": "markdown",
   "metadata": {},
   "source": [
    "**Расчитаем коэффициент корреляции Пирсона и посмотрим есть ли среди наши признаков мультиколлинеарность.**"
   ]
  },
  {
   "cell_type": "code",
   "execution_count": 26,
   "metadata": {},
   "outputs": [],
   "source": [
    "# Объявим функцию для визуализации матрицы корреляции Пирсона\n",
    "def plot_correlation_matrix(df, figsize=(6, 4)):\n",
    "    plt.figure(figsize=figsize)\n",
    "    corr_mxt = df.corr()\n",
    "    mtx = corr_mxt.where(np.triu(np.ones(corr_mxt.shape), k=1).astype(np.bool))\n",
    "    sns.heatmap(mtx, cmap='YlGnBu', annot=True, fmt='.2f', linewidths=1, annot_kws={'size': 14}, cbar=False)\n",
    "    plt.show();"
   ]
  },
  {
   "cell_type": "code",
   "execution_count": 27,
   "metadata": {},
   "outputs": [
    {
     "data": {
      "image/png": "[encoded data removed]",
      "text/plain": [
       "<Figure size 432x288 with 1 Axes>"
      ]
     },
     "metadata": {
      "needs_background": "light"
     },
     "output_type": "display_data"
    }
   ],
   "source": [
    "# Визуализируем корреляцию признаков\n",
    "plot_correlation_matrix(train_df)"
   ]
  },
  {
   "cell_type": "markdown",
   "metadata": {},
   "source": [
    "Наибольшая линейная зависимость имеется между факторами `year` и `mileage`, при этом очень сильной линейной зависимости меджу переменным нет."
   ]
  },
  {
   "cell_type": "markdown",
   "metadata": {},
   "source": [
    "<hr>"
   ]
  },
  {
   "cell_type": "markdown",
   "metadata": {},
   "source": [
    "### 2. Построение моделей и прогнозирование"
   ]
  },
  {
   "cell_type": "markdown",
   "metadata": {},
   "source": [
    "Подготовим данные для обучения и тестирования моделей."
   ]
  },
  {
   "cell_type": "code",
   "execution_count": 28,
   "metadata": {},
   "outputs": [],
   "source": [
    "x_full = train_df.drop(columns=['price'])\n",
    "y_full = train_df['price']"
   ]
  },
  {
   "cell_type": "code",
   "execution_count": 29,
   "metadata": {},
   "outputs": [],
   "source": [
    "num_features = [col for col in x_full.columns if x_full[col].dtype in ['int64', 'float64']]\n",
    "cat_features = [col for col in x_full.columns if col not in num_features]"
   ]
  },
  {
   "cell_type": "markdown",
   "metadata": {},
   "source": [
    "Разделим наши данные обучающую выборку и контрольную выборку."
   ]
  },
  {
   "cell_type": "code",
   "execution_count": 30,
   "metadata": {},
   "outputs": [],
   "source": [
    "x, x_сontrol, y, y_control = train_test_split(x_full, y_full, train_size=0.7, test_size=0.3, shuffle=True)"
   ]
  },
  {
   "cell_type": "markdown",
   "metadata": {},
   "source": [
    "Объявим вспомогательную функцию, которая на основании переданных аргументов будет строить модель множественной линейной регрессии с параметрами регуляризации и предобработки вещественных признаков с скалированием и нормализацией и категориальных признаков с помощью OneHotEncoder для кодирования переменных."
   ]
  },
  {
   "cell_type": "code",
   "execution_count": 31,
   "metadata": {},
   "outputs": [],
   "source": [
    "def make_model(alpha=0, penalty=None, with_categorical=True):\n",
    "    if penalty is None:\n",
    "        regressor = LinearRegression()\n",
    "    elif penalty == 'L1':\n",
    "        regressor = Lasso(alpha=alpha, random_state=SEED)\n",
    "    elif penalty == 'L2':\n",
    "        regressor = Ridge(alpha=alpha, random_state=SEED)\n",
    "    \n",
    "    if with_categorical:\n",
    "        return pipeline.Pipeline(steps = [\n",
    "            ('feature_processing', pipeline.FeatureUnion(transformer_list = [\n",
    "                ('numeric_variables_processing ', pipeline.Pipeline(steps = [\n",
    "                    # преобразование вещественных признаков с помощью RobustScaler\n",
    "                    ('selecting', preprocessing.FunctionTransformer(lambda data: data[num_features])),\n",
    "                    ('scaling', preprocessing.RobustScaler())])\n",
    "                ),\n",
    "                ('categorical_variables_processing', pipeline.Pipeline(steps = [\n",
    "                    # преобразование вещественных признаков с помощью OneHotEncoder\n",
    "                    ('selecting', preprocessing.FunctionTransformer(lambda data: data[cat_features])),\n",
    "                    ('hot_encoding', preprocessing.OneHotEncoder(handle_unknown = 'ignore'))])\n",
    "                )])\n",
    "            ),\n",
    "            ('model_fitting', regressor)])\n",
    "    else:\n",
    "        return pipeline.Pipeline(steps = [\n",
    "        ('scaling', RobustScaler()),\n",
    "        ('model_fitting', regressor)])"
   ]
  },
  {
   "cell_type": "markdown",
   "metadata": {},
   "source": [
    "**Попробуем обучить модели линейной регрессии только на вещественных признаках.**"
   ]
  },
  {
   "cell_type": "code",
   "execution_count": 32,
   "metadata": {},
   "outputs": [
    {
     "data": {
      "text/html": [
       "<style>#sk-db94d7f7-6dab-4218-b247-6cd1d46fd5f1 {color: black;background-color: white;}#sk-db94d7f7-6dab-4218-b247-6cd1d46fd5f1 pre{padding: 0;}#sk-db94d7f7-6dab-4218-b247-6cd1d46fd5f1 div.sk-toggleable {background-color: white;}#sk-db94d7f7-6dab-4218-b247-6cd1d46fd5f1 label.sk-toggleable__label {cursor: pointer;display: block;width: 100%;margin-bottom: 0;padding: 0.3em;box-sizing: border-box;text-align: center;}#sk-db94d7f7-6dab-4218-b247-6cd1d46fd5f1 label.sk-toggleable__label-arrow:before {content: \"▸\";float: left;margin-right: 0.25em;color: #696969;}#sk-db94d7f7-6dab-4218-b247-6cd1d46fd5f1 label.sk-toggleable__label-arrow:hover:before {color: black;}#sk-db94d7f7-6dab-4218-b247-6cd1d46fd5f1 div.sk-estimator:hover label.sk-toggleable__label-arrow:before {color: black;}#sk-db94d7f7-6dab-4218-b247-6cd1d46fd5f1 div.sk-toggleable__content {max-height: 0;max-width: 0;overflow: hidden;text-align: left;background-color: #f0f8ff;}#sk-db94d7f7-6dab-4218-b247-6cd1d46fd5f1 div.sk-toggleable__content pre {margin: 0.2em;color: black;border-radius: 0.25em;background-color: #f0f8ff;}#sk-db94d7f7-6dab-4218-b247-6cd1d46fd5f1 input.sk-toggleable__control:checked~div.sk-toggleable__content {max-height: 200px;max-width: 100%;overflow: auto;}#sk-db94d7f7-6dab-4218-b247-6cd1d46fd5f1 input.sk-toggleable__control:checked~label.sk-toggleable__label-arrow:before {content: \"▾\";}#sk-db94d7f7-6dab-4218-b247-6cd1d46fd5f1 div.sk-estimator input.sk-toggleable__control:checked~label.sk-toggleable__label {background-color: #d4ebff;}#sk-db94d7f7-6dab-4218-b247-6cd1d46fd5f1 div.sk-label input.sk-toggleable__control:checked~label.sk-toggleable__label {background-color: #d4ebff;}#sk-db94d7f7-6dab-4218-b247-6cd1d46fd5f1 input.sk-hidden--visually {border: 0;clip: rect(1px 1px 1px 1px);clip: rect(1px, 1px, 1px, 1px);height: 1px;margin: -1px;overflow: hidden;padding: 0;position: absolute;width: 1px;}#sk-db94d7f7-6dab-4218-b247-6cd1d46fd5f1 div.sk-estimator {font-family: monospace;background-color: #f0f8ff;border: 1px dotted black;border-radius: 0.25em;box-sizing: border-box;margin-bottom: 0.5em;}#sk-db94d7f7-6dab-4218-b247-6cd1d46fd5f1 div.sk-estimator:hover {background-color: #d4ebff;}#sk-db94d7f7-6dab-4218-b247-6cd1d46fd5f1 div.sk-parallel-item::after {content: \"\";width: 100%;border-bottom: 1px solid gray;flex-grow: 1;}#sk-db94d7f7-6dab-4218-b247-6cd1d46fd5f1 div.sk-label:hover label.sk-toggleable__label {background-color: #d4ebff;}#sk-db94d7f7-6dab-4218-b247-6cd1d46fd5f1 div.sk-serial::before {content: \"\";position: absolute;border-left: 1px solid gray;box-sizing: border-box;top: 2em;bottom: 0;left: 50%;}#sk-db94d7f7-6dab-4218-b247-6cd1d46fd5f1 div.sk-serial {display: flex;flex-direction: column;align-items: center;background-color: white;padding-right: 0.2em;padding-left: 0.2em;}#sk-db94d7f7-6dab-4218-b247-6cd1d46fd5f1 div.sk-item {z-index: 1;}#sk-db94d7f7-6dab-4218-b247-6cd1d46fd5f1 div.sk-parallel {display: flex;align-items: stretch;justify-content: center;background-color: white;}#sk-db94d7f7-6dab-4218-b247-6cd1d46fd5f1 div.sk-parallel::before {content: \"\";position: absolute;border-left: 1px solid gray;box-sizing: border-box;top: 2em;bottom: 0;left: 50%;}#sk-db94d7f7-6dab-4218-b247-6cd1d46fd5f1 div.sk-parallel-item {display: flex;flex-direction: column;position: relative;background-color: white;}#sk-db94d7f7-6dab-4218-b247-6cd1d46fd5f1 div.sk-parallel-item:first-child::after {align-self: flex-end;width: 50%;}#sk-db94d7f7-6dab-4218-b247-6cd1d46fd5f1 div.sk-parallel-item:last-child::after {align-self: flex-start;width: 50%;}#sk-db94d7f7-6dab-4218-b247-6cd1d46fd5f1 div.sk-parallel-item:only-child::after {width: 0;}#sk-db94d7f7-6dab-4218-b247-6cd1d46fd5f1 div.sk-dashed-wrapped {border: 1px dashed gray;margin: 0 0.4em 0.5em 0.4em;box-sizing: border-box;padding-bottom: 0.4em;background-color: white;position: relative;}#sk-db94d7f7-6dab-4218-b247-6cd1d46fd5f1 div.sk-label label {font-family: monospace;font-weight: bold;background-color: white;display: inline-block;line-height: 1.2em;}#sk-db94d7f7-6dab-4218-b247-6cd1d46fd5f1 div.sk-label-container {position: relative;z-index: 2;text-align: center;}#sk-db94d7f7-6dab-4218-b247-6cd1d46fd5f1 div.sk-container {/* jupyter's `normalize.less` sets `[hidden] { display: none; }` but bootstrap.min.css set `[hidden] { display: none !important; }` so we also need the `!important` here to be able to override the default hidden behavior on the sphinx rendered scikit-learn.org. See: https://github.com/scikit-learn/scikit-learn/issues/21755 */display: inline-block !important;position: relative;}#sk-db94d7f7-6dab-4218-b247-6cd1d46fd5f1 div.sk-text-repr-fallback {display: none;}</style><div id=\"sk-db94d7f7-6dab-4218-b247-6cd1d46fd5f1\" class=\"sk-top-container\"><div class=\"sk-text-repr-fallback\"><pre>Pipeline(steps=[(&#x27;scaling&#x27;, RobustScaler()),\n",
       "                (&#x27;model_fitting&#x27;, LinearRegression())])</pre><b>Please rerun this cell to show the HTML repr or trust the notebook.</b></div><div class=\"sk-container\" hidden><div class=\"sk-item sk-dashed-wrapped\"><div class=\"sk-label-container\"><div class=\"sk-label sk-toggleable\"><input class=\"sk-toggleable__control sk-hidden--visually\" id=\"b9687174-8ae1-41c3-9db6-aceb6e4a6e59\" type=\"checkbox\" ><label for=\"b9687174-8ae1-41c3-9db6-aceb6e4a6e59\" class=\"sk-toggleable__label sk-toggleable__label-arrow\">Pipeline</label><div class=\"sk-toggleable__content\"><pre>Pipeline(steps=[(&#x27;scaling&#x27;, RobustScaler()),\n",
       "                (&#x27;model_fitting&#x27;, LinearRegression())])</pre></div></div></div><div class=\"sk-serial\"><div class=\"sk-item\"><div class=\"sk-estimator sk-toggleable\"><input class=\"sk-toggleable__control sk-hidden--visually\" id=\"62098c21-4fed-4ca2-bb6b-89c0ae40ffd9\" type=\"checkbox\" ><label for=\"62098c21-4fed-4ca2-bb6b-89c0ae40ffd9\" class=\"sk-toggleable__label sk-toggleable__label-arrow\">RobustScaler</label><div class=\"sk-toggleable__content\"><pre>RobustScaler()</pre></div></div></div><div class=\"sk-item\"><div class=\"sk-estimator sk-toggleable\"><input class=\"sk-toggleable__control sk-hidden--visually\" id=\"828c016a-bc26-4581-81dd-0c03c739a41e\" type=\"checkbox\" ><label for=\"828c016a-bc26-4581-81dd-0c03c739a41e\" class=\"sk-toggleable__label sk-toggleable__label-arrow\">LinearRegression</label><div class=\"sk-toggleable__content\"><pre>LinearRegression()</pre></div></div></div></div></div></div></div>"
      ],
      "text/plain": [
       "Pipeline(steps=[('scaling', RobustScaler()),\n",
       "                ('model_fitting', LinearRegression())])"
      ]
     },
     "metadata": {},
     "output_type": "display_data"
    },
    {
     "data": {
      "text/html": [
       "<style>#sk-2887aa40-c494-4742-a726-7d0453888347 {color: black;background-color: white;}#sk-2887aa40-c494-4742-a726-7d0453888347 pre{padding: 0;}#sk-2887aa40-c494-4742-a726-7d0453888347 div.sk-toggleable {background-color: white;}#sk-2887aa40-c494-4742-a726-7d0453888347 label.sk-toggleable__label {cursor: pointer;display: block;width: 100%;margin-bottom: 0;padding: 0.3em;box-sizing: border-box;text-align: center;}#sk-2887aa40-c494-4742-a726-7d0453888347 label.sk-toggleable__label-arrow:before {content: \"▸\";float: left;margin-right: 0.25em;color: #696969;}#sk-2887aa40-c494-4742-a726-7d0453888347 label.sk-toggleable__label-arrow:hover:before {color: black;}#sk-2887aa40-c494-4742-a726-7d0453888347 div.sk-estimator:hover label.sk-toggleable__label-arrow:before {color: black;}#sk-2887aa40-c494-4742-a726-7d0453888347 div.sk-toggleable__content {max-height: 0;max-width: 0;overflow: hidden;text-align: left;background-color: #f0f8ff;}#sk-2887aa40-c494-4742-a726-7d0453888347 div.sk-toggleable__content pre {margin: 0.2em;color: black;border-radius: 0.25em;background-color: #f0f8ff;}#sk-2887aa40-c494-4742-a726-7d0453888347 input.sk-toggleable__control:checked~div.sk-toggleable__content {max-height: 200px;max-width: 100%;overflow: auto;}#sk-2887aa40-c494-4742-a726-7d0453888347 input.sk-toggleable__control:checked~label.sk-toggleable__label-arrow:before {content: \"▾\";}#sk-2887aa40-c494-4742-a726-7d0453888347 div.sk-estimator input.sk-toggleable__control:checked~label.sk-toggleable__label {background-color: #d4ebff;}#sk-2887aa40-c494-4742-a726-7d0453888347 div.sk-label input.sk-toggleable__control:checked~label.sk-toggleable__label {background-color: #d4ebff;}#sk-2887aa40-c494-4742-a726-7d0453888347 input.sk-hidden--visually {border: 0;clip: rect(1px 1px 1px 1px);clip: rect(1px, 1px, 1px, 1px);height: 1px;margin: -1px;overflow: hidden;padding: 0;position: absolute;width: 1px;}#sk-2887aa40-c494-4742-a726-7d0453888347 div.sk-estimator {font-family: monospace;background-color: #f0f8ff;border: 1px dotted black;border-radius: 0.25em;box-sizing: border-box;margin-bottom: 0.5em;}#sk-2887aa40-c494-4742-a726-7d0453888347 div.sk-estimator:hover {background-color: #d4ebff;}#sk-2887aa40-c494-4742-a726-7d0453888347 div.sk-parallel-item::after {content: \"\";width: 100%;border-bottom: 1px solid gray;flex-grow: 1;}#sk-2887aa40-c494-4742-a726-7d0453888347 div.sk-label:hover label.sk-toggleable__label {background-color: #d4ebff;}#sk-2887aa40-c494-4742-a726-7d0453888347 div.sk-serial::before {content: \"\";position: absolute;border-left: 1px solid gray;box-sizing: border-box;top: 2em;bottom: 0;left: 50%;}#sk-2887aa40-c494-4742-a726-7d0453888347 div.sk-serial {display: flex;flex-direction: column;align-items: center;background-color: white;padding-right: 0.2em;padding-left: 0.2em;}#sk-2887aa40-c494-4742-a726-7d0453888347 div.sk-item {z-index: 1;}#sk-2887aa40-c494-4742-a726-7d0453888347 div.sk-parallel {display: flex;align-items: stretch;justify-content: center;background-color: white;}#sk-2887aa40-c494-4742-a726-7d0453888347 div.sk-parallel::before {content: \"\";position: absolute;border-left: 1px solid gray;box-sizing: border-box;top: 2em;bottom: 0;left: 50%;}#sk-2887aa40-c494-4742-a726-7d0453888347 div.sk-parallel-item {display: flex;flex-direction: column;position: relative;background-color: white;}#sk-2887aa40-c494-4742-a726-7d0453888347 div.sk-parallel-item:first-child::after {align-self: flex-end;width: 50%;}#sk-2887aa40-c494-4742-a726-7d0453888347 div.sk-parallel-item:last-child::after {align-self: flex-start;width: 50%;}#sk-2887aa40-c494-4742-a726-7d0453888347 div.sk-parallel-item:only-child::after {width: 0;}#sk-2887aa40-c494-4742-a726-7d0453888347 div.sk-dashed-wrapped {border: 1px dashed gray;margin: 0 0.4em 0.5em 0.4em;box-sizing: border-box;padding-bottom: 0.4em;background-color: white;position: relative;}#sk-2887aa40-c494-4742-a726-7d0453888347 div.sk-label label {font-family: monospace;font-weight: bold;background-color: white;display: inline-block;line-height: 1.2em;}#sk-2887aa40-c494-4742-a726-7d0453888347 div.sk-label-container {position: relative;z-index: 2;text-align: center;}#sk-2887aa40-c494-4742-a726-7d0453888347 div.sk-container {/* jupyter's `normalize.less` sets `[hidden] { display: none; }` but bootstrap.min.css set `[hidden] { display: none !important; }` so we also need the `!important` here to be able to override the default hidden behavior on the sphinx rendered scikit-learn.org. See: https://github.com/scikit-learn/scikit-learn/issues/21755 */display: inline-block !important;position: relative;}#sk-2887aa40-c494-4742-a726-7d0453888347 div.sk-text-repr-fallback {display: none;}</style><div id=\"sk-2887aa40-c494-4742-a726-7d0453888347\" class=\"sk-top-container\"><div class=\"sk-text-repr-fallback\"><pre>Pipeline(steps=[(&#x27;scaling&#x27;, RobustScaler()),\n",
       "                (&#x27;model_fitting&#x27;, Lasso(alpha=0, random_state=42))])</pre><b>Please rerun this cell to show the HTML repr or trust the notebook.</b></div><div class=\"sk-container\" hidden><div class=\"sk-item sk-dashed-wrapped\"><div class=\"sk-label-container\"><div class=\"sk-label sk-toggleable\"><input class=\"sk-toggleable__control sk-hidden--visually\" id=\"d224d9b6-25f3-45dd-9b31-c4e25dce7dde\" type=\"checkbox\" ><label for=\"d224d9b6-25f3-45dd-9b31-c4e25dce7dde\" class=\"sk-toggleable__label sk-toggleable__label-arrow\">Pipeline</label><div class=\"sk-toggleable__content\"><pre>Pipeline(steps=[(&#x27;scaling&#x27;, RobustScaler()),\n",
       "                (&#x27;model_fitting&#x27;, Lasso(alpha=0, random_state=42))])</pre></div></div></div><div class=\"sk-serial\"><div class=\"sk-item\"><div class=\"sk-estimator sk-toggleable\"><input class=\"sk-toggleable__control sk-hidden--visually\" id=\"5a47ae88-1a0c-470a-89c8-419f58a9d6ef\" type=\"checkbox\" ><label for=\"5a47ae88-1a0c-470a-89c8-419f58a9d6ef\" class=\"sk-toggleable__label sk-toggleable__label-arrow\">RobustScaler</label><div class=\"sk-toggleable__content\"><pre>RobustScaler()</pre></div></div></div><div class=\"sk-item\"><div class=\"sk-estimator sk-toggleable\"><input class=\"sk-toggleable__control sk-hidden--visually\" id=\"055cd73c-409a-4697-a7f3-9809c9418e0b\" type=\"checkbox\" ><label for=\"055cd73c-409a-4697-a7f3-9809c9418e0b\" class=\"sk-toggleable__label sk-toggleable__label-arrow\">Lasso</label><div class=\"sk-toggleable__content\"><pre>Lasso(alpha=0, random_state=42)</pre></div></div></div></div></div></div></div>"
      ],
      "text/plain": [
       "Pipeline(steps=[('scaling', RobustScaler()),\n",
       "                ('model_fitting', Lasso(alpha=0, random_state=42))])"
      ]
     },
     "metadata": {},
     "output_type": "display_data"
    },
    {
     "data": {
      "text/html": [
       "<style>#sk-73fc6b84-14c7-4182-9c3b-a7993ce6cbd6 {color: black;background-color: white;}#sk-73fc6b84-14c7-4182-9c3b-a7993ce6cbd6 pre{padding: 0;}#sk-73fc6b84-14c7-4182-9c3b-a7993ce6cbd6 div.sk-toggleable {background-color: white;}#sk-73fc6b84-14c7-4182-9c3b-a7993ce6cbd6 label.sk-toggleable__label {cursor: pointer;display: block;width: 100%;margin-bottom: 0;padding: 0.3em;box-sizing: border-box;text-align: center;}#sk-73fc6b84-14c7-4182-9c3b-a7993ce6cbd6 label.sk-toggleable__label-arrow:before {content: \"▸\";float: left;margin-right: 0.25em;color: #696969;}#sk-73fc6b84-14c7-4182-9c3b-a7993ce6cbd6 label.sk-toggleable__label-arrow:hover:before {color: black;}#sk-73fc6b84-14c7-4182-9c3b-a7993ce6cbd6 div.sk-estimator:hover label.sk-toggleable__label-arrow:before {color: black;}#sk-73fc6b84-14c7-4182-9c3b-a7993ce6cbd6 div.sk-toggleable__content {max-height: 0;max-width: 0;overflow: hidden;text-align: left;background-color: #f0f8ff;}#sk-73fc6b84-14c7-4182-9c3b-a7993ce6cbd6 div.sk-toggleable__content pre {margin: 0.2em;color: black;border-radius: 0.25em;background-color: #f0f8ff;}#sk-73fc6b84-14c7-4182-9c3b-a7993ce6cbd6 input.sk-toggleable__control:checked~div.sk-toggleable__content {max-height: 200px;max-width: 100%;overflow: auto;}#sk-73fc6b84-14c7-4182-9c3b-a7993ce6cbd6 input.sk-toggleable__control:checked~label.sk-toggleable__label-arrow:before {content: \"▾\";}#sk-73fc6b84-14c7-4182-9c3b-a7993ce6cbd6 div.sk-estimator input.sk-toggleable__control:checked~label.sk-toggleable__label {background-color: #d4ebff;}#sk-73fc6b84-14c7-4182-9c3b-a7993ce6cbd6 div.sk-label input.sk-toggleable__control:checked~label.sk-toggleable__label {background-color: #d4ebff;}#sk-73fc6b84-14c7-4182-9c3b-a7993ce6cbd6 input.sk-hidden--visually {border: 0;clip: rect(1px 1px 1px 1px);clip: rect(1px, 1px, 1px, 1px);height: 1px;margin: -1px;overflow: hidden;padding: 0;position: absolute;width: 1px;}#sk-73fc6b84-14c7-4182-9c3b-a7993ce6cbd6 div.sk-estimator {font-family: monospace;background-color: #f0f8ff;border: 1px dotted black;border-radius: 0.25em;box-sizing: border-box;margin-bottom: 0.5em;}#sk-73fc6b84-14c7-4182-9c3b-a7993ce6cbd6 div.sk-estimator:hover {background-color: #d4ebff;}#sk-73fc6b84-14c7-4182-9c3b-a7993ce6cbd6 div.sk-parallel-item::after {content: \"\";width: 100%;border-bottom: 1px solid gray;flex-grow: 1;}#sk-73fc6b84-14c7-4182-9c3b-a7993ce6cbd6 div.sk-label:hover label.sk-toggleable__label {background-color: #d4ebff;}#sk-73fc6b84-14c7-4182-9c3b-a7993ce6cbd6 div.sk-serial::before {content: \"\";position: absolute;border-left: 1px solid gray;box-sizing: border-box;top: 2em;bottom: 0;left: 50%;}#sk-73fc6b84-14c7-4182-9c3b-a7993ce6cbd6 div.sk-serial {display: flex;flex-direction: column;align-items: center;background-color: white;padding-right: 0.2em;padding-left: 0.2em;}#sk-73fc6b84-14c7-4182-9c3b-a7993ce6cbd6 div.sk-item {z-index: 1;}#sk-73fc6b84-14c7-4182-9c3b-a7993ce6cbd6 div.sk-parallel {display: flex;align-items: stretch;justify-content: center;background-color: white;}#sk-73fc6b84-14c7-4182-9c3b-a7993ce6cbd6 div.sk-parallel::before {content: \"\";position: absolute;border-left: 1px solid gray;box-sizing: border-box;top: 2em;bottom: 0;left: 50%;}#sk-73fc6b84-14c7-4182-9c3b-a7993ce6cbd6 div.sk-parallel-item {display: flex;flex-direction: column;position: relative;background-color: white;}#sk-73fc6b84-14c7-4182-9c3b-a7993ce6cbd6 div.sk-parallel-item:first-child::after {align-self: flex-end;width: 50%;}#sk-73fc6b84-14c7-4182-9c3b-a7993ce6cbd6 div.sk-parallel-item:last-child::after {align-self: flex-start;width: 50%;}#sk-73fc6b84-14c7-4182-9c3b-a7993ce6cbd6 div.sk-parallel-item:only-child::after {width: 0;}#sk-73fc6b84-14c7-4182-9c3b-a7993ce6cbd6 div.sk-dashed-wrapped {border: 1px dashed gray;margin: 0 0.4em 0.5em 0.4em;box-sizing: border-box;padding-bottom: 0.4em;background-color: white;position: relative;}#sk-73fc6b84-14c7-4182-9c3b-a7993ce6cbd6 div.sk-label label {font-family: monospace;font-weight: bold;background-color: white;display: inline-block;line-height: 1.2em;}#sk-73fc6b84-14c7-4182-9c3b-a7993ce6cbd6 div.sk-label-container {position: relative;z-index: 2;text-align: center;}#sk-73fc6b84-14c7-4182-9c3b-a7993ce6cbd6 div.sk-container {/* jupyter's `normalize.less` sets `[hidden] { display: none; }` but bootstrap.min.css set `[hidden] { display: none !important; }` so we also need the `!important` here to be able to override the default hidden behavior on the sphinx rendered scikit-learn.org. See: https://github.com/scikit-learn/scikit-learn/issues/21755 */display: inline-block !important;position: relative;}#sk-73fc6b84-14c7-4182-9c3b-a7993ce6cbd6 div.sk-text-repr-fallback {display: none;}</style><div id=\"sk-73fc6b84-14c7-4182-9c3b-a7993ce6cbd6\" class=\"sk-top-container\"><div class=\"sk-text-repr-fallback\"><pre>Pipeline(steps=[(&#x27;scaling&#x27;, RobustScaler()),\n",
       "                (&#x27;model_fitting&#x27;, Ridge(alpha=0, random_state=42))])</pre><b>Please rerun this cell to show the HTML repr or trust the notebook.</b></div><div class=\"sk-container\" hidden><div class=\"sk-item sk-dashed-wrapped\"><div class=\"sk-label-container\"><div class=\"sk-label sk-toggleable\"><input class=\"sk-toggleable__control sk-hidden--visually\" id=\"81084729-663a-4c1e-bab8-5649f32a3fc2\" type=\"checkbox\" ><label for=\"81084729-663a-4c1e-bab8-5649f32a3fc2\" class=\"sk-toggleable__label sk-toggleable__label-arrow\">Pipeline</label><div class=\"sk-toggleable__content\"><pre>Pipeline(steps=[(&#x27;scaling&#x27;, RobustScaler()),\n",
       "                (&#x27;model_fitting&#x27;, Ridge(alpha=0, random_state=42))])</pre></div></div></div><div class=\"sk-serial\"><div class=\"sk-item\"><div class=\"sk-estimator sk-toggleable\"><input class=\"sk-toggleable__control sk-hidden--visually\" id=\"c6d17bec-f087-48a2-a4b4-d6b8a1280d21\" type=\"checkbox\" ><label for=\"c6d17bec-f087-48a2-a4b4-d6b8a1280d21\" class=\"sk-toggleable__label sk-toggleable__label-arrow\">RobustScaler</label><div class=\"sk-toggleable__content\"><pre>RobustScaler()</pre></div></div></div><div class=\"sk-item\"><div class=\"sk-estimator sk-toggleable\"><input class=\"sk-toggleable__control sk-hidden--visually\" id=\"1e763d81-77b7-426e-8434-658a3a034e0d\" type=\"checkbox\" ><label for=\"1e763d81-77b7-426e-8434-658a3a034e0d\" class=\"sk-toggleable__label sk-toggleable__label-arrow\">Ridge</label><div class=\"sk-toggleable__content\"><pre>Ridge(alpha=0, random_state=42)</pre></div></div></div></div></div></div></div>"
      ],
      "text/plain": [
       "Pipeline(steps=[('scaling', RobustScaler()),\n",
       "                ('model_fitting', Ridge(alpha=0, random_state=42))])"
      ]
     },
     "metadata": {},
     "output_type": "display_data"
    }
   ],
   "source": [
    "display(make_model(with_categorical=False))\n",
    "display(make_model(penalty='L1', with_categorical=False))\n",
    "display(make_model(penalty='L2', with_categorical=False))"
   ]
  },
  {
   "cell_type": "code",
   "execution_count": 33,
   "metadata": {},
   "outputs": [],
   "source": [
    "# Разделим выборку для обучения на тестовую и обучающую\n",
    "x_train, x_test, y_train, y_test = train_test_split(x, y, train_size=0.7, test_size=0.3, shuffle=True, random_state=SEED)"
   ]
  },
  {
   "cell_type": "code",
   "execution_count": 34,
   "metadata": {},
   "outputs": [],
   "source": [
    "# Вспомогательная функция для возврата результатов прогнозирования линейных моделей \n",
    "def make_linear_model_predictions(x_train, y_train, x_test, y_test, x_control, y_control, models, categorical_data=False):\n",
    "    parameters_grid = {'model_fitting__alpha' : [0.0001, 0.0005, 0.001, 0.005, 0.01, 0.05, 0.1, 0.5, 1]}\n",
    "    results = []\n",
    "    for model in models:\n",
    "        if model.startswith('Linear'):\n",
    "            regr = make_model(with_categorical=categorical_data).fit(x_train, np.log(y_train))\n",
    "            train_mae = mae(y_train, np.exp(regr.predict(x_train))).astype(int)\n",
    "            test_mae = mae(y_test, np.exp(regr.predict(x_test))).astype(int)\n",
    "            control_mae = mae(y_control, np.exp(regr.predict(x_control))).astype(int)\n",
    "            results.append([model, train_mae, test_mae, control_mae, None])\n",
    "        \n",
    "        elif model.startswith('L1'):\n",
    "            L1_regr = make_model(penalty='L1', with_categorical=categorical_data)\n",
    "            grid = model_selection.GridSearchCV(L1_regr, parameters_grid, scoring='neg_mean_absolute_error', cv=3)\n",
    "            grid.fit(x_train, np.log(y_train))\n",
    "            train_mae = mae(y_train, np.exp(grid.best_estimator_.predict(x_train))).astype(int)\n",
    "            test_mae = mae(y_test, np.exp(grid.best_estimator_.predict(x_test))).astype(int)\n",
    "            control_mae = mae(y_control, np.exp(grid.best_estimator_.predict(x_control))).astype(int)\n",
    "            results.append([model, train_mae, test_mae, control_mae, grid.best_params_['model_fitting__alpha']])\n",
    "            \n",
    "        elif model.startswith('L2'):\n",
    "            L2_regr = make_model(penalty='L2', with_categorical=categorical_data)\n",
    "            grid = model_selection.GridSearchCV(L2_regr, parameters_grid, scoring='neg_mean_absolute_error', cv=3)\n",
    "            grid.fit(x_train, np.log(y_train))\n",
    "            train_mae = mae(y_train, np.exp(grid.best_estimator_.predict(x_train))).astype(int)\n",
    "            test_mae = mae(y_test, np.exp(grid.best_estimator_.predict(x_test))).astype(int)\n",
    "            control_mae = mae(y_control, np.exp(grid.best_estimator_.predict(x_control))).astype(int)\n",
    "            results.append([model, train_mae, test_mae, control_mae, grid.best_params_['model_fitting__alpha']])\n",
    "\n",
    "    return pd.DataFrame(results, columns=['Model', 'MAE Train', 'MAE Test', 'MAE Control', 'Best alhpa'])"
   ]
  },
  {
   "cell_type": "code",
   "execution_count": 35,
   "metadata": {},
   "outputs": [
    {
     "data": {
      "text/html": [
       "<div>\n",
       "<style scoped>\n",
       "    .dataframe tbody tr th:only-of-type {\n",
       "        vertical-align: middle;\n",
       "    }\n",
       "\n",
       "    .dataframe tbody tr th {\n",
       "        vertical-align: top;\n",
       "    }\n",
       "\n",
       "    .dataframe thead th {\n",
       "        text-align: right;\n",
       "    }\n",
       "</style>\n",
       "<table border=\"1\" class=\"dataframe\">\n",
       "  <thead>\n",
       "    <tr style=\"text-align: right;\">\n",
       "      <th></th>\n",
       "      <th>Model</th>\n",
       "      <th>MAE Train</th>\n",
       "      <th>MAE Test</th>\n",
       "      <th>MAE Control</th>\n",
       "      <th>Best alhpa</th>\n",
       "    </tr>\n",
       "  </thead>\n",
       "  <tbody>\n",
       "    <tr>\n",
       "      <th>0</th>\n",
       "      <td>Linear Regression</td>\n",
       "      <td>3275</td>\n",
       "      <td>3249</td>\n",
       "      <td>3295</td>\n",
       "      <td>NaN</td>\n",
       "    </tr>\n",
       "    <tr>\n",
       "      <th>1</th>\n",
       "      <td>L1 Regression</td>\n",
       "      <td>3275</td>\n",
       "      <td>3248</td>\n",
       "      <td>3295</td>\n",
       "      <td>0.0001</td>\n",
       "    </tr>\n",
       "    <tr>\n",
       "      <th>2</th>\n",
       "      <td>L2 Regression</td>\n",
       "      <td>3275</td>\n",
       "      <td>3249</td>\n",
       "      <td>3295</td>\n",
       "      <td>0.0001</td>\n",
       "    </tr>\n",
       "  </tbody>\n",
       "</table>\n",
       "</div>"
      ],
      "text/plain": [
       "               Model  MAE Train  MAE Test  MAE Control  Best alhpa\n",
       "0  Linear Regression       3275      3249         3295         NaN\n",
       "1      L1 Regression       3275      3248         3295      0.0001\n",
       "2      L2 Regression       3275      3249         3295      0.0001"
      ]
     },
     "execution_count": 35,
     "metadata": {},
     "output_type": "execute_result"
    }
   ],
   "source": [
    "# Определим список моделей\n",
    "models = ['Linear Regression', 'L1 Regression', 'L2 Regression']\n",
    "\n",
    "# Сделаем прогноз только на вещественных признаках\n",
    "make_linear_model_predictions(x_train[num_features], y_train,\n",
    "                              x_test[num_features], y_test, \n",
    "                              x_сontrol[num_features], y_control,\n",
    "                              models, categorical_data=False)"
   ]
  },
  {
   "cell_type": "markdown",
   "metadata": {},
   "source": [
    "Обучение моделей только на вещественных признаках дает не очень хорошее качество прогноза – МАЕ намного выше требуемого порогового значения. Качество прогнозных значений не изменяется с использованием регуляризации и подбора гиперпараметра алфа.\n",
    "<hr>"
   ]
  },
  {
   "cell_type": "markdown",
   "metadata": {},
   "source": [
    "**Обучение модели на полных данных.**"
   ]
  },
  {
   "cell_type": "code",
   "execution_count": 36,
   "metadata": {},
   "outputs": [
    {
     "data": {
      "text/html": [
       "<style>#sk-1c92ffd8-3194-4c84-9c22-29b878d47a9b {color: black;background-color: white;}#sk-1c92ffd8-3194-4c84-9c22-29b878d47a9b pre{padding: 0;}#sk-1c92ffd8-3194-4c84-9c22-29b878d47a9b div.sk-toggleable {background-color: white;}#sk-1c92ffd8-3194-4c84-9c22-29b878d47a9b label.sk-toggleable__label {cursor: pointer;display: block;width: 100%;margin-bottom: 0;padding: 0.3em;box-sizing: border-box;text-align: center;}#sk-1c92ffd8-3194-4c84-9c22-29b878d47a9b label.sk-toggleable__label-arrow:before {content: \"▸\";float: left;margin-right: 0.25em;color: #696969;}#sk-1c92ffd8-3194-4c84-9c22-29b878d47a9b label.sk-toggleable__label-arrow:hover:before {color: black;}#sk-1c92ffd8-3194-4c84-9c22-29b878d47a9b div.sk-estimator:hover label.sk-toggleable__label-arrow:before {color: black;}#sk-1c92ffd8-3194-4c84-9c22-29b878d47a9b div.sk-toggleable__content {max-height: 0;max-width: 0;overflow: hidden;text-align: left;background-color: #f0f8ff;}#sk-1c92ffd8-3194-4c84-9c22-29b878d47a9b div.sk-toggleable__content pre {margin: 0.2em;color: black;border-radius: 0.25em;background-color: #f0f8ff;}#sk-1c92ffd8-3194-4c84-9c22-29b878d47a9b input.sk-toggleable__control:checked~div.sk-toggleable__content {max-height: 200px;max-width: 100%;overflow: auto;}#sk-1c92ffd8-3194-4c84-9c22-29b878d47a9b input.sk-toggleable__control:checked~label.sk-toggleable__label-arrow:before {content: \"▾\";}#sk-1c92ffd8-3194-4c84-9c22-29b878d47a9b div.sk-estimator input.sk-toggleable__control:checked~label.sk-toggleable__label {background-color: #d4ebff;}#sk-1c92ffd8-3194-4c84-9c22-29b878d47a9b div.sk-label input.sk-toggleable__control:checked~label.sk-toggleable__label {background-color: #d4ebff;}#sk-1c92ffd8-3194-4c84-9c22-29b878d47a9b input.sk-hidden--visually {border: 0;clip: rect(1px 1px 1px 1px);clip: rect(1px, 1px, 1px, 1px);height: 1px;margin: -1px;overflow: hidden;padding: 0;position: absolute;width: 1px;}#sk-1c92ffd8-3194-4c84-9c22-29b878d47a9b div.sk-estimator {font-family: monospace;background-color: #f0f8ff;border: 1px dotted black;border-radius: 0.25em;box-sizing: border-box;margin-bottom: 0.5em;}#sk-1c92ffd8-3194-4c84-9c22-29b878d47a9b div.sk-estimator:hover {background-color: #d4ebff;}#sk-1c92ffd8-3194-4c84-9c22-29b878d47a9b div.sk-parallel-item::after {content: \"\";width: 100%;border-bottom: 1px solid gray;flex-grow: 1;}#sk-1c92ffd8-3194-4c84-9c22-29b878d47a9b div.sk-label:hover label.sk-toggleable__label {background-color: #d4ebff;}#sk-1c92ffd8-3194-4c84-9c22-29b878d47a9b div.sk-serial::before {content: \"\";position: absolute;border-left: 1px solid gray;box-sizing: border-box;top: 2em;bottom: 0;left: 50%;}#sk-1c92ffd8-3194-4c84-9c22-29b878d47a9b div.sk-serial {display: flex;flex-direction: column;align-items: center;background-color: white;padding-right: 0.2em;padding-left: 0.2em;}#sk-1c92ffd8-3194-4c84-9c22-29b878d47a9b div.sk-item {z-index: 1;}#sk-1c92ffd8-3194-4c84-9c22-29b878d47a9b div.sk-parallel {display: flex;align-items: stretch;justify-content: center;background-color: white;}#sk-1c92ffd8-3194-4c84-9c22-29b878d47a9b div.sk-parallel::before {content: \"\";position: absolute;border-left: 1px solid gray;box-sizing: border-box;top: 2em;bottom: 0;left: 50%;}#sk-1c92ffd8-3194-4c84-9c22-29b878d47a9b div.sk-parallel-item {display: flex;flex-direction: column;position: relative;background-color: white;}#sk-1c92ffd8-3194-4c84-9c22-29b878d47a9b div.sk-parallel-item:first-child::after {align-self: flex-end;width: 50%;}#sk-1c92ffd8-3194-4c84-9c22-29b878d47a9b div.sk-parallel-item:last-child::after {align-self: flex-start;width: 50%;}#sk-1c92ffd8-3194-4c84-9c22-29b878d47a9b div.sk-parallel-item:only-child::after {width: 0;}#sk-1c92ffd8-3194-4c84-9c22-29b878d47a9b div.sk-dashed-wrapped {border: 1px dashed gray;margin: 0 0.4em 0.5em 0.4em;box-sizing: border-box;padding-bottom: 0.4em;background-color: white;position: relative;}#sk-1c92ffd8-3194-4c84-9c22-29b878d47a9b div.sk-label label {font-family: monospace;font-weight: bold;background-color: white;display: inline-block;line-height: 1.2em;}#sk-1c92ffd8-3194-4c84-9c22-29b878d47a9b div.sk-label-container {position: relative;z-index: 2;text-align: center;}#sk-1c92ffd8-3194-4c84-9c22-29b878d47a9b div.sk-container {/* jupyter's `normalize.less` sets `[hidden] { display: none; }` but bootstrap.min.css set `[hidden] { display: none !important; }` so we also need the `!important` here to be able to override the default hidden behavior on the sphinx rendered scikit-learn.org. See: https://github.com/scikit-learn/scikit-learn/issues/21755 */display: inline-block !important;position: relative;}#sk-1c92ffd8-3194-4c84-9c22-29b878d47a9b div.sk-text-repr-fallback {display: none;}</style><div id=\"sk-1c92ffd8-3194-4c84-9c22-29b878d47a9b\" class=\"sk-top-container\"><div class=\"sk-text-repr-fallback\"><pre>Pipeline(steps=[(&#x27;feature_processing&#x27;,\n",
       "                 FeatureUnion(transformer_list=[(&#x27;numeric_variables_processing &#x27;,\n",
       "                                                 Pipeline(steps=[(&#x27;selecting&#x27;,\n",
       "                                                                  FunctionTransformer(func=&lt;function make_model.&lt;locals&gt;.&lt;lambda&gt; at 0x00000127B3DF9700&gt;)),\n",
       "                                                                 (&#x27;scaling&#x27;,\n",
       "                                                                  RobustScaler())])),\n",
       "                                                (&#x27;categorical_variables_processing&#x27;,\n",
       "                                                 Pipeline(steps=[(&#x27;selecting&#x27;,\n",
       "                                                                  FunctionTransformer(func=&lt;function make_model.&lt;locals&gt;.&lt;lambda&gt; at 0x00000127B3DF9790&gt;)),\n",
       "                                                                 (&#x27;hot_encoding&#x27;,\n",
       "                                                                  OneHotEncoder(handle_unknown=&#x27;ignore&#x27;))]))])),\n",
       "                (&#x27;model_fitting&#x27;, LinearRegression())])</pre><b>Please rerun this cell to show the HTML repr or trust the notebook.</b></div><div class=\"sk-container\" hidden><div class=\"sk-item sk-dashed-wrapped\"><div class=\"sk-label-container\"><div class=\"sk-label sk-toggleable\"><input class=\"sk-toggleable__control sk-hidden--visually\" id=\"a6986d63-394b-4a87-b13b-98ecc999e37a\" type=\"checkbox\" ><label for=\"a6986d63-394b-4a87-b13b-98ecc999e37a\" class=\"sk-toggleable__label sk-toggleable__label-arrow\">Pipeline</label><div class=\"sk-toggleable__content\"><pre>Pipeline(steps=[(&#x27;feature_processing&#x27;,\n",
       "                 FeatureUnion(transformer_list=[(&#x27;numeric_variables_processing &#x27;,\n",
       "                                                 Pipeline(steps=[(&#x27;selecting&#x27;,\n",
       "                                                                  FunctionTransformer(func=&lt;function make_model.&lt;locals&gt;.&lt;lambda&gt; at 0x00000127B3DF9700&gt;)),\n",
       "                                                                 (&#x27;scaling&#x27;,\n",
       "                                                                  RobustScaler())])),\n",
       "                                                (&#x27;categorical_variables_processing&#x27;,\n",
       "                                                 Pipeline(steps=[(&#x27;selecting&#x27;,\n",
       "                                                                  FunctionTransformer(func=&lt;function make_model.&lt;locals&gt;.&lt;lambda&gt; at 0x00000127B3DF9790&gt;)),\n",
       "                                                                 (&#x27;hot_encoding&#x27;,\n",
       "                                                                  OneHotEncoder(handle_unknown=&#x27;ignore&#x27;))]))])),\n",
       "                (&#x27;model_fitting&#x27;, LinearRegression())])</pre></div></div></div><div class=\"sk-serial\"><div class=\"sk-item sk-dashed-wrapped\"><div class=\"sk-label-container\"><div class=\"sk-label sk-toggleable\"><input class=\"sk-toggleable__control sk-hidden--visually\" id=\"71e8e9cc-9669-4cd2-84c2-ca8183c2717b\" type=\"checkbox\" ><label for=\"71e8e9cc-9669-4cd2-84c2-ca8183c2717b\" class=\"sk-toggleable__label sk-toggleable__label-arrow\">feature_processing: FeatureUnion</label><div class=\"sk-toggleable__content\"><pre>FeatureUnion(transformer_list=[(&#x27;numeric_variables_processing &#x27;,\n",
       "                                Pipeline(steps=[(&#x27;selecting&#x27;,\n",
       "                                                 FunctionTransformer(func=&lt;function make_model.&lt;locals&gt;.&lt;lambda&gt; at 0x00000127B3DF9700&gt;)),\n",
       "                                                (&#x27;scaling&#x27;, RobustScaler())])),\n",
       "                               (&#x27;categorical_variables_processing&#x27;,\n",
       "                                Pipeline(steps=[(&#x27;selecting&#x27;,\n",
       "                                                 FunctionTransformer(func=&lt;function make_model.&lt;locals&gt;.&lt;lambda&gt; at 0x00000127B3DF9790&gt;)),\n",
       "                                                (&#x27;hot_encoding&#x27;,\n",
       "                                                 OneHotEncoder(handle_unknown=&#x27;ignore&#x27;))]))])</pre></div></div></div><div class=\"sk-parallel\"><div class=\"sk-parallel-item\"><div class=\"sk-item\"><div class=\"sk-label-container\"><div class=\"sk-label sk-toggleable\"><label>numeric_variables_processing </label></div></div><div class=\"sk-serial\"><div class=\"sk-item\"><div class=\"sk-serial\"><div class=\"sk-item\"><div class=\"sk-estimator sk-toggleable\"><input class=\"sk-toggleable__control sk-hidden--visually\" id=\"329020c6-af74-43ba-8c78-f64c7d224288\" type=\"checkbox\" ><label for=\"329020c6-af74-43ba-8c78-f64c7d224288\" class=\"sk-toggleable__label sk-toggleable__label-arrow\">FunctionTransformer</label><div class=\"sk-toggleable__content\"><pre>FunctionTransformer(func=&lt;function make_model.&lt;locals&gt;.&lt;lambda&gt; at 0x00000127B3DF9700&gt;)</pre></div></div></div><div class=\"sk-item\"><div class=\"sk-estimator sk-toggleable\"><input class=\"sk-toggleable__control sk-hidden--visually\" id=\"f0a86d13-5a63-48d1-a532-5e92c0d03595\" type=\"checkbox\" ><label for=\"f0a86d13-5a63-48d1-a532-5e92c0d03595\" class=\"sk-toggleable__label sk-toggleable__label-arrow\">RobustScaler</label><div class=\"sk-toggleable__content\"><pre>RobustScaler()</pre></div></div></div></div></div></div></div></div><div class=\"sk-parallel-item\"><div class=\"sk-item\"><div class=\"sk-label-container\"><div class=\"sk-label sk-toggleable\"><label>categorical_variables_processing</label></div></div><div class=\"sk-serial\"><div class=\"sk-item\"><div class=\"sk-serial\"><div class=\"sk-item\"><div class=\"sk-estimator sk-toggleable\"><input class=\"sk-toggleable__control sk-hidden--visually\" id=\"89468b79-77ae-4ef0-aaaf-3d004cf93ced\" type=\"checkbox\" ><label for=\"89468b79-77ae-4ef0-aaaf-3d004cf93ced\" class=\"sk-toggleable__label sk-toggleable__label-arrow\">FunctionTransformer</label><div class=\"sk-toggleable__content\"><pre>FunctionTransformer(func=&lt;function make_model.&lt;locals&gt;.&lt;lambda&gt; at 0x00000127B3DF9790&gt;)</pre></div></div></div><div class=\"sk-item\"><div class=\"sk-estimator sk-toggleable\"><input class=\"sk-toggleable__control sk-hidden--visually\" id=\"c6cb50fd-06f4-4d58-bd3c-5b049f542cf5\" type=\"checkbox\" ><label for=\"c6cb50fd-06f4-4d58-bd3c-5b049f542cf5\" class=\"sk-toggleable__label sk-toggleable__label-arrow\">OneHotEncoder</label><div class=\"sk-toggleable__content\"><pre>OneHotEncoder(handle_unknown=&#x27;ignore&#x27;)</pre></div></div></div></div></div></div></div></div></div></div><div class=\"sk-item\"><div class=\"sk-estimator sk-toggleable\"><input class=\"sk-toggleable__control sk-hidden--visually\" id=\"212321d0-2645-460a-86c2-c0293b530676\" type=\"checkbox\" ><label for=\"212321d0-2645-460a-86c2-c0293b530676\" class=\"sk-toggleable__label sk-toggleable__label-arrow\">LinearRegression</label><div class=\"sk-toggleable__content\"><pre>LinearRegression()</pre></div></div></div></div></div></div></div>"
      ],
      "text/plain": [
       "Pipeline(steps=[('feature_processing',\n",
       "                 FeatureUnion(transformer_list=[('numeric_variables_processing ',\n",
       "                                                 Pipeline(steps=[('selecting',\n",
       "                                                                  FunctionTransformer(func=<function make_model.<locals>.<lambda> at 0x00000127B3DF9700>)),\n",
       "                                                                 ('scaling',\n",
       "                                                                  RobustScaler())])),\n",
       "                                                ('categorical_variables_processing',\n",
       "                                                 Pipeline(steps=[('selecting',\n",
       "                                                                  FunctionTransformer(func=<function make_model.<locals>.<lambda> at 0x00000127B3DF9790>)),\n",
       "                                                                 ('hot_encoding',\n",
       "                                                                  OneHotEncoder(handle_unknown='ignore'))]))])),\n",
       "                ('model_fitting', LinearRegression())])"
      ]
     },
     "metadata": {},
     "output_type": "display_data"
    },
    {
     "data": {
      "text/html": [
       "<style>#sk-058c4794-0d94-4fc6-b8c8-d506543afb61 {color: black;background-color: white;}#sk-058c4794-0d94-4fc6-b8c8-d506543afb61 pre{padding: 0;}#sk-058c4794-0d94-4fc6-b8c8-d506543afb61 div.sk-toggleable {background-color: white;}#sk-058c4794-0d94-4fc6-b8c8-d506543afb61 label.sk-toggleable__label {cursor: pointer;display: block;width: 100%;margin-bottom: 0;padding: 0.3em;box-sizing: border-box;text-align: center;}#sk-058c4794-0d94-4fc6-b8c8-d506543afb61 label.sk-toggleable__label-arrow:before {content: \"▸\";float: left;margin-right: 0.25em;color: #696969;}#sk-058c4794-0d94-4fc6-b8c8-d506543afb61 label.sk-toggleable__label-arrow:hover:before {color: black;}#sk-058c4794-0d94-4fc6-b8c8-d506543afb61 div.sk-estimator:hover label.sk-toggleable__label-arrow:before {color: black;}#sk-058c4794-0d94-4fc6-b8c8-d506543afb61 div.sk-toggleable__content {max-height: 0;max-width: 0;overflow: hidden;text-align: left;background-color: #f0f8ff;}#sk-058c4794-0d94-4fc6-b8c8-d506543afb61 div.sk-toggleable__content pre {margin: 0.2em;color: black;border-radius: 0.25em;background-color: #f0f8ff;}#sk-058c4794-0d94-4fc6-b8c8-d506543afb61 input.sk-toggleable__control:checked~div.sk-toggleable__content {max-height: 200px;max-width: 100%;overflow: auto;}#sk-058c4794-0d94-4fc6-b8c8-d506543afb61 input.sk-toggleable__control:checked~label.sk-toggleable__label-arrow:before {content: \"▾\";}#sk-058c4794-0d94-4fc6-b8c8-d506543afb61 div.sk-estimator input.sk-toggleable__control:checked~label.sk-toggleable__label {background-color: #d4ebff;}#sk-058c4794-0d94-4fc6-b8c8-d506543afb61 div.sk-label input.sk-toggleable__control:checked~label.sk-toggleable__label {background-color: #d4ebff;}#sk-058c4794-0d94-4fc6-b8c8-d506543afb61 input.sk-hidden--visually {border: 0;clip: rect(1px 1px 1px 1px);clip: rect(1px, 1px, 1px, 1px);height: 1px;margin: -1px;overflow: hidden;padding: 0;position: absolute;width: 1px;}#sk-058c4794-0d94-4fc6-b8c8-d506543afb61 div.sk-estimator {font-family: monospace;background-color: #f0f8ff;border: 1px dotted black;border-radius: 0.25em;box-sizing: border-box;margin-bottom: 0.5em;}#sk-058c4794-0d94-4fc6-b8c8-d506543afb61 div.sk-estimator:hover {background-color: #d4ebff;}#sk-058c4794-0d94-4fc6-b8c8-d506543afb61 div.sk-parallel-item::after {content: \"\";width: 100%;border-bottom: 1px solid gray;flex-grow: 1;}#sk-058c4794-0d94-4fc6-b8c8-d506543afb61 div.sk-label:hover label.sk-toggleable__label {background-color: #d4ebff;}#sk-058c4794-0d94-4fc6-b8c8-d506543afb61 div.sk-serial::before {content: \"\";position: absolute;border-left: 1px solid gray;box-sizing: border-box;top: 2em;bottom: 0;left: 50%;}#sk-058c4794-0d94-4fc6-b8c8-d506543afb61 div.sk-serial {display: flex;flex-direction: column;align-items: center;background-color: white;padding-right: 0.2em;padding-left: 0.2em;}#sk-058c4794-0d94-4fc6-b8c8-d506543afb61 div.sk-item {z-index: 1;}#sk-058c4794-0d94-4fc6-b8c8-d506543afb61 div.sk-parallel {display: flex;align-items: stretch;justify-content: center;background-color: white;}#sk-058c4794-0d94-4fc6-b8c8-d506543afb61 div.sk-parallel::before {content: \"\";position: absolute;border-left: 1px solid gray;box-sizing: border-box;top: 2em;bottom: 0;left: 50%;}#sk-058c4794-0d94-4fc6-b8c8-d506543afb61 div.sk-parallel-item {display: flex;flex-direction: column;position: relative;background-color: white;}#sk-058c4794-0d94-4fc6-b8c8-d506543afb61 div.sk-parallel-item:first-child::after {align-self: flex-end;width: 50%;}#sk-058c4794-0d94-4fc6-b8c8-d506543afb61 div.sk-parallel-item:last-child::after {align-self: flex-start;width: 50%;}#sk-058c4794-0d94-4fc6-b8c8-d506543afb61 div.sk-parallel-item:only-child::after {width: 0;}#sk-058c4794-0d94-4fc6-b8c8-d506543afb61 div.sk-dashed-wrapped {border: 1px dashed gray;margin: 0 0.4em 0.5em 0.4em;box-sizing: border-box;padding-bottom: 0.4em;background-color: white;position: relative;}#sk-058c4794-0d94-4fc6-b8c8-d506543afb61 div.sk-label label {font-family: monospace;font-weight: bold;background-color: white;display: inline-block;line-height: 1.2em;}#sk-058c4794-0d94-4fc6-b8c8-d506543afb61 div.sk-label-container {position: relative;z-index: 2;text-align: center;}#sk-058c4794-0d94-4fc6-b8c8-d506543afb61 div.sk-container {/* jupyter's `normalize.less` sets `[hidden] { display: none; }` but bootstrap.min.css set `[hidden] { display: none !important; }` so we also need the `!important` here to be able to override the default hidden behavior on the sphinx rendered scikit-learn.org. See: https://github.com/scikit-learn/scikit-learn/issues/21755 */display: inline-block !important;position: relative;}#sk-058c4794-0d94-4fc6-b8c8-d506543afb61 div.sk-text-repr-fallback {display: none;}</style><div id=\"sk-058c4794-0d94-4fc6-b8c8-d506543afb61\" class=\"sk-top-container\"><div class=\"sk-text-repr-fallback\"><pre>Pipeline(steps=[(&#x27;feature_processing&#x27;,\n",
       "                 FeatureUnion(transformer_list=[(&#x27;numeric_variables_processing &#x27;,\n",
       "                                                 Pipeline(steps=[(&#x27;selecting&#x27;,\n",
       "                                                                  FunctionTransformer(func=&lt;function make_model.&lt;locals&gt;.&lt;lambda&gt; at 0x00000127B3DF9700&gt;)),\n",
       "                                                                 (&#x27;scaling&#x27;,\n",
       "                                                                  RobustScaler())])),\n",
       "                                                (&#x27;categorical_variables_processing&#x27;,\n",
       "                                                 Pipeline(steps=[(&#x27;selecting&#x27;,\n",
       "                                                                  FunctionTransformer(func=&lt;function make_model.&lt;locals&gt;.&lt;lambda&gt; at 0x00000127B3DF9790&gt;)),\n",
       "                                                                 (&#x27;hot_encoding&#x27;,\n",
       "                                                                  OneHotEncoder(handle_unknown=&#x27;ignore&#x27;))]))])),\n",
       "                (&#x27;model_fitting&#x27;, Lasso(alpha=0, random_state=42))])</pre><b>Please rerun this cell to show the HTML repr or trust the notebook.</b></div><div class=\"sk-container\" hidden><div class=\"sk-item sk-dashed-wrapped\"><div class=\"sk-label-container\"><div class=\"sk-label sk-toggleable\"><input class=\"sk-toggleable__control sk-hidden--visually\" id=\"f3af9bad-809a-455f-9e59-5e98f125e3b9\" type=\"checkbox\" ><label for=\"f3af9bad-809a-455f-9e59-5e98f125e3b9\" class=\"sk-toggleable__label sk-toggleable__label-arrow\">Pipeline</label><div class=\"sk-toggleable__content\"><pre>Pipeline(steps=[(&#x27;feature_processing&#x27;,\n",
       "                 FeatureUnion(transformer_list=[(&#x27;numeric_variables_processing &#x27;,\n",
       "                                                 Pipeline(steps=[(&#x27;selecting&#x27;,\n",
       "                                                                  FunctionTransformer(func=&lt;function make_model.&lt;locals&gt;.&lt;lambda&gt; at 0x00000127B3DF9700&gt;)),\n",
       "                                                                 (&#x27;scaling&#x27;,\n",
       "                                                                  RobustScaler())])),\n",
       "                                                (&#x27;categorical_variables_processing&#x27;,\n",
       "                                                 Pipeline(steps=[(&#x27;selecting&#x27;,\n",
       "                                                                  FunctionTransformer(func=&lt;function make_model.&lt;locals&gt;.&lt;lambda&gt; at 0x00000127B3DF9790&gt;)),\n",
       "                                                                 (&#x27;hot_encoding&#x27;,\n",
       "                                                                  OneHotEncoder(handle_unknown=&#x27;ignore&#x27;))]))])),\n",
       "                (&#x27;model_fitting&#x27;, Lasso(alpha=0, random_state=42))])</pre></div></div></div><div class=\"sk-serial\"><div class=\"sk-item sk-dashed-wrapped\"><div class=\"sk-label-container\"><div class=\"sk-label sk-toggleable\"><input class=\"sk-toggleable__control sk-hidden--visually\" id=\"bdbde990-4646-46b2-95ea-bbc55d45d5ae\" type=\"checkbox\" ><label for=\"bdbde990-4646-46b2-95ea-bbc55d45d5ae\" class=\"sk-toggleable__label sk-toggleable__label-arrow\">feature_processing: FeatureUnion</label><div class=\"sk-toggleable__content\"><pre>FeatureUnion(transformer_list=[(&#x27;numeric_variables_processing &#x27;,\n",
       "                                Pipeline(steps=[(&#x27;selecting&#x27;,\n",
       "                                                 FunctionTransformer(func=&lt;function make_model.&lt;locals&gt;.&lt;lambda&gt; at 0x00000127B3DF9700&gt;)),\n",
       "                                                (&#x27;scaling&#x27;, RobustScaler())])),\n",
       "                               (&#x27;categorical_variables_processing&#x27;,\n",
       "                                Pipeline(steps=[(&#x27;selecting&#x27;,\n",
       "                                                 FunctionTransformer(func=&lt;function make_model.&lt;locals&gt;.&lt;lambda&gt; at 0x00000127B3DF9790&gt;)),\n",
       "                                                (&#x27;hot_encoding&#x27;,\n",
       "                                                 OneHotEncoder(handle_unknown=&#x27;ignore&#x27;))]))])</pre></div></div></div><div class=\"sk-parallel\"><div class=\"sk-parallel-item\"><div class=\"sk-item\"><div class=\"sk-label-container\"><div class=\"sk-label sk-toggleable\"><label>numeric_variables_processing </label></div></div><div class=\"sk-serial\"><div class=\"sk-item\"><div class=\"sk-serial\"><div class=\"sk-item\"><div class=\"sk-estimator sk-toggleable\"><input class=\"sk-toggleable__control sk-hidden--visually\" id=\"20a90f51-7454-406c-a1da-39f43d85826e\" type=\"checkbox\" ><label for=\"20a90f51-7454-406c-a1da-39f43d85826e\" class=\"sk-toggleable__label sk-toggleable__label-arrow\">FunctionTransformer</label><div class=\"sk-toggleable__content\"><pre>FunctionTransformer(func=&lt;function make_model.&lt;locals&gt;.&lt;lambda&gt; at 0x00000127B3DF9700&gt;)</pre></div></div></div><div class=\"sk-item\"><div class=\"sk-estimator sk-toggleable\"><input class=\"sk-toggleable__control sk-hidden--visually\" id=\"35ca4e50-41b6-458f-bb79-c28953c54569\" type=\"checkbox\" ><label for=\"35ca4e50-41b6-458f-bb79-c28953c54569\" class=\"sk-toggleable__label sk-toggleable__label-arrow\">RobustScaler</label><div class=\"sk-toggleable__content\"><pre>RobustScaler()</pre></div></div></div></div></div></div></div></div><div class=\"sk-parallel-item\"><div class=\"sk-item\"><div class=\"sk-label-container\"><div class=\"sk-label sk-toggleable\"><label>categorical_variables_processing</label></div></div><div class=\"sk-serial\"><div class=\"sk-item\"><div class=\"sk-serial\"><div class=\"sk-item\"><div class=\"sk-estimator sk-toggleable\"><input class=\"sk-toggleable__control sk-hidden--visually\" id=\"cfa93a31-16e1-417d-98b2-500d288ece2b\" type=\"checkbox\" ><label for=\"cfa93a31-16e1-417d-98b2-500d288ece2b\" class=\"sk-toggleable__label sk-toggleable__label-arrow\">FunctionTransformer</label><div class=\"sk-toggleable__content\"><pre>FunctionTransformer(func=&lt;function make_model.&lt;locals&gt;.&lt;lambda&gt; at 0x00000127B3DF9790&gt;)</pre></div></div></div><div class=\"sk-item\"><div class=\"sk-estimator sk-toggleable\"><input class=\"sk-toggleable__control sk-hidden--visually\" id=\"73330bd1-059d-4ec8-a231-7f329d001ee8\" type=\"checkbox\" ><label for=\"73330bd1-059d-4ec8-a231-7f329d001ee8\" class=\"sk-toggleable__label sk-toggleable__label-arrow\">OneHotEncoder</label><div class=\"sk-toggleable__content\"><pre>OneHotEncoder(handle_unknown=&#x27;ignore&#x27;)</pre></div></div></div></div></div></div></div></div></div></div><div class=\"sk-item\"><div class=\"sk-estimator sk-toggleable\"><input class=\"sk-toggleable__control sk-hidden--visually\" id=\"48d8a9e4-a62e-4db9-83c0-be8552a07618\" type=\"checkbox\" ><label for=\"48d8a9e4-a62e-4db9-83c0-be8552a07618\" class=\"sk-toggleable__label sk-toggleable__label-arrow\">Lasso</label><div class=\"sk-toggleable__content\"><pre>Lasso(alpha=0, random_state=42)</pre></div></div></div></div></div></div></div>"
      ],
      "text/plain": [
       "Pipeline(steps=[('feature_processing',\n",
       "                 FeatureUnion(transformer_list=[('numeric_variables_processing ',\n",
       "                                                 Pipeline(steps=[('selecting',\n",
       "                                                                  FunctionTransformer(func=<function make_model.<locals>.<lambda> at 0x00000127B3DF9700>)),\n",
       "                                                                 ('scaling',\n",
       "                                                                  RobustScaler())])),\n",
       "                                                ('categorical_variables_processing',\n",
       "                                                 Pipeline(steps=[('selecting',\n",
       "                                                                  FunctionTransformer(func=<function make_model.<locals>.<lambda> at 0x00000127B3DF9790>)),\n",
       "                                                                 ('hot_encoding',\n",
       "                                                                  OneHotEncoder(handle_unknown='ignore'))]))])),\n",
       "                ('model_fitting', Lasso(alpha=0, random_state=42))])"
      ]
     },
     "metadata": {},
     "output_type": "display_data"
    },
    {
     "data": {
      "text/html": [
       "<style>#sk-f119622d-9176-4ada-86c7-1172f1decdf6 {color: black;background-color: white;}#sk-f119622d-9176-4ada-86c7-1172f1decdf6 pre{padding: 0;}#sk-f119622d-9176-4ada-86c7-1172f1decdf6 div.sk-toggleable {background-color: white;}#sk-f119622d-9176-4ada-86c7-1172f1decdf6 label.sk-toggleable__label {cursor: pointer;display: block;width: 100%;margin-bottom: 0;padding: 0.3em;box-sizing: border-box;text-align: center;}#sk-f119622d-9176-4ada-86c7-1172f1decdf6 label.sk-toggleable__label-arrow:before {content: \"▸\";float: left;margin-right: 0.25em;color: #696969;}#sk-f119622d-9176-4ada-86c7-1172f1decdf6 label.sk-toggleable__label-arrow:hover:before {color: black;}#sk-f119622d-9176-4ada-86c7-1172f1decdf6 div.sk-estimator:hover label.sk-toggleable__label-arrow:before {color: black;}#sk-f119622d-9176-4ada-86c7-1172f1decdf6 div.sk-toggleable__content {max-height: 0;max-width: 0;overflow: hidden;text-align: left;background-color: #f0f8ff;}#sk-f119622d-9176-4ada-86c7-1172f1decdf6 div.sk-toggleable__content pre {margin: 0.2em;color: black;border-radius: 0.25em;background-color: #f0f8ff;}#sk-f119622d-9176-4ada-86c7-1172f1decdf6 input.sk-toggleable__control:checked~div.sk-toggleable__content {max-height: 200px;max-width: 100%;overflow: auto;}#sk-f119622d-9176-4ada-86c7-1172f1decdf6 input.sk-toggleable__control:checked~label.sk-toggleable__label-arrow:before {content: \"▾\";}#sk-f119622d-9176-4ada-86c7-1172f1decdf6 div.sk-estimator input.sk-toggleable__control:checked~label.sk-toggleable__label {background-color: #d4ebff;}#sk-f119622d-9176-4ada-86c7-1172f1decdf6 div.sk-label input.sk-toggleable__control:checked~label.sk-toggleable__label {background-color: #d4ebff;}#sk-f119622d-9176-4ada-86c7-1172f1decdf6 input.sk-hidden--visually {border: 0;clip: rect(1px 1px 1px 1px);clip: rect(1px, 1px, 1px, 1px);height: 1px;margin: -1px;overflow: hidden;padding: 0;position: absolute;width: 1px;}#sk-f119622d-9176-4ada-86c7-1172f1decdf6 div.sk-estimator {font-family: monospace;background-color: #f0f8ff;border: 1px dotted black;border-radius: 0.25em;box-sizing: border-box;margin-bottom: 0.5em;}#sk-f119622d-9176-4ada-86c7-1172f1decdf6 div.sk-estimator:hover {background-color: #d4ebff;}#sk-f119622d-9176-4ada-86c7-1172f1decdf6 div.sk-parallel-item::after {content: \"\";width: 100%;border-bottom: 1px solid gray;flex-grow: 1;}#sk-f119622d-9176-4ada-86c7-1172f1decdf6 div.sk-label:hover label.sk-toggleable__label {background-color: #d4ebff;}#sk-f119622d-9176-4ada-86c7-1172f1decdf6 div.sk-serial::before {content: \"\";position: absolute;border-left: 1px solid gray;box-sizing: border-box;top: 2em;bottom: 0;left: 50%;}#sk-f119622d-9176-4ada-86c7-1172f1decdf6 div.sk-serial {display: flex;flex-direction: column;align-items: center;background-color: white;padding-right: 0.2em;padding-left: 0.2em;}#sk-f119622d-9176-4ada-86c7-1172f1decdf6 div.sk-item {z-index: 1;}#sk-f119622d-9176-4ada-86c7-1172f1decdf6 div.sk-parallel {display: flex;align-items: stretch;justify-content: center;background-color: white;}#sk-f119622d-9176-4ada-86c7-1172f1decdf6 div.sk-parallel::before {content: \"\";position: absolute;border-left: 1px solid gray;box-sizing: border-box;top: 2em;bottom: 0;left: 50%;}#sk-f119622d-9176-4ada-86c7-1172f1decdf6 div.sk-parallel-item {display: flex;flex-direction: column;position: relative;background-color: white;}#sk-f119622d-9176-4ada-86c7-1172f1decdf6 div.sk-parallel-item:first-child::after {align-self: flex-end;width: 50%;}#sk-f119622d-9176-4ada-86c7-1172f1decdf6 div.sk-parallel-item:last-child::after {align-self: flex-start;width: 50%;}#sk-f119622d-9176-4ada-86c7-1172f1decdf6 div.sk-parallel-item:only-child::after {width: 0;}#sk-f119622d-9176-4ada-86c7-1172f1decdf6 div.sk-dashed-wrapped {border: 1px dashed gray;margin: 0 0.4em 0.5em 0.4em;box-sizing: border-box;padding-bottom: 0.4em;background-color: white;position: relative;}#sk-f119622d-9176-4ada-86c7-1172f1decdf6 div.sk-label label {font-family: monospace;font-weight: bold;background-color: white;display: inline-block;line-height: 1.2em;}#sk-f119622d-9176-4ada-86c7-1172f1decdf6 div.sk-label-container {position: relative;z-index: 2;text-align: center;}#sk-f119622d-9176-4ada-86c7-1172f1decdf6 div.sk-container {/* jupyter's `normalize.less` sets `[hidden] { display: none; }` but bootstrap.min.css set `[hidden] { display: none !important; }` so we also need the `!important` here to be able to override the default hidden behavior on the sphinx rendered scikit-learn.org. See: https://github.com/scikit-learn/scikit-learn/issues/21755 */display: inline-block !important;position: relative;}#sk-f119622d-9176-4ada-86c7-1172f1decdf6 div.sk-text-repr-fallback {display: none;}</style><div id=\"sk-f119622d-9176-4ada-86c7-1172f1decdf6\" class=\"sk-top-container\"><div class=\"sk-text-repr-fallback\"><pre>Pipeline(steps=[(&#x27;feature_processing&#x27;,\n",
       "                 FeatureUnion(transformer_list=[(&#x27;numeric_variables_processing &#x27;,\n",
       "                                                 Pipeline(steps=[(&#x27;selecting&#x27;,\n",
       "                                                                  FunctionTransformer(func=&lt;function make_model.&lt;locals&gt;.&lt;lambda&gt; at 0x00000127B3DF9700&gt;)),\n",
       "                                                                 (&#x27;scaling&#x27;,\n",
       "                                                                  RobustScaler())])),\n",
       "                                                (&#x27;categorical_variables_processing&#x27;,\n",
       "                                                 Pipeline(steps=[(&#x27;selecting&#x27;,\n",
       "                                                                  FunctionTransformer(func=&lt;function make_model.&lt;locals&gt;.&lt;lambda&gt; at 0x00000127B3DF9790&gt;)),\n",
       "                                                                 (&#x27;hot_encoding&#x27;,\n",
       "                                                                  OneHotEncoder(handle_unknown=&#x27;ignore&#x27;))]))])),\n",
       "                (&#x27;model_fitting&#x27;, Ridge(alpha=0, random_state=42))])</pre><b>Please rerun this cell to show the HTML repr or trust the notebook.</b></div><div class=\"sk-container\" hidden><div class=\"sk-item sk-dashed-wrapped\"><div class=\"sk-label-container\"><div class=\"sk-label sk-toggleable\"><input class=\"sk-toggleable__control sk-hidden--visually\" id=\"17554469-bb4a-44f4-b7f4-b8aa1654f54f\" type=\"checkbox\" ><label for=\"17554469-bb4a-44f4-b7f4-b8aa1654f54f\" class=\"sk-toggleable__label sk-toggleable__label-arrow\">Pipeline</label><div class=\"sk-toggleable__content\"><pre>Pipeline(steps=[(&#x27;feature_processing&#x27;,\n",
       "                 FeatureUnion(transformer_list=[(&#x27;numeric_variables_processing &#x27;,\n",
       "                                                 Pipeline(steps=[(&#x27;selecting&#x27;,\n",
       "                                                                  FunctionTransformer(func=&lt;function make_model.&lt;locals&gt;.&lt;lambda&gt; at 0x00000127B3DF9700&gt;)),\n",
       "                                                                 (&#x27;scaling&#x27;,\n",
       "                                                                  RobustScaler())])),\n",
       "                                                (&#x27;categorical_variables_processing&#x27;,\n",
       "                                                 Pipeline(steps=[(&#x27;selecting&#x27;,\n",
       "                                                                  FunctionTransformer(func=&lt;function make_model.&lt;locals&gt;.&lt;lambda&gt; at 0x00000127B3DF9790&gt;)),\n",
       "                                                                 (&#x27;hot_encoding&#x27;,\n",
       "                                                                  OneHotEncoder(handle_unknown=&#x27;ignore&#x27;))]))])),\n",
       "                (&#x27;model_fitting&#x27;, Ridge(alpha=0, random_state=42))])</pre></div></div></div><div class=\"sk-serial\"><div class=\"sk-item sk-dashed-wrapped\"><div class=\"sk-label-container\"><div class=\"sk-label sk-toggleable\"><input class=\"sk-toggleable__control sk-hidden--visually\" id=\"63fc8c97-4dd3-4eb0-b865-08e621edc081\" type=\"checkbox\" ><label for=\"63fc8c97-4dd3-4eb0-b865-08e621edc081\" class=\"sk-toggleable__label sk-toggleable__label-arrow\">feature_processing: FeatureUnion</label><div class=\"sk-toggleable__content\"><pre>FeatureUnion(transformer_list=[(&#x27;numeric_variables_processing &#x27;,\n",
       "                                Pipeline(steps=[(&#x27;selecting&#x27;,\n",
       "                                                 FunctionTransformer(func=&lt;function make_model.&lt;locals&gt;.&lt;lambda&gt; at 0x00000127B3DF9700&gt;)),\n",
       "                                                (&#x27;scaling&#x27;, RobustScaler())])),\n",
       "                               (&#x27;categorical_variables_processing&#x27;,\n",
       "                                Pipeline(steps=[(&#x27;selecting&#x27;,\n",
       "                                                 FunctionTransformer(func=&lt;function make_model.&lt;locals&gt;.&lt;lambda&gt; at 0x00000127B3DF9790&gt;)),\n",
       "                                                (&#x27;hot_encoding&#x27;,\n",
       "                                                 OneHotEncoder(handle_unknown=&#x27;ignore&#x27;))]))])</pre></div></div></div><div class=\"sk-parallel\"><div class=\"sk-parallel-item\"><div class=\"sk-item\"><div class=\"sk-label-container\"><div class=\"sk-label sk-toggleable\"><label>numeric_variables_processing </label></div></div><div class=\"sk-serial\"><div class=\"sk-item\"><div class=\"sk-serial\"><div class=\"sk-item\"><div class=\"sk-estimator sk-toggleable\"><input class=\"sk-toggleable__control sk-hidden--visually\" id=\"3bff217d-cacd-428c-8ea9-a8b1634c39d7\" type=\"checkbox\" ><label for=\"3bff217d-cacd-428c-8ea9-a8b1634c39d7\" class=\"sk-toggleable__label sk-toggleable__label-arrow\">FunctionTransformer</label><div class=\"sk-toggleable__content\"><pre>FunctionTransformer(func=&lt;function make_model.&lt;locals&gt;.&lt;lambda&gt; at 0x00000127B3DF9700&gt;)</pre></div></div></div><div class=\"sk-item\"><div class=\"sk-estimator sk-toggleable\"><input class=\"sk-toggleable__control sk-hidden--visually\" id=\"4e9fb6c0-6a2f-4807-89c2-2ef399617e9f\" type=\"checkbox\" ><label for=\"4e9fb6c0-6a2f-4807-89c2-2ef399617e9f\" class=\"sk-toggleable__label sk-toggleable__label-arrow\">RobustScaler</label><div class=\"sk-toggleable__content\"><pre>RobustScaler()</pre></div></div></div></div></div></div></div></div><div class=\"sk-parallel-item\"><div class=\"sk-item\"><div class=\"sk-label-container\"><div class=\"sk-label sk-toggleable\"><label>categorical_variables_processing</label></div></div><div class=\"sk-serial\"><div class=\"sk-item\"><div class=\"sk-serial\"><div class=\"sk-item\"><div class=\"sk-estimator sk-toggleable\"><input class=\"sk-toggleable__control sk-hidden--visually\" id=\"71fa2692-5f6c-4da0-ad56-a1bf1df46e35\" type=\"checkbox\" ><label for=\"71fa2692-5f6c-4da0-ad56-a1bf1df46e35\" class=\"sk-toggleable__label sk-toggleable__label-arrow\">FunctionTransformer</label><div class=\"sk-toggleable__content\"><pre>FunctionTransformer(func=&lt;function make_model.&lt;locals&gt;.&lt;lambda&gt; at 0x00000127B3DF9790&gt;)</pre></div></div></div><div class=\"sk-item\"><div class=\"sk-estimator sk-toggleable\"><input class=\"sk-toggleable__control sk-hidden--visually\" id=\"583984d2-22db-4627-990f-f9be90e468c5\" type=\"checkbox\" ><label for=\"583984d2-22db-4627-990f-f9be90e468c5\" class=\"sk-toggleable__label sk-toggleable__label-arrow\">OneHotEncoder</label><div class=\"sk-toggleable__content\"><pre>OneHotEncoder(handle_unknown=&#x27;ignore&#x27;)</pre></div></div></div></div></div></div></div></div></div></div><div class=\"sk-item\"><div class=\"sk-estimator sk-toggleable\"><input class=\"sk-toggleable__control sk-hidden--visually\" id=\"0ddc8fff-f03e-4773-bc10-ba759982ccdc\" type=\"checkbox\" ><label for=\"0ddc8fff-f03e-4773-bc10-ba759982ccdc\" class=\"sk-toggleable__label sk-toggleable__label-arrow\">Ridge</label><div class=\"sk-toggleable__content\"><pre>Ridge(alpha=0, random_state=42)</pre></div></div></div></div></div></div></div>"
      ],
      "text/plain": [
       "Pipeline(steps=[('feature_processing',\n",
       "                 FeatureUnion(transformer_list=[('numeric_variables_processing ',\n",
       "                                                 Pipeline(steps=[('selecting',\n",
       "                                                                  FunctionTransformer(func=<function make_model.<locals>.<lambda> at 0x00000127B3DF9700>)),\n",
       "                                                                 ('scaling',\n",
       "                                                                  RobustScaler())])),\n",
       "                                                ('categorical_variables_processing',\n",
       "                                                 Pipeline(steps=[('selecting',\n",
       "                                                                  FunctionTransformer(func=<function make_model.<locals>.<lambda> at 0x00000127B3DF9790>)),\n",
       "                                                                 ('hot_encoding',\n",
       "                                                                  OneHotEncoder(handle_unknown='ignore'))]))])),\n",
       "                ('model_fitting', Ridge(alpha=0, random_state=42))])"
      ]
     },
     "metadata": {},
     "output_type": "display_data"
    }
   ],
   "source": [
    "display(make_model())\n",
    "display(make_model(penalty='L1'))\n",
    "display(make_model(penalty='L2'))"
   ]
  },
  {
   "cell_type": "code",
   "execution_count": 37,
   "metadata": {},
   "outputs": [
    {
     "data": {
      "text/html": [
       "<div>\n",
       "<style scoped>\n",
       "    .dataframe tbody tr th:only-of-type {\n",
       "        vertical-align: middle;\n",
       "    }\n",
       "\n",
       "    .dataframe tbody tr th {\n",
       "        vertical-align: top;\n",
       "    }\n",
       "\n",
       "    .dataframe thead th {\n",
       "        text-align: right;\n",
       "    }\n",
       "</style>\n",
       "<table border=\"1\" class=\"dataframe\">\n",
       "  <thead>\n",
       "    <tr style=\"text-align: right;\">\n",
       "      <th></th>\n",
       "      <th>Model</th>\n",
       "      <th>MAE Train</th>\n",
       "      <th>MAE Test</th>\n",
       "      <th>MAE Control</th>\n",
       "      <th>Best alhpa</th>\n",
       "    </tr>\n",
       "  </thead>\n",
       "  <tbody>\n",
       "    <tr>\n",
       "      <th>0</th>\n",
       "      <td>Linear Regression</td>\n",
       "      <td>1784</td>\n",
       "      <td>1786</td>\n",
       "      <td>1778</td>\n",
       "      <td>NaN</td>\n",
       "    </tr>\n",
       "    <tr>\n",
       "      <th>1</th>\n",
       "      <td>L1 Regression</td>\n",
       "      <td>1858</td>\n",
       "      <td>1862</td>\n",
       "      <td>1857</td>\n",
       "      <td>0.0001</td>\n",
       "    </tr>\n",
       "    <tr>\n",
       "      <th>2</th>\n",
       "      <td>L2 Regression</td>\n",
       "      <td>1810</td>\n",
       "      <td>1813</td>\n",
       "      <td>1809</td>\n",
       "      <td>0.0050</td>\n",
       "    </tr>\n",
       "  </tbody>\n",
       "</table>\n",
       "</div>"
      ],
      "text/plain": [
       "               Model  MAE Train  MAE Test  MAE Control  Best alhpa\n",
       "0  Linear Regression       1784      1786         1778         NaN\n",
       "1      L1 Regression       1858      1862         1857      0.0001\n",
       "2      L2 Regression       1810      1813         1809      0.0050"
      ]
     },
     "execution_count": 37,
     "metadata": {},
     "output_type": "execute_result"
    }
   ],
   "source": [
    "make_linear_model_predictions(x_train, y_train, x_test, y_test, x_сontrol, y_control, models, categorical_data=True)"
   ]
  },
  {
   "cell_type": "markdown",
   "metadata": {},
   "source": [
    "Обучение моделей на полных данных позволяет добиться требуемого порогового значения МАЕ, при этом простая модель множественной регрессии дает в среднем лучший прогноз.<br>\n",
    "<br>\n",
    "Поскольку в процессе анализа был сделан вывод разной стоимости автомобилей для разных производителей, попробуем разделить наши выборки на две:\n",
    "- немецкие автомобили (Audi, BMW, Mercedes и VW)\n",
    "- другие автомобили (другие производители)\n",
    "\n",
    "и сделать прогноз для разных сегментов по отдельности."
   ]
  },
  {
   "cell_type": "code",
   "execution_count": 38,
   "metadata": {},
   "outputs": [],
   "source": [
    "german_models = ['mercedes', 'audi', 'bmw', 'vw']\n",
    "german = train_df[train_df.car_maker.isin(german_models)].copy()\n",
    "others = train_df[~train_df.car_maker.isin(german_models)].copy()"
   ]
  },
  {
   "cell_type": "code",
   "execution_count": 39,
   "metadata": {},
   "outputs": [
    {
     "data": {
      "image/png": "[encoded data removed]",
      "text/plain": [
       "<Figure size 432x288 with 1 Axes>"
      ]
     },
     "metadata": {
      "needs_background": "light"
     },
     "output_type": "display_data"
    }
   ],
   "source": [
    "# Посмотрим на распределение логарифма стоимости для двух сегментов\n",
    "plt.hist(np.log(german.price), alpha=0.6, label='german')\n",
    "plt.hist(np.log(others.price), alpha=0.6, label='others')\n",
    "plt.legend();"
   ]
  },
  {
   "cell_type": "code",
   "execution_count": 40,
   "metadata": {},
   "outputs": [],
   "source": [
    "# Разделим выборку немецкие авто для обучения на тестовую и обучающую\n",
    "X_german = german.drop(columns=['price'])\n",
    "Y_german = german['price']\n",
    "\n",
    "Xpr, Xpr_control, Yp, Ypr_control = train_test_split(X_german, Y_german, train_size=0.8,\n",
    "                                                     test_size=0.2, shuffle=True, random_state=SEED)\n",
    "\n",
    "Xpr_train, Xpr_test, Ypr_train, Ypr_test = train_test_split(Xpr,Yp, train_size=0.7, test_size=0.3,\n",
    "                                                            shuffle=True, random_state=SEED)"
   ]
  },
  {
   "cell_type": "code",
   "execution_count": 41,
   "metadata": {},
   "outputs": [
    {
     "data": {
      "text/html": [
       "<div>\n",
       "<style scoped>\n",
       "    .dataframe tbody tr th:only-of-type {\n",
       "        vertical-align: middle;\n",
       "    }\n",
       "\n",
       "    .dataframe tbody tr th {\n",
       "        vertical-align: top;\n",
       "    }\n",
       "\n",
       "    .dataframe thead th {\n",
       "        text-align: right;\n",
       "    }\n",
       "</style>\n",
       "<table border=\"1\" class=\"dataframe\">\n",
       "  <thead>\n",
       "    <tr style=\"text-align: right;\">\n",
       "      <th></th>\n",
       "      <th>Model</th>\n",
       "      <th>MAE Train</th>\n",
       "      <th>MAE Test</th>\n",
       "      <th>MAE Control</th>\n",
       "      <th>Best alhpa</th>\n",
       "    </tr>\n",
       "  </thead>\n",
       "  <tbody>\n",
       "    <tr>\n",
       "      <th>0</th>\n",
       "      <td>Linear Regression</td>\n",
       "      <td>2171</td>\n",
       "      <td>2140</td>\n",
       "      <td>2151</td>\n",
       "      <td>NaN</td>\n",
       "    </tr>\n",
       "    <tr>\n",
       "      <th>1</th>\n",
       "      <td>L1 Regression</td>\n",
       "      <td>2221</td>\n",
       "      <td>2176</td>\n",
       "      <td>2225</td>\n",
       "      <td>0.0001</td>\n",
       "    </tr>\n",
       "    <tr>\n",
       "      <th>2</th>\n",
       "      <td>L2 Regression</td>\n",
       "      <td>2208</td>\n",
       "      <td>2164</td>\n",
       "      <td>2202</td>\n",
       "      <td>0.5000</td>\n",
       "    </tr>\n",
       "  </tbody>\n",
       "</table>\n",
       "</div>"
      ],
      "text/plain": [
       "               Model  MAE Train  MAE Test  MAE Control  Best alhpa\n",
       "0  Linear Regression       2171      2140         2151         NaN\n",
       "1      L1 Regression       2221      2176         2225      0.0001\n",
       "2      L2 Regression       2208      2164         2202      0.5000"
      ]
     },
     "execution_count": 41,
     "metadata": {},
     "output_type": "execute_result"
    }
   ],
   "source": [
    "make_linear_model_predictions(Xpr_train, Ypr_train, Xpr_test, Ypr_test, Xpr_control, Ypr_control, models, categorical_data=True)"
   ]
  },
  {
   "cell_type": "code",
   "execution_count": 42,
   "metadata": {},
   "outputs": [],
   "source": [
    "# Разделим выборку другие производители для обучения на тестовую и обучающую\n",
    "X_others = others.drop(columns=['price'])\n",
    "Y_others = others['price']\n",
    "\n",
    "Xstd, Xstd_control, Ystd, Ystd_control = train_test_split(X_others, Y_others, train_size=0.8, test_size=0.2,\n",
    "                                                          shuffle=True, random_state=SEED)\n",
    "\n",
    "Xstd_train, Xstd_test, Ystd_train, Ystd_test = train_test_split(Xstd, Ystd, train_size=0.7, test_size=0.3,\n",
    "                                                                shuffle=True, random_state=SEED)"
   ]
  },
  {
   "cell_type": "code",
   "execution_count": 43,
   "metadata": {},
   "outputs": [
    {
     "data": {
      "text/html": [
       "<div>\n",
       "<style scoped>\n",
       "    .dataframe tbody tr th:only-of-type {\n",
       "        vertical-align: middle;\n",
       "    }\n",
       "\n",
       "    .dataframe tbody tr th {\n",
       "        vertical-align: top;\n",
       "    }\n",
       "\n",
       "    .dataframe thead th {\n",
       "        text-align: right;\n",
       "    }\n",
       "</style>\n",
       "<table border=\"1\" class=\"dataframe\">\n",
       "  <thead>\n",
       "    <tr style=\"text-align: right;\">\n",
       "      <th></th>\n",
       "      <th>Model</th>\n",
       "      <th>MAE Train</th>\n",
       "      <th>MAE Test</th>\n",
       "      <th>MAE Control</th>\n",
       "      <th>Best alhpa</th>\n",
       "    </tr>\n",
       "  </thead>\n",
       "  <tbody>\n",
       "    <tr>\n",
       "      <th>0</th>\n",
       "      <td>Linear Regression</td>\n",
       "      <td>1160</td>\n",
       "      <td>1196</td>\n",
       "      <td>1191</td>\n",
       "      <td>NaN</td>\n",
       "    </tr>\n",
       "    <tr>\n",
       "      <th>1</th>\n",
       "      <td>L1 Regression</td>\n",
       "      <td>1169</td>\n",
       "      <td>1207</td>\n",
       "      <td>1196</td>\n",
       "      <td>0.0001</td>\n",
       "    </tr>\n",
       "    <tr>\n",
       "      <th>2</th>\n",
       "      <td>L2 Regression</td>\n",
       "      <td>1168</td>\n",
       "      <td>1207</td>\n",
       "      <td>1194</td>\n",
       "      <td>0.0100</td>\n",
       "    </tr>\n",
       "  </tbody>\n",
       "</table>\n",
       "</div>"
      ],
      "text/plain": [
       "               Model  MAE Train  MAE Test  MAE Control  Best alhpa\n",
       "0  Linear Regression       1160      1196         1191         NaN\n",
       "1      L1 Regression       1169      1207         1196      0.0001\n",
       "2      L2 Regression       1168      1207         1194      0.0100"
      ]
     },
     "execution_count": 43,
     "metadata": {},
     "output_type": "execute_result"
    }
   ],
   "source": [
    "make_linear_model_predictions(Xstd_train, Ystd_train, Xstd_test, Ystd_test, \n",
    "                              Xstd_control, Ystd_control, models, categorical_data=True)"
   ]
  },
  {
   "cell_type": "markdown",
   "metadata": {},
   "source": [
    "Результаты прогноза стоимости автомобилей для других производителей существенно улучшились – объединение результатов прогноза для разных производителей в целом улучшит качество прогноза. **По грубой оценке мы получим МАЕ примерно 1660-1700.**\n",
    "\n",
    "<br>\n",
    "Спрогнозируем стоимость автомобилей для разных сегментов, объединим в итоговый файл и отправим в грейдер, посмотрим насколько хорошо получилось у нас сделать прогноз с помощью линейной регресии."
   ]
  },
  {
   "cell_type": "code",
   "execution_count": 44,
   "metadata": {},
   "outputs": [],
   "source": [
    "# Разделим данные для прогноза на немецкие автомобили и другие\n",
    "x_predict_german = x_predict[x_predict.car_maker.isin(german_models)].copy()\n",
    "x_german_ids = x_predict_german.id\n",
    "\n",
    "x_predict_others = x_predict[~x_predict.car_maker.isin(german_models)].copy()\n",
    "x_others_ids = x_predict_others.id"
   ]
  },
  {
   "cell_type": "code",
   "execution_count": 45,
   "metadata": {},
   "outputs": [],
   "source": [
    "# Обучим модель и предскажем цены для немецких автомобилей\n",
    "linear_regressor = make_model()\n",
    "\n",
    "linear_regressor.fit(Xpr_train, np.log(Ypr_train))\n",
    "german_cars_prediction = np.exp(linear_regressor.predict(x_predict_german.drop(['id'], axis=1))).astype(int)"
   ]
  },
  {
   "cell_type": "code",
   "execution_count": 46,
   "metadata": {},
   "outputs": [],
   "source": [
    "# Обучим модель и предскажем цены для автомобилей других производителей\n",
    "linear_regressor.fit(Xstd_train, np.log(Ystd_train))\n",
    "others_cars_prediction = np.exp(linear_regressor.predict(x_predict_others.drop(['id'], axis=1))).astype(int)"
   ]
  },
  {
   "cell_type": "code",
   "execution_count": 47,
   "metadata": {},
   "outputs": [
    {
     "data": {
      "text/html": [
       "<div>\n",
       "<style scoped>\n",
       "    .dataframe tbody tr th:only-of-type {\n",
       "        vertical-align: middle;\n",
       "    }\n",
       "\n",
       "    .dataframe tbody tr th {\n",
       "        vertical-align: top;\n",
       "    }\n",
       "\n",
       "    .dataframe thead th {\n",
       "        text-align: right;\n",
       "    }\n",
       "</style>\n",
       "<table border=\"1\" class=\"dataframe\">\n",
       "  <thead>\n",
       "    <tr style=\"text-align: right;\">\n",
       "      <th></th>\n",
       "      <th>id</th>\n",
       "      <th>price</th>\n",
       "    </tr>\n",
       "  </thead>\n",
       "  <tbody>\n",
       "    <tr>\n",
       "      <th>0</th>\n",
       "      <td>0</td>\n",
       "      <td>10360</td>\n",
       "    </tr>\n",
       "    <tr>\n",
       "      <th>1</th>\n",
       "      <td>1</td>\n",
       "      <td>14142</td>\n",
       "    </tr>\n",
       "    <tr>\n",
       "      <th>2</th>\n",
       "      <td>2</td>\n",
       "      <td>18081</td>\n",
       "    </tr>\n",
       "    <tr>\n",
       "      <th>3</th>\n",
       "      <td>3</td>\n",
       "      <td>19423</td>\n",
       "    </tr>\n",
       "    <tr>\n",
       "      <th>4</th>\n",
       "      <td>4</td>\n",
       "      <td>10526</td>\n",
       "    </tr>\n",
       "  </tbody>\n",
       "</table>\n",
       "</div>"
      ],
      "text/plain": [
       "   id  price\n",
       "0   0  10360\n",
       "1   1  14142\n",
       "2   2  18081\n",
       "3   3  19423\n",
       "4   4  10526"
      ]
     },
     "execution_count": 47,
     "metadata": {},
     "output_type": "execute_result"
    }
   ],
   "source": [
    "# Объединим спрогназированные значения в итоговый файл\n",
    "predicted = pd.DataFrame(np.hstack([german_cars_prediction, others_cars_prediction]), columns=['price'])\n",
    "predicted['id'] = np.int32(np.hstack([x_german_ids, x_others_ids]))\n",
    "\n",
    "predicted = predicted.sort_values(by='id').reset_index().drop('index', 1)[['id', 'price']]\n",
    "predicted.head()"
   ]
  },
  {
   "cell_type": "code",
   "execution_count": 48,
   "metadata": {},
   "outputs": [],
   "source": [
    "predicted.to_csv('linear_regression_predictions.csv', sep=',', index=False)"
   ]
  },
  {
   "cell_type": "markdown",
   "metadata": {},
   "source": [
    "> **Грейдер произвел расчеты и присвоил 10 баллов.**\n",
    ">\n",
    "> **Таким образом, добиться улучшения результатов прогноза стоимости автомобиля с помощью линейной регрессии позволяет разделение данных по производителю: немецкие автомобили и автомобили других производителей.**"
   ]
  },
  {
   "cell_type": "markdown",
   "metadata": {},
   "source": [
    "<hr>"
   ]
  },
  {
   "cell_type": "markdown",
   "metadata": {},
   "source": [
    "### Случайный лес или RandomForestRegressor\n",
    "\n",
    "\n",
    "Попробуем применить RandomForestRegressor для прогнозирования стоимости автомобилей."
   ]
  },
  {
   "cell_type": "code",
   "execution_count": 49,
   "metadata": {},
   "outputs": [],
   "source": [
    "# Объявим алгоритм с заданными гиперпараметрами\n",
    "rf_model = RandomForestRegressor(random_state=SEED, max_depth=20, n_estimators=50)"
   ]
  },
  {
   "cell_type": "code",
   "execution_count": 50,
   "metadata": {},
   "outputs": [],
   "source": [
    "# Строим пайплайн для преобразования количественных и категориальных переменных\n",
    "rf_regressor = pipeline.Pipeline(steps = [       \n",
    "    ('feature_processing', pipeline.FeatureUnion(transformer_list = [        \n",
    "            ('numeric_variables_processing', pipeline.Pipeline(steps = [\n",
    "                ('selecting', preprocessing.FunctionTransformer(lambda data: data[num_features])),\n",
    "                ('scaling', StandardScaler(with_mean=0))])),\n",
    "            ('categorical_variables_processing', pipeline.Pipeline(steps = [\n",
    "                ('selecting', preprocessing.FunctionTransformer(lambda data: data[cat_features])),\n",
    "                ('hot_encoding', preprocessing.OneHotEncoder(handle_unknown = 'ignore'))])),\n",
    "        ])),\n",
    "    ('model_fitting', rf_model)\n",
    "    ]\n",
    ")"
   ]
  },
  {
   "cell_type": "code",
   "execution_count": 51,
   "metadata": {},
   "outputs": [
    {
     "data": {
      "text/html": [
       "<style>#sk-2b4357a5-e634-4e07-831e-a98e34512516 {color: black;background-color: white;}#sk-2b4357a5-e634-4e07-831e-a98e34512516 pre{padding: 0;}#sk-2b4357a5-e634-4e07-831e-a98e34512516 div.sk-toggleable {background-color: white;}#sk-2b4357a5-e634-4e07-831e-a98e34512516 label.sk-toggleable__label {cursor: pointer;display: block;width: 100%;margin-bottom: 0;padding: 0.3em;box-sizing: border-box;text-align: center;}#sk-2b4357a5-e634-4e07-831e-a98e34512516 label.sk-toggleable__label-arrow:before {content: \"▸\";float: left;margin-right: 0.25em;color: #696969;}#sk-2b4357a5-e634-4e07-831e-a98e34512516 label.sk-toggleable__label-arrow:hover:before {color: black;}#sk-2b4357a5-e634-4e07-831e-a98e34512516 div.sk-estimator:hover label.sk-toggleable__label-arrow:before {color: black;}#sk-2b4357a5-e634-4e07-831e-a98e34512516 div.sk-toggleable__content {max-height: 0;max-width: 0;overflow: hidden;text-align: left;background-color: #f0f8ff;}#sk-2b4357a5-e634-4e07-831e-a98e34512516 div.sk-toggleable__content pre {margin: 0.2em;color: black;border-radius: 0.25em;background-color: #f0f8ff;}#sk-2b4357a5-e634-4e07-831e-a98e34512516 input.sk-toggleable__control:checked~div.sk-toggleable__content {max-height: 200px;max-width: 100%;overflow: auto;}#sk-2b4357a5-e634-4e07-831e-a98e34512516 input.sk-toggleable__control:checked~label.sk-toggleable__label-arrow:before {content: \"▾\";}#sk-2b4357a5-e634-4e07-831e-a98e34512516 div.sk-estimator input.sk-toggleable__control:checked~label.sk-toggleable__label {background-color: #d4ebff;}#sk-2b4357a5-e634-4e07-831e-a98e34512516 div.sk-label input.sk-toggleable__control:checked~label.sk-toggleable__label {background-color: #d4ebff;}#sk-2b4357a5-e634-4e07-831e-a98e34512516 input.sk-hidden--visually {border: 0;clip: rect(1px 1px 1px 1px);clip: rect(1px, 1px, 1px, 1px);height: 1px;margin: -1px;overflow: hidden;padding: 0;position: absolute;width: 1px;}#sk-2b4357a5-e634-4e07-831e-a98e34512516 div.sk-estimator {font-family: monospace;background-color: #f0f8ff;border: 1px dotted black;border-radius: 0.25em;box-sizing: border-box;margin-bottom: 0.5em;}#sk-2b4357a5-e634-4e07-831e-a98e34512516 div.sk-estimator:hover {background-color: #d4ebff;}#sk-2b4357a5-e634-4e07-831e-a98e34512516 div.sk-parallel-item::after {content: \"\";width: 100%;border-bottom: 1px solid gray;flex-grow: 1;}#sk-2b4357a5-e634-4e07-831e-a98e34512516 div.sk-label:hover label.sk-toggleable__label {background-color: #d4ebff;}#sk-2b4357a5-e634-4e07-831e-a98e34512516 div.sk-serial::before {content: \"\";position: absolute;border-left: 1px solid gray;box-sizing: border-box;top: 2em;bottom: 0;left: 50%;}#sk-2b4357a5-e634-4e07-831e-a98e34512516 div.sk-serial {display: flex;flex-direction: column;align-items: center;background-color: white;padding-right: 0.2em;padding-left: 0.2em;}#sk-2b4357a5-e634-4e07-831e-a98e34512516 div.sk-item {z-index: 1;}#sk-2b4357a5-e634-4e07-831e-a98e34512516 div.sk-parallel {display: flex;align-items: stretch;justify-content: center;background-color: white;}#sk-2b4357a5-e634-4e07-831e-a98e34512516 div.sk-parallel::before {content: \"\";position: absolute;border-left: 1px solid gray;box-sizing: border-box;top: 2em;bottom: 0;left: 50%;}#sk-2b4357a5-e634-4e07-831e-a98e34512516 div.sk-parallel-item {display: flex;flex-direction: column;position: relative;background-color: white;}#sk-2b4357a5-e634-4e07-831e-a98e34512516 div.sk-parallel-item:first-child::after {align-self: flex-end;width: 50%;}#sk-2b4357a5-e634-4e07-831e-a98e34512516 div.sk-parallel-item:last-child::after {align-self: flex-start;width: 50%;}#sk-2b4357a5-e634-4e07-831e-a98e34512516 div.sk-parallel-item:only-child::after {width: 0;}#sk-2b4357a5-e634-4e07-831e-a98e34512516 div.sk-dashed-wrapped {border: 1px dashed gray;margin: 0 0.4em 0.5em 0.4em;box-sizing: border-box;padding-bottom: 0.4em;background-color: white;position: relative;}#sk-2b4357a5-e634-4e07-831e-a98e34512516 div.sk-label label {font-family: monospace;font-weight: bold;background-color: white;display: inline-block;line-height: 1.2em;}#sk-2b4357a5-e634-4e07-831e-a98e34512516 div.sk-label-container {position: relative;z-index: 2;text-align: center;}#sk-2b4357a5-e634-4e07-831e-a98e34512516 div.sk-container {/* jupyter's `normalize.less` sets `[hidden] { display: none; }` but bootstrap.min.css set `[hidden] { display: none !important; }` so we also need the `!important` here to be able to override the default hidden behavior on the sphinx rendered scikit-learn.org. See: https://github.com/scikit-learn/scikit-learn/issues/21755 */display: inline-block !important;position: relative;}#sk-2b4357a5-e634-4e07-831e-a98e34512516 div.sk-text-repr-fallback {display: none;}</style><div id=\"sk-2b4357a5-e634-4e07-831e-a98e34512516\" class=\"sk-top-container\"><div class=\"sk-text-repr-fallback\"><pre>Pipeline(steps=[(&#x27;feature_processing&#x27;,\n",
       "                 FeatureUnion(transformer_list=[(&#x27;numeric_variables_processing&#x27;,\n",
       "                                                 Pipeline(steps=[(&#x27;selecting&#x27;,\n",
       "                                                                  FunctionTransformer(func=&lt;function &lt;lambda&gt; at 0x00000127B453AB80&gt;)),\n",
       "                                                                 (&#x27;scaling&#x27;,\n",
       "                                                                  StandardScaler(with_mean=0))])),\n",
       "                                                (&#x27;categorical_variables_processing&#x27;,\n",
       "                                                 Pipeline(steps=[(&#x27;selecting&#x27;,\n",
       "                                                                  FunctionTransformer(func=&lt;function &lt;lambda&gt; at 0x00000127B453ACA0&gt;)),\n",
       "                                                                 (&#x27;hot_encoding&#x27;,\n",
       "                                                                  OneHotEncoder(handle_unknown=&#x27;ignore&#x27;))]))])),\n",
       "                (&#x27;model_fitting&#x27;,\n",
       "                 RandomForestRegressor(max_depth=20, n_estimators=50,\n",
       "                                       random_state=42))])</pre><b>Please rerun this cell to show the HTML repr or trust the notebook.</b></div><div class=\"sk-container\" hidden><div class=\"sk-item sk-dashed-wrapped\"><div class=\"sk-label-container\"><div class=\"sk-label sk-toggleable\"><input class=\"sk-toggleable__control sk-hidden--visually\" id=\"3895fdea-f503-42f1-8b66-5a3848b42aa2\" type=\"checkbox\" ><label for=\"3895fdea-f503-42f1-8b66-5a3848b42aa2\" class=\"sk-toggleable__label sk-toggleable__label-arrow\">Pipeline</label><div class=\"sk-toggleable__content\"><pre>Pipeline(steps=[(&#x27;feature_processing&#x27;,\n",
       "                 FeatureUnion(transformer_list=[(&#x27;numeric_variables_processing&#x27;,\n",
       "                                                 Pipeline(steps=[(&#x27;selecting&#x27;,\n",
       "                                                                  FunctionTransformer(func=&lt;function &lt;lambda&gt; at 0x00000127B453AB80&gt;)),\n",
       "                                                                 (&#x27;scaling&#x27;,\n",
       "                                                                  StandardScaler(with_mean=0))])),\n",
       "                                                (&#x27;categorical_variables_processing&#x27;,\n",
       "                                                 Pipeline(steps=[(&#x27;selecting&#x27;,\n",
       "                                                                  FunctionTransformer(func=&lt;function &lt;lambda&gt; at 0x00000127B453ACA0&gt;)),\n",
       "                                                                 (&#x27;hot_encoding&#x27;,\n",
       "                                                                  OneHotEncoder(handle_unknown=&#x27;ignore&#x27;))]))])),\n",
       "                (&#x27;model_fitting&#x27;,\n",
       "                 RandomForestRegressor(max_depth=20, n_estimators=50,\n",
       "                                       random_state=42))])</pre></div></div></div><div class=\"sk-serial\"><div class=\"sk-item sk-dashed-wrapped\"><div class=\"sk-label-container\"><div class=\"sk-label sk-toggleable\"><input class=\"sk-toggleable__control sk-hidden--visually\" id=\"18a1a19e-713c-48a7-8fe1-ae78af58a93a\" type=\"checkbox\" ><label for=\"18a1a19e-713c-48a7-8fe1-ae78af58a93a\" class=\"sk-toggleable__label sk-toggleable__label-arrow\">feature_processing: FeatureUnion</label><div class=\"sk-toggleable__content\"><pre>FeatureUnion(transformer_list=[(&#x27;numeric_variables_processing&#x27;,\n",
       "                                Pipeline(steps=[(&#x27;selecting&#x27;,\n",
       "                                                 FunctionTransformer(func=&lt;function &lt;lambda&gt; at 0x00000127B453AB80&gt;)),\n",
       "                                                (&#x27;scaling&#x27;,\n",
       "                                                 StandardScaler(with_mean=0))])),\n",
       "                               (&#x27;categorical_variables_processing&#x27;,\n",
       "                                Pipeline(steps=[(&#x27;selecting&#x27;,\n",
       "                                                 FunctionTransformer(func=&lt;function &lt;lambda&gt; at 0x00000127B453ACA0&gt;)),\n",
       "                                                (&#x27;hot_encoding&#x27;,\n",
       "                                                 OneHotEncoder(handle_unknown=&#x27;ignore&#x27;))]))])</pre></div></div></div><div class=\"sk-parallel\"><div class=\"sk-parallel-item\"><div class=\"sk-item\"><div class=\"sk-label-container\"><div class=\"sk-label sk-toggleable\"><label>numeric_variables_processing</label></div></div><div class=\"sk-serial\"><div class=\"sk-item\"><div class=\"sk-serial\"><div class=\"sk-item\"><div class=\"sk-estimator sk-toggleable\"><input class=\"sk-toggleable__control sk-hidden--visually\" id=\"449ace81-3ef1-450f-abee-7c4a3a1928e3\" type=\"checkbox\" ><label for=\"449ace81-3ef1-450f-abee-7c4a3a1928e3\" class=\"sk-toggleable__label sk-toggleable__label-arrow\">FunctionTransformer</label><div class=\"sk-toggleable__content\"><pre>FunctionTransformer(func=&lt;function &lt;lambda&gt; at 0x00000127B453AB80&gt;)</pre></div></div></div><div class=\"sk-item\"><div class=\"sk-estimator sk-toggleable\"><input class=\"sk-toggleable__control sk-hidden--visually\" id=\"a6afdd76-491e-4685-8eb3-24b27a940e52\" type=\"checkbox\" ><label for=\"a6afdd76-491e-4685-8eb3-24b27a940e52\" class=\"sk-toggleable__label sk-toggleable__label-arrow\">StandardScaler</label><div class=\"sk-toggleable__content\"><pre>StandardScaler(with_mean=0)</pre></div></div></div></div></div></div></div></div><div class=\"sk-parallel-item\"><div class=\"sk-item\"><div class=\"sk-label-container\"><div class=\"sk-label sk-toggleable\"><label>categorical_variables_processing</label></div></div><div class=\"sk-serial\"><div class=\"sk-item\"><div class=\"sk-serial\"><div class=\"sk-item\"><div class=\"sk-estimator sk-toggleable\"><input class=\"sk-toggleable__control sk-hidden--visually\" id=\"8f809e61-fe00-499e-a15d-de722a856da8\" type=\"checkbox\" ><label for=\"8f809e61-fe00-499e-a15d-de722a856da8\" class=\"sk-toggleable__label sk-toggleable__label-arrow\">FunctionTransformer</label><div class=\"sk-toggleable__content\"><pre>FunctionTransformer(func=&lt;function &lt;lambda&gt; at 0x00000127B453ACA0&gt;)</pre></div></div></div><div class=\"sk-item\"><div class=\"sk-estimator sk-toggleable\"><input class=\"sk-toggleable__control sk-hidden--visually\" id=\"bb5dcc1b-3b3a-48a4-81ad-9d723f458fa9\" type=\"checkbox\" ><label for=\"bb5dcc1b-3b3a-48a4-81ad-9d723f458fa9\" class=\"sk-toggleable__label sk-toggleable__label-arrow\">OneHotEncoder</label><div class=\"sk-toggleable__content\"><pre>OneHotEncoder(handle_unknown=&#x27;ignore&#x27;)</pre></div></div></div></div></div></div></div></div></div></div><div class=\"sk-item\"><div class=\"sk-estimator sk-toggleable\"><input class=\"sk-toggleable__control sk-hidden--visually\" id=\"acf6e8fa-3925-4025-862b-6dd8e14b9985\" type=\"checkbox\" ><label for=\"acf6e8fa-3925-4025-862b-6dd8e14b9985\" class=\"sk-toggleable__label sk-toggleable__label-arrow\">RandomForestRegressor</label><div class=\"sk-toggleable__content\"><pre>RandomForestRegressor(max_depth=20, n_estimators=50, random_state=42)</pre></div></div></div></div></div></div></div>"
      ],
      "text/plain": [
       "Pipeline(steps=[('feature_processing',\n",
       "                 FeatureUnion(transformer_list=[('numeric_variables_processing',\n",
       "                                                 Pipeline(steps=[('selecting',\n",
       "                                                                  FunctionTransformer(func=<function <lambda> at 0x00000127B453AB80>)),\n",
       "                                                                 ('scaling',\n",
       "                                                                  StandardScaler(with_mean=0))])),\n",
       "                                                ('categorical_variables_processing',\n",
       "                                                 Pipeline(steps=[('selecting',\n",
       "                                                                  FunctionTransformer(func=<function <lambda> at 0x00000127B453ACA0>)),\n",
       "                                                                 ('hot_encoding',\n",
       "                                                                  OneHotEncoder(handle_unknown='ignore'))]))])),\n",
       "                ('model_fitting',\n",
       "                 RandomForestRegressor(max_depth=20, n_estimators=50,\n",
       "                                       random_state=42))])"
      ]
     },
     "execution_count": 51,
     "metadata": {},
     "output_type": "execute_result"
    }
   ],
   "source": [
    "# Обучаем алгоритм\n",
    "rf_regressor.fit(x_train, y_train)"
   ]
  },
  {
   "cell_type": "code",
   "execution_count": 52,
   "metadata": {},
   "outputs": [
    {
     "data": {
      "text/html": [
       "<div>\n",
       "<style scoped>\n",
       "    .dataframe tbody tr th:only-of-type {\n",
       "        vertical-align: middle;\n",
       "    }\n",
       "\n",
       "    .dataframe tbody tr th {\n",
       "        vertical-align: top;\n",
       "    }\n",
       "\n",
       "    .dataframe thead th {\n",
       "        text-align: right;\n",
       "    }\n",
       "</style>\n",
       "<table border=\"1\" class=\"dataframe\">\n",
       "  <thead>\n",
       "    <tr style=\"text-align: right;\">\n",
       "      <th></th>\n",
       "      <th>Model</th>\n",
       "      <th>MAE Train</th>\n",
       "      <th>MAE Test</th>\n",
       "      <th>MAE Control</th>\n",
       "    </tr>\n",
       "  </thead>\n",
       "  <tbody>\n",
       "    <tr>\n",
       "      <th>0</th>\n",
       "      <td>RF Regressor</td>\n",
       "      <td>729</td>\n",
       "      <td>1336</td>\n",
       "      <td>1326</td>\n",
       "    </tr>\n",
       "  </tbody>\n",
       "</table>\n",
       "</div>"
      ],
      "text/plain": [
       "          Model  MAE Train  MAE Test  MAE Control\n",
       "0  RF Regressor        729      1336         1326"
      ]
     },
     "execution_count": 52,
     "metadata": {},
     "output_type": "execute_result"
    }
   ],
   "source": [
    "# Оцениваем качество прогноза на обучающих и отложенных выборках\n",
    "rf_mae_train = mae(y_train, rf_regressor.predict(x_train)).astype(int)\n",
    "rf_mae_test = mae(y_test, rf_regressor.predict(x_test)).astype(int)\n",
    "rf_mae_control = mae(y_control, rf_regressor.predict(x_сontrol)).astype(int)\n",
    "\n",
    "\n",
    "pd.DataFrame([['RF Regressor', rf_mae_train, rf_mae_test, rf_mae_control]],\n",
    "             columns=['Model', 'MAE Train', 'MAE Test', 'MAE Control'])"
   ]
  },
  {
   "cell_type": "markdown",
   "metadata": {},
   "source": [
    "**Результаты прогноза значительно лучше результатов линейной регрессии – МАЕ < 1330 на контрольной выборке.**\n",
    "<br>\n",
    "\n",
    "Посмотрим изменится ли качество прогнозирования если будем предсказывать цены для немецких производителей отдельно."
   ]
  },
  {
   "cell_type": "code",
   "execution_count": 53,
   "metadata": {},
   "outputs": [
    {
     "data": {
      "text/html": [
       "<style>#sk-4d61fbf4-2c99-4543-8e5d-cc363bf3d92e {color: black;background-color: white;}#sk-4d61fbf4-2c99-4543-8e5d-cc363bf3d92e pre{padding: 0;}#sk-4d61fbf4-2c99-4543-8e5d-cc363bf3d92e div.sk-toggleable {background-color: white;}#sk-4d61fbf4-2c99-4543-8e5d-cc363bf3d92e label.sk-toggleable__label {cursor: pointer;display: block;width: 100%;margin-bottom: 0;padding: 0.3em;box-sizing: border-box;text-align: center;}#sk-4d61fbf4-2c99-4543-8e5d-cc363bf3d92e label.sk-toggleable__label-arrow:before {content: \"▸\";float: left;margin-right: 0.25em;color: #696969;}#sk-4d61fbf4-2c99-4543-8e5d-cc363bf3d92e label.sk-toggleable__label-arrow:hover:before {color: black;}#sk-4d61fbf4-2c99-4543-8e5d-cc363bf3d92e div.sk-estimator:hover label.sk-toggleable__label-arrow:before {color: black;}#sk-4d61fbf4-2c99-4543-8e5d-cc363bf3d92e div.sk-toggleable__content {max-height: 0;max-width: 0;overflow: hidden;text-align: left;background-color: #f0f8ff;}#sk-4d61fbf4-2c99-4543-8e5d-cc363bf3d92e div.sk-toggleable__content pre {margin: 0.2em;color: black;border-radius: 0.25em;background-color: #f0f8ff;}#sk-4d61fbf4-2c99-4543-8e5d-cc363bf3d92e input.sk-toggleable__control:checked~div.sk-toggleable__content {max-height: 200px;max-width: 100%;overflow: auto;}#sk-4d61fbf4-2c99-4543-8e5d-cc363bf3d92e input.sk-toggleable__control:checked~label.sk-toggleable__label-arrow:before {content: \"▾\";}#sk-4d61fbf4-2c99-4543-8e5d-cc363bf3d92e div.sk-estimator input.sk-toggleable__control:checked~label.sk-toggleable__label {background-color: #d4ebff;}#sk-4d61fbf4-2c99-4543-8e5d-cc363bf3d92e div.sk-label input.sk-toggleable__control:checked~label.sk-toggleable__label {background-color: #d4ebff;}#sk-4d61fbf4-2c99-4543-8e5d-cc363bf3d92e input.sk-hidden--visually {border: 0;clip: rect(1px 1px 1px 1px);clip: rect(1px, 1px, 1px, 1px);height: 1px;margin: -1px;overflow: hidden;padding: 0;position: absolute;width: 1px;}#sk-4d61fbf4-2c99-4543-8e5d-cc363bf3d92e div.sk-estimator {font-family: monospace;background-color: #f0f8ff;border: 1px dotted black;border-radius: 0.25em;box-sizing: border-box;margin-bottom: 0.5em;}#sk-4d61fbf4-2c99-4543-8e5d-cc363bf3d92e div.sk-estimator:hover {background-color: #d4ebff;}#sk-4d61fbf4-2c99-4543-8e5d-cc363bf3d92e div.sk-parallel-item::after {content: \"\";width: 100%;border-bottom: 1px solid gray;flex-grow: 1;}#sk-4d61fbf4-2c99-4543-8e5d-cc363bf3d92e div.sk-label:hover label.sk-toggleable__label {background-color: #d4ebff;}#sk-4d61fbf4-2c99-4543-8e5d-cc363bf3d92e div.sk-serial::before {content: \"\";position: absolute;border-left: 1px solid gray;box-sizing: border-box;top: 2em;bottom: 0;left: 50%;}#sk-4d61fbf4-2c99-4543-8e5d-cc363bf3d92e div.sk-serial {display: flex;flex-direction: column;align-items: center;background-color: white;padding-right: 0.2em;padding-left: 0.2em;}#sk-4d61fbf4-2c99-4543-8e5d-cc363bf3d92e div.sk-item {z-index: 1;}#sk-4d61fbf4-2c99-4543-8e5d-cc363bf3d92e div.sk-parallel {display: flex;align-items: stretch;justify-content: center;background-color: white;}#sk-4d61fbf4-2c99-4543-8e5d-cc363bf3d92e div.sk-parallel::before {content: \"\";position: absolute;border-left: 1px solid gray;box-sizing: border-box;top: 2em;bottom: 0;left: 50%;}#sk-4d61fbf4-2c99-4543-8e5d-cc363bf3d92e div.sk-parallel-item {display: flex;flex-direction: column;position: relative;background-color: white;}#sk-4d61fbf4-2c99-4543-8e5d-cc363bf3d92e div.sk-parallel-item:first-child::after {align-self: flex-end;width: 50%;}#sk-4d61fbf4-2c99-4543-8e5d-cc363bf3d92e div.sk-parallel-item:last-child::after {align-self: flex-start;width: 50%;}#sk-4d61fbf4-2c99-4543-8e5d-cc363bf3d92e div.sk-parallel-item:only-child::after {width: 0;}#sk-4d61fbf4-2c99-4543-8e5d-cc363bf3d92e div.sk-dashed-wrapped {border: 1px dashed gray;margin: 0 0.4em 0.5em 0.4em;box-sizing: border-box;padding-bottom: 0.4em;background-color: white;position: relative;}#sk-4d61fbf4-2c99-4543-8e5d-cc363bf3d92e div.sk-label label {font-family: monospace;font-weight: bold;background-color: white;display: inline-block;line-height: 1.2em;}#sk-4d61fbf4-2c99-4543-8e5d-cc363bf3d92e div.sk-label-container {position: relative;z-index: 2;text-align: center;}#sk-4d61fbf4-2c99-4543-8e5d-cc363bf3d92e div.sk-container {/* jupyter's `normalize.less` sets `[hidden] { display: none; }` but bootstrap.min.css set `[hidden] { display: none !important; }` so we also need the `!important` here to be able to override the default hidden behavior on the sphinx rendered scikit-learn.org. See: https://github.com/scikit-learn/scikit-learn/issues/21755 */display: inline-block !important;position: relative;}#sk-4d61fbf4-2c99-4543-8e5d-cc363bf3d92e div.sk-text-repr-fallback {display: none;}</style><div id=\"sk-4d61fbf4-2c99-4543-8e5d-cc363bf3d92e\" class=\"sk-top-container\"><div class=\"sk-text-repr-fallback\"><pre>Pipeline(steps=[(&#x27;feature_processing&#x27;,\n",
       "                 FeatureUnion(transformer_list=[(&#x27;numeric_variables_processing&#x27;,\n",
       "                                                 Pipeline(steps=[(&#x27;selecting&#x27;,\n",
       "                                                                  FunctionTransformer(func=&lt;function &lt;lambda&gt; at 0x00000127B453AB80&gt;)),\n",
       "                                                                 (&#x27;scaling&#x27;,\n",
       "                                                                  StandardScaler(with_mean=0))])),\n",
       "                                                (&#x27;categorical_variables_processing&#x27;,\n",
       "                                                 Pipeline(steps=[(&#x27;selecting&#x27;,\n",
       "                                                                  FunctionTransformer(func=&lt;function &lt;lambda&gt; at 0x00000127B453ACA0&gt;)),\n",
       "                                                                 (&#x27;hot_encoding&#x27;,\n",
       "                                                                  OneHotEncoder(handle_unknown=&#x27;ignore&#x27;))]))])),\n",
       "                (&#x27;model_fitting&#x27;,\n",
       "                 RandomForestRegressor(max_depth=20, n_estimators=50,\n",
       "                                       random_state=42))])</pre><b>Please rerun this cell to show the HTML repr or trust the notebook.</b></div><div class=\"sk-container\" hidden><div class=\"sk-item sk-dashed-wrapped\"><div class=\"sk-label-container\"><div class=\"sk-label sk-toggleable\"><input class=\"sk-toggleable__control sk-hidden--visually\" id=\"cddd784c-e627-4e19-97b0-5c13730b071a\" type=\"checkbox\" ><label for=\"cddd784c-e627-4e19-97b0-5c13730b071a\" class=\"sk-toggleable__label sk-toggleable__label-arrow\">Pipeline</label><div class=\"sk-toggleable__content\"><pre>Pipeline(steps=[(&#x27;feature_processing&#x27;,\n",
       "                 FeatureUnion(transformer_list=[(&#x27;numeric_variables_processing&#x27;,\n",
       "                                                 Pipeline(steps=[(&#x27;selecting&#x27;,\n",
       "                                                                  FunctionTransformer(func=&lt;function &lt;lambda&gt; at 0x00000127B453AB80&gt;)),\n",
       "                                                                 (&#x27;scaling&#x27;,\n",
       "                                                                  StandardScaler(with_mean=0))])),\n",
       "                                                (&#x27;categorical_variables_processing&#x27;,\n",
       "                                                 Pipeline(steps=[(&#x27;selecting&#x27;,\n",
       "                                                                  FunctionTransformer(func=&lt;function &lt;lambda&gt; at 0x00000127B453ACA0&gt;)),\n",
       "                                                                 (&#x27;hot_encoding&#x27;,\n",
       "                                                                  OneHotEncoder(handle_unknown=&#x27;ignore&#x27;))]))])),\n",
       "                (&#x27;model_fitting&#x27;,\n",
       "                 RandomForestRegressor(max_depth=20, n_estimators=50,\n",
       "                                       random_state=42))])</pre></div></div></div><div class=\"sk-serial\"><div class=\"sk-item sk-dashed-wrapped\"><div class=\"sk-label-container\"><div class=\"sk-label sk-toggleable\"><input class=\"sk-toggleable__control sk-hidden--visually\" id=\"41326125-6e26-42b4-82f7-0d1b2ce4c435\" type=\"checkbox\" ><label for=\"41326125-6e26-42b4-82f7-0d1b2ce4c435\" class=\"sk-toggleable__label sk-toggleable__label-arrow\">feature_processing: FeatureUnion</label><div class=\"sk-toggleable__content\"><pre>FeatureUnion(transformer_list=[(&#x27;numeric_variables_processing&#x27;,\n",
       "                                Pipeline(steps=[(&#x27;selecting&#x27;,\n",
       "                                                 FunctionTransformer(func=&lt;function &lt;lambda&gt; at 0x00000127B453AB80&gt;)),\n",
       "                                                (&#x27;scaling&#x27;,\n",
       "                                                 StandardScaler(with_mean=0))])),\n",
       "                               (&#x27;categorical_variables_processing&#x27;,\n",
       "                                Pipeline(steps=[(&#x27;selecting&#x27;,\n",
       "                                                 FunctionTransformer(func=&lt;function &lt;lambda&gt; at 0x00000127B453ACA0&gt;)),\n",
       "                                                (&#x27;hot_encoding&#x27;,\n",
       "                                                 OneHotEncoder(handle_unknown=&#x27;ignore&#x27;))]))])</pre></div></div></div><div class=\"sk-parallel\"><div class=\"sk-parallel-item\"><div class=\"sk-item\"><div class=\"sk-label-container\"><div class=\"sk-label sk-toggleable\"><label>numeric_variables_processing</label></div></div><div class=\"sk-serial\"><div class=\"sk-item\"><div class=\"sk-serial\"><div class=\"sk-item\"><div class=\"sk-estimator sk-toggleable\"><input class=\"sk-toggleable__control sk-hidden--visually\" id=\"60b7f1ef-0660-4e8a-a9cb-8fc08b9bbd1a\" type=\"checkbox\" ><label for=\"60b7f1ef-0660-4e8a-a9cb-8fc08b9bbd1a\" class=\"sk-toggleable__label sk-toggleable__label-arrow\">FunctionTransformer</label><div class=\"sk-toggleable__content\"><pre>FunctionTransformer(func=&lt;function &lt;lambda&gt; at 0x00000127B453AB80&gt;)</pre></div></div></div><div class=\"sk-item\"><div class=\"sk-estimator sk-toggleable\"><input class=\"sk-toggleable__control sk-hidden--visually\" id=\"9be226cb-40eb-4dbf-a301-5077ef0cec7b\" type=\"checkbox\" ><label for=\"9be226cb-40eb-4dbf-a301-5077ef0cec7b\" class=\"sk-toggleable__label sk-toggleable__label-arrow\">StandardScaler</label><div class=\"sk-toggleable__content\"><pre>StandardScaler(with_mean=0)</pre></div></div></div></div></div></div></div></div><div class=\"sk-parallel-item\"><div class=\"sk-item\"><div class=\"sk-label-container\"><div class=\"sk-label sk-toggleable\"><label>categorical_variables_processing</label></div></div><div class=\"sk-serial\"><div class=\"sk-item\"><div class=\"sk-serial\"><div class=\"sk-item\"><div class=\"sk-estimator sk-toggleable\"><input class=\"sk-toggleable__control sk-hidden--visually\" id=\"fd5cd777-9bbf-4942-87f2-13229f4674de\" type=\"checkbox\" ><label for=\"fd5cd777-9bbf-4942-87f2-13229f4674de\" class=\"sk-toggleable__label sk-toggleable__label-arrow\">FunctionTransformer</label><div class=\"sk-toggleable__content\"><pre>FunctionTransformer(func=&lt;function &lt;lambda&gt; at 0x00000127B453ACA0&gt;)</pre></div></div></div><div class=\"sk-item\"><div class=\"sk-estimator sk-toggleable\"><input class=\"sk-toggleable__control sk-hidden--visually\" id=\"00bfd258-e1c8-4868-bafd-c3eae75be099\" type=\"checkbox\" ><label for=\"00bfd258-e1c8-4868-bafd-c3eae75be099\" class=\"sk-toggleable__label sk-toggleable__label-arrow\">OneHotEncoder</label><div class=\"sk-toggleable__content\"><pre>OneHotEncoder(handle_unknown=&#x27;ignore&#x27;)</pre></div></div></div></div></div></div></div></div></div></div><div class=\"sk-item\"><div class=\"sk-estimator sk-toggleable\"><input class=\"sk-toggleable__control sk-hidden--visually\" id=\"cf2e97a4-4700-41e4-962b-b63ce07b3266\" type=\"checkbox\" ><label for=\"cf2e97a4-4700-41e4-962b-b63ce07b3266\" class=\"sk-toggleable__label sk-toggleable__label-arrow\">RandomForestRegressor</label><div class=\"sk-toggleable__content\"><pre>RandomForestRegressor(max_depth=20, n_estimators=50, random_state=42)</pre></div></div></div></div></div></div></div>"
      ],
      "text/plain": [
       "Pipeline(steps=[('feature_processing',\n",
       "                 FeatureUnion(transformer_list=[('numeric_variables_processing',\n",
       "                                                 Pipeline(steps=[('selecting',\n",
       "                                                                  FunctionTransformer(func=<function <lambda> at 0x00000127B453AB80>)),\n",
       "                                                                 ('scaling',\n",
       "                                                                  StandardScaler(with_mean=0))])),\n",
       "                                                ('categorical_variables_processing',\n",
       "                                                 Pipeline(steps=[('selecting',\n",
       "                                                                  FunctionTransformer(func=<function <lambda> at 0x00000127B453ACA0>)),\n",
       "                                                                 ('hot_encoding',\n",
       "                                                                  OneHotEncoder(handle_unknown='ignore'))]))])),\n",
       "                ('model_fitting',\n",
       "                 RandomForestRegressor(max_depth=20, n_estimators=50,\n",
       "                                       random_state=42))])"
      ]
     },
     "execution_count": 53,
     "metadata": {},
     "output_type": "execute_result"
    }
   ],
   "source": [
    "# Обучем алгоритм для прогнозирования стоимости немецких автомобилей\n",
    "rf_regressor.fit(Xpr_train, Ypr_train)"
   ]
  },
  {
   "cell_type": "code",
   "execution_count": 54,
   "metadata": {},
   "outputs": [
    {
     "data": {
      "text/html": [
       "<div>\n",
       "<style scoped>\n",
       "    .dataframe tbody tr th:only-of-type {\n",
       "        vertical-align: middle;\n",
       "    }\n",
       "\n",
       "    .dataframe tbody tr th {\n",
       "        vertical-align: top;\n",
       "    }\n",
       "\n",
       "    .dataframe thead th {\n",
       "        text-align: right;\n",
       "    }\n",
       "</style>\n",
       "<table border=\"1\" class=\"dataframe\">\n",
       "  <thead>\n",
       "    <tr style=\"text-align: right;\">\n",
       "      <th></th>\n",
       "      <th>Sample</th>\n",
       "      <th>MAE Train</th>\n",
       "      <th>MAE Test</th>\n",
       "    </tr>\n",
       "  </thead>\n",
       "  <tbody>\n",
       "    <tr>\n",
       "      <th>0</th>\n",
       "      <td>German Cars</td>\n",
       "      <td>800</td>\n",
       "      <td>1507</td>\n",
       "    </tr>\n",
       "  </tbody>\n",
       "</table>\n",
       "</div>"
      ],
      "text/plain": [
       "        Sample  MAE Train  MAE Test\n",
       "0  German Cars        800      1507"
      ]
     },
     "execution_count": 54,
     "metadata": {},
     "output_type": "execute_result"
    }
   ],
   "source": [
    "german_train = mae(Ypr_train, rf_regressor.predict(Xpr_train)).astype(int)\n",
    "german_test = mae(Ypr_test, rf_regressor.predict(Xpr_test)).astype(int)\n",
    "rf_german_cars_pred = rf_regressor.predict(x_predict_german.drop(['id'], axis=1)).astype(int)\n",
    "\n",
    "\n",
    "pd.DataFrame([['German Cars', german_train, german_test]],\n",
    "             columns=['Sample', 'MAE Train', 'MAE Test'])"
   ]
  },
  {
   "cell_type": "code",
   "execution_count": 55,
   "metadata": {},
   "outputs": [
    {
     "data": {
      "text/html": [
       "<style>#sk-22e12191-8ba0-4512-ac5b-2b044f5b6f2d {color: black;background-color: white;}#sk-22e12191-8ba0-4512-ac5b-2b044f5b6f2d pre{padding: 0;}#sk-22e12191-8ba0-4512-ac5b-2b044f5b6f2d div.sk-toggleable {background-color: white;}#sk-22e12191-8ba0-4512-ac5b-2b044f5b6f2d label.sk-toggleable__label {cursor: pointer;display: block;width: 100%;margin-bottom: 0;padding: 0.3em;box-sizing: border-box;text-align: center;}#sk-22e12191-8ba0-4512-ac5b-2b044f5b6f2d label.sk-toggleable__label-arrow:before {content: \"▸\";float: left;margin-right: 0.25em;color: #696969;}#sk-22e12191-8ba0-4512-ac5b-2b044f5b6f2d label.sk-toggleable__label-arrow:hover:before {color: black;}#sk-22e12191-8ba0-4512-ac5b-2b044f5b6f2d div.sk-estimator:hover label.sk-toggleable__label-arrow:before {color: black;}#sk-22e12191-8ba0-4512-ac5b-2b044f5b6f2d div.sk-toggleable__content {max-height: 0;max-width: 0;overflow: hidden;text-align: left;background-color: #f0f8ff;}#sk-22e12191-8ba0-4512-ac5b-2b044f5b6f2d div.sk-toggleable__content pre {margin: 0.2em;color: black;border-radius: 0.25em;background-color: #f0f8ff;}#sk-22e12191-8ba0-4512-ac5b-2b044f5b6f2d input.sk-toggleable__control:checked~div.sk-toggleable__content {max-height: 200px;max-width: 100%;overflow: auto;}#sk-22e12191-8ba0-4512-ac5b-2b044f5b6f2d input.sk-toggleable__control:checked~label.sk-toggleable__label-arrow:before {content: \"▾\";}#sk-22e12191-8ba0-4512-ac5b-2b044f5b6f2d div.sk-estimator input.sk-toggleable__control:checked~label.sk-toggleable__label {background-color: #d4ebff;}#sk-22e12191-8ba0-4512-ac5b-2b044f5b6f2d div.sk-label input.sk-toggleable__control:checked~label.sk-toggleable__label {background-color: #d4ebff;}#sk-22e12191-8ba0-4512-ac5b-2b044f5b6f2d input.sk-hidden--visually {border: 0;clip: rect(1px 1px 1px 1px);clip: rect(1px, 1px, 1px, 1px);height: 1px;margin: -1px;overflow: hidden;padding: 0;position: absolute;width: 1px;}#sk-22e12191-8ba0-4512-ac5b-2b044f5b6f2d div.sk-estimator {font-family: monospace;background-color: #f0f8ff;border: 1px dotted black;border-radius: 0.25em;box-sizing: border-box;margin-bottom: 0.5em;}#sk-22e12191-8ba0-4512-ac5b-2b044f5b6f2d div.sk-estimator:hover {background-color: #d4ebff;}#sk-22e12191-8ba0-4512-ac5b-2b044f5b6f2d div.sk-parallel-item::after {content: \"\";width: 100%;border-bottom: 1px solid gray;flex-grow: 1;}#sk-22e12191-8ba0-4512-ac5b-2b044f5b6f2d div.sk-label:hover label.sk-toggleable__label {background-color: #d4ebff;}#sk-22e12191-8ba0-4512-ac5b-2b044f5b6f2d div.sk-serial::before {content: \"\";position: absolute;border-left: 1px solid gray;box-sizing: border-box;top: 2em;bottom: 0;left: 50%;}#sk-22e12191-8ba0-4512-ac5b-2b044f5b6f2d div.sk-serial {display: flex;flex-direction: column;align-items: center;background-color: white;padding-right: 0.2em;padding-left: 0.2em;}#sk-22e12191-8ba0-4512-ac5b-2b044f5b6f2d div.sk-item {z-index: 1;}#sk-22e12191-8ba0-4512-ac5b-2b044f5b6f2d div.sk-parallel {display: flex;align-items: stretch;justify-content: center;background-color: white;}#sk-22e12191-8ba0-4512-ac5b-2b044f5b6f2d div.sk-parallel::before {content: \"\";position: absolute;border-left: 1px solid gray;box-sizing: border-box;top: 2em;bottom: 0;left: 50%;}#sk-22e12191-8ba0-4512-ac5b-2b044f5b6f2d div.sk-parallel-item {display: flex;flex-direction: column;position: relative;background-color: white;}#sk-22e12191-8ba0-4512-ac5b-2b044f5b6f2d div.sk-parallel-item:first-child::after {align-self: flex-end;width: 50%;}#sk-22e12191-8ba0-4512-ac5b-2b044f5b6f2d div.sk-parallel-item:last-child::after {align-self: flex-start;width: 50%;}#sk-22e12191-8ba0-4512-ac5b-2b044f5b6f2d div.sk-parallel-item:only-child::after {width: 0;}#sk-22e12191-8ba0-4512-ac5b-2b044f5b6f2d div.sk-dashed-wrapped {border: 1px dashed gray;margin: 0 0.4em 0.5em 0.4em;box-sizing: border-box;padding-bottom: 0.4em;background-color: white;position: relative;}#sk-22e12191-8ba0-4512-ac5b-2b044f5b6f2d div.sk-label label {font-family: monospace;font-weight: bold;background-color: white;display: inline-block;line-height: 1.2em;}#sk-22e12191-8ba0-4512-ac5b-2b044f5b6f2d div.sk-label-container {position: relative;z-index: 2;text-align: center;}#sk-22e12191-8ba0-4512-ac5b-2b044f5b6f2d div.sk-container {/* jupyter's `normalize.less` sets `[hidden] { display: none; }` but bootstrap.min.css set `[hidden] { display: none !important; }` so we also need the `!important` here to be able to override the default hidden behavior on the sphinx rendered scikit-learn.org. See: https://github.com/scikit-learn/scikit-learn/issues/21755 */display: inline-block !important;position: relative;}#sk-22e12191-8ba0-4512-ac5b-2b044f5b6f2d div.sk-text-repr-fallback {display: none;}</style><div id=\"sk-22e12191-8ba0-4512-ac5b-2b044f5b6f2d\" class=\"sk-top-container\"><div class=\"sk-text-repr-fallback\"><pre>Pipeline(steps=[(&#x27;feature_processing&#x27;,\n",
       "                 FeatureUnion(transformer_list=[(&#x27;numeric_variables_processing&#x27;,\n",
       "                                                 Pipeline(steps=[(&#x27;selecting&#x27;,\n",
       "                                                                  FunctionTransformer(func=&lt;function &lt;lambda&gt; at 0x00000127B453AB80&gt;)),\n",
       "                                                                 (&#x27;scaling&#x27;,\n",
       "                                                                  StandardScaler(with_mean=0))])),\n",
       "                                                (&#x27;categorical_variables_processing&#x27;,\n",
       "                                                 Pipeline(steps=[(&#x27;selecting&#x27;,\n",
       "                                                                  FunctionTransformer(func=&lt;function &lt;lambda&gt; at 0x00000127B453ACA0&gt;)),\n",
       "                                                                 (&#x27;hot_encoding&#x27;,\n",
       "                                                                  OneHotEncoder(handle_unknown=&#x27;ignore&#x27;))]))])),\n",
       "                (&#x27;model_fitting&#x27;,\n",
       "                 RandomForestRegressor(max_depth=20, n_estimators=50,\n",
       "                                       random_state=42))])</pre><b>Please rerun this cell to show the HTML repr or trust the notebook.</b></div><div class=\"sk-container\" hidden><div class=\"sk-item sk-dashed-wrapped\"><div class=\"sk-label-container\"><div class=\"sk-label sk-toggleable\"><input class=\"sk-toggleable__control sk-hidden--visually\" id=\"c2a8e96d-2984-4095-b35e-1b4d0055958f\" type=\"checkbox\" ><label for=\"c2a8e96d-2984-4095-b35e-1b4d0055958f\" class=\"sk-toggleable__label sk-toggleable__label-arrow\">Pipeline</label><div class=\"sk-toggleable__content\"><pre>Pipeline(steps=[(&#x27;feature_processing&#x27;,\n",
       "                 FeatureUnion(transformer_list=[(&#x27;numeric_variables_processing&#x27;,\n",
       "                                                 Pipeline(steps=[(&#x27;selecting&#x27;,\n",
       "                                                                  FunctionTransformer(func=&lt;function &lt;lambda&gt; at 0x00000127B453AB80&gt;)),\n",
       "                                                                 (&#x27;scaling&#x27;,\n",
       "                                                                  StandardScaler(with_mean=0))])),\n",
       "                                                (&#x27;categorical_variables_processing&#x27;,\n",
       "                                                 Pipeline(steps=[(&#x27;selecting&#x27;,\n",
       "                                                                  FunctionTransformer(func=&lt;function &lt;lambda&gt; at 0x00000127B453ACA0&gt;)),\n",
       "                                                                 (&#x27;hot_encoding&#x27;,\n",
       "                                                                  OneHotEncoder(handle_unknown=&#x27;ignore&#x27;))]))])),\n",
       "                (&#x27;model_fitting&#x27;,\n",
       "                 RandomForestRegressor(max_depth=20, n_estimators=50,\n",
       "                                       random_state=42))])</pre></div></div></div><div class=\"sk-serial\"><div class=\"sk-item sk-dashed-wrapped\"><div class=\"sk-label-container\"><div class=\"sk-label sk-toggleable\"><input class=\"sk-toggleable__control sk-hidden--visually\" id=\"a7da3923-36f3-46c5-81da-37725f90899e\" type=\"checkbox\" ><label for=\"a7da3923-36f3-46c5-81da-37725f90899e\" class=\"sk-toggleable__label sk-toggleable__label-arrow\">feature_processing: FeatureUnion</label><div class=\"sk-toggleable__content\"><pre>FeatureUnion(transformer_list=[(&#x27;numeric_variables_processing&#x27;,\n",
       "                                Pipeline(steps=[(&#x27;selecting&#x27;,\n",
       "                                                 FunctionTransformer(func=&lt;function &lt;lambda&gt; at 0x00000127B453AB80&gt;)),\n",
       "                                                (&#x27;scaling&#x27;,\n",
       "                                                 StandardScaler(with_mean=0))])),\n",
       "                               (&#x27;categorical_variables_processing&#x27;,\n",
       "                                Pipeline(steps=[(&#x27;selecting&#x27;,\n",
       "                                                 FunctionTransformer(func=&lt;function &lt;lambda&gt; at 0x00000127B453ACA0&gt;)),\n",
       "                                                (&#x27;hot_encoding&#x27;,\n",
       "                                                 OneHotEncoder(handle_unknown=&#x27;ignore&#x27;))]))])</pre></div></div></div><div class=\"sk-parallel\"><div class=\"sk-parallel-item\"><div class=\"sk-item\"><div class=\"sk-label-container\"><div class=\"sk-label sk-toggleable\"><label>numeric_variables_processing</label></div></div><div class=\"sk-serial\"><div class=\"sk-item\"><div class=\"sk-serial\"><div class=\"sk-item\"><div class=\"sk-estimator sk-toggleable\"><input class=\"sk-toggleable__control sk-hidden--visually\" id=\"3d054e13-eb2d-4a01-81d8-caca04c0defc\" type=\"checkbox\" ><label for=\"3d054e13-eb2d-4a01-81d8-caca04c0defc\" class=\"sk-toggleable__label sk-toggleable__label-arrow\">FunctionTransformer</label><div class=\"sk-toggleable__content\"><pre>FunctionTransformer(func=&lt;function &lt;lambda&gt; at 0x00000127B453AB80&gt;)</pre></div></div></div><div class=\"sk-item\"><div class=\"sk-estimator sk-toggleable\"><input class=\"sk-toggleable__control sk-hidden--visually\" id=\"edd0df70-7ffc-4105-bc34-a62adf17c214\" type=\"checkbox\" ><label for=\"edd0df70-7ffc-4105-bc34-a62adf17c214\" class=\"sk-toggleable__label sk-toggleable__label-arrow\">StandardScaler</label><div class=\"sk-toggleable__content\"><pre>StandardScaler(with_mean=0)</pre></div></div></div></div></div></div></div></div><div class=\"sk-parallel-item\"><div class=\"sk-item\"><div class=\"sk-label-container\"><div class=\"sk-label sk-toggleable\"><label>categorical_variables_processing</label></div></div><div class=\"sk-serial\"><div class=\"sk-item\"><div class=\"sk-serial\"><div class=\"sk-item\"><div class=\"sk-estimator sk-toggleable\"><input class=\"sk-toggleable__control sk-hidden--visually\" id=\"9e38b40b-bb90-417a-a86b-7e5228149eab\" type=\"checkbox\" ><label for=\"9e38b40b-bb90-417a-a86b-7e5228149eab\" class=\"sk-toggleable__label sk-toggleable__label-arrow\">FunctionTransformer</label><div class=\"sk-toggleable__content\"><pre>FunctionTransformer(func=&lt;function &lt;lambda&gt; at 0x00000127B453ACA0&gt;)</pre></div></div></div><div class=\"sk-item\"><div class=\"sk-estimator sk-toggleable\"><input class=\"sk-toggleable__control sk-hidden--visually\" id=\"ae6eec09-b308-4060-9211-cab95052ac59\" type=\"checkbox\" ><label for=\"ae6eec09-b308-4060-9211-cab95052ac59\" class=\"sk-toggleable__label sk-toggleable__label-arrow\">OneHotEncoder</label><div class=\"sk-toggleable__content\"><pre>OneHotEncoder(handle_unknown=&#x27;ignore&#x27;)</pre></div></div></div></div></div></div></div></div></div></div><div class=\"sk-item\"><div class=\"sk-estimator sk-toggleable\"><input class=\"sk-toggleable__control sk-hidden--visually\" id=\"8fe1ffee-54b5-4a2c-89a6-984d984658ac\" type=\"checkbox\" ><label for=\"8fe1ffee-54b5-4a2c-89a6-984d984658ac\" class=\"sk-toggleable__label sk-toggleable__label-arrow\">RandomForestRegressor</label><div class=\"sk-toggleable__content\"><pre>RandomForestRegressor(max_depth=20, n_estimators=50, random_state=42)</pre></div></div></div></div></div></div></div>"
      ],
      "text/plain": [
       "Pipeline(steps=[('feature_processing',\n",
       "                 FeatureUnion(transformer_list=[('numeric_variables_processing',\n",
       "                                                 Pipeline(steps=[('selecting',\n",
       "                                                                  FunctionTransformer(func=<function <lambda> at 0x00000127B453AB80>)),\n",
       "                                                                 ('scaling',\n",
       "                                                                  StandardScaler(with_mean=0))])),\n",
       "                                                ('categorical_variables_processing',\n",
       "                                                 Pipeline(steps=[('selecting',\n",
       "                                                                  FunctionTransformer(func=<function <lambda> at 0x00000127B453ACA0>)),\n",
       "                                                                 ('hot_encoding',\n",
       "                                                                  OneHotEncoder(handle_unknown='ignore'))]))])),\n",
       "                ('model_fitting',\n",
       "                 RandomForestRegressor(max_depth=20, n_estimators=50,\n",
       "                                       random_state=42))])"
      ]
     },
     "execution_count": 55,
     "metadata": {},
     "output_type": "execute_result"
    }
   ],
   "source": [
    "# Обучем алгоритм для прогнозирования стоимости автомобилей других производителей\n",
    "rf_regressor.fit(Xstd_train, Ystd_train)"
   ]
  },
  {
   "cell_type": "code",
   "execution_count": 56,
   "metadata": {},
   "outputs": [
    {
     "data": {
      "text/html": [
       "<div>\n",
       "<style scoped>\n",
       "    .dataframe tbody tr th:only-of-type {\n",
       "        vertical-align: middle;\n",
       "    }\n",
       "\n",
       "    .dataframe tbody tr th {\n",
       "        vertical-align: top;\n",
       "    }\n",
       "\n",
       "    .dataframe thead th {\n",
       "        text-align: right;\n",
       "    }\n",
       "</style>\n",
       "<table border=\"1\" class=\"dataframe\">\n",
       "  <thead>\n",
       "    <tr style=\"text-align: right;\">\n",
       "      <th></th>\n",
       "      <th>Sample</th>\n",
       "      <th>MAE Train</th>\n",
       "      <th>MAE Test</th>\n",
       "    </tr>\n",
       "  </thead>\n",
       "  <tbody>\n",
       "    <tr>\n",
       "      <th>0</th>\n",
       "      <td>Others Cars</td>\n",
       "      <td>418</td>\n",
       "      <td>906</td>\n",
       "    </tr>\n",
       "  </tbody>\n",
       "</table>\n",
       "</div>"
      ],
      "text/plain": [
       "        Sample  MAE Train  MAE Test\n",
       "0  Others Cars        418       906"
      ]
     },
     "execution_count": 56,
     "metadata": {},
     "output_type": "execute_result"
    }
   ],
   "source": [
    "others_train = mae(Ystd_train, rf_regressor.predict(Xstd_train)).astype(int)\n",
    "others_test = mae(Ystd_test, rf_regressor.predict(Xstd_test)).astype(int)\n",
    "rf_others_cars_pred = rf_regressor.predict(x_predict_others.drop(['id'], axis=1)).astype(int)\n",
    "\n",
    "\n",
    "pd.DataFrame([['Others Cars', others_train, others_test]],\n",
    "             columns=['Sample', 'MAE Train', 'MAE Test'])"
   ]
  },
  {
   "cell_type": "markdown",
   "metadata": {},
   "source": [
    "Результаты прогноза стоимости автомобилей улучшились – объединение результатов прогноза для разных производителей в целом улучшит качество прогноза. **По грубой оценке мы получим МАЕ примерно 1215.**"
   ]
  },
  {
   "cell_type": "code",
   "execution_count": 57,
   "metadata": {},
   "outputs": [
    {
     "data": {
      "text/html": [
       "<div>\n",
       "<style scoped>\n",
       "    .dataframe tbody tr th:only-of-type {\n",
       "        vertical-align: middle;\n",
       "    }\n",
       "\n",
       "    .dataframe tbody tr th {\n",
       "        vertical-align: top;\n",
       "    }\n",
       "\n",
       "    .dataframe thead th {\n",
       "        text-align: right;\n",
       "    }\n",
       "</style>\n",
       "<table border=\"1\" class=\"dataframe\">\n",
       "  <thead>\n",
       "    <tr style=\"text-align: right;\">\n",
       "      <th></th>\n",
       "      <th>id</th>\n",
       "      <th>price</th>\n",
       "    </tr>\n",
       "  </thead>\n",
       "  <tbody>\n",
       "    <tr>\n",
       "      <th>0</th>\n",
       "      <td>0</td>\n",
       "      <td>10482</td>\n",
       "    </tr>\n",
       "    <tr>\n",
       "      <th>1</th>\n",
       "      <td>1</td>\n",
       "      <td>13028</td>\n",
       "    </tr>\n",
       "    <tr>\n",
       "      <th>2</th>\n",
       "      <td>2</td>\n",
       "      <td>18124</td>\n",
       "    </tr>\n",
       "    <tr>\n",
       "      <th>3</th>\n",
       "      <td>3</td>\n",
       "      <td>20506</td>\n",
       "    </tr>\n",
       "    <tr>\n",
       "      <th>4</th>\n",
       "      <td>4</td>\n",
       "      <td>11637</td>\n",
       "    </tr>\n",
       "  </tbody>\n",
       "</table>\n",
       "</div>"
      ],
      "text/plain": [
       "   id  price\n",
       "0   0  10482\n",
       "1   1  13028\n",
       "2   2  18124\n",
       "3   3  20506\n",
       "4   4  11637"
      ]
     },
     "execution_count": 57,
     "metadata": {},
     "output_type": "execute_result"
    }
   ],
   "source": [
    "# Объединим спрогназированные значения в итоговый файл\n",
    "rf_predicted = pd.DataFrame(np.hstack([rf_german_cars_pred, rf_others_cars_pred]), columns=['price'])\n",
    "rf_predicted['id'] = np.int32(np.hstack([x_german_ids, x_others_ids]))\n",
    "\n",
    "fr_predicted = rf_predicted.sort_values(by='id').reset_index().drop('index', 1)[['id', 'price']]\n",
    "fr_predicted.head()"
   ]
  },
  {
   "cell_type": "code",
   "execution_count": 58,
   "metadata": {},
   "outputs": [],
   "source": [
    "rf_predicted.to_csv('rf_regression_predictions.csv', sep=',', index=False)"
   ]
  },
  {
   "cell_type": "markdown",
   "metadata": {},
   "source": [
    "<hr>"
   ]
  }
 ],
 "metadata": {
  "kernelspec": {
   "display_name": "Python 3",
   "language": "python",
   "name": "python3"
  },
  "language_info": {
   "codemirror_mode": {
    "name": "ipython",
    "version": 3
   },
   "file_extension": ".py",
   "mimetype": "text/x-python",
   "name": "python",
   "nbconvert_exporter": "python",
   "pygments_lexer": "ipython3",
   "version": "3.8.5"
  }
 },
 "nbformat": 4,
 "nbformat_minor": 4
}
