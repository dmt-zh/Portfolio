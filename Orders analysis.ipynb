{
 "cells": [
  {
   "cell_type": "markdown",
   "metadata": {},
   "source": [
    "# Анализ покупок пользователей\n",
    "\n",
    "\n",
    "## Постановка задачи\n",
    "\n",
    "- Построить месячные и недельные когорты пользователей по этим данным. Выявить интересные наблюдения и закономерности.\n",
    "- Какие еще инсайты можешь увидеть через эти данные?"
   ]
  },
  {
   "cell_type": "markdown",
   "metadata": {},
   "source": [
    "## Описание данных:\n",
    "\n",
    "\n",
    "| Поле               | Описание                        |\n",
    "| :----------------  | :-------------------------------|\n",
    "| `_id`              | id заказа                       |\n",
    "| `user_id`          | id клиента                      |\n",
    "| `total`            | сумма заказа после скидок       |\n",
    "| `discount`         | скидка                          |\n",
    "| `promo`            | промокод                        |\n",
    "| `created_at`       | дата заказа                     |\n",
    "| `location_id`      | код даркстора                   |"
   ]
  },
  {
   "cell_type": "markdown",
   "metadata": {},
   "source": [
    "## Содержание:\n",
    "- [EDA](#EDA)\n",
    "- [Когортный анализ и Retention curve](#Когортный-анализ-и-Retention-curve)\n",
    "- [В поисках инсайтов](#В-поисках-инсайтов)\n",
    "- [Summary](#Summary)"
   ]
  },
  {
   "cell_type": "markdown",
   "metadata": {},
   "source": [
    "<hr>"
   ]
  },
  {
   "cell_type": "markdown",
   "metadata": {},
   "source": [
    "# EDA"
   ]
  },
  {
   "cell_type": "code",
   "execution_count": 1,
   "metadata": {},
   "outputs": [],
   "source": [
    "# Импорт библиотек\n",
    "import pandas as pd\n",
    "import numpy as np\n",
    "from operator import attrgetter\n",
    "import datetime as dt\n",
    "\n",
    "from scipy.stats import norm, shapiro, kruskal, mannwhitneyu\n",
    "import pingouin as pg\n",
    "\n",
    "import seaborn as sns\n",
    "sns.set(style='whitegrid', font_scale=1.2)\n",
    "\n",
    "import matplotlib.pyplot as plt\n",
    "import matplotlib. dates as mdates\n",
    "%matplotlib inline\n",
    "\n",
    "pd.set_option('display.max_column', None)\n",
    "\n",
    "import warnings\n",
    "warnings.filterwarnings('ignore')"
   ]
  },
  {
   "cell_type": "code",
   "execution_count": 2,
   "metadata": {},
   "outputs": [
    {
     "data": {
      "text/html": [
       "<div>\n",
       "<style scoped>\n",
       "    .dataframe tbody tr th:only-of-type {\n",
       "        vertical-align: middle;\n",
       "    }\n",
       "\n",
       "    .dataframe tbody tr th {\n",
       "        vertical-align: top;\n",
       "    }\n",
       "\n",
       "    .dataframe thead th {\n",
       "        text-align: right;\n",
       "    }\n",
       "</style>\n",
       "<table border=\"1\" class=\"dataframe\">\n",
       "  <thead>\n",
       "    <tr style=\"text-align: right;\">\n",
       "      <th></th>\n",
       "      <th>order_id</th>\n",
       "      <th>user_id</th>\n",
       "      <th>total_sum</th>\n",
       "      <th>discount</th>\n",
       "      <th>promo</th>\n",
       "      <th>created_at</th>\n",
       "      <th>location_id</th>\n",
       "    </tr>\n",
       "  </thead>\n",
       "  <tbody>\n",
       "    <tr>\n",
       "      <th>0</th>\n",
       "      <td>611d0a77db6e75d74d1a2472</td>\n",
       "      <td>5d4bdf5d8d8735ab45d474e5d77ad708</td>\n",
       "      <td>12.053044</td>\n",
       "      <td>0.0</td>\n",
       "      <td>NaN</td>\n",
       "      <td>2021-08-18T13:26:15.793Z</td>\n",
       "      <td>60e9ad4c603cd8578de756f5</td>\n",
       "    </tr>\n",
       "    <tr>\n",
       "      <th>1</th>\n",
       "      <td>6120d7f9e53fb6b2b305974e</td>\n",
       "      <td>b3f004a5454487a3d9bb6f0e6efaaf4d</td>\n",
       "      <td>14.816226</td>\n",
       "      <td>14.0</td>\n",
       "      <td>YALLA476</td>\n",
       "      <td>2021-08-21T10:39:53.465Z</td>\n",
       "      <td>60e9ad4c603cd8578de756f5</td>\n",
       "    </tr>\n",
       "    <tr>\n",
       "      <th>2</th>\n",
       "      <td>612b709a6fd4c3dd8569b291</td>\n",
       "      <td>c376ec39984346ddaee5cbd07e284f64</td>\n",
       "      <td>49.710240</td>\n",
       "      <td>48.0</td>\n",
       "      <td>YALLA50</td>\n",
       "      <td>2021-08-29T11:33:46.702Z</td>\n",
       "      <td>60e9ad4c603cd8578de756f5</td>\n",
       "    </tr>\n",
       "    <tr>\n",
       "      <th>3</th>\n",
       "      <td>61291fd3db402abc11d18c3f</td>\n",
       "      <td>7a955ce61cc5fa3a4c6a2d49a0e3fd42</td>\n",
       "      <td>31.257000</td>\n",
       "      <td>30.0</td>\n",
       "      <td>YALLA476</td>\n",
       "      <td>2021-08-27T17:24:35.285Z</td>\n",
       "      <td>60e9ad4c603cd8578de756f5</td>\n",
       "    </tr>\n",
       "    <tr>\n",
       "      <th>4</th>\n",
       "      <td>611ce2ce33f3d291d52b91e1</td>\n",
       "      <td>54cfc68c71f40a14483f20bb4781fb9e</td>\n",
       "      <td>14.468320</td>\n",
       "      <td>0.0</td>\n",
       "      <td>NaN</td>\n",
       "      <td>2021-08-18T10:37:02.422Z</td>\n",
       "      <td>60e9ad4c603cd8578de756f5</td>\n",
       "    </tr>\n",
       "  </tbody>\n",
       "</table>\n",
       "</div>"
      ],
      "text/plain": [
       "                   order_id                           user_id  total_sum  \\\n",
       "0  611d0a77db6e75d74d1a2472  5d4bdf5d8d8735ab45d474e5d77ad708  12.053044   \n",
       "1  6120d7f9e53fb6b2b305974e  b3f004a5454487a3d9bb6f0e6efaaf4d  14.816226   \n",
       "2  612b709a6fd4c3dd8569b291  c376ec39984346ddaee5cbd07e284f64  49.710240   \n",
       "3  61291fd3db402abc11d18c3f  7a955ce61cc5fa3a4c6a2d49a0e3fd42  31.257000   \n",
       "4  611ce2ce33f3d291d52b91e1  54cfc68c71f40a14483f20bb4781fb9e  14.468320   \n",
       "\n",
       "   discount     promo                created_at               location_id  \n",
       "0       0.0       NaN  2021-08-18T13:26:15.793Z  60e9ad4c603cd8578de756f5  \n",
       "1      14.0  YALLA476  2021-08-21T10:39:53.465Z  60e9ad4c603cd8578de756f5  \n",
       "2      48.0   YALLA50  2021-08-29T11:33:46.702Z  60e9ad4c603cd8578de756f5  \n",
       "3      30.0  YALLA476  2021-08-27T17:24:35.285Z  60e9ad4c603cd8578de756f5  \n",
       "4       0.0       NaN  2021-08-18T10:37:02.422Z  60e9ad4c603cd8578de756f5  "
      ]
     },
     "execution_count": 2,
     "metadata": {},
     "output_type": "execute_result"
    },
    {
     "name": "stdout",
     "output_type": "stream",
     "text": [
      "Размерность данных (3807, 7)\n"
     ]
    }
   ],
   "source": [
    "# Загрузим данные, посмотрим на их размерность и отобразим первые 5 строк\n",
    "df = pd.read_csv('dataset.csv')\n",
    "print(f'Размерность данных {df.shape}')\n",
    "df.rename(columns={'_id': 'order_id', 'total': 'total_sum'}, inplace=True)\n",
    "df.head()"
   ]
  },
  {
   "cell_type": "code",
   "execution_count": 3,
   "metadata": {},
   "outputs": [
    {
     "data": {
      "text/plain": [
       "order_id        object\n",
       "user_id         object\n",
       "total_sum      float64\n",
       "discount       float64\n",
       "promo           object\n",
       "created_at      object\n",
       "location_id     object\n",
       "dtype: object"
      ]
     },
     "execution_count": 3,
     "metadata": {},
     "output_type": "execute_result"
    }
   ],
   "source": [
    "# Посмотрим на типы данных в датафрейме\n",
    "df.dtypes"
   ]
  },
  {
   "cell_type": "code",
   "execution_count": 4,
   "metadata": {},
   "outputs": [
    {
     "data": {
      "text/html": [
       "<div>\n",
       "<style scoped>\n",
       "    .dataframe tbody tr th:only-of-type {\n",
       "        vertical-align: middle;\n",
       "    }\n",
       "\n",
       "    .dataframe tbody tr th {\n",
       "        vertical-align: top;\n",
       "    }\n",
       "\n",
       "    .dataframe thead th {\n",
       "        text-align: right;\n",
       "    }\n",
       "</style>\n",
       "<table border=\"1\" class=\"dataframe\">\n",
       "  <thead>\n",
       "    <tr style=\"text-align: right;\">\n",
       "      <th></th>\n",
       "      <th>order_id</th>\n",
       "      <th>user_id</th>\n",
       "      <th>total_sum</th>\n",
       "      <th>discount</th>\n",
       "      <th>promo</th>\n",
       "      <th>created_at</th>\n",
       "      <th>location_id</th>\n",
       "    </tr>\n",
       "  </thead>\n",
       "  <tbody>\n",
       "    <tr>\n",
       "      <th>0</th>\n",
       "      <td>611d0a77db6e75d74d1a2472</td>\n",
       "      <td>5d4bdf5d8d8735ab45d474e5d77ad708</td>\n",
       "      <td>12.053044</td>\n",
       "      <td>0.0</td>\n",
       "      <td>NaN</td>\n",
       "      <td>2021-08-18 13:26:15.793</td>\n",
       "      <td>60e9ad4c603cd8578de756f5</td>\n",
       "    </tr>\n",
       "    <tr>\n",
       "      <th>1</th>\n",
       "      <td>6120d7f9e53fb6b2b305974e</td>\n",
       "      <td>b3f004a5454487a3d9bb6f0e6efaaf4d</td>\n",
       "      <td>14.816226</td>\n",
       "      <td>14.0</td>\n",
       "      <td>YALLA476</td>\n",
       "      <td>2021-08-21 10:39:53.465</td>\n",
       "      <td>60e9ad4c603cd8578de756f5</td>\n",
       "    </tr>\n",
       "    <tr>\n",
       "      <th>2</th>\n",
       "      <td>612b709a6fd4c3dd8569b291</td>\n",
       "      <td>c376ec39984346ddaee5cbd07e284f64</td>\n",
       "      <td>49.710240</td>\n",
       "      <td>48.0</td>\n",
       "      <td>YALLA50</td>\n",
       "      <td>2021-08-29 11:33:46.702</td>\n",
       "      <td>60e9ad4c603cd8578de756f5</td>\n",
       "    </tr>\n",
       "    <tr>\n",
       "      <th>3</th>\n",
       "      <td>61291fd3db402abc11d18c3f</td>\n",
       "      <td>7a955ce61cc5fa3a4c6a2d49a0e3fd42</td>\n",
       "      <td>31.257000</td>\n",
       "      <td>30.0</td>\n",
       "      <td>YALLA476</td>\n",
       "      <td>2021-08-27 17:24:35.285</td>\n",
       "      <td>60e9ad4c603cd8578de756f5</td>\n",
       "    </tr>\n",
       "    <tr>\n",
       "      <th>4</th>\n",
       "      <td>611ce2ce33f3d291d52b91e1</td>\n",
       "      <td>54cfc68c71f40a14483f20bb4781fb9e</td>\n",
       "      <td>14.468320</td>\n",
       "      <td>0.0</td>\n",
       "      <td>NaN</td>\n",
       "      <td>2021-08-18 10:37:02.422</td>\n",
       "      <td>60e9ad4c603cd8578de756f5</td>\n",
       "    </tr>\n",
       "  </tbody>\n",
       "</table>\n",
       "</div>"
      ],
      "text/plain": [
       "                   order_id                           user_id  total_sum  \\\n",
       "0  611d0a77db6e75d74d1a2472  5d4bdf5d8d8735ab45d474e5d77ad708  12.053044   \n",
       "1  6120d7f9e53fb6b2b305974e  b3f004a5454487a3d9bb6f0e6efaaf4d  14.816226   \n",
       "2  612b709a6fd4c3dd8569b291  c376ec39984346ddaee5cbd07e284f64  49.710240   \n",
       "3  61291fd3db402abc11d18c3f  7a955ce61cc5fa3a4c6a2d49a0e3fd42  31.257000   \n",
       "4  611ce2ce33f3d291d52b91e1  54cfc68c71f40a14483f20bb4781fb9e  14.468320   \n",
       "\n",
       "   discount     promo              created_at               location_id  \n",
       "0       0.0       NaN 2021-08-18 13:26:15.793  60e9ad4c603cd8578de756f5  \n",
       "1      14.0  YALLA476 2021-08-21 10:39:53.465  60e9ad4c603cd8578de756f5  \n",
       "2      48.0   YALLA50 2021-08-29 11:33:46.702  60e9ad4c603cd8578de756f5  \n",
       "3      30.0  YALLA476 2021-08-27 17:24:35.285  60e9ad4c603cd8578de756f5  \n",
       "4       0.0       NaN 2021-08-18 10:37:02.422  60e9ad4c603cd8578de756f5  "
      ]
     },
     "execution_count": 4,
     "metadata": {},
     "output_type": "execute_result"
    }
   ],
   "source": [
    "# Преобразуем колонку с датой к типу datetime\n",
    "df['created_at'] = pd.to_datetime(df.created_at).dt.tz_localize(None)\n",
    "df.head()"
   ]
  },
  {
   "cell_type": "code",
   "execution_count": 5,
   "metadata": {},
   "outputs": [
    {
     "data": {
      "text/plain": [
       "promo    2164\n",
       "dtype: int64"
      ]
     },
     "execution_count": 5,
     "metadata": {},
     "output_type": "execute_result"
    }
   ],
   "source": [
    "# Посмотрим есть ли пропущенные значения в данных\n",
    "missing = df.isna().sum()\n",
    "missing[missing > 0]"
   ]
  },
  {
   "cell_type": "markdown",
   "metadata": {},
   "source": [
    "Поле `promo` содержит 2164 отсутствующих значений. Попробуем разобраться с чем это связано. Предположим, что не у всех пользователей, которые совершают покупку есть промокод, соответственно скидка им не предоставляется."
   ]
  },
  {
   "cell_type": "code",
   "execution_count": 6,
   "metadata": {},
   "outputs": [
    {
     "data": {
      "text/html": [
       "<div>\n",
       "<style scoped>\n",
       "    .dataframe tbody tr th:only-of-type {\n",
       "        vertical-align: middle;\n",
       "    }\n",
       "\n",
       "    .dataframe tbody tr th {\n",
       "        vertical-align: top;\n",
       "    }\n",
       "\n",
       "    .dataframe thead th {\n",
       "        text-align: right;\n",
       "    }\n",
       "</style>\n",
       "<table border=\"1\" class=\"dataframe\">\n",
       "  <thead>\n",
       "    <tr style=\"text-align: right;\">\n",
       "      <th></th>\n",
       "      <th>0</th>\n",
       "      <th>1</th>\n",
       "      <th>2</th>\n",
       "      <th>3</th>\n",
       "      <th>4</th>\n",
       "      <th>5</th>\n",
       "      <th>6</th>\n",
       "      <th>7</th>\n",
       "    </tr>\n",
       "  </thead>\n",
       "  <tbody>\n",
       "    <tr>\n",
       "      <th>index</th>\n",
       "      <td>count</td>\n",
       "      <td>mean</td>\n",
       "      <td>std</td>\n",
       "      <td>min</td>\n",
       "      <td>25%</td>\n",
       "      <td>50%</td>\n",
       "      <td>75%</td>\n",
       "      <td>max</td>\n",
       "    </tr>\n",
       "    <tr>\n",
       "      <th>discount</th>\n",
       "      <td>2164</td>\n",
       "      <td>0</td>\n",
       "      <td>0</td>\n",
       "      <td>0</td>\n",
       "      <td>0</td>\n",
       "      <td>0</td>\n",
       "      <td>0</td>\n",
       "      <td>0</td>\n",
       "    </tr>\n",
       "  </tbody>\n",
       "</table>\n",
       "</div>"
      ],
      "text/plain": [
       "              0     1    2    3    4    5    6    7\n",
       "index     count  mean  std  min  25%  50%  75%  max\n",
       "discount   2164     0    0    0    0    0    0    0"
      ]
     },
     "execution_count": 6,
     "metadata": {},
     "output_type": "execute_result"
    }
   ],
   "source": [
    "# Посмотрим на размер скидки пользователей у которых нет промокода\n",
    "df[df.promo.isnull()].discount.describe().reset_index().T"
   ]
  },
  {
   "cell_type": "markdown",
   "metadata": {},
   "source": [
    "Таким образом, отсутствие значений по промокуду  может объясняется тем что не всех пользователей есть промокод. В таком случае скидка не предоставляется."
   ]
  },
  {
   "cell_type": "code",
   "execution_count": 7,
   "metadata": {},
   "outputs": [
    {
     "data": {
      "text/plain": [
       "0"
      ]
     },
     "execution_count": 7,
     "metadata": {},
     "output_type": "execute_result"
    }
   ],
   "source": [
    "# Посмотрим есть ли дубликаты строк в датафрейме\n",
    "df.duplicated().sum()"
   ]
  },
  {
   "cell_type": "code",
   "execution_count": 8,
   "metadata": {},
   "outputs": [
    {
     "data": {
      "text/html": [
       "<div>\n",
       "<style scoped>\n",
       "    .dataframe tbody tr th:only-of-type {\n",
       "        vertical-align: middle;\n",
       "    }\n",
       "\n",
       "    .dataframe tbody tr th {\n",
       "        vertical-align: top;\n",
       "    }\n",
       "\n",
       "    .dataframe thead th {\n",
       "        text-align: right;\n",
       "    }\n",
       "</style>\n",
       "<table border=\"1\" class=\"dataframe\">\n",
       "  <thead>\n",
       "    <tr style=\"text-align: right;\">\n",
       "      <th></th>\n",
       "      <th>count</th>\n",
       "      <th>unique</th>\n",
       "      <th>top</th>\n",
       "      <th>freq</th>\n",
       "    </tr>\n",
       "  </thead>\n",
       "  <tbody>\n",
       "    <tr>\n",
       "      <th>order_id</th>\n",
       "      <td>3807</td>\n",
       "      <td>3807</td>\n",
       "      <td>61475cc14f4df17981bd586c</td>\n",
       "      <td>1</td>\n",
       "    </tr>\n",
       "    <tr>\n",
       "      <th>user_id</th>\n",
       "      <td>3807</td>\n",
       "      <td>1109</td>\n",
       "      <td>f7c6507d693a6ad60b79f7933f8449da</td>\n",
       "      <td>74</td>\n",
       "    </tr>\n",
       "    <tr>\n",
       "      <th>promo</th>\n",
       "      <td>1643</td>\n",
       "      <td>287</td>\n",
       "      <td>TEAM</td>\n",
       "      <td>199</td>\n",
       "    </tr>\n",
       "    <tr>\n",
       "      <th>location_id</th>\n",
       "      <td>3807</td>\n",
       "      <td>2</td>\n",
       "      <td>60e9ad4c603cd8578de756f5</td>\n",
       "      <td>3716</td>\n",
       "    </tr>\n",
       "  </tbody>\n",
       "</table>\n",
       "</div>"
      ],
      "text/plain": [
       "            count unique                               top  freq\n",
       "order_id     3807   3807          61475cc14f4df17981bd586c     1\n",
       "user_id      3807   1109  f7c6507d693a6ad60b79f7933f8449da    74\n",
       "promo        1643    287                              TEAM   199\n",
       "location_id  3807      2          60e9ad4c603cd8578de756f5  3716"
      ]
     },
     "execution_count": 8,
     "metadata": {},
     "output_type": "execute_result"
    }
   ],
   "source": [
    "# Посмотрим на описательную статистику по категориальным переменным\n",
    "df.describe(include=['O']).T"
   ]
  },
  {
   "cell_type": "markdown",
   "metadata": {},
   "source": [
    "- Пользователь с id `f7c6507d693a6ad60b79f7933f8449da` встречается 74 раза в датасете;\n",
    "- 287 уникальных промокода, из них чаще всего используется `TEAM`;\n",
    "- Количество уникальных дарксторов - 2, большая часть пользователей из даркстора `60e9ad4c603cd8578de756f5`."
   ]
  },
  {
   "cell_type": "code",
   "execution_count": 9,
   "metadata": {},
   "outputs": [
    {
     "data": {
      "text/plain": [
       "array([nan, 'YALLA476', 'YALLA50', 'SORRY', 'YALLA146', 'YALLA!',\n",
       "       'NOOR30', 'YALLA187', 'YALLA60', 'MBYALLA', 'Yalla146', 'YALLA791',\n",
       "       'YALLA971TEAM', 'Shahi150', 'TEAM', 'LUCI50', 'BD35', 'TT175',\n",
       "       'A4A438', 'JLT35', 'YALLA40', 'MBYALLA25', 'BACK', 'MOTB50', 'BAG',\n",
       "       'PRITI150', 'YALLA30', 'THX30', 'HELLO50', 'mbyalla', 'SUPTHX30',\n",
       "       'bag', 'yalla50', 'DFL50', 'SACHI50', 'yalla', 'YALLAJLT', 'JP50',\n",
       "       'CAE', 'sorry', 'SORRY536', '93E9E0', 'YALLA', 'AKSA200', 'SSS200',\n",
       "       'yalla40', 'V200', 'WELCOME50', 'HELLOYALLA', 'NOV'], dtype=object)"
      ]
     },
     "execution_count": 9,
     "metadata": {},
     "output_type": "execute_result"
    }
   ],
   "source": [
    "# Посмотрим на уникальные значения промокодов (отобразим первые 50 значений)\n",
    "df.promo.unique()[:50]"
   ]
  },
  {
   "cell_type": "markdown",
   "metadata": {},
   "source": [
    "Названия промокодов встречаются как в верхнем, так и нижнем регистре - поработаем с этим полем."
   ]
  },
  {
   "cell_type": "code",
   "execution_count": 10,
   "metadata": {},
   "outputs": [
    {
     "data": {
      "text/plain": [
       "230"
      ]
     },
     "execution_count": 10,
     "metadata": {},
     "output_type": "execute_result"
    }
   ],
   "source": [
    "df['promo'] = df.promo.str.lower()\n",
    "df['promo'] = df.promo.str.replace('!', '')\n",
    "df['promo'] = df.promo.str.replace('nov', 'now')\n",
    "df.promo.nunique()"
   ]
  },
  {
   "cell_type": "markdown",
   "metadata": {},
   "source": [
    "После небольших преобразований количество уникальных значений в поле `promo` снизилось до 230. Возможно, в оставшемся перечне промокодов есть еще идентичные значения, которые записаны по разному."
   ]
  },
  {
   "cell_type": "code",
   "execution_count": 11,
   "metadata": {},
   "outputs": [
    {
     "data": {
      "text/html": [
       "<div>\n",
       "<style scoped>\n",
       "    .dataframe tbody tr th:only-of-type {\n",
       "        vertical-align: middle;\n",
       "    }\n",
       "\n",
       "    .dataframe tbody tr th {\n",
       "        vertical-align: top;\n",
       "    }\n",
       "\n",
       "    .dataframe thead th {\n",
       "        text-align: right;\n",
       "    }\n",
       "</style>\n",
       "<table border=\"1\" class=\"dataframe\">\n",
       "  <thead>\n",
       "    <tr style=\"text-align: right;\">\n",
       "      <th></th>\n",
       "      <th>promo</th>\n",
       "      <th>number</th>\n",
       "    </tr>\n",
       "  </thead>\n",
       "  <tbody>\n",
       "    <tr>\n",
       "      <th>0</th>\n",
       "      <td>team</td>\n",
       "      <td>200</td>\n",
       "    </tr>\n",
       "    <tr>\n",
       "      <th>1</th>\n",
       "      <td>mbyalla</td>\n",
       "      <td>136</td>\n",
       "    </tr>\n",
       "    <tr>\n",
       "      <th>2</th>\n",
       "      <td>yalla</td>\n",
       "      <td>120</td>\n",
       "    </tr>\n",
       "    <tr>\n",
       "      <th>3</th>\n",
       "      <td>bag</td>\n",
       "      <td>104</td>\n",
       "    </tr>\n",
       "    <tr>\n",
       "      <th>4</th>\n",
       "      <td>yallajlt</td>\n",
       "      <td>91</td>\n",
       "    </tr>\n",
       "    <tr>\n",
       "      <th>5</th>\n",
       "      <td>yalla50</td>\n",
       "      <td>86</td>\n",
       "    </tr>\n",
       "    <tr>\n",
       "      <th>6</th>\n",
       "      <td>sorry</td>\n",
       "      <td>63</td>\n",
       "    </tr>\n",
       "    <tr>\n",
       "      <th>7</th>\n",
       "      <td>cae</td>\n",
       "      <td>42</td>\n",
       "    </tr>\n",
       "    <tr>\n",
       "      <th>8</th>\n",
       "      <td>yalla476</td>\n",
       "      <td>35</td>\n",
       "    </tr>\n",
       "    <tr>\n",
       "      <th>9</th>\n",
       "      <td>jlt35</td>\n",
       "      <td>29</td>\n",
       "    </tr>\n",
       "  </tbody>\n",
       "</table>\n",
       "</div>"
      ],
      "text/plain": [
       "      promo  number\n",
       "0      team     200\n",
       "1   mbyalla     136\n",
       "2     yalla     120\n",
       "3       bag     104\n",
       "4  yallajlt      91\n",
       "5   yalla50      86\n",
       "6     sorry      63\n",
       "7       cae      42\n",
       "8  yalla476      35\n",
       "9     jlt35      29"
      ]
     },
     "execution_count": 11,
     "metadata": {},
     "output_type": "execute_result"
    }
   ],
   "source": [
    "# Посмотрим на топ 10 самых частых промокодов\n",
    "df.promo.value_counts() \\\n",
    "    .reset_index() \\\n",
    "    .rename(columns={'index': 'promo', 'promo': 'number'}) \\\n",
    "    .sort_values('number', ascending=False)[:10]"
   ]
  },
  {
   "cell_type": "markdown",
   "metadata": {},
   "source": [
    "**Посмотрим по какому префиксу больше всего промокодов.**"
   ]
  },
  {
   "cell_type": "code",
   "execution_count": 12,
   "metadata": {},
   "outputs": [
    {
     "data": {
      "text/html": [
       "<div>\n",
       "<style scoped>\n",
       "    .dataframe tbody tr th:only-of-type {\n",
       "        vertical-align: middle;\n",
       "    }\n",
       "\n",
       "    .dataframe tbody tr th {\n",
       "        vertical-align: top;\n",
       "    }\n",
       "\n",
       "    .dataframe thead th {\n",
       "        text-align: right;\n",
       "    }\n",
       "</style>\n",
       "<table border=\"1\" class=\"dataframe\">\n",
       "  <thead>\n",
       "    <tr style=\"text-align: right;\">\n",
       "      <th></th>\n",
       "      <th>promo_key</th>\n",
       "      <th>count</th>\n",
       "    </tr>\n",
       "  </thead>\n",
       "  <tbody>\n",
       "    <tr>\n",
       "      <th>0</th>\n",
       "      <td>yalla</td>\n",
       "      <td>604</td>\n",
       "    </tr>\n",
       "    <tr>\n",
       "      <th>1</th>\n",
       "      <td>team</td>\n",
       "      <td>200</td>\n",
       "    </tr>\n",
       "    <tr>\n",
       "      <th>2</th>\n",
       "      <td>bag</td>\n",
       "      <td>110</td>\n",
       "    </tr>\n",
       "    <tr>\n",
       "      <th>3</th>\n",
       "      <td>sorry</td>\n",
       "      <td>81</td>\n",
       "    </tr>\n",
       "    <tr>\n",
       "      <th>4</th>\n",
       "      <td>cae</td>\n",
       "      <td>42</td>\n",
       "    </tr>\n",
       "  </tbody>\n",
       "</table>\n",
       "</div>"
      ],
      "text/plain": [
       "  promo_key  count\n",
       "0     yalla    604\n",
       "1      team    200\n",
       "2       bag    110\n",
       "3     sorry     81\n",
       "4       cae     42"
      ]
     },
     "execution_count": 12,
     "metadata": {},
     "output_type": "execute_result"
    }
   ],
   "source": [
    "# Произведем необходимые преобразования\n",
    "df['promo_key'] = df.promo.str.extract('([a-z]+)')\n",
    "df['promo_key'] = df.promo_key.str.replace('mbyalla', 'yalla')\n",
    "df['promo_key'] = df.promo_key.str.replace('yallajlt', 'yalla')\n",
    "\n",
    "# Посмотрим на топ 5 \n",
    "top_promo = df.promo_key.value_counts()[:5].reset_index().rename(columns={'index': 'promo_key', 'promo_key': 'count'})\n",
    "top_promo"
   ]
  },
  {
   "cell_type": "markdown",
   "metadata": {},
   "source": [
    "Чаще всего встречаются промокоды содержащие слово `yalla`."
   ]
  },
  {
   "cell_type": "code",
   "execution_count": 13,
   "metadata": {},
   "outputs": [
    {
     "data": {
      "text/html": [
       "<div>\n",
       "<style scoped>\n",
       "    .dataframe tbody tr th:only-of-type {\n",
       "        vertical-align: middle;\n",
       "    }\n",
       "\n",
       "    .dataframe tbody tr th {\n",
       "        vertical-align: top;\n",
       "    }\n",
       "\n",
       "    .dataframe thead th {\n",
       "        text-align: right;\n",
       "    }\n",
       "</style>\n",
       "<table border=\"1\" class=\"dataframe\">\n",
       "  <thead>\n",
       "    <tr style=\"text-align: right;\">\n",
       "      <th></th>\n",
       "      <th>location_id</th>\n",
       "      <th>percentage</th>\n",
       "    </tr>\n",
       "  </thead>\n",
       "  <tbody>\n",
       "    <tr>\n",
       "      <th>0</th>\n",
       "      <td>60e9ad4c603cd8578de756f5</td>\n",
       "      <td>0.98</td>\n",
       "    </tr>\n",
       "    <tr>\n",
       "      <th>1</th>\n",
       "      <td>610bea24116a2e35936f3871</td>\n",
       "      <td>0.02</td>\n",
       "    </tr>\n",
       "  </tbody>\n",
       "</table>\n",
       "</div>"
      ],
      "text/plain": [
       "                location_id  percentage\n",
       "0  60e9ad4c603cd8578de756f5        0.98\n",
       "1  610bea24116a2e35936f3871        0.02"
      ]
     },
     "execution_count": 13,
     "metadata": {},
     "output_type": "execute_result"
    }
   ],
   "source": [
    "# Посмотрим какой процент в выборке по дарксторам\n",
    "df.location_id.value_counts(normalize=True) \\\n",
    "    .round(2).reset_index() \\\n",
    "    .rename(columns={'index': 'location_id', 'location_id': 'percentage'})"
   ]
  },
  {
   "cell_type": "code",
   "execution_count": 14,
   "metadata": {},
   "outputs": [
    {
     "data": {
      "text/html": [
       "<div>\n",
       "<style scoped>\n",
       "    .dataframe tbody tr th:only-of-type {\n",
       "        vertical-align: middle;\n",
       "    }\n",
       "\n",
       "    .dataframe tbody tr th {\n",
       "        vertical-align: top;\n",
       "    }\n",
       "\n",
       "    .dataframe thead th {\n",
       "        text-align: right;\n",
       "    }\n",
       "</style>\n",
       "<table border=\"1\" class=\"dataframe\">\n",
       "  <thead>\n",
       "    <tr style=\"text-align: right;\">\n",
       "      <th></th>\n",
       "      <th>count</th>\n",
       "      <th>mean</th>\n",
       "      <th>std</th>\n",
       "      <th>min</th>\n",
       "      <th>0%</th>\n",
       "      <th>16.7%</th>\n",
       "      <th>33.3%</th>\n",
       "      <th>50%</th>\n",
       "      <th>66.7%</th>\n",
       "      <th>83.3%</th>\n",
       "      <th>100%</th>\n",
       "      <th>max</th>\n",
       "    </tr>\n",
       "  </thead>\n",
       "  <tbody>\n",
       "    <tr>\n",
       "      <th>total_sum</th>\n",
       "      <td>3807.0</td>\n",
       "      <td>28.083</td>\n",
       "      <td>42.499</td>\n",
       "      <td>0.033</td>\n",
       "      <td>0.033</td>\n",
       "      <td>4.244</td>\n",
       "      <td>8.216</td>\n",
       "      <td>13.25</td>\n",
       "      <td>24.071</td>\n",
       "      <td>50.127</td>\n",
       "      <td>706.218</td>\n",
       "      <td>706.218</td>\n",
       "    </tr>\n",
       "    <tr>\n",
       "      <th>discount</th>\n",
       "      <td>3807.0</td>\n",
       "      <td>19.062</td>\n",
       "      <td>48.028</td>\n",
       "      <td>0.000</td>\n",
       "      <td>0.000</td>\n",
       "      <td>0.000</td>\n",
       "      <td>0.000</td>\n",
       "      <td>0.00</td>\n",
       "      <td>3.945</td>\n",
       "      <td>35.339</td>\n",
       "      <td>705.000</td>\n",
       "      <td>705.000</td>\n",
       "    </tr>\n",
       "  </tbody>\n",
       "</table>\n",
       "</div>"
      ],
      "text/plain": [
       "            count    mean     std    min     0%  16.7%  33.3%    50%   66.7%  \\\n",
       "total_sum  3807.0  28.083  42.499  0.033  0.033  4.244  8.216  13.25  24.071   \n",
       "discount   3807.0  19.062  48.028  0.000  0.000  0.000  0.000   0.00   3.945   \n",
       "\n",
       "            83.3%     100%      max  \n",
       "total_sum  50.127  706.218  706.218  \n",
       "discount   35.339  705.000  705.000  "
      ]
     },
     "execution_count": 14,
     "metadata": {},
     "output_type": "execute_result"
    }
   ],
   "source": [
    "# Посмотрим на описательную статистику по количественным переменным\n",
    "df.describe(percentiles=[0, 1/6, 1/3, .5, 2/3, 5/6, 1]).T.round(3)"
   ]
  },
  {
   "cell_type": "markdown",
   "metadata": {},
   "source": [
    "- Сумма 80% заказов не превышает 50 ден. единиц;\n",
    "- Максимальная скидка 705. В большинстве случаев, скидка указывается в %. Поскольку в описании данных ничего не сказано, что из себя представляет скидка (процент или размер скидки выраженный в ден. единицах) возникает вопрос - может ли это означать, что в данном поле имеются ошибки в данных или аномалии?"
   ]
  },
  {
   "cell_type": "markdown",
   "metadata": {},
   "source": [
    "### Посмотрим на распределение скидки"
   ]
  },
  {
   "cell_type": "code",
   "execution_count": 15,
   "metadata": {},
   "outputs": [
    {
     "data": {
      "image/png": "[encoded data removed]",
      "text/plain": [
       "<Figure size 720x432 with 1 Axes>"
      ]
     },
     "metadata": {
      "needs_background": "light"
     },
     "output_type": "display_data"
    }
   ],
   "source": [
    "plt.figure(figsize=(10, 6))\n",
    "bins = round(1 + 3.2 * np.log(df.discount.shape[0]))\n",
    "sns.histplot(df.discount, bins=bins);"
   ]
  },
  {
   "cell_type": "markdown",
   "metadata": {},
   "source": [
    "**Анализ гистограммы позволяет сделать предположение, что скидка указана не в % - в данном поле указана сумма скидки.**"
   ]
  },
  {
   "cell_type": "code",
   "execution_count": 16,
   "metadata": {},
   "outputs": [
    {
     "data": {
      "text/html": [
       "<div>\n",
       "<style scoped>\n",
       "    .dataframe tbody tr th:only-of-type {\n",
       "        vertical-align: middle;\n",
       "    }\n",
       "\n",
       "    .dataframe tbody tr th {\n",
       "        vertical-align: top;\n",
       "    }\n",
       "\n",
       "    .dataframe thead th {\n",
       "        text-align: right;\n",
       "    }\n",
       "</style>\n",
       "<table border=\"1\" class=\"dataframe\">\n",
       "  <thead>\n",
       "    <tr style=\"text-align: right;\">\n",
       "      <th></th>\n",
       "      <th>order_id</th>\n",
       "      <th>user_id</th>\n",
       "      <th>total_sum</th>\n",
       "      <th>discount</th>\n",
       "      <th>promo</th>\n",
       "      <th>created_at</th>\n",
       "      <th>location_id</th>\n",
       "      <th>promo_key</th>\n",
       "    </tr>\n",
       "  </thead>\n",
       "  <tbody>\n",
       "    <tr>\n",
       "      <th>487</th>\n",
       "      <td>617d1cea0ad8a1a7f35f3372</td>\n",
       "      <td>16bd07616c1102486f054c4d98984705</td>\n",
       "      <td>423.987466</td>\n",
       "      <td>423.987466</td>\n",
       "      <td>sorry</td>\n",
       "      <td>2021-10-30 10:22:34.680</td>\n",
       "      <td>60e9ad4c603cd8578de756f5</td>\n",
       "      <td>sorry</td>\n",
       "    </tr>\n",
       "    <tr>\n",
       "      <th>1054</th>\n",
       "      <td>615ae1c32b2492d9211321c4</td>\n",
       "      <td>d10cf5042dd91b6ef1c834cebeba5949</td>\n",
       "      <td>368.179912</td>\n",
       "      <td>368.179912</td>\n",
       "      <td>mbyalla</td>\n",
       "      <td>2021-10-04 11:13:06.610</td>\n",
       "      <td>60e9ad4c603cd8578de756f5</td>\n",
       "      <td>yalla</td>\n",
       "    </tr>\n",
       "    <tr>\n",
       "      <th>1359</th>\n",
       "      <td>615d52982b2492d921132208</td>\n",
       "      <td>9641b170d41cd31b8d295747ddfccba4</td>\n",
       "      <td>508.944896</td>\n",
       "      <td>508.944896</td>\n",
       "      <td>mbyalla</td>\n",
       "      <td>2021-10-06 07:39:04.460</td>\n",
       "      <td>60e9ad4c603cd8578de756f5</td>\n",
       "      <td>yalla</td>\n",
       "    </tr>\n",
       "    <tr>\n",
       "      <th>1477</th>\n",
       "      <td>6197e748a6359ac06b88a40b</td>\n",
       "      <td>8f30808d35c78b1f1aea3fb51274de5a</td>\n",
       "      <td>5.520000</td>\n",
       "      <td>400.000000</td>\n",
       "      <td>shera400</td>\n",
       "      <td>2021-11-19 18:04:56.175</td>\n",
       "      <td>610bea24116a2e35936f3871</td>\n",
       "      <td>shera</td>\n",
       "    </tr>\n",
       "    <tr>\n",
       "      <th>1629</th>\n",
       "      <td>615e8bc9667ddd54e2291287</td>\n",
       "      <td>33cf0ebdce0b93724721a02576ded7cd</td>\n",
       "      <td>387.019858</td>\n",
       "      <td>387.019858</td>\n",
       "      <td>yallajlt</td>\n",
       "      <td>2021-10-07 05:55:21.211</td>\n",
       "      <td>60e9ad4c603cd8578de756f5</td>\n",
       "      <td>yalla</td>\n",
       "    </tr>\n",
       "    <tr>\n",
       "      <th>2655</th>\n",
       "      <td>611f8a7bdb6e75d74d1a24d5</td>\n",
       "      <td>0e3a17b22a6e1ffb3d9eeb3a232b9ec3</td>\n",
       "      <td>706.217577</td>\n",
       "      <td>705.000000</td>\n",
       "      <td>yalla</td>\n",
       "      <td>2021-08-20 10:56:59.245</td>\n",
       "      <td>60e9ad4c603cd8578de756f5</td>\n",
       "      <td>yalla</td>\n",
       "    </tr>\n",
       "  </tbody>\n",
       "</table>\n",
       "</div>"
      ],
      "text/plain": [
       "                      order_id                           user_id   total_sum  \\\n",
       "487   617d1cea0ad8a1a7f35f3372  16bd07616c1102486f054c4d98984705  423.987466   \n",
       "1054  615ae1c32b2492d9211321c4  d10cf5042dd91b6ef1c834cebeba5949  368.179912   \n",
       "1359  615d52982b2492d921132208  9641b170d41cd31b8d295747ddfccba4  508.944896   \n",
       "1477  6197e748a6359ac06b88a40b  8f30808d35c78b1f1aea3fb51274de5a    5.520000   \n",
       "1629  615e8bc9667ddd54e2291287  33cf0ebdce0b93724721a02576ded7cd  387.019858   \n",
       "2655  611f8a7bdb6e75d74d1a24d5  0e3a17b22a6e1ffb3d9eeb3a232b9ec3  706.217577   \n",
       "\n",
       "        discount     promo              created_at               location_id  \\\n",
       "487   423.987466     sorry 2021-10-30 10:22:34.680  60e9ad4c603cd8578de756f5   \n",
       "1054  368.179912   mbyalla 2021-10-04 11:13:06.610  60e9ad4c603cd8578de756f5   \n",
       "1359  508.944896   mbyalla 2021-10-06 07:39:04.460  60e9ad4c603cd8578de756f5   \n",
       "1477  400.000000  shera400 2021-11-19 18:04:56.175  610bea24116a2e35936f3871   \n",
       "1629  387.019858  yallajlt 2021-10-07 05:55:21.211  60e9ad4c603cd8578de756f5   \n",
       "2655  705.000000     yalla 2021-08-20 10:56:59.245  60e9ad4c603cd8578de756f5   \n",
       "\n",
       "     promo_key  \n",
       "487      sorry  \n",
       "1054     yalla  \n",
       "1359     yalla  \n",
       "1477     shera  \n",
       "1629     yalla  \n",
       "2655     yalla  "
      ]
     },
     "execution_count": 16,
     "metadata": {},
     "output_type": "execute_result"
    }
   ],
   "source": [
    "# Посмотрим на данные со скидкой свыше 350\n",
    "df[df.discount > 350]"
   ]
  },
  {
   "cell_type": "markdown",
   "metadata": {},
   "source": [
    "**Интересное наблюдение** - по некоторым промокодам скидка равна сумме заказа после скидки.<br>\n",
    "Посмотрим сколько у нас всего таких наблюдений."
   ]
  },
  {
   "cell_type": "code",
   "execution_count": 17,
   "metadata": {},
   "outputs": [
    {
     "data": {
      "text/plain": [
       "213"
      ]
     },
     "execution_count": 17,
     "metadata": {},
     "output_type": "execute_result"
    }
   ],
   "source": [
    "df[df.total_sum == df.discount].shape[0]"
   ]
  },
  {
   "cell_type": "code",
   "execution_count": 18,
   "metadata": {},
   "outputs": [
    {
     "data": {
      "text/html": [
       "<div>\n",
       "<style scoped>\n",
       "    .dataframe tbody tr th:only-of-type {\n",
       "        vertical-align: middle;\n",
       "    }\n",
       "\n",
       "    .dataframe tbody tr th {\n",
       "        vertical-align: top;\n",
       "    }\n",
       "\n",
       "    .dataframe thead th {\n",
       "        text-align: right;\n",
       "    }\n",
       "</style>\n",
       "<table border=\"1\" class=\"dataframe\">\n",
       "  <thead>\n",
       "    <tr style=\"text-align: right;\">\n",
       "      <th></th>\n",
       "      <th>promo</th>\n",
       "      <th>count</th>\n",
       "    </tr>\n",
       "  </thead>\n",
       "  <tbody>\n",
       "    <tr>\n",
       "      <th>0</th>\n",
       "      <td>mbyalla</td>\n",
       "      <td>72</td>\n",
       "    </tr>\n",
       "    <tr>\n",
       "      <th>1</th>\n",
       "      <td>yallajlt</td>\n",
       "      <td>60</td>\n",
       "    </tr>\n",
       "    <tr>\n",
       "      <th>2</th>\n",
       "      <td>sorry</td>\n",
       "      <td>39</td>\n",
       "    </tr>\n",
       "    <tr>\n",
       "      <th>3</th>\n",
       "      <td>helloyalla50</td>\n",
       "      <td>12</td>\n",
       "    </tr>\n",
       "    <tr>\n",
       "      <th>4</th>\n",
       "      <td>myyalla</td>\n",
       "      <td>9</td>\n",
       "    </tr>\n",
       "    <tr>\n",
       "      <th>5</th>\n",
       "      <td>helloyalla</td>\n",
       "      <td>6</td>\n",
       "    </tr>\n",
       "    <tr>\n",
       "      <th>6</th>\n",
       "      <td>myyalla50</td>\n",
       "      <td>6</td>\n",
       "    </tr>\n",
       "    <tr>\n",
       "      <th>7</th>\n",
       "      <td>uro50</td>\n",
       "      <td>3</td>\n",
       "    </tr>\n",
       "    <tr>\n",
       "      <th>8</th>\n",
       "      <td>back</td>\n",
       "      <td>2</td>\n",
       "    </tr>\n",
       "    <tr>\n",
       "      <th>9</th>\n",
       "      <td>b50</td>\n",
       "      <td>2</td>\n",
       "    </tr>\n",
       "    <tr>\n",
       "      <th>10</th>\n",
       "      <td>srishti50</td>\n",
       "      <td>1</td>\n",
       "    </tr>\n",
       "    <tr>\n",
       "      <th>11</th>\n",
       "      <td>luci50</td>\n",
       "      <td>1</td>\n",
       "    </tr>\n",
       "  </tbody>\n",
       "</table>\n",
       "</div>"
      ],
      "text/plain": [
       "           promo  count\n",
       "0        mbyalla     72\n",
       "1       yallajlt     60\n",
       "2          sorry     39\n",
       "3   helloyalla50     12\n",
       "4        myyalla      9\n",
       "5     helloyalla      6\n",
       "6      myyalla50      6\n",
       "7          uro50      3\n",
       "8           back      2\n",
       "9            b50      2\n",
       "10     srishti50      1\n",
       "11        luci50      1"
      ]
     },
     "execution_count": 18,
     "metadata": {},
     "output_type": "execute_result"
    }
   ],
   "source": [
    "# Посмотрим по каким промокодам есть совпадение суммы заказа после скидок и скидки\n",
    "df[df.total_sum == df.discount] \\\n",
    "    .promo.value_counts() \\\n",
    "    .reset_index() \\\n",
    "    .rename(columns={'index': 'promo', 'promo': 'count'}) \\\n",
    "    .sort_values('count', ascending=False)"
   ]
  },
  {
   "cell_type": "markdown",
   "metadata": {},
   "source": [
    "Таким образом у нас 213 наблюдений у которых сумма заказа после скидок равна скидке. Для того чтобы понимать являются ли валидными такие наблюдения необходима дополнительная информация."
   ]
  },
  {
   "cell_type": "markdown",
   "metadata": {},
   "source": [
    "### Посмотрим на распределение суммы заказа после скидок"
   ]
  },
  {
   "cell_type": "code",
   "execution_count": 19,
   "metadata": {},
   "outputs": [
    {
     "data": {
      "image/png": "[encoded data removed]",
      "text/plain": [
       "<Figure size 720x432 with 1 Axes>"
      ]
     },
     "metadata": {
      "needs_background": "light"
     },
     "output_type": "display_data"
    }
   ],
   "source": [
    "plt.figure(figsize=(10, 6))\n",
    "bins = round(1 + 3.2 * np.log(df.total_sum.shape[0]))\n",
    "ax = sns.histplot(df.total_sum, bins=bins);"
   ]
  },
  {
   "cell_type": "markdown",
   "metadata": {},
   "source": [
    "### Посмотрим на распределение суммы заказа после скидок в зависимости от наличия скидки"
   ]
  },
  {
   "cell_type": "code",
   "execution_count": 20,
   "metadata": {},
   "outputs": [],
   "source": [
    "# Создадим дополнительный столбец где будет указано наличие скидки\n",
    "df['has_discount'] = np.where(df.discount > 0, 'yes', 'no')\n",
    "\n",
    "# Прологорифмируем total_sum\n",
    "df['log_total'] = np.log(df.total_sum)"
   ]
  },
  {
   "cell_type": "code",
   "execution_count": 21,
   "metadata": {},
   "outputs": [
    {
     "data": {
      "image/png": "[encoded data removed]",
      "text/plain": [
       "<Figure size 864x432 with 1 Axes>"
      ]
     },
     "metadata": {
      "needs_background": "light"
     },
     "output_type": "display_data"
    }
   ],
   "source": [
    "# Визуализируем данные\n",
    "plt.figure(figsize=(12, 6))\n",
    "sns.histplot(data=df, x='log_total', hue='has_discount', alpha=0.4, kde=True);"
   ]
  },
  {
   "cell_type": "markdown",
   "metadata": {},
   "source": [
    "### Посмотрим на средние значения суммы заказа после скидок в зависимости от наличия скидки"
   ]
  },
  {
   "cell_type": "code",
   "execution_count": 22,
   "metadata": {},
   "outputs": [
    {
     "data": {
      "text/html": [
       "<div>\n",
       "<style scoped>\n",
       "    .dataframe tbody tr th:only-of-type {\n",
       "        vertical-align: middle;\n",
       "    }\n",
       "\n",
       "    .dataframe tbody tr th {\n",
       "        vertical-align: top;\n",
       "    }\n",
       "\n",
       "    .dataframe thead th {\n",
       "        text-align: right;\n",
       "    }\n",
       "</style>\n",
       "<table border=\"1\" class=\"dataframe\">\n",
       "  <thead>\n",
       "    <tr style=\"text-align: right;\">\n",
       "      <th></th>\n",
       "      <th>has_discount</th>\n",
       "      <th>total_mean</th>\n",
       "      <th>total_median</th>\n",
       "      <th>size</th>\n",
       "    </tr>\n",
       "  </thead>\n",
       "  <tbody>\n",
       "    <tr>\n",
       "      <th>0</th>\n",
       "      <td>no</td>\n",
       "      <td>19.34</td>\n",
       "      <td>10.73</td>\n",
       "      <td>2220</td>\n",
       "    </tr>\n",
       "    <tr>\n",
       "      <th>1</th>\n",
       "      <td>yes</td>\n",
       "      <td>40.31</td>\n",
       "      <td>24.78</td>\n",
       "      <td>1587</td>\n",
       "    </tr>\n",
       "  </tbody>\n",
       "</table>\n",
       "</div>"
      ],
      "text/plain": [
       "  has_discount  total_mean  total_median  size\n",
       "0           no       19.34         10.73  2220\n",
       "1          yes       40.31         24.78  1587"
      ]
     },
     "execution_count": 22,
     "metadata": {},
     "output_type": "execute_result"
    }
   ],
   "source": [
    "discount_df = df.groupby('has_discount', as_index=False) \\\n",
    "    .agg(total_mean=('total_sum', 'mean'),\n",
    "         total_median=('total_sum', 'median'),\n",
    "         size=('user_id', 'count')) \\\n",
    "    .round(2)\n",
    "\n",
    "discount_df"
   ]
  },
  {
   "cell_type": "markdown",
   "metadata": {},
   "source": [
    "**Сформулируем гипотезы для проверки:**\n",
    "\n",
    "- **Нулевая гипотеза** $(H_0)$: Разницы между средними значениями в двух группах нет\n",
    "- **Альтернативная гипотеза** $(H_1)$: Разница между средними значениями суммы заказов в двух группах есть"
   ]
  },
  {
   "cell_type": "code",
   "execution_count": 23,
   "metadata": {},
   "outputs": [
    {
     "name": "stdout",
     "output_type": "stream",
     "text": [
      "no - pvalue: 0.6370\n",
      "yes - pvalue: 0.0000\n"
     ]
    }
   ],
   "source": [
    "# Проверим выполнение условий на нормальность с помощью теста Шапиро-Уилка\n",
    "for col in df.has_discount.unique().tolist():\n",
    "    data_sample = df[df.has_discount == col].log_total.sample(500, random_state=17)\n",
    "    print(f'{col} - pvalue: {shapiro(data_sample)[1]:.4f}')"
   ]
  },
  {
   "cell_type": "code",
   "execution_count": 24,
   "metadata": {},
   "outputs": [
    {
     "data": {
      "text/html": [
       "<div>\n",
       "<style scoped>\n",
       "    .dataframe tbody tr th:only-of-type {\n",
       "        vertical-align: middle;\n",
       "    }\n",
       "\n",
       "    .dataframe tbody tr th {\n",
       "        vertical-align: top;\n",
       "    }\n",
       "\n",
       "    .dataframe thead th {\n",
       "        text-align: right;\n",
       "    }\n",
       "</style>\n",
       "<table border=\"1\" class=\"dataframe\">\n",
       "  <thead>\n",
       "    <tr style=\"text-align: right;\">\n",
       "      <th></th>\n",
       "      <th>W</th>\n",
       "      <th>pval</th>\n",
       "      <th>normal</th>\n",
       "    </tr>\n",
       "  </thead>\n",
       "  <tbody>\n",
       "    <tr>\n",
       "      <th>no</th>\n",
       "      <td>7.753638</td>\n",
       "      <td>2.071662e-02</td>\n",
       "      <td>False</td>\n",
       "    </tr>\n",
       "    <tr>\n",
       "      <th>yes</th>\n",
       "      <td>34.883506</td>\n",
       "      <td>2.661601e-08</td>\n",
       "      <td>False</td>\n",
       "    </tr>\n",
       "  </tbody>\n",
       "</table>\n",
       "</div>"
      ],
      "text/plain": [
       "             W          pval  normal\n",
       "no    7.753638  2.071662e-02   False\n",
       "yes  34.883506  2.661601e-08   False"
      ]
     },
     "execution_count": 24,
     "metadata": {},
     "output_type": "execute_result"
    }
   ],
   "source": [
    "# Используем функцию normality\n",
    "pg.normality(data=df, dv='log_total', group='has_discount', method='normaltest')"
   ]
  },
  {
   "cell_type": "markdown",
   "metadata": {},
   "source": [
    "Таким образом, результаты теста на нормальность позволяют сделать следующие выводы:\n",
    "- Распределение логарифма суммы заказов при отсутствии скидки не является нормальным\n",
    "- Распределение логарифма суммы заказов при наличии скидки не является нормальным\n",
    "\n",
    "Поскольку распределения в двух выборках отличаются от нормального воспользуемся непараметрическим критерием Манна-Уитни и бутстрапом."
   ]
  },
  {
   "cell_type": "code",
   "execution_count": 25,
   "metadata": {},
   "outputs": [],
   "source": [
    "# Создадим переменные с значениями по двум группам\n",
    "no_group = df[df.has_discount == 'no'].total_sum\n",
    "yes_group = df[df.has_discount == 'yes'].total_sum"
   ]
  },
  {
   "cell_type": "code",
   "execution_count": 26,
   "metadata": {},
   "outputs": [],
   "source": [
    "# Объявим функцию, которая позволит проверять гипотезы с помощью бутстрапа\n",
    "def get_bootstrap(data_col_1, data_col_2, boot_it=1000, statistic=np.mean, bootstrap_conf_level=0.95):\n",
    "    boot_len = max([len(data_col_1), len(data_col_2)])\n",
    "    boot_data = []\n",
    "    for i in range(boot_it):\n",
    "        sample_1 = data_col_1.sample(boot_len, replace=True).values\n",
    "        sample_2 = data_col_2.sample(boot_len, replace=True).values\n",
    "        \n",
    "        boot_data.append(statistic(sample_1 - sample_2))\n",
    "        \n",
    "        pd_boot_data = pd.DataFrame(boot_data)\n",
    "        \n",
    "        p_1 = norm.cdf(x=0, loc=np.mean(boot_data), scale=np.std(boot_data))\n",
    "        p_2 = norm.cdf(x=0, loc=-np.mean(boot_data), scale=np.std(boot_data))\n",
    "        p_value = min(p_1, p_2) * 2\n",
    "        \n",
    "    return {\"p-value\": p_value}"
   ]
  },
  {
   "cell_type": "code",
   "execution_count": 27,
   "metadata": {},
   "outputs": [
    {
     "name": "stdout",
     "output_type": "stream",
     "text": [
      "Boot mean: 1.5e-59; Boot median: 1.09e-25: MW: 1.92e-57\n"
     ]
    }
   ],
   "source": [
    "# Посмотрим на значение p-value бустрапа для средних значений и критерия Манна-Уитни\n",
    "res_mw = mannwhitneyu(no_group, yes_group, alternative='two-sided')\n",
    "res_boot_mean = get_bootstrap(no_group, yes_group)\n",
    "res_boot_median = get_bootstrap(no_group, yes_group, statistic=np.median)\n",
    "print(f'Boot mean: {res_boot_mean[\"p-value\"]:.3}; Boot median: {res_boot_median[\"p-value\"]:.3}: MW: {res_mw.pvalue:.3}')"
   ]
  },
  {
   "cell_type": "markdown",
   "metadata": {},
   "source": [
    "Сравнение средних и медианных значений в двух группах с помощью бутстрап позволяет сделать вывод о том что различие статистически значимо ($p < 0.05$), т.е. позволяет отклонить нулевую гипотезу о равенстве средних значений. Значение p-value критерия Манна-Уитни $p < 0.05$ говорит о том, различие исследуемых выборок статистически значимо.\n",
    "\n",
    "**Таким образом, в исследуемой выборке средняя сумма заказа при наличии скидки выше чем средняя сумма заказа без скидки.**"
   ]
  },
  {
   "cell_type": "markdown",
   "metadata": {},
   "source": [
    "<hr>"
   ]
  },
  {
   "cell_type": "markdown",
   "metadata": {},
   "source": [
    "# Когортный анализ и Retention curve"
   ]
  },
  {
   "cell_type": "code",
   "execution_count": 28,
   "metadata": {},
   "outputs": [],
   "source": [
    "# Объявим функцию для построения когортного анализа\n",
    "def cohort_analysis(data, ids_col, target_col, period='M'):\n",
    "    \"\"\"Функция для построения когортного анализа.\n",
    "    Рассчитывает коэффициент удержания клиентов (Retention Rate) и\n",
    "    возвращает матрицу когорт с временным интервалом. \n",
    "    \n",
    "    Параметры\n",
    "    ---------\n",
    "    data: pandas DataFrame\n",
    "        Датасет\n",
    "    ids_col: str\n",
    "        Поле с id клиентов/пользователей. Тип данных: object, int64\n",
    "    target_col: str\n",
    "        Поле с датой покупки/регистрации и т.п. Тип данных datetime64[ns]\n",
    "    period: str\n",
    "        Поле с указание периода когорты: 'M' - месяц, 'W' - неделя.\n",
    "        Дефолтное значение 'M'. Тип данных str\n",
    "    \"\"\"\n",
    "    # создается промежуточный датасет, чтобы не изменять изначальный датасет\n",
    "    df = data[[ids_col]]\n",
    "    \n",
    "    # создается дополнительный столбец с периодом целевого действия\n",
    "    df['order_period'] = data[target_col].dt.to_period(period)\n",
    "    \n",
    "    # формируется когорта с наименьшей датой совершения целевого действия пользователем\n",
    "    df['cohort'] = data.groupby(ids_col)[target_col].transform('min').dt.to_period(period)\n",
    "    \n",
    "    # рассчитывается количество уникальных пользователей в каждой группе\n",
    "    df_cohort = df.groupby(['cohort', 'order_period'], as_index=False).agg(n_customers=(ids_col, 'nunique'))\n",
    "    \n",
    "    # рассчитывается период между когортой и периодом совершения целевого действия\n",
    "    df_cohort['period_number'] = (df_cohort.order_period - df_cohort.cohort).apply(attrgetter('n'))\n",
    "    \n",
    "    # создается сводная таблица по рассчитанным показателям\n",
    "    cohort_pivot = df_cohort.pivot_table(index='cohort', columns='period_number', values='n_customers')\n",
    "    \n",
    "    # переменная с размером когорты\n",
    "    cohort_size = cohort_pivot.iloc[:, 0]\n",
    "    \n",
    "    # рассчитывается коэффициент удержания клиентов\n",
    "    matrix = cohort_pivot.divide(cohort_size, axis = 0)\n",
    "     \n",
    "    # задает цветовое форматирование и заголовок\n",
    "    retention_matrix = (matrix\n",
    "            .style\n",
    "            .set_caption('Коэффициент удержания клиентов по кагортам')\n",
    "            .background_gradient(cmap='viridis')\n",
    "            .highlight_null('white')\n",
    "            .format(\"{:.2%}\", na_rep=''))\n",
    "    \n",
    "    return retention_matrix"
   ]
  },
  {
   "cell_type": "code",
   "execution_count": 29,
   "metadata": {},
   "outputs": [
    {
     "data": {
      "text/html": [
       "<style  type=\"text/css\" >\n",
       "#T_f0cc8e31_9b2a_11ec_ba93_30c9ab3407carow0_col0,#T_f0cc8e31_9b2a_11ec_ba93_30c9ab3407carow0_col2,#T_f0cc8e31_9b2a_11ec_ba93_30c9ab3407carow0_col3,#T_f0cc8e31_9b2a_11ec_ba93_30c9ab3407carow1_col0,#T_f0cc8e31_9b2a_11ec_ba93_30c9ab3407carow1_col1,#T_f0cc8e31_9b2a_11ec_ba93_30c9ab3407carow2_col0,#T_f0cc8e31_9b2a_11ec_ba93_30c9ab3407carow3_col0{\n",
       "            background-color:  #440154;\n",
       "            color:  #f1f1f1;\n",
       "        }#T_f0cc8e31_9b2a_11ec_ba93_30c9ab3407carow0_col1{\n",
       "            background-color:  #22a884;\n",
       "            color:  #000000;\n",
       "        }#T_f0cc8e31_9b2a_11ec_ba93_30c9ab3407carow1_col2,#T_f0cc8e31_9b2a_11ec_ba93_30c9ab3407carow2_col1{\n",
       "            background-color:  #fde725;\n",
       "            color:  #000000;\n",
       "        }#T_f0cc8e31_9b2a_11ec_ba93_30c9ab3407carow1_col3,#T_f0cc8e31_9b2a_11ec_ba93_30c9ab3407carow2_col3,#T_f0cc8e31_9b2a_11ec_ba93_30c9ab3407carow3_col3{\n",
       "            background-color:  #440154;\n",
       "            color:  #f1f1f1;\n",
       "            background-color:  white;\n",
       "        }#T_f0cc8e31_9b2a_11ec_ba93_30c9ab3407carow2_col2,#T_f0cc8e31_9b2a_11ec_ba93_30c9ab3407carow3_col1,#T_f0cc8e31_9b2a_11ec_ba93_30c9ab3407carow3_col2{\n",
       "            background-color:  #000000;\n",
       "            color:  #f1f1f1;\n",
       "            background-color:  white;\n",
       "        }</style><table id=\"T_f0cc8e31_9b2a_11ec_ba93_30c9ab3407ca\" ><caption>Коэффициент удержания клиентов по кагортам</caption><thead>    <tr>        <th class=\"index_name level0\" >period_number</th>        <th class=\"col_heading level0 col0\" >0</th>        <th class=\"col_heading level0 col1\" >1</th>        <th class=\"col_heading level0 col2\" >2</th>        <th class=\"col_heading level0 col3\" >3</th>    </tr>    <tr>        <th class=\"index_name level0\" >cohort</th>        <th class=\"blank\" ></th>        <th class=\"blank\" ></th>        <th class=\"blank\" ></th>        <th class=\"blank\" ></th>    </tr></thead><tbody>\n",
       "                <tr>\n",
       "                        <th id=\"T_f0cc8e31_9b2a_11ec_ba93_30c9ab3407calevel0_row0\" class=\"row_heading level0 row0\" >2021-08</th>\n",
       "                        <td id=\"T_f0cc8e31_9b2a_11ec_ba93_30c9ab3407carow0_col0\" class=\"data row0 col0\" >100.00%</td>\n",
       "                        <td id=\"T_f0cc8e31_9b2a_11ec_ba93_30c9ab3407carow0_col1\" class=\"data row0 col1\" >38.32%</td>\n",
       "                        <td id=\"T_f0cc8e31_9b2a_11ec_ba93_30c9ab3407carow0_col2\" class=\"data row0 col2\" >20.36%</td>\n",
       "                        <td id=\"T_f0cc8e31_9b2a_11ec_ba93_30c9ab3407carow0_col3\" class=\"data row0 col3\" >18.56%</td>\n",
       "            </tr>\n",
       "            <tr>\n",
       "                        <th id=\"T_f0cc8e31_9b2a_11ec_ba93_30c9ab3407calevel0_row1\" class=\"row_heading level0 row1\" >2021-09</th>\n",
       "                        <td id=\"T_f0cc8e31_9b2a_11ec_ba93_30c9ab3407carow1_col0\" class=\"data row1 col0\" >100.00%</td>\n",
       "                        <td id=\"T_f0cc8e31_9b2a_11ec_ba93_30c9ab3407carow1_col1\" class=\"data row1 col1\" >35.64%</td>\n",
       "                        <td id=\"T_f0cc8e31_9b2a_11ec_ba93_30c9ab3407carow1_col2\" class=\"data row1 col2\" >21.45%</td>\n",
       "                        <td id=\"T_f0cc8e31_9b2a_11ec_ba93_30c9ab3407carow1_col3\" class=\"data row1 col3\" ></td>\n",
       "            </tr>\n",
       "            <tr>\n",
       "                        <th id=\"T_f0cc8e31_9b2a_11ec_ba93_30c9ab3407calevel0_row2\" class=\"row_heading level0 row2\" >2021-10</th>\n",
       "                        <td id=\"T_f0cc8e31_9b2a_11ec_ba93_30c9ab3407carow2_col0\" class=\"data row2 col0\" >100.00%</td>\n",
       "                        <td id=\"T_f0cc8e31_9b2a_11ec_ba93_30c9ab3407carow2_col1\" class=\"data row2 col1\" >40.13%</td>\n",
       "                        <td id=\"T_f0cc8e31_9b2a_11ec_ba93_30c9ab3407carow2_col2\" class=\"data row2 col2\" ></td>\n",
       "                        <td id=\"T_f0cc8e31_9b2a_11ec_ba93_30c9ab3407carow2_col3\" class=\"data row2 col3\" ></td>\n",
       "            </tr>\n",
       "            <tr>\n",
       "                        <th id=\"T_f0cc8e31_9b2a_11ec_ba93_30c9ab3407calevel0_row3\" class=\"row_heading level0 row3\" >2021-11</th>\n",
       "                        <td id=\"T_f0cc8e31_9b2a_11ec_ba93_30c9ab3407carow3_col0\" class=\"data row3 col0\" >100.00%</td>\n",
       "                        <td id=\"T_f0cc8e31_9b2a_11ec_ba93_30c9ab3407carow3_col1\" class=\"data row3 col1\" ></td>\n",
       "                        <td id=\"T_f0cc8e31_9b2a_11ec_ba93_30c9ab3407carow3_col2\" class=\"data row3 col2\" ></td>\n",
       "                        <td id=\"T_f0cc8e31_9b2a_11ec_ba93_30c9ab3407carow3_col3\" class=\"data row3 col3\" ></td>\n",
       "            </tr>\n",
       "    </tbody></table>"
      ],
      "text/plain": [
       "<pandas.io.formats.style.Styler at 0x206cb893310>"
      ]
     },
     "execution_count": 29,
     "metadata": {},
     "output_type": "execute_result"
    }
   ],
   "source": [
    "# Строим когортный анализ для наших данных по месяцам\n",
    "cohort_analysis(df, 'user_id', 'created_at')"
   ]
  },
  {
   "cell_type": "markdown",
   "metadata": {},
   "source": [
    "### Выводы\n",
    "\n",
    "**Из итоговой матрицы видно, что в последующие месяцы после первой покупки, происходит снижение повторных покупок клиентами. При этом заметен рост числа повторных покупок пользователями из когорты 2021-10 г.**"
   ]
  },
  {
   "cell_type": "code",
   "execution_count": 30,
   "metadata": {},
   "outputs": [
    {
     "data": {
      "text/html": [
       "<style  type=\"text/css\" >\n",
       "#T_f0db50c7_9b2a_11ec_9725_30c9ab3407carow0_col0,#T_f0db50c7_9b2a_11ec_9725_30c9ab3407carow0_col10,#T_f0db50c7_9b2a_11ec_9725_30c9ab3407carow0_col15,#T_f0db50c7_9b2a_11ec_9725_30c9ab3407carow1_col0,#T_f0db50c7_9b2a_11ec_9725_30c9ab3407carow1_col12,#T_f0db50c7_9b2a_11ec_9725_30c9ab3407carow1_col14,#T_f0db50c7_9b2a_11ec_9725_30c9ab3407carow2_col0,#T_f0db50c7_9b2a_11ec_9725_30c9ab3407carow2_col13,#T_f0db50c7_9b2a_11ec_9725_30c9ab3407carow3_col0,#T_f0db50c7_9b2a_11ec_9725_30c9ab3407carow3_col12,#T_f0db50c7_9b2a_11ec_9725_30c9ab3407carow4_col0,#T_f0db50c7_9b2a_11ec_9725_30c9ab3407carow4_col11,#T_f0db50c7_9b2a_11ec_9725_30c9ab3407carow5_col0,#T_f0db50c7_9b2a_11ec_9725_30c9ab3407carow5_col1,#T_f0db50c7_9b2a_11ec_9725_30c9ab3407carow5_col2,#T_f0db50c7_9b2a_11ec_9725_30c9ab3407carow5_col3,#T_f0db50c7_9b2a_11ec_9725_30c9ab3407carow5_col5,#T_f0db50c7_9b2a_11ec_9725_30c9ab3407carow5_col6,#T_f0db50c7_9b2a_11ec_9725_30c9ab3407carow5_col7,#T_f0db50c7_9b2a_11ec_9725_30c9ab3407carow5_col9,#T_f0db50c7_9b2a_11ec_9725_30c9ab3407carow6_col0,#T_f0db50c7_9b2a_11ec_9725_30c9ab3407carow7_col0,#T_f0db50c7_9b2a_11ec_9725_30c9ab3407carow7_col8,#T_f0db50c7_9b2a_11ec_9725_30c9ab3407carow8_col0,#T_f0db50c7_9b2a_11ec_9725_30c9ab3407carow9_col0,#T_f0db50c7_9b2a_11ec_9725_30c9ab3407carow10_col0,#T_f0db50c7_9b2a_11ec_9725_30c9ab3407carow11_col0,#T_f0db50c7_9b2a_11ec_9725_30c9ab3407carow11_col4,#T_f0db50c7_9b2a_11ec_9725_30c9ab3407carow12_col0,#T_f0db50c7_9b2a_11ec_9725_30c9ab3407carow13_col0,#T_f0db50c7_9b2a_11ec_9725_30c9ab3407carow14_col0,#T_f0db50c7_9b2a_11ec_9725_30c9ab3407carow15_col0{\n",
       "            background-color:  #440154;\n",
       "            color:  #f1f1f1;\n",
       "        }#T_f0db50c7_9b2a_11ec_9725_30c9ab3407carow0_col1{\n",
       "            background-color:  #5ac864;\n",
       "            color:  #000000;\n",
       "        }#T_f0db50c7_9b2a_11ec_9725_30c9ab3407carow0_col2{\n",
       "            background-color:  #f8e621;\n",
       "            color:  #000000;\n",
       "        }#T_f0db50c7_9b2a_11ec_9725_30c9ab3407carow0_col3,#T_f0db50c7_9b2a_11ec_9725_30c9ab3407carow9_col3{\n",
       "            background-color:  #63cb5f;\n",
       "            color:  #000000;\n",
       "        }#T_f0db50c7_9b2a_11ec_9725_30c9ab3407carow0_col4,#T_f0db50c7_9b2a_11ec_9725_30c9ab3407carow2_col3,#T_f0db50c7_9b2a_11ec_9725_30c9ab3407carow9_col2,#T_f0db50c7_9b2a_11ec_9725_30c9ab3407carow11_col3{\n",
       "            background-color:  #2db27d;\n",
       "            color:  #000000;\n",
       "        }#T_f0db50c7_9b2a_11ec_9725_30c9ab3407carow0_col5,#T_f0db50c7_9b2a_11ec_9725_30c9ab3407carow0_col7,#T_f0db50c7_9b2a_11ec_9725_30c9ab3407carow0_col11,#T_f0db50c7_9b2a_11ec_9725_30c9ab3407carow0_col12,#T_f0db50c7_9b2a_11ec_9725_30c9ab3407carow0_col13,#T_f0db50c7_9b2a_11ec_9725_30c9ab3407carow0_col14,#T_f0db50c7_9b2a_11ec_9725_30c9ab3407carow4_col3,#T_f0db50c7_9b2a_11ec_9725_30c9ab3407carow4_col9,#T_f0db50c7_9b2a_11ec_9725_30c9ab3407carow4_col10,#T_f0db50c7_9b2a_11ec_9725_30c9ab3407carow6_col1,#T_f0db50c7_9b2a_11ec_9725_30c9ab3407carow6_col8,#T_f0db50c7_9b2a_11ec_9725_30c9ab3407carow7_col4,#T_f0db50c7_9b2a_11ec_9725_30c9ab3407carow8_col3,#T_f0db50c7_9b2a_11ec_9725_30c9ab3407carow8_col6,#T_f0db50c7_9b2a_11ec_9725_30c9ab3407carow10_col2{\n",
       "            background-color:  #fde725;\n",
       "            color:  #000000;\n",
       "        }#T_f0db50c7_9b2a_11ec_9725_30c9ab3407carow0_col6,#T_f0db50c7_9b2a_11ec_9725_30c9ab3407carow6_col5{\n",
       "            background-color:  #65cb5e;\n",
       "            color:  #000000;\n",
       "        }#T_f0db50c7_9b2a_11ec_9725_30c9ab3407carow0_col8{\n",
       "            background-color:  #1e9b8a;\n",
       "            color:  #000000;\n",
       "        }#T_f0db50c7_9b2a_11ec_9725_30c9ab3407carow0_col9,#T_f0db50c7_9b2a_11ec_9725_30c9ab3407carow3_col9,#T_f0db50c7_9b2a_11ec_9725_30c9ab3407carow10_col3{\n",
       "            background-color:  #a8db34;\n",
       "            color:  #000000;\n",
       "        }#T_f0db50c7_9b2a_11ec_9725_30c9ab3407carow1_col1,#T_f0db50c7_9b2a_11ec_9725_30c9ab3407carow1_col8,#T_f0db50c7_9b2a_11ec_9725_30c9ab3407carow2_col7{\n",
       "            background-color:  #482979;\n",
       "            color:  #f1f1f1;\n",
       "        }#T_f0db50c7_9b2a_11ec_9725_30c9ab3407carow1_col2{\n",
       "            background-color:  #3d4d8a;\n",
       "            color:  #f1f1f1;\n",
       "        }#T_f0db50c7_9b2a_11ec_9725_30c9ab3407carow1_col3{\n",
       "            background-color:  #3b528b;\n",
       "            color:  #f1f1f1;\n",
       "        }#T_f0db50c7_9b2a_11ec_9725_30c9ab3407carow1_col4{\n",
       "            background-color:  #2f6b8e;\n",
       "            color:  #f1f1f1;\n",
       "        }#T_f0db50c7_9b2a_11ec_9725_30c9ab3407carow1_col5{\n",
       "            background-color:  #3e4c8a;\n",
       "            color:  #f1f1f1;\n",
       "        }#T_f0db50c7_9b2a_11ec_9725_30c9ab3407carow1_col6{\n",
       "            background-color:  #46307e;\n",
       "            color:  #f1f1f1;\n",
       "        }#T_f0db50c7_9b2a_11ec_9725_30c9ab3407carow1_col7,#T_f0db50c7_9b2a_11ec_9725_30c9ab3407carow13_col2{\n",
       "            background-color:  #481b6d;\n",
       "            color:  #f1f1f1;\n",
       "        }#T_f0db50c7_9b2a_11ec_9725_30c9ab3407carow1_col9{\n",
       "            background-color:  #443b84;\n",
       "            color:  #f1f1f1;\n",
       "        }#T_f0db50c7_9b2a_11ec_9725_30c9ab3407carow1_col10{\n",
       "            background-color:  #23888e;\n",
       "            color:  #000000;\n",
       "        }#T_f0db50c7_9b2a_11ec_9725_30c9ab3407carow1_col11{\n",
       "            background-color:  #424186;\n",
       "            color:  #f1f1f1;\n",
       "        }#T_f0db50c7_9b2a_11ec_9725_30c9ab3407carow1_col13,#T_f0db50c7_9b2a_11ec_9725_30c9ab3407carow12_col2{\n",
       "            background-color:  #29798e;\n",
       "            color:  #000000;\n",
       "        }#T_f0db50c7_9b2a_11ec_9725_30c9ab3407carow1_col15,#T_f0db50c7_9b2a_11ec_9725_30c9ab3407carow2_col15,#T_f0db50c7_9b2a_11ec_9725_30c9ab3407carow3_col15,#T_f0db50c7_9b2a_11ec_9725_30c9ab3407carow4_col15,#T_f0db50c7_9b2a_11ec_9725_30c9ab3407carow5_col15,#T_f0db50c7_9b2a_11ec_9725_30c9ab3407carow6_col15,#T_f0db50c7_9b2a_11ec_9725_30c9ab3407carow7_col15,#T_f0db50c7_9b2a_11ec_9725_30c9ab3407carow8_col15,#T_f0db50c7_9b2a_11ec_9725_30c9ab3407carow9_col15,#T_f0db50c7_9b2a_11ec_9725_30c9ab3407carow10_col15,#T_f0db50c7_9b2a_11ec_9725_30c9ab3407carow11_col15,#T_f0db50c7_9b2a_11ec_9725_30c9ab3407carow12_col15,#T_f0db50c7_9b2a_11ec_9725_30c9ab3407carow13_col15,#T_f0db50c7_9b2a_11ec_9725_30c9ab3407carow14_col15,#T_f0db50c7_9b2a_11ec_9725_30c9ab3407carow15_col15{\n",
       "            background-color:  #440154;\n",
       "            color:  #f1f1f1;\n",
       "            background-color:  white;\n",
       "        }#T_f0db50c7_9b2a_11ec_9725_30c9ab3407carow2_col1{\n",
       "            background-color:  #23898e;\n",
       "            color:  #000000;\n",
       "        }#T_f0db50c7_9b2a_11ec_9725_30c9ab3407carow2_col2{\n",
       "            background-color:  #22a884;\n",
       "            color:  #000000;\n",
       "        }#T_f0db50c7_9b2a_11ec_9725_30c9ab3407carow2_col4{\n",
       "            background-color:  #471365;\n",
       "            color:  #f1f1f1;\n",
       "        }#T_f0db50c7_9b2a_11ec_9725_30c9ab3407carow2_col5{\n",
       "            background-color:  #3e4989;\n",
       "            color:  #f1f1f1;\n",
       "        }#T_f0db50c7_9b2a_11ec_9725_30c9ab3407carow2_col6{\n",
       "            background-color:  #31b57b;\n",
       "            color:  #000000;\n",
       "        }#T_f0db50c7_9b2a_11ec_9725_30c9ab3407carow2_col8{\n",
       "            background-color:  #404588;\n",
       "            color:  #f1f1f1;\n",
       "        }#T_f0db50c7_9b2a_11ec_9725_30c9ab3407carow2_col9{\n",
       "            background-color:  #228d8d;\n",
       "            color:  #000000;\n",
       "        }#T_f0db50c7_9b2a_11ec_9725_30c9ab3407carow2_col10{\n",
       "            background-color:  #38588c;\n",
       "            color:  #f1f1f1;\n",
       "        }#T_f0db50c7_9b2a_11ec_9725_30c9ab3407carow2_col11{\n",
       "            background-color:  #1fa088;\n",
       "            color:  #000000;\n",
       "        }#T_f0db50c7_9b2a_11ec_9725_30c9ab3407carow2_col12,#T_f0db50c7_9b2a_11ec_9725_30c9ab3407carow4_col8{\n",
       "            background-color:  #73d056;\n",
       "            color:  #000000;\n",
       "        }#T_f0db50c7_9b2a_11ec_9725_30c9ab3407carow2_col14,#T_f0db50c7_9b2a_11ec_9725_30c9ab3407carow3_col13,#T_f0db50c7_9b2a_11ec_9725_30c9ab3407carow3_col14,#T_f0db50c7_9b2a_11ec_9725_30c9ab3407carow4_col12,#T_f0db50c7_9b2a_11ec_9725_30c9ab3407carow4_col13,#T_f0db50c7_9b2a_11ec_9725_30c9ab3407carow4_col14,#T_f0db50c7_9b2a_11ec_9725_30c9ab3407carow5_col10,#T_f0db50c7_9b2a_11ec_9725_30c9ab3407carow5_col11,#T_f0db50c7_9b2a_11ec_9725_30c9ab3407carow5_col12,#T_f0db50c7_9b2a_11ec_9725_30c9ab3407carow5_col13,#T_f0db50c7_9b2a_11ec_9725_30c9ab3407carow5_col14,#T_f0db50c7_9b2a_11ec_9725_30c9ab3407carow6_col10,#T_f0db50c7_9b2a_11ec_9725_30c9ab3407carow6_col11,#T_f0db50c7_9b2a_11ec_9725_30c9ab3407carow6_col12,#T_f0db50c7_9b2a_11ec_9725_30c9ab3407carow6_col13,#T_f0db50c7_9b2a_11ec_9725_30c9ab3407carow6_col14,#T_f0db50c7_9b2a_11ec_9725_30c9ab3407carow7_col9,#T_f0db50c7_9b2a_11ec_9725_30c9ab3407carow7_col10,#T_f0db50c7_9b2a_11ec_9725_30c9ab3407carow7_col11,#T_f0db50c7_9b2a_11ec_9725_30c9ab3407carow7_col12,#T_f0db50c7_9b2a_11ec_9725_30c9ab3407carow7_col13,#T_f0db50c7_9b2a_11ec_9725_30c9ab3407carow7_col14,#T_f0db50c7_9b2a_11ec_9725_30c9ab3407carow8_col8,#T_f0db50c7_9b2a_11ec_9725_30c9ab3407carow8_col9,#T_f0db50c7_9b2a_11ec_9725_30c9ab3407carow8_col10,#T_f0db50c7_9b2a_11ec_9725_30c9ab3407carow8_col11,#T_f0db50c7_9b2a_11ec_9725_30c9ab3407carow8_col12,#T_f0db50c7_9b2a_11ec_9725_30c9ab3407carow8_col13,#T_f0db50c7_9b2a_11ec_9725_30c9ab3407carow8_col14,#T_f0db50c7_9b2a_11ec_9725_30c9ab3407carow9_col7,#T_f0db50c7_9b2a_11ec_9725_30c9ab3407carow9_col8,#T_f0db50c7_9b2a_11ec_9725_30c9ab3407carow9_col9,#T_f0db50c7_9b2a_11ec_9725_30c9ab3407carow9_col10,#T_f0db50c7_9b2a_11ec_9725_30c9ab3407carow9_col11,#T_f0db50c7_9b2a_11ec_9725_30c9ab3407carow9_col12,#T_f0db50c7_9b2a_11ec_9725_30c9ab3407carow9_col13,#T_f0db50c7_9b2a_11ec_9725_30c9ab3407carow9_col14,#T_f0db50c7_9b2a_11ec_9725_30c9ab3407carow10_col6,#T_f0db50c7_9b2a_11ec_9725_30c9ab3407carow10_col7,#T_f0db50c7_9b2a_11ec_9725_30c9ab3407carow10_col8,#T_f0db50c7_9b2a_11ec_9725_30c9ab3407carow10_col9,#T_f0db50c7_9b2a_11ec_9725_30c9ab3407carow10_col10,#T_f0db50c7_9b2a_11ec_9725_30c9ab3407carow10_col11,#T_f0db50c7_9b2a_11ec_9725_30c9ab3407carow10_col12,#T_f0db50c7_9b2a_11ec_9725_30c9ab3407carow10_col13,#T_f0db50c7_9b2a_11ec_9725_30c9ab3407carow10_col14,#T_f0db50c7_9b2a_11ec_9725_30c9ab3407carow11_col5,#T_f0db50c7_9b2a_11ec_9725_30c9ab3407carow11_col6,#T_f0db50c7_9b2a_11ec_9725_30c9ab3407carow11_col7,#T_f0db50c7_9b2a_11ec_9725_30c9ab3407carow11_col8,#T_f0db50c7_9b2a_11ec_9725_30c9ab3407carow11_col9,#T_f0db50c7_9b2a_11ec_9725_30c9ab3407carow11_col10,#T_f0db50c7_9b2a_11ec_9725_30c9ab3407carow11_col11,#T_f0db50c7_9b2a_11ec_9725_30c9ab3407carow11_col12,#T_f0db50c7_9b2a_11ec_9725_30c9ab3407carow11_col13,#T_f0db50c7_9b2a_11ec_9725_30c9ab3407carow11_col14,#T_f0db50c7_9b2a_11ec_9725_30c9ab3407carow12_col4,#T_f0db50c7_9b2a_11ec_9725_30c9ab3407carow12_col5,#T_f0db50c7_9b2a_11ec_9725_30c9ab3407carow12_col6,#T_f0db50c7_9b2a_11ec_9725_30c9ab3407carow12_col7,#T_f0db50c7_9b2a_11ec_9725_30c9ab3407carow12_col8,#T_f0db50c7_9b2a_11ec_9725_30c9ab3407carow12_col9,#T_f0db50c7_9b2a_11ec_9725_30c9ab3407carow12_col10,#T_f0db50c7_9b2a_11ec_9725_30c9ab3407carow12_col11,#T_f0db50c7_9b2a_11ec_9725_30c9ab3407carow12_col12,#T_f0db50c7_9b2a_11ec_9725_30c9ab3407carow12_col13,#T_f0db50c7_9b2a_11ec_9725_30c9ab3407carow12_col14,#T_f0db50c7_9b2a_11ec_9725_30c9ab3407carow13_col3,#T_f0db50c7_9b2a_11ec_9725_30c9ab3407carow13_col4,#T_f0db50c7_9b2a_11ec_9725_30c9ab3407carow13_col5,#T_f0db50c7_9b2a_11ec_9725_30c9ab3407carow13_col6,#T_f0db50c7_9b2a_11ec_9725_30c9ab3407carow13_col7,#T_f0db50c7_9b2a_11ec_9725_30c9ab3407carow13_col8,#T_f0db50c7_9b2a_11ec_9725_30c9ab3407carow13_col9,#T_f0db50c7_9b2a_11ec_9725_30c9ab3407carow13_col10,#T_f0db50c7_9b2a_11ec_9725_30c9ab3407carow13_col11,#T_f0db50c7_9b2a_11ec_9725_30c9ab3407carow13_col12,#T_f0db50c7_9b2a_11ec_9725_30c9ab3407carow13_col13,#T_f0db50c7_9b2a_11ec_9725_30c9ab3407carow13_col14,#T_f0db50c7_9b2a_11ec_9725_30c9ab3407carow14_col2,#T_f0db50c7_9b2a_11ec_9725_30c9ab3407carow14_col3,#T_f0db50c7_9b2a_11ec_9725_30c9ab3407carow14_col4,#T_f0db50c7_9b2a_11ec_9725_30c9ab3407carow14_col5,#T_f0db50c7_9b2a_11ec_9725_30c9ab3407carow14_col6,#T_f0db50c7_9b2a_11ec_9725_30c9ab3407carow14_col7,#T_f0db50c7_9b2a_11ec_9725_30c9ab3407carow14_col8,#T_f0db50c7_9b2a_11ec_9725_30c9ab3407carow14_col9,#T_f0db50c7_9b2a_11ec_9725_30c9ab3407carow14_col10,#T_f0db50c7_9b2a_11ec_9725_30c9ab3407carow14_col11,#T_f0db50c7_9b2a_11ec_9725_30c9ab3407carow14_col12,#T_f0db50c7_9b2a_11ec_9725_30c9ab3407carow14_col13,#T_f0db50c7_9b2a_11ec_9725_30c9ab3407carow14_col14,#T_f0db50c7_9b2a_11ec_9725_30c9ab3407carow15_col1,#T_f0db50c7_9b2a_11ec_9725_30c9ab3407carow15_col2,#T_f0db50c7_9b2a_11ec_9725_30c9ab3407carow15_col3,#T_f0db50c7_9b2a_11ec_9725_30c9ab3407carow15_col4,#T_f0db50c7_9b2a_11ec_9725_30c9ab3407carow15_col5,#T_f0db50c7_9b2a_11ec_9725_30c9ab3407carow15_col6,#T_f0db50c7_9b2a_11ec_9725_30c9ab3407carow15_col7,#T_f0db50c7_9b2a_11ec_9725_30c9ab3407carow15_col8,#T_f0db50c7_9b2a_11ec_9725_30c9ab3407carow15_col9,#T_f0db50c7_9b2a_11ec_9725_30c9ab3407carow15_col10,#T_f0db50c7_9b2a_11ec_9725_30c9ab3407carow15_col11,#T_f0db50c7_9b2a_11ec_9725_30c9ab3407carow15_col12,#T_f0db50c7_9b2a_11ec_9725_30c9ab3407carow15_col13,#T_f0db50c7_9b2a_11ec_9725_30c9ab3407carow15_col14{\n",
       "            background-color:  #000000;\n",
       "            color:  #f1f1f1;\n",
       "            background-color:  white;\n",
       "        }#T_f0db50c7_9b2a_11ec_9725_30c9ab3407carow3_col1{\n",
       "            background-color:  #2cb17e;\n",
       "            color:  #000000;\n",
       "        }#T_f0db50c7_9b2a_11ec_9725_30c9ab3407carow3_col2,#T_f0db50c7_9b2a_11ec_9725_30c9ab3407carow3_col4{\n",
       "            background-color:  #20928c;\n",
       "            color:  #000000;\n",
       "        }#T_f0db50c7_9b2a_11ec_9725_30c9ab3407carow3_col3,#T_f0db50c7_9b2a_11ec_9725_30c9ab3407carow6_col4{\n",
       "            background-color:  #84d44b;\n",
       "            color:  #000000;\n",
       "        }#T_f0db50c7_9b2a_11ec_9725_30c9ab3407carow3_col5{\n",
       "            background-color:  #25858e;\n",
       "            color:  #000000;\n",
       "        }#T_f0db50c7_9b2a_11ec_9725_30c9ab3407carow3_col6{\n",
       "            background-color:  #5ec962;\n",
       "            color:  #000000;\n",
       "        }#T_f0db50c7_9b2a_11ec_9725_30c9ab3407carow3_col7,#T_f0db50c7_9b2a_11ec_9725_30c9ab3407carow7_col7{\n",
       "            background-color:  #addc30;\n",
       "            color:  #000000;\n",
       "        }#T_f0db50c7_9b2a_11ec_9725_30c9ab3407carow3_col8{\n",
       "            background-color:  #34608d;\n",
       "            color:  #f1f1f1;\n",
       "        }#T_f0db50c7_9b2a_11ec_9725_30c9ab3407carow3_col10{\n",
       "            background-color:  #50c46a;\n",
       "            color:  #000000;\n",
       "        }#T_f0db50c7_9b2a_11ec_9725_30c9ab3407carow3_col11{\n",
       "            background-color:  #7ad151;\n",
       "            color:  #000000;\n",
       "        }#T_f0db50c7_9b2a_11ec_9725_30c9ab3407carow4_col1,#T_f0db50c7_9b2a_11ec_9725_30c9ab3407carow10_col5{\n",
       "            background-color:  #355f8d;\n",
       "            color:  #f1f1f1;\n",
       "        }#T_f0db50c7_9b2a_11ec_9725_30c9ab3407carow4_col2{\n",
       "            background-color:  #31678e;\n",
       "            color:  #f1f1f1;\n",
       "        }#T_f0db50c7_9b2a_11ec_9725_30c9ab3407carow4_col4{\n",
       "            background-color:  #297a8e;\n",
       "            color:  #000000;\n",
       "        }#T_f0db50c7_9b2a_11ec_9725_30c9ab3407carow4_col5,#T_f0db50c7_9b2a_11ec_9725_30c9ab3407carow13_col1{\n",
       "            background-color:  #a5db36;\n",
       "            color:  #000000;\n",
       "        }#T_f0db50c7_9b2a_11ec_9725_30c9ab3407carow4_col6{\n",
       "            background-color:  #90d743;\n",
       "            color:  #000000;\n",
       "        }#T_f0db50c7_9b2a_11ec_9725_30c9ab3407carow4_col7{\n",
       "            background-color:  #35b779;\n",
       "            color:  #000000;\n",
       "        }#T_f0db50c7_9b2a_11ec_9725_30c9ab3407carow5_col4{\n",
       "            background-color:  #1f998a;\n",
       "            color:  #000000;\n",
       "        }#T_f0db50c7_9b2a_11ec_9725_30c9ab3407carow5_col8{\n",
       "            background-color:  #46085c;\n",
       "            color:  #f1f1f1;\n",
       "        }#T_f0db50c7_9b2a_11ec_9725_30c9ab3407carow6_col2,#T_f0db50c7_9b2a_11ec_9725_30c9ab3407carow7_col3{\n",
       "            background-color:  #4ec36b;\n",
       "            color:  #000000;\n",
       "        }#T_f0db50c7_9b2a_11ec_9725_30c9ab3407carow6_col3{\n",
       "            background-color:  #54c568;\n",
       "            color:  #000000;\n",
       "        }#T_f0db50c7_9b2a_11ec_9725_30c9ab3407carow6_col6{\n",
       "            background-color:  #fbe723;\n",
       "            color:  #000000;\n",
       "        }#T_f0db50c7_9b2a_11ec_9725_30c9ab3407carow6_col7{\n",
       "            background-color:  #86d549;\n",
       "            color:  #000000;\n",
       "        }#T_f0db50c7_9b2a_11ec_9725_30c9ab3407carow6_col9{\n",
       "            background-color:  #24868e;\n",
       "            color:  #000000;\n",
       "        }#T_f0db50c7_9b2a_11ec_9725_30c9ab3407carow7_col1,#T_f0db50c7_9b2a_11ec_9725_30c9ab3407carow7_col5,#T_f0db50c7_9b2a_11ec_9725_30c9ab3407carow11_col1{\n",
       "            background-color:  #3dbc74;\n",
       "            color:  #000000;\n",
       "        }#T_f0db50c7_9b2a_11ec_9725_30c9ab3407carow7_col2{\n",
       "            background-color:  #1f9e89;\n",
       "            color:  #000000;\n",
       "        }#T_f0db50c7_9b2a_11ec_9725_30c9ab3407carow7_col6{\n",
       "            background-color:  #f4e61e;\n",
       "            color:  #000000;\n",
       "        }#T_f0db50c7_9b2a_11ec_9725_30c9ab3407carow8_col1{\n",
       "            background-color:  #1fa188;\n",
       "            color:  #000000;\n",
       "        }#T_f0db50c7_9b2a_11ec_9725_30c9ab3407carow8_col2{\n",
       "            background-color:  #dde318;\n",
       "            color:  #000000;\n",
       "        }#T_f0db50c7_9b2a_11ec_9725_30c9ab3407carow8_col4{\n",
       "            background-color:  #b5de2b;\n",
       "            color:  #000000;\n",
       "        }#T_f0db50c7_9b2a_11ec_9725_30c9ab3407carow8_col5{\n",
       "            background-color:  #29af7f;\n",
       "            color:  #000000;\n",
       "        }#T_f0db50c7_9b2a_11ec_9725_30c9ab3407carow8_col7{\n",
       "            background-color:  #472c7a;\n",
       "            color:  #f1f1f1;\n",
       "        }#T_f0db50c7_9b2a_11ec_9725_30c9ab3407carow9_col1{\n",
       "            background-color:  #2fb47c;\n",
       "            color:  #000000;\n",
       "        }#T_f0db50c7_9b2a_11ec_9725_30c9ab3407carow9_col4{\n",
       "            background-color:  #32b67a;\n",
       "            color:  #000000;\n",
       "        }#T_f0db50c7_9b2a_11ec_9725_30c9ab3407carow9_col5{\n",
       "            background-color:  #1f988b;\n",
       "            color:  #000000;\n",
       "        }#T_f0db50c7_9b2a_11ec_9725_30c9ab3407carow9_col6{\n",
       "            background-color:  #3a538b;\n",
       "            color:  #f1f1f1;\n",
       "        }#T_f0db50c7_9b2a_11ec_9725_30c9ab3407carow10_col1{\n",
       "            background-color:  #69cd5b;\n",
       "            color:  #000000;\n",
       "        }#T_f0db50c7_9b2a_11ec_9725_30c9ab3407carow10_col4{\n",
       "            background-color:  #42be71;\n",
       "            color:  #000000;\n",
       "        }#T_f0db50c7_9b2a_11ec_9725_30c9ab3407carow11_col2{\n",
       "            background-color:  #1f9a8a;\n",
       "            color:  #000000;\n",
       "        }#T_f0db50c7_9b2a_11ec_9725_30c9ab3407carow12_col1{\n",
       "            background-color:  #2e6f8e;\n",
       "            color:  #f1f1f1;\n",
       "        }#T_f0db50c7_9b2a_11ec_9725_30c9ab3407carow12_col3{\n",
       "            background-color:  #306a8e;\n",
       "            color:  #f1f1f1;\n",
       "        }#T_f0db50c7_9b2a_11ec_9725_30c9ab3407carow14_col1{\n",
       "            background-color:  #440256;\n",
       "            color:  #f1f1f1;\n",
       "        }</style><table id=\"T_f0db50c7_9b2a_11ec_9725_30c9ab3407ca\" ><caption>Коэффициент удержания клиентов по кагортам</caption><thead>    <tr>        <th class=\"index_name level0\" >period_number</th>        <th class=\"col_heading level0 col0\" >0</th>        <th class=\"col_heading level0 col1\" >1</th>        <th class=\"col_heading level0 col2\" >2</th>        <th class=\"col_heading level0 col3\" >3</th>        <th class=\"col_heading level0 col4\" >4</th>        <th class=\"col_heading level0 col5\" >5</th>        <th class=\"col_heading level0 col6\" >6</th>        <th class=\"col_heading level0 col7\" >7</th>        <th class=\"col_heading level0 col8\" >8</th>        <th class=\"col_heading level0 col9\" >9</th>        <th class=\"col_heading level0 col10\" >10</th>        <th class=\"col_heading level0 col11\" >11</th>        <th class=\"col_heading level0 col12\" >12</th>        <th class=\"col_heading level0 col13\" >13</th>        <th class=\"col_heading level0 col14\" >14</th>        <th class=\"col_heading level0 col15\" >15</th>    </tr>    <tr>        <th class=\"index_name level0\" >cohort</th>        <th class=\"blank\" ></th>        <th class=\"blank\" ></th>        <th class=\"blank\" ></th>        <th class=\"blank\" ></th>        <th class=\"blank\" ></th>        <th class=\"blank\" ></th>        <th class=\"blank\" ></th>        <th class=\"blank\" ></th>        <th class=\"blank\" ></th>        <th class=\"blank\" ></th>        <th class=\"blank\" ></th>        <th class=\"blank\" ></th>        <th class=\"blank\" ></th>        <th class=\"blank\" ></th>        <th class=\"blank\" ></th>        <th class=\"blank\" ></th>    </tr></thead><tbody>\n",
       "                <tr>\n",
       "                        <th id=\"T_f0db50c7_9b2a_11ec_9725_30c9ab3407calevel0_row0\" class=\"row_heading level0 row0\" >2021-08-16/2021-08-22</th>\n",
       "                        <td id=\"T_f0db50c7_9b2a_11ec_9725_30c9ab3407carow0_col0\" class=\"data row0 col0\" >100.00%</td>\n",
       "                        <td id=\"T_f0db50c7_9b2a_11ec_9725_30c9ab3407carow0_col1\" class=\"data row0 col1\" >26.98%</td>\n",
       "                        <td id=\"T_f0db50c7_9b2a_11ec_9725_30c9ab3407carow0_col2\" class=\"data row0 col2\" >30.16%</td>\n",
       "                        <td id=\"T_f0db50c7_9b2a_11ec_9725_30c9ab3407carow0_col3\" class=\"data row0 col3\" >22.22%</td>\n",
       "                        <td id=\"T_f0db50c7_9b2a_11ec_9725_30c9ab3407carow0_col4\" class=\"data row0 col4\" >19.05%</td>\n",
       "                        <td id=\"T_f0db50c7_9b2a_11ec_9725_30c9ab3407carow0_col5\" class=\"data row0 col5\" >25.40%</td>\n",
       "                        <td id=\"T_f0db50c7_9b2a_11ec_9725_30c9ab3407carow0_col6\" class=\"data row0 col6\" >17.46%</td>\n",
       "                        <td id=\"T_f0db50c7_9b2a_11ec_9725_30c9ab3407carow0_col7\" class=\"data row0 col7\" >20.63%</td>\n",
       "                        <td id=\"T_f0db50c7_9b2a_11ec_9725_30c9ab3407carow0_col8\" class=\"data row0 col8\" >14.29%</td>\n",
       "                        <td id=\"T_f0db50c7_9b2a_11ec_9725_30c9ab3407carow0_col9\" class=\"data row0 col9\" >11.11%</td>\n",
       "                        <td id=\"T_f0db50c7_9b2a_11ec_9725_30c9ab3407carow0_col10\" class=\"data row0 col10\" >3.17%</td>\n",
       "                        <td id=\"T_f0db50c7_9b2a_11ec_9725_30c9ab3407carow0_col11\" class=\"data row0 col11\" >11.11%</td>\n",
       "                        <td id=\"T_f0db50c7_9b2a_11ec_9725_30c9ab3407carow0_col12\" class=\"data row0 col12\" >7.94%</td>\n",
       "                        <td id=\"T_f0db50c7_9b2a_11ec_9725_30c9ab3407carow0_col13\" class=\"data row0 col13\" >11.11%</td>\n",
       "                        <td id=\"T_f0db50c7_9b2a_11ec_9725_30c9ab3407carow0_col14\" class=\"data row0 col14\" >9.52%</td>\n",
       "                        <td id=\"T_f0db50c7_9b2a_11ec_9725_30c9ab3407carow0_col15\" class=\"data row0 col15\" >1.59%</td>\n",
       "            </tr>\n",
       "            <tr>\n",
       "                        <th id=\"T_f0db50c7_9b2a_11ec_9725_30c9ab3407calevel0_row1\" class=\"row_heading level0 row1\" >2021-08-23/2021-08-29</th>\n",
       "                        <td id=\"T_f0db50c7_9b2a_11ec_9725_30c9ab3407carow1_col0\" class=\"data row1 col0\" >100.00%</td>\n",
       "                        <td id=\"T_f0db50c7_9b2a_11ec_9725_30c9ab3407carow1_col1\" class=\"data row1 col1\" >13.58%</td>\n",
       "                        <td id=\"T_f0db50c7_9b2a_11ec_9725_30c9ab3407carow1_col2\" class=\"data row1 col2\" >9.88%</td>\n",
       "                        <td id=\"T_f0db50c7_9b2a_11ec_9725_30c9ab3407carow1_col3\" class=\"data row1 col3\" >11.11%</td>\n",
       "                        <td id=\"T_f0db50c7_9b2a_11ec_9725_30c9ab3407carow1_col4\" class=\"data row1 col4\" >12.35%</td>\n",
       "                        <td id=\"T_f0db50c7_9b2a_11ec_9725_30c9ab3407carow1_col5\" class=\"data row1 col5\" >8.64%</td>\n",
       "                        <td id=\"T_f0db50c7_9b2a_11ec_9725_30c9ab3407carow1_col6\" class=\"data row1 col6\" >6.17%</td>\n",
       "                        <td id=\"T_f0db50c7_9b2a_11ec_9725_30c9ab3407carow1_col7\" class=\"data row1 col7\" >4.94%</td>\n",
       "                        <td id=\"T_f0db50c7_9b2a_11ec_9725_30c9ab3407carow1_col8\" class=\"data row1 col8\" >8.64%</td>\n",
       "                        <td id=\"T_f0db50c7_9b2a_11ec_9725_30c9ab3407carow1_col9\" class=\"data row1 col9\" >3.70%</td>\n",
       "                        <td id=\"T_f0db50c7_9b2a_11ec_9725_30c9ab3407carow1_col10\" class=\"data row1 col10\" >9.88%</td>\n",
       "                        <td id=\"T_f0db50c7_9b2a_11ec_9725_30c9ab3407carow1_col11\" class=\"data row1 col11\" >6.17%</td>\n",
       "                        <td id=\"T_f0db50c7_9b2a_11ec_9725_30c9ab3407carow1_col12\" class=\"data row1 col12\" >3.70%</td>\n",
       "                        <td id=\"T_f0db50c7_9b2a_11ec_9725_30c9ab3407carow1_col13\" class=\"data row1 col13\" >6.17%</td>\n",
       "                        <td id=\"T_f0db50c7_9b2a_11ec_9725_30c9ab3407carow1_col14\" class=\"data row1 col14\" >3.70%</td>\n",
       "                        <td id=\"T_f0db50c7_9b2a_11ec_9725_30c9ab3407carow1_col15\" class=\"data row1 col15\" ></td>\n",
       "            </tr>\n",
       "            <tr>\n",
       "                        <th id=\"T_f0db50c7_9b2a_11ec_9725_30c9ab3407calevel0_row2\" class=\"row_heading level0 row2\" >2021-08-30/2021-09-05</th>\n",
       "                        <td id=\"T_f0db50c7_9b2a_11ec_9725_30c9ab3407carow2_col0\" class=\"data row2 col0\" >100.00%</td>\n",
       "                        <td id=\"T_f0db50c7_9b2a_11ec_9725_30c9ab3407carow2_col1\" class=\"data row2 col1\" >21.13%</td>\n",
       "                        <td id=\"T_f0db50c7_9b2a_11ec_9725_30c9ab3407carow2_col2\" class=\"data row2 col2\" >19.72%</td>\n",
       "                        <td id=\"T_f0db50c7_9b2a_11ec_9725_30c9ab3407carow2_col3\" class=\"data row2 col3\" >19.72%</td>\n",
       "                        <td id=\"T_f0db50c7_9b2a_11ec_9725_30c9ab3407carow2_col4\" class=\"data row2 col4\" >5.63%</td>\n",
       "                        <td id=\"T_f0db50c7_9b2a_11ec_9725_30c9ab3407carow2_col5\" class=\"data row2 col5\" >8.45%</td>\n",
       "                        <td id=\"T_f0db50c7_9b2a_11ec_9725_30c9ab3407carow2_col6\" class=\"data row2 col6\" >15.49%</td>\n",
       "                        <td id=\"T_f0db50c7_9b2a_11ec_9725_30c9ab3407carow2_col7\" class=\"data row2 col7\" >5.63%</td>\n",
       "                        <td id=\"T_f0db50c7_9b2a_11ec_9725_30c9ab3407carow2_col8\" class=\"data row2 col8\" >9.86%</td>\n",
       "                        <td id=\"T_f0db50c7_9b2a_11ec_9725_30c9ab3407carow2_col9\" class=\"data row2 col9\" >7.04%</td>\n",
       "                        <td id=\"T_f0db50c7_9b2a_11ec_9725_30c9ab3407carow2_col10\" class=\"data row2 col10\" >7.04%</td>\n",
       "                        <td id=\"T_f0db50c7_9b2a_11ec_9725_30c9ab3407carow2_col11\" class=\"data row2 col11\" >8.45%</td>\n",
       "                        <td id=\"T_f0db50c7_9b2a_11ec_9725_30c9ab3407carow2_col12\" class=\"data row2 col12\" >7.04%</td>\n",
       "                        <td id=\"T_f0db50c7_9b2a_11ec_9725_30c9ab3407carow2_col13\" class=\"data row2 col13\" >2.82%</td>\n",
       "                        <td id=\"T_f0db50c7_9b2a_11ec_9725_30c9ab3407carow2_col14\" class=\"data row2 col14\" ></td>\n",
       "                        <td id=\"T_f0db50c7_9b2a_11ec_9725_30c9ab3407carow2_col15\" class=\"data row2 col15\" ></td>\n",
       "            </tr>\n",
       "            <tr>\n",
       "                        <th id=\"T_f0db50c7_9b2a_11ec_9725_30c9ab3407calevel0_row3\" class=\"row_heading level0 row3\" >2021-09-06/2021-09-12</th>\n",
       "                        <td id=\"T_f0db50c7_9b2a_11ec_9725_30c9ab3407carow3_col0\" class=\"data row3 col0\" >100.00%</td>\n",
       "                        <td id=\"T_f0db50c7_9b2a_11ec_9725_30c9ab3407carow3_col1\" class=\"data row3 col1\" >24.69%</td>\n",
       "                        <td id=\"T_f0db50c7_9b2a_11ec_9725_30c9ab3407carow3_col2\" class=\"data row3 col2\" >17.28%</td>\n",
       "                        <td id=\"T_f0db50c7_9b2a_11ec_9725_30c9ab3407carow3_col3\" class=\"data row3 col3\" >23.46%</td>\n",
       "                        <td id=\"T_f0db50c7_9b2a_11ec_9725_30c9ab3407carow3_col4\" class=\"data row3 col4\" >16.05%</td>\n",
       "                        <td id=\"T_f0db50c7_9b2a_11ec_9725_30c9ab3407carow3_col5\" class=\"data row3 col5\" >13.58%</td>\n",
       "                        <td id=\"T_f0db50c7_9b2a_11ec_9725_30c9ab3407carow3_col6\" class=\"data row3 col6\" >17.28%</td>\n",
       "                        <td id=\"T_f0db50c7_9b2a_11ec_9725_30c9ab3407carow3_col7\" class=\"data row3 col7\" >18.52%</td>\n",
       "                        <td id=\"T_f0db50c7_9b2a_11ec_9725_30c9ab3407carow3_col8\" class=\"data row3 col8\" >11.11%</td>\n",
       "                        <td id=\"T_f0db50c7_9b2a_11ec_9725_30c9ab3407carow3_col9\" class=\"data row3 col9\" >11.11%</td>\n",
       "                        <td id=\"T_f0db50c7_9b2a_11ec_9725_30c9ab3407carow3_col10\" class=\"data row3 col10\" >13.58%</td>\n",
       "                        <td id=\"T_f0db50c7_9b2a_11ec_9725_30c9ab3407carow3_col11\" class=\"data row3 col11\" >9.88%</td>\n",
       "                        <td id=\"T_f0db50c7_9b2a_11ec_9725_30c9ab3407carow3_col12\" class=\"data row3 col12\" >3.70%</td>\n",
       "                        <td id=\"T_f0db50c7_9b2a_11ec_9725_30c9ab3407carow3_col13\" class=\"data row3 col13\" ></td>\n",
       "                        <td id=\"T_f0db50c7_9b2a_11ec_9725_30c9ab3407carow3_col14\" class=\"data row3 col14\" ></td>\n",
       "                        <td id=\"T_f0db50c7_9b2a_11ec_9725_30c9ab3407carow3_col15\" class=\"data row3 col15\" ></td>\n",
       "            </tr>\n",
       "            <tr>\n",
       "                        <th id=\"T_f0db50c7_9b2a_11ec_9725_30c9ab3407calevel0_row4\" class=\"row_heading level0 row4\" >2021-09-13/2021-09-19</th>\n",
       "                        <td id=\"T_f0db50c7_9b2a_11ec_9725_30c9ab3407carow4_col0\" class=\"data row4 col0\" >100.00%</td>\n",
       "                        <td id=\"T_f0db50c7_9b2a_11ec_9725_30c9ab3407carow4_col1\" class=\"data row4 col1\" >17.50%</td>\n",
       "                        <td id=\"T_f0db50c7_9b2a_11ec_9725_30c9ab3407carow4_col2\" class=\"data row4 col2\" >12.50%</td>\n",
       "                        <td id=\"T_f0db50c7_9b2a_11ec_9725_30c9ab3407carow4_col3\" class=\"data row4 col3\" >27.50%</td>\n",
       "                        <td id=\"T_f0db50c7_9b2a_11ec_9725_30c9ab3407carow4_col4\" class=\"data row4 col4\" >13.75%</td>\n",
       "                        <td id=\"T_f0db50c7_9b2a_11ec_9725_30c9ab3407carow4_col5\" class=\"data row4 col5\" >22.50%</td>\n",
       "                        <td id=\"T_f0db50c7_9b2a_11ec_9725_30c9ab3407carow4_col6\" class=\"data row4 col6\" >18.75%</td>\n",
       "                        <td id=\"T_f0db50c7_9b2a_11ec_9725_30c9ab3407carow4_col7\" class=\"data row4 col7\" >15.00%</td>\n",
       "                        <td id=\"T_f0db50c7_9b2a_11ec_9725_30c9ab3407carow4_col8\" class=\"data row4 col8\" >17.50%</td>\n",
       "                        <td id=\"T_f0db50c7_9b2a_11ec_9725_30c9ab3407carow4_col9\" class=\"data row4 col9\" >12.50%</td>\n",
       "                        <td id=\"T_f0db50c7_9b2a_11ec_9725_30c9ab3407carow4_col10\" class=\"data row4 col10\" >17.50%</td>\n",
       "                        <td id=\"T_f0db50c7_9b2a_11ec_9725_30c9ab3407carow4_col11\" class=\"data row4 col11\" >5.00%</td>\n",
       "                        <td id=\"T_f0db50c7_9b2a_11ec_9725_30c9ab3407carow4_col12\" class=\"data row4 col12\" ></td>\n",
       "                        <td id=\"T_f0db50c7_9b2a_11ec_9725_30c9ab3407carow4_col13\" class=\"data row4 col13\" ></td>\n",
       "                        <td id=\"T_f0db50c7_9b2a_11ec_9725_30c9ab3407carow4_col14\" class=\"data row4 col14\" ></td>\n",
       "                        <td id=\"T_f0db50c7_9b2a_11ec_9725_30c9ab3407carow4_col15\" class=\"data row4 col15\" ></td>\n",
       "            </tr>\n",
       "            <tr>\n",
       "                        <th id=\"T_f0db50c7_9b2a_11ec_9725_30c9ab3407calevel0_row5\" class=\"row_heading level0 row5\" >2021-09-20/2021-09-26</th>\n",
       "                        <td id=\"T_f0db50c7_9b2a_11ec_9725_30c9ab3407carow5_col0\" class=\"data row5 col0\" >100.00%</td>\n",
       "                        <td id=\"T_f0db50c7_9b2a_11ec_9725_30c9ab3407carow5_col1\" class=\"data row5 col1\" >11.11%</td>\n",
       "                        <td id=\"T_f0db50c7_9b2a_11ec_9725_30c9ab3407carow5_col2\" class=\"data row5 col2\" >3.70%</td>\n",
       "                        <td id=\"T_f0db50c7_9b2a_11ec_9725_30c9ab3407carow5_col3\" class=\"data row5 col3\" >5.56%</td>\n",
       "                        <td id=\"T_f0db50c7_9b2a_11ec_9725_30c9ab3407carow5_col4\" class=\"data row5 col4\" >16.67%</td>\n",
       "                        <td id=\"T_f0db50c7_9b2a_11ec_9725_30c9ab3407carow5_col5\" class=\"data row5 col5\" >3.70%</td>\n",
       "                        <td id=\"T_f0db50c7_9b2a_11ec_9725_30c9ab3407carow5_col6\" class=\"data row5 col6\" >3.70%</td>\n",
       "                        <td id=\"T_f0db50c7_9b2a_11ec_9725_30c9ab3407carow5_col7\" class=\"data row5 col7\" >3.70%</td>\n",
       "                        <td id=\"T_f0db50c7_9b2a_11ec_9725_30c9ab3407carow5_col8\" class=\"data row5 col8\" >7.41%</td>\n",
       "                        <td id=\"T_f0db50c7_9b2a_11ec_9725_30c9ab3407carow5_col9\" class=\"data row5 col9\" >1.85%</td>\n",
       "                        <td id=\"T_f0db50c7_9b2a_11ec_9725_30c9ab3407carow5_col10\" class=\"data row5 col10\" ></td>\n",
       "                        <td id=\"T_f0db50c7_9b2a_11ec_9725_30c9ab3407carow5_col11\" class=\"data row5 col11\" ></td>\n",
       "                        <td id=\"T_f0db50c7_9b2a_11ec_9725_30c9ab3407carow5_col12\" class=\"data row5 col12\" ></td>\n",
       "                        <td id=\"T_f0db50c7_9b2a_11ec_9725_30c9ab3407carow5_col13\" class=\"data row5 col13\" ></td>\n",
       "                        <td id=\"T_f0db50c7_9b2a_11ec_9725_30c9ab3407carow5_col14\" class=\"data row5 col14\" ></td>\n",
       "                        <td id=\"T_f0db50c7_9b2a_11ec_9725_30c9ab3407carow5_col15\" class=\"data row5 col15\" ></td>\n",
       "            </tr>\n",
       "            <tr>\n",
       "                        <th id=\"T_f0db50c7_9b2a_11ec_9725_30c9ab3407calevel0_row6\" class=\"row_heading level0 row6\" >2021-09-27/2021-10-03</th>\n",
       "                        <td id=\"T_f0db50c7_9b2a_11ec_9725_30c9ab3407carow6_col0\" class=\"data row6 col0\" >100.00%</td>\n",
       "                        <td id=\"T_f0db50c7_9b2a_11ec_9725_30c9ab3407carow6_col1\" class=\"data row6 col1\" >32.43%</td>\n",
       "                        <td id=\"T_f0db50c7_9b2a_11ec_9725_30c9ab3407carow6_col2\" class=\"data row6 col2\" >22.97%</td>\n",
       "                        <td id=\"T_f0db50c7_9b2a_11ec_9725_30c9ab3407carow6_col3\" class=\"data row6 col3\" >21.62%</td>\n",
       "                        <td id=\"T_f0db50c7_9b2a_11ec_9725_30c9ab3407carow6_col4\" class=\"data row6 col4\" >22.97%</td>\n",
       "                        <td id=\"T_f0db50c7_9b2a_11ec_9725_30c9ab3407carow6_col5\" class=\"data row6 col5\" >20.27%</td>\n",
       "                        <td id=\"T_f0db50c7_9b2a_11ec_9725_30c9ab3407carow6_col6\" class=\"data row6 col6\" >21.62%</td>\n",
       "                        <td id=\"T_f0db50c7_9b2a_11ec_9725_30c9ab3407carow6_col7\" class=\"data row6 col7\" >17.57%</td>\n",
       "                        <td id=\"T_f0db50c7_9b2a_11ec_9725_30c9ab3407carow6_col8\" class=\"data row6 col8\" >20.27%</td>\n",
       "                        <td id=\"T_f0db50c7_9b2a_11ec_9725_30c9ab3407carow6_col9\" class=\"data row6 col9\" >6.76%</td>\n",
       "                        <td id=\"T_f0db50c7_9b2a_11ec_9725_30c9ab3407carow6_col10\" class=\"data row6 col10\" ></td>\n",
       "                        <td id=\"T_f0db50c7_9b2a_11ec_9725_30c9ab3407carow6_col11\" class=\"data row6 col11\" ></td>\n",
       "                        <td id=\"T_f0db50c7_9b2a_11ec_9725_30c9ab3407carow6_col12\" class=\"data row6 col12\" ></td>\n",
       "                        <td id=\"T_f0db50c7_9b2a_11ec_9725_30c9ab3407carow6_col13\" class=\"data row6 col13\" ></td>\n",
       "                        <td id=\"T_f0db50c7_9b2a_11ec_9725_30c9ab3407carow6_col14\" class=\"data row6 col14\" ></td>\n",
       "                        <td id=\"T_f0db50c7_9b2a_11ec_9725_30c9ab3407carow6_col15\" class=\"data row6 col15\" ></td>\n",
       "            </tr>\n",
       "            <tr>\n",
       "                        <th id=\"T_f0db50c7_9b2a_11ec_9725_30c9ab3407calevel0_row7\" class=\"row_heading level0 row7\" >2021-10-04/2021-10-10</th>\n",
       "                        <td id=\"T_f0db50c7_9b2a_11ec_9725_30c9ab3407carow7_col0\" class=\"data row7 col0\" >100.00%</td>\n",
       "                        <td id=\"T_f0db50c7_9b2a_11ec_9725_30c9ab3407carow7_col1\" class=\"data row7 col1\" >25.71%</td>\n",
       "                        <td id=\"T_f0db50c7_9b2a_11ec_9725_30c9ab3407carow7_col2\" class=\"data row7 col2\" >18.57%</td>\n",
       "                        <td id=\"T_f0db50c7_9b2a_11ec_9725_30c9ab3407carow7_col3\" class=\"data row7 col3\" >21.43%</td>\n",
       "                        <td id=\"T_f0db50c7_9b2a_11ec_9725_30c9ab3407carow7_col4\" class=\"data row7 col4\" >27.14%</td>\n",
       "                        <td id=\"T_f0db50c7_9b2a_11ec_9725_30c9ab3407carow7_col5\" class=\"data row7 col5\" >18.57%</td>\n",
       "                        <td id=\"T_f0db50c7_9b2a_11ec_9725_30c9ab3407carow7_col6\" class=\"data row7 col6\" >21.43%</td>\n",
       "                        <td id=\"T_f0db50c7_9b2a_11ec_9725_30c9ab3407carow7_col7\" class=\"data row7 col7\" >18.57%</td>\n",
       "                        <td id=\"T_f0db50c7_9b2a_11ec_9725_30c9ab3407carow7_col8\" class=\"data row7 col8\" >7.14%</td>\n",
       "                        <td id=\"T_f0db50c7_9b2a_11ec_9725_30c9ab3407carow7_col9\" class=\"data row7 col9\" ></td>\n",
       "                        <td id=\"T_f0db50c7_9b2a_11ec_9725_30c9ab3407carow7_col10\" class=\"data row7 col10\" ></td>\n",
       "                        <td id=\"T_f0db50c7_9b2a_11ec_9725_30c9ab3407carow7_col11\" class=\"data row7 col11\" ></td>\n",
       "                        <td id=\"T_f0db50c7_9b2a_11ec_9725_30c9ab3407carow7_col12\" class=\"data row7 col12\" ></td>\n",
       "                        <td id=\"T_f0db50c7_9b2a_11ec_9725_30c9ab3407carow7_col13\" class=\"data row7 col13\" ></td>\n",
       "                        <td id=\"T_f0db50c7_9b2a_11ec_9725_30c9ab3407carow7_col14\" class=\"data row7 col14\" ></td>\n",
       "                        <td id=\"T_f0db50c7_9b2a_11ec_9725_30c9ab3407carow7_col15\" class=\"data row7 col15\" ></td>\n",
       "            </tr>\n",
       "            <tr>\n",
       "                        <th id=\"T_f0db50c7_9b2a_11ec_9725_30c9ab3407calevel0_row8\" class=\"row_heading level0 row8\" >2021-10-11/2021-10-17</th>\n",
       "                        <td id=\"T_f0db50c7_9b2a_11ec_9725_30c9ab3407carow8_col0\" class=\"data row8 col0\" >100.00%</td>\n",
       "                        <td id=\"T_f0db50c7_9b2a_11ec_9725_30c9ab3407carow8_col1\" class=\"data row8 col1\" >23.19%</td>\n",
       "                        <td id=\"T_f0db50c7_9b2a_11ec_9725_30c9ab3407carow8_col2\" class=\"data row8 col2\" >28.99%</td>\n",
       "                        <td id=\"T_f0db50c7_9b2a_11ec_9725_30c9ab3407carow8_col3\" class=\"data row8 col3\" >27.54%</td>\n",
       "                        <td id=\"T_f0db50c7_9b2a_11ec_9725_30c9ab3407carow8_col4\" class=\"data row8 col4\" >24.64%</td>\n",
       "                        <td id=\"T_f0db50c7_9b2a_11ec_9725_30c9ab3407carow8_col5\" class=\"data row8 col5\" >17.39%</td>\n",
       "                        <td id=\"T_f0db50c7_9b2a_11ec_9725_30c9ab3407carow8_col6\" class=\"data row8 col6\" >21.74%</td>\n",
       "                        <td id=\"T_f0db50c7_9b2a_11ec_9725_30c9ab3407carow8_col7\" class=\"data row8 col7\" >5.80%</td>\n",
       "                        <td id=\"T_f0db50c7_9b2a_11ec_9725_30c9ab3407carow8_col8\" class=\"data row8 col8\" ></td>\n",
       "                        <td id=\"T_f0db50c7_9b2a_11ec_9725_30c9ab3407carow8_col9\" class=\"data row8 col9\" ></td>\n",
       "                        <td id=\"T_f0db50c7_9b2a_11ec_9725_30c9ab3407carow8_col10\" class=\"data row8 col10\" ></td>\n",
       "                        <td id=\"T_f0db50c7_9b2a_11ec_9725_30c9ab3407carow8_col11\" class=\"data row8 col11\" ></td>\n",
       "                        <td id=\"T_f0db50c7_9b2a_11ec_9725_30c9ab3407carow8_col12\" class=\"data row8 col12\" ></td>\n",
       "                        <td id=\"T_f0db50c7_9b2a_11ec_9725_30c9ab3407carow8_col13\" class=\"data row8 col13\" ></td>\n",
       "                        <td id=\"T_f0db50c7_9b2a_11ec_9725_30c9ab3407carow8_col14\" class=\"data row8 col14\" ></td>\n",
       "                        <td id=\"T_f0db50c7_9b2a_11ec_9725_30c9ab3407carow8_col15\" class=\"data row8 col15\" ></td>\n",
       "            </tr>\n",
       "            <tr>\n",
       "                        <th id=\"T_f0db50c7_9b2a_11ec_9725_30c9ab3407calevel0_row9\" class=\"row_heading level0 row9\" >2021-10-18/2021-10-24</th>\n",
       "                        <td id=\"T_f0db50c7_9b2a_11ec_9725_30c9ab3407carow9_col0\" class=\"data row9 col0\" >100.00%</td>\n",
       "                        <td id=\"T_f0db50c7_9b2a_11ec_9725_30c9ab3407carow9_col1\" class=\"data row9 col1\" >25.00%</td>\n",
       "                        <td id=\"T_f0db50c7_9b2a_11ec_9725_30c9ab3407carow9_col2\" class=\"data row9 col2\" >20.83%</td>\n",
       "                        <td id=\"T_f0db50c7_9b2a_11ec_9725_30c9ab3407carow9_col3\" class=\"data row9 col3\" >22.22%</td>\n",
       "                        <td id=\"T_f0db50c7_9b2a_11ec_9725_30c9ab3407carow9_col4\" class=\"data row9 col4\" >19.44%</td>\n",
       "                        <td id=\"T_f0db50c7_9b2a_11ec_9725_30c9ab3407carow9_col5\" class=\"data row9 col5\" >15.28%</td>\n",
       "                        <td id=\"T_f0db50c7_9b2a_11ec_9725_30c9ab3407carow9_col6\" class=\"data row9 col6\" >8.33%</td>\n",
       "                        <td id=\"T_f0db50c7_9b2a_11ec_9725_30c9ab3407carow9_col7\" class=\"data row9 col7\" ></td>\n",
       "                        <td id=\"T_f0db50c7_9b2a_11ec_9725_30c9ab3407carow9_col8\" class=\"data row9 col8\" ></td>\n",
       "                        <td id=\"T_f0db50c7_9b2a_11ec_9725_30c9ab3407carow9_col9\" class=\"data row9 col9\" ></td>\n",
       "                        <td id=\"T_f0db50c7_9b2a_11ec_9725_30c9ab3407carow9_col10\" class=\"data row9 col10\" ></td>\n",
       "                        <td id=\"T_f0db50c7_9b2a_11ec_9725_30c9ab3407carow9_col11\" class=\"data row9 col11\" ></td>\n",
       "                        <td id=\"T_f0db50c7_9b2a_11ec_9725_30c9ab3407carow9_col12\" class=\"data row9 col12\" ></td>\n",
       "                        <td id=\"T_f0db50c7_9b2a_11ec_9725_30c9ab3407carow9_col13\" class=\"data row9 col13\" ></td>\n",
       "                        <td id=\"T_f0db50c7_9b2a_11ec_9725_30c9ab3407carow9_col14\" class=\"data row9 col14\" ></td>\n",
       "                        <td id=\"T_f0db50c7_9b2a_11ec_9725_30c9ab3407carow9_col15\" class=\"data row9 col15\" ></td>\n",
       "            </tr>\n",
       "            <tr>\n",
       "                        <th id=\"T_f0db50c7_9b2a_11ec_9725_30c9ab3407calevel0_row10\" class=\"row_heading level0 row10\" >2021-10-25/2021-10-31</th>\n",
       "                        <td id=\"T_f0db50c7_9b2a_11ec_9725_30c9ab3407carow10_col0\" class=\"data row10 col0\" >100.00%</td>\n",
       "                        <td id=\"T_f0db50c7_9b2a_11ec_9725_30c9ab3407carow10_col1\" class=\"data row10 col1\" >27.54%</td>\n",
       "                        <td id=\"T_f0db50c7_9b2a_11ec_9725_30c9ab3407carow10_col2\" class=\"data row10 col2\" >30.43%</td>\n",
       "                        <td id=\"T_f0db50c7_9b2a_11ec_9725_30c9ab3407carow10_col3\" class=\"data row10 col3\" >24.64%</td>\n",
       "                        <td id=\"T_f0db50c7_9b2a_11ec_9725_30c9ab3407carow10_col4\" class=\"data row10 col4\" >20.29%</td>\n",
       "                        <td id=\"T_f0db50c7_9b2a_11ec_9725_30c9ab3407carow10_col5\" class=\"data row10 col5\" >10.14%</td>\n",
       "                        <td id=\"T_f0db50c7_9b2a_11ec_9725_30c9ab3407carow10_col6\" class=\"data row10 col6\" ></td>\n",
       "                        <td id=\"T_f0db50c7_9b2a_11ec_9725_30c9ab3407carow10_col7\" class=\"data row10 col7\" ></td>\n",
       "                        <td id=\"T_f0db50c7_9b2a_11ec_9725_30c9ab3407carow10_col8\" class=\"data row10 col8\" ></td>\n",
       "                        <td id=\"T_f0db50c7_9b2a_11ec_9725_30c9ab3407carow10_col9\" class=\"data row10 col9\" ></td>\n",
       "                        <td id=\"T_f0db50c7_9b2a_11ec_9725_30c9ab3407carow10_col10\" class=\"data row10 col10\" ></td>\n",
       "                        <td id=\"T_f0db50c7_9b2a_11ec_9725_30c9ab3407carow10_col11\" class=\"data row10 col11\" ></td>\n",
       "                        <td id=\"T_f0db50c7_9b2a_11ec_9725_30c9ab3407carow10_col12\" class=\"data row10 col12\" ></td>\n",
       "                        <td id=\"T_f0db50c7_9b2a_11ec_9725_30c9ab3407carow10_col13\" class=\"data row10 col13\" ></td>\n",
       "                        <td id=\"T_f0db50c7_9b2a_11ec_9725_30c9ab3407carow10_col14\" class=\"data row10 col14\" ></td>\n",
       "                        <td id=\"T_f0db50c7_9b2a_11ec_9725_30c9ab3407carow10_col15\" class=\"data row10 col15\" ></td>\n",
       "            </tr>\n",
       "            <tr>\n",
       "                        <th id=\"T_f0db50c7_9b2a_11ec_9725_30c9ab3407calevel0_row11\" class=\"row_heading level0 row11\" >2021-11-01/2021-11-07</th>\n",
       "                        <td id=\"T_f0db50c7_9b2a_11ec_9725_30c9ab3407carow11_col0\" class=\"data row11 col0\" >100.00%</td>\n",
       "                        <td id=\"T_f0db50c7_9b2a_11ec_9725_30c9ab3407carow11_col1\" class=\"data row11 col1\" >25.76%</td>\n",
       "                        <td id=\"T_f0db50c7_9b2a_11ec_9725_30c9ab3407carow11_col2\" class=\"data row11 col2\" >18.18%</td>\n",
       "                        <td id=\"T_f0db50c7_9b2a_11ec_9725_30c9ab3407carow11_col3\" class=\"data row11 col3\" >19.70%</td>\n",
       "                        <td id=\"T_f0db50c7_9b2a_11ec_9725_30c9ab3407carow11_col4\" class=\"data row11 col4\" >4.55%</td>\n",
       "                        <td id=\"T_f0db50c7_9b2a_11ec_9725_30c9ab3407carow11_col5\" class=\"data row11 col5\" ></td>\n",
       "                        <td id=\"T_f0db50c7_9b2a_11ec_9725_30c9ab3407carow11_col6\" class=\"data row11 col6\" ></td>\n",
       "                        <td id=\"T_f0db50c7_9b2a_11ec_9725_30c9ab3407carow11_col7\" class=\"data row11 col7\" ></td>\n",
       "                        <td id=\"T_f0db50c7_9b2a_11ec_9725_30c9ab3407carow11_col8\" class=\"data row11 col8\" ></td>\n",
       "                        <td id=\"T_f0db50c7_9b2a_11ec_9725_30c9ab3407carow11_col9\" class=\"data row11 col9\" ></td>\n",
       "                        <td id=\"T_f0db50c7_9b2a_11ec_9725_30c9ab3407carow11_col10\" class=\"data row11 col10\" ></td>\n",
       "                        <td id=\"T_f0db50c7_9b2a_11ec_9725_30c9ab3407carow11_col11\" class=\"data row11 col11\" ></td>\n",
       "                        <td id=\"T_f0db50c7_9b2a_11ec_9725_30c9ab3407carow11_col12\" class=\"data row11 col12\" ></td>\n",
       "                        <td id=\"T_f0db50c7_9b2a_11ec_9725_30c9ab3407carow11_col13\" class=\"data row11 col13\" ></td>\n",
       "                        <td id=\"T_f0db50c7_9b2a_11ec_9725_30c9ab3407carow11_col14\" class=\"data row11 col14\" ></td>\n",
       "                        <td id=\"T_f0db50c7_9b2a_11ec_9725_30c9ab3407carow11_col15\" class=\"data row11 col15\" ></td>\n",
       "            </tr>\n",
       "            <tr>\n",
       "                        <th id=\"T_f0db50c7_9b2a_11ec_9725_30c9ab3407calevel0_row12\" class=\"row_heading level0 row12\" >2021-11-08/2021-11-14</th>\n",
       "                        <td id=\"T_f0db50c7_9b2a_11ec_9725_30c9ab3407carow12_col0\" class=\"data row12 col0\" >100.00%</td>\n",
       "                        <td id=\"T_f0db50c7_9b2a_11ec_9725_30c9ab3407carow12_col1\" class=\"data row12 col1\" >18.84%</td>\n",
       "                        <td id=\"T_f0db50c7_9b2a_11ec_9725_30c9ab3407carow12_col2\" class=\"data row12 col2\" >14.49%</td>\n",
       "                        <td id=\"T_f0db50c7_9b2a_11ec_9725_30c9ab3407carow12_col3\" class=\"data row12 col3\" >13.04%</td>\n",
       "                        <td id=\"T_f0db50c7_9b2a_11ec_9725_30c9ab3407carow12_col4\" class=\"data row12 col4\" ></td>\n",
       "                        <td id=\"T_f0db50c7_9b2a_11ec_9725_30c9ab3407carow12_col5\" class=\"data row12 col5\" ></td>\n",
       "                        <td id=\"T_f0db50c7_9b2a_11ec_9725_30c9ab3407carow12_col6\" class=\"data row12 col6\" ></td>\n",
       "                        <td id=\"T_f0db50c7_9b2a_11ec_9725_30c9ab3407carow12_col7\" class=\"data row12 col7\" ></td>\n",
       "                        <td id=\"T_f0db50c7_9b2a_11ec_9725_30c9ab3407carow12_col8\" class=\"data row12 col8\" ></td>\n",
       "                        <td id=\"T_f0db50c7_9b2a_11ec_9725_30c9ab3407carow12_col9\" class=\"data row12 col9\" ></td>\n",
       "                        <td id=\"T_f0db50c7_9b2a_11ec_9725_30c9ab3407carow12_col10\" class=\"data row12 col10\" ></td>\n",
       "                        <td id=\"T_f0db50c7_9b2a_11ec_9725_30c9ab3407carow12_col11\" class=\"data row12 col11\" ></td>\n",
       "                        <td id=\"T_f0db50c7_9b2a_11ec_9725_30c9ab3407carow12_col12\" class=\"data row12 col12\" ></td>\n",
       "                        <td id=\"T_f0db50c7_9b2a_11ec_9725_30c9ab3407carow12_col13\" class=\"data row12 col13\" ></td>\n",
       "                        <td id=\"T_f0db50c7_9b2a_11ec_9725_30c9ab3407carow12_col14\" class=\"data row12 col14\" ></td>\n",
       "                        <td id=\"T_f0db50c7_9b2a_11ec_9725_30c9ab3407carow12_col15\" class=\"data row12 col15\" ></td>\n",
       "            </tr>\n",
       "            <tr>\n",
       "                        <th id=\"T_f0db50c7_9b2a_11ec_9725_30c9ab3407calevel0_row13\" class=\"row_heading level0 row13\" >2021-11-15/2021-11-21</th>\n",
       "                        <td id=\"T_f0db50c7_9b2a_11ec_9725_30c9ab3407carow13_col0\" class=\"data row13 col0\" >100.00%</td>\n",
       "                        <td id=\"T_f0db50c7_9b2a_11ec_9725_30c9ab3407carow13_col1\" class=\"data row13 col1\" >29.55%</td>\n",
       "                        <td id=\"T_f0db50c7_9b2a_11ec_9725_30c9ab3407carow13_col2\" class=\"data row13 col2\" >5.68%</td>\n",
       "                        <td id=\"T_f0db50c7_9b2a_11ec_9725_30c9ab3407carow13_col3\" class=\"data row13 col3\" ></td>\n",
       "                        <td id=\"T_f0db50c7_9b2a_11ec_9725_30c9ab3407carow13_col4\" class=\"data row13 col4\" ></td>\n",
       "                        <td id=\"T_f0db50c7_9b2a_11ec_9725_30c9ab3407carow13_col5\" class=\"data row13 col5\" ></td>\n",
       "                        <td id=\"T_f0db50c7_9b2a_11ec_9725_30c9ab3407carow13_col6\" class=\"data row13 col6\" ></td>\n",
       "                        <td id=\"T_f0db50c7_9b2a_11ec_9725_30c9ab3407carow13_col7\" class=\"data row13 col7\" ></td>\n",
       "                        <td id=\"T_f0db50c7_9b2a_11ec_9725_30c9ab3407carow13_col8\" class=\"data row13 col8\" ></td>\n",
       "                        <td id=\"T_f0db50c7_9b2a_11ec_9725_30c9ab3407carow13_col9\" class=\"data row13 col9\" ></td>\n",
       "                        <td id=\"T_f0db50c7_9b2a_11ec_9725_30c9ab3407carow13_col10\" class=\"data row13 col10\" ></td>\n",
       "                        <td id=\"T_f0db50c7_9b2a_11ec_9725_30c9ab3407carow13_col11\" class=\"data row13 col11\" ></td>\n",
       "                        <td id=\"T_f0db50c7_9b2a_11ec_9725_30c9ab3407carow13_col12\" class=\"data row13 col12\" ></td>\n",
       "                        <td id=\"T_f0db50c7_9b2a_11ec_9725_30c9ab3407carow13_col13\" class=\"data row13 col13\" ></td>\n",
       "                        <td id=\"T_f0db50c7_9b2a_11ec_9725_30c9ab3407carow13_col14\" class=\"data row13 col14\" ></td>\n",
       "                        <td id=\"T_f0db50c7_9b2a_11ec_9725_30c9ab3407carow13_col15\" class=\"data row13 col15\" ></td>\n",
       "            </tr>\n",
       "            <tr>\n",
       "                        <th id=\"T_f0db50c7_9b2a_11ec_9725_30c9ab3407calevel0_row14\" class=\"row_heading level0 row14\" >2021-11-22/2021-11-28</th>\n",
       "                        <td id=\"T_f0db50c7_9b2a_11ec_9725_30c9ab3407carow14_col0\" class=\"data row14 col0\" >100.00%</td>\n",
       "                        <td id=\"T_f0db50c7_9b2a_11ec_9725_30c9ab3407carow14_col1\" class=\"data row14 col1\" >11.25%</td>\n",
       "                        <td id=\"T_f0db50c7_9b2a_11ec_9725_30c9ab3407carow14_col2\" class=\"data row14 col2\" ></td>\n",
       "                        <td id=\"T_f0db50c7_9b2a_11ec_9725_30c9ab3407carow14_col3\" class=\"data row14 col3\" ></td>\n",
       "                        <td id=\"T_f0db50c7_9b2a_11ec_9725_30c9ab3407carow14_col4\" class=\"data row14 col4\" ></td>\n",
       "                        <td id=\"T_f0db50c7_9b2a_11ec_9725_30c9ab3407carow14_col5\" class=\"data row14 col5\" ></td>\n",
       "                        <td id=\"T_f0db50c7_9b2a_11ec_9725_30c9ab3407carow14_col6\" class=\"data row14 col6\" ></td>\n",
       "                        <td id=\"T_f0db50c7_9b2a_11ec_9725_30c9ab3407carow14_col7\" class=\"data row14 col7\" ></td>\n",
       "                        <td id=\"T_f0db50c7_9b2a_11ec_9725_30c9ab3407carow14_col8\" class=\"data row14 col8\" ></td>\n",
       "                        <td id=\"T_f0db50c7_9b2a_11ec_9725_30c9ab3407carow14_col9\" class=\"data row14 col9\" ></td>\n",
       "                        <td id=\"T_f0db50c7_9b2a_11ec_9725_30c9ab3407carow14_col10\" class=\"data row14 col10\" ></td>\n",
       "                        <td id=\"T_f0db50c7_9b2a_11ec_9725_30c9ab3407carow14_col11\" class=\"data row14 col11\" ></td>\n",
       "                        <td id=\"T_f0db50c7_9b2a_11ec_9725_30c9ab3407carow14_col12\" class=\"data row14 col12\" ></td>\n",
       "                        <td id=\"T_f0db50c7_9b2a_11ec_9725_30c9ab3407carow14_col13\" class=\"data row14 col13\" ></td>\n",
       "                        <td id=\"T_f0db50c7_9b2a_11ec_9725_30c9ab3407carow14_col14\" class=\"data row14 col14\" ></td>\n",
       "                        <td id=\"T_f0db50c7_9b2a_11ec_9725_30c9ab3407carow14_col15\" class=\"data row14 col15\" ></td>\n",
       "            </tr>\n",
       "            <tr>\n",
       "                        <th id=\"T_f0db50c7_9b2a_11ec_9725_30c9ab3407calevel0_row15\" class=\"row_heading level0 row15\" >2021-11-29/2021-12-05</th>\n",
       "                        <td id=\"T_f0db50c7_9b2a_11ec_9725_30c9ab3407carow15_col0\" class=\"data row15 col0\" >100.00%</td>\n",
       "                        <td id=\"T_f0db50c7_9b2a_11ec_9725_30c9ab3407carow15_col1\" class=\"data row15 col1\" ></td>\n",
       "                        <td id=\"T_f0db50c7_9b2a_11ec_9725_30c9ab3407carow15_col2\" class=\"data row15 col2\" ></td>\n",
       "                        <td id=\"T_f0db50c7_9b2a_11ec_9725_30c9ab3407carow15_col3\" class=\"data row15 col3\" ></td>\n",
       "                        <td id=\"T_f0db50c7_9b2a_11ec_9725_30c9ab3407carow15_col4\" class=\"data row15 col4\" ></td>\n",
       "                        <td id=\"T_f0db50c7_9b2a_11ec_9725_30c9ab3407carow15_col5\" class=\"data row15 col5\" ></td>\n",
       "                        <td id=\"T_f0db50c7_9b2a_11ec_9725_30c9ab3407carow15_col6\" class=\"data row15 col6\" ></td>\n",
       "                        <td id=\"T_f0db50c7_9b2a_11ec_9725_30c9ab3407carow15_col7\" class=\"data row15 col7\" ></td>\n",
       "                        <td id=\"T_f0db50c7_9b2a_11ec_9725_30c9ab3407carow15_col8\" class=\"data row15 col8\" ></td>\n",
       "                        <td id=\"T_f0db50c7_9b2a_11ec_9725_30c9ab3407carow15_col9\" class=\"data row15 col9\" ></td>\n",
       "                        <td id=\"T_f0db50c7_9b2a_11ec_9725_30c9ab3407carow15_col10\" class=\"data row15 col10\" ></td>\n",
       "                        <td id=\"T_f0db50c7_9b2a_11ec_9725_30c9ab3407carow15_col11\" class=\"data row15 col11\" ></td>\n",
       "                        <td id=\"T_f0db50c7_9b2a_11ec_9725_30c9ab3407carow15_col12\" class=\"data row15 col12\" ></td>\n",
       "                        <td id=\"T_f0db50c7_9b2a_11ec_9725_30c9ab3407carow15_col13\" class=\"data row15 col13\" ></td>\n",
       "                        <td id=\"T_f0db50c7_9b2a_11ec_9725_30c9ab3407carow15_col14\" class=\"data row15 col14\" ></td>\n",
       "                        <td id=\"T_f0db50c7_9b2a_11ec_9725_30c9ab3407carow15_col15\" class=\"data row15 col15\" ></td>\n",
       "            </tr>\n",
       "    </tbody></table>"
      ],
      "text/plain": [
       "<pandas.io.formats.style.Styler at 0x206cb87b6d0>"
      ]
     },
     "execution_count": 30,
     "metadata": {},
     "output_type": "execute_result"
    }
   ],
   "source": [
    "# Строим когортный анализ для наших данных по неделям\n",
    "cohort_analysis(df, 'user_id', 'created_at', period='W')"
   ]
  },
  {
   "cell_type": "markdown",
   "metadata": {},
   "source": [
    "### Выводы\n",
    "\n",
    "- **Анализ недельных когорт позволяет выявить определенную сезонность - через некоторый период происходит незначительное увеличение повторных покупок пользователями;**\n",
    "- **Пользователи пришедшие с 2021-09-20 по 2021-09-26 совершали наименьшее количество повторных покупок за анализируемый период;**\n",
    "- **У пользователей пришедших в период с 2021-09-27 по 2021-11-01 наблюдается увеличение числа повторных покупок по сравнению с другими когортами.**"
   ]
  },
  {
   "cell_type": "code",
   "execution_count": 31,
   "metadata": {},
   "outputs": [],
   "source": [
    "# Объявим функцию для построения кривой Retention\n",
    "def plot_retention_curve(data, ids_col, target_col, period='M'):\n",
    "    \"\"\"Функция для построения кривой коэффициента удержания пользователей.\n",
    "    Рассчитывает коэффициент удержания клиентов (Retention Rate) и\n",
    "    строит график отображающий изменение retention по когортам во времени. \n",
    "    \n",
    "    Параметры\n",
    "    ---------\n",
    "    data: pandas DataFrame\n",
    "        Датасет\n",
    "    ids_col: str\n",
    "        Поле с id клиентов/пользователей. Тип данных: object, int64\n",
    "    target_col: str\n",
    "        Поле с датой покупки/регистрации и т.п. Тип данных datetime64[ns]\n",
    "    period: str\n",
    "        Поле с указание периода когорты: 'M' - месяц, 'W' - неделя.\n",
    "        Дефолтное значение 'M'. Тип данных str\n",
    "    \"\"\"\n",
    "    # создается промежуточный датасет, чтобы не изменять изначальный датасет\n",
    "    df = data[[ids_col]]\n",
    "    \n",
    "    # создается дополнительный столбец с периодом целевого действия\n",
    "    df['order_period'] = data[target_col].dt.to_period(period)\n",
    "    \n",
    "    # формируется когорта с наименьшей датой совершения целевого действия пользователем\n",
    "    df['cohort'] = data.groupby(ids_col)[target_col].transform('min').dt.to_period(period)\n",
    "    \n",
    "    # рассчитывается количество уникальных пользователей в каждой группе\n",
    "    df_cohort = df.groupby(['cohort', 'order_period'], as_index=False).agg(n_customers=(ids_col, 'nunique'))\n",
    "    \n",
    "    # рассчитывается период между когортой и периодом совершения целевого действия\n",
    "    df_cohort['period_number'] = (df_cohort.order_period - df_cohort.cohort).apply(attrgetter('n'))\n",
    "    \n",
    "    # объединяем когорты по заданному интервалу и считаем количество пользователей\n",
    "    retention_df = df_cohort.groupby('period_number', as_index=False).agg(n_users=('n_customers', 'sum'))\n",
    "    \n",
    "    # рассчитываем коэффициент удержания пользователей\n",
    "    retention_df['retention'] = (retention_df.n_users / retention_df.head(1).n_users.values[0])\n",
    "    \n",
    "    # строим график\n",
    "    plt.figure(figsize=(12, 6))\n",
    "    ax = sns.lineplot(data=retention_df, x='period_number', y='retention', linewidth = 3)\n",
    "    ax.set_yticks(np.arange(0, 1.1, 0.1))\n",
    "    ax.set_xticks(np.arange(retention_df.period_number.min(), retention_df.period_number.max()+1, 1))\n",
    "    ax.set_yticklabels(['{:,.0%}'.format(x) for x in ax.get_yticks()])\n",
    "    \n",
    "    if period == 'M':\n",
    "        x_label = 'Month'\n",
    "    if period == 'W':\n",
    "        x_label = 'Week'\n",
    "    \n",
    "    ax.set(title = 'Retention curve',\n",
    "           xlabel = x_label, \n",
    "           ylabel = '% of users retained')\n",
    "    plt.show();"
   ]
  },
  {
   "cell_type": "code",
   "execution_count": 32,
   "metadata": {},
   "outputs": [
    {
     "data": {
      "image/png": "[encoded data removed]",
      "text/plain": [
       "<Figure size 864x432 with 1 Axes>"
      ]
     },
     "metadata": {
      "needs_background": "light"
     },
     "output_type": "display_data"
    }
   ],
   "source": [
    "# Визуализируем retention curve\n",
    "plot_retention_curve(df, 'user_id', 'created_at', period='W')"
   ]
  },
  {
   "cell_type": "markdown",
   "metadata": {},
   "source": [
    "### Выводы\n",
    "\n",
    "- **Oколо 78% пользователей не делают повторных покупок после 1-й недели.**\n",
    "- **После 4-й недели происходит плавное снижение числа повторных покупок.**\n",
    "- **Пользователи практически полностью прекращают делать повторные покупки на 16-ю неделю.**"
   ]
  },
  {
   "cell_type": "markdown",
   "metadata": {},
   "source": [
    "<hr>"
   ]
  },
  {
   "cell_type": "markdown",
   "metadata": {},
   "source": [
    "# В поисках инсайтов"
   ]
  },
  {
   "cell_type": "markdown",
   "metadata": {},
   "source": [
    "### Посмотрим сколько у нас пользователей совершили покупку только один раз"
   ]
  },
  {
   "cell_type": "code",
   "execution_count": 33,
   "metadata": {},
   "outputs": [
    {
     "data": {
      "text/html": [
       "<div>\n",
       "<style scoped>\n",
       "    .dataframe tbody tr th:only-of-type {\n",
       "        vertical-align: middle;\n",
       "    }\n",
       "\n",
       "    .dataframe tbody tr th {\n",
       "        vertical-align: top;\n",
       "    }\n",
       "\n",
       "    .dataframe thead th {\n",
       "        text-align: right;\n",
       "    }\n",
       "</style>\n",
       "<table border=\"1\" class=\"dataframe\">\n",
       "  <thead>\n",
       "    <tr style=\"text-align: right;\">\n",
       "      <th></th>\n",
       "      <th>frequency</th>\n",
       "      <th>users_number</th>\n",
       "      <th>percentage</th>\n",
       "    </tr>\n",
       "  </thead>\n",
       "  <tbody>\n",
       "    <tr>\n",
       "      <th>0</th>\n",
       "      <td>once</td>\n",
       "      <td>588</td>\n",
       "      <td>53.02</td>\n",
       "    </tr>\n",
       "    <tr>\n",
       "      <th>1</th>\n",
       "      <td>several</td>\n",
       "      <td>521</td>\n",
       "      <td>46.98</td>\n",
       "    </tr>\n",
       "  </tbody>\n",
       "</table>\n",
       "</div>"
      ],
      "text/plain": [
       "  frequency  users_number  percentage\n",
       "0      once           588       53.02\n",
       "1   several           521       46.98"
      ]
     },
     "execution_count": 33,
     "metadata": {},
     "output_type": "execute_result"
    }
   ],
   "source": [
    "# Добавим дополнительный столбец с частотой покупок\n",
    "df['frequency'] = np.where(df.groupby('user_id').order_id.transform('count') > 1, 'several', 'once')\n",
    "\n",
    "# Посчитаем количество пользователей\n",
    "frequency = df.groupby('frequency', as_index=False).agg(users_number=('user_id', 'nunique'))\n",
    "frequency['percentage'] = (frequency.users_number / frequency.users_number.sum()).mul(100).round(2)\n",
    "frequency"
   ]
  },
  {
   "cell_type": "markdown",
   "metadata": {},
   "source": [
    "**Таким образом, 53% пользователей совершили покупку только один раз.**"
   ]
  },
  {
   "cell_type": "markdown",
   "metadata": {},
   "source": [
    "<hr>"
   ]
  },
  {
   "cell_type": "markdown",
   "metadata": {},
   "source": [
    "### Посмотрим различаются ли средние суммы покупок в зависимости от частоты покупок"
   ]
  },
  {
   "cell_type": "code",
   "execution_count": 34,
   "metadata": {},
   "outputs": [
    {
     "data": {
      "text/html": [
       "<div>\n",
       "<style scoped>\n",
       "    .dataframe tbody tr th:only-of-type {\n",
       "        vertical-align: middle;\n",
       "    }\n",
       "\n",
       "    .dataframe tbody tr th {\n",
       "        vertical-align: top;\n",
       "    }\n",
       "\n",
       "    .dataframe thead th {\n",
       "        text-align: right;\n",
       "    }\n",
       "</style>\n",
       "<table border=\"1\" class=\"dataframe\">\n",
       "  <thead>\n",
       "    <tr style=\"text-align: right;\">\n",
       "      <th></th>\n",
       "      <th>frequency</th>\n",
       "      <th>mean_sum</th>\n",
       "      <th>median_sum</th>\n",
       "    </tr>\n",
       "  </thead>\n",
       "  <tbody>\n",
       "    <tr>\n",
       "      <th>0</th>\n",
       "      <td>once</td>\n",
       "      <td>40.158539</td>\n",
       "      <td>18.249718</td>\n",
       "    </tr>\n",
       "    <tr>\n",
       "      <th>1</th>\n",
       "      <td>several</td>\n",
       "      <td>25.876926</td>\n",
       "      <td>12.520000</td>\n",
       "    </tr>\n",
       "  </tbody>\n",
       "</table>\n",
       "</div>"
      ],
      "text/plain": [
       "  frequency   mean_sum  median_sum\n",
       "0      once  40.158539   18.249718\n",
       "1   several  25.876926   12.520000"
      ]
     },
     "execution_count": 34,
     "metadata": {},
     "output_type": "execute_result"
    }
   ],
   "source": [
    "# Посчитаем средние значения по группам\n",
    "df.groupby('frequency', as_index=False) \\\n",
    "    .agg(mean_sum=('total_sum', 'mean'),\n",
    "         median_sum=('total_sum', 'median'))"
   ]
  },
  {
   "cell_type": "code",
   "execution_count": 35,
   "metadata": {},
   "outputs": [
    {
     "data": {
      "image/png": "[encoded data removed]",
      "text/plain": [
       "<Figure size 720x576 with 1 Axes>"
      ]
     },
     "metadata": {
      "needs_background": "light"
     },
     "output_type": "display_data"
    }
   ],
   "source": [
    "# Посмотрим на распределения на графике\n",
    "plt.figure(figsize=(10, 8))\n",
    "sns.boxplot(data=df, x='frequency', y='total_sum');"
   ]
  },
  {
   "cell_type": "markdown",
   "metadata": {},
   "source": [
    "Из графика видно, что в двух группах имеются выбросы, которые смещаю среднее значение в выборках.<br>\n",
    "\n",
    "**Сформулируем гипотезы для проверки:**\n",
    "\n",
    "- **Нулевая гипотеза** $(H_0)$: Разницы между средними значениями суммы заказа пользователей с одной покупкой и пользователей с несколькими покупками нет \n",
    "- **Альтернативная гипотеза** $(H_1)$: Разница между средними значениями суммы заказов в двух группах есть"
   ]
  },
  {
   "cell_type": "code",
   "execution_count": 36,
   "metadata": {},
   "outputs": [
    {
     "name": "stdout",
     "output_type": "stream",
     "text": [
      "Boot mean: 1.74e-28; Boot median: 1.24e-07: MW: 1.7e-05\n"
     ]
    }
   ],
   "source": [
    "# Создадим переменные с значениями по двум группам\n",
    "once_group = df[df.frequency == 'once'].total_sum\n",
    "several_group = df[df.frequency == 'several'].total_sum\n",
    "\n",
    "# Посмотрим на значение p-value бустрапа для средних значений и критерия Манна-Уитни\n",
    "res_mw = mannwhitneyu(once_group, several_group, alternative='two-sided')\n",
    "res_boot_mean = get_bootstrap(once_group, several_group)\n",
    "res_boot_median = get_bootstrap(once_group, several_group, statistic=np.median)\n",
    "print(f'Boot mean: {res_boot_mean[\"p-value\"]:.3}; Boot median: {res_boot_median[\"p-value\"]:.3}: MW: {res_mw.pvalue:.3}')"
   ]
  },
  {
   "cell_type": "markdown",
   "metadata": {},
   "source": [
    "Сравнение средних и медианных значений в двух группах с помощью бутстрап позволяет сделать вывод о том что различие статистически значимо ($p < 0.05$), т.е. позволяет отклонить нулевую гипотезу о равенстве средних значений. Значение p-value критерия Манна-Уитни $p < 0.05$ говорит о том, различие исследуемых выборок статистически значимо.\n",
    "\n",
    "**Таким образом, в исследуемой выборке средняя сумма заказа пользователей с одной покупкой в среднем выше чем средняя покупка пользователь с несколькими покупками.**"
   ]
  },
  {
   "cell_type": "markdown",
   "metadata": {},
   "source": [
    "<br>"
   ]
  },
  {
   "cell_type": "markdown",
   "metadata": {},
   "source": [
    "### Посмотрим различаются ли средние суммы заказов в зависимости от частоты и наличия скидки"
   ]
  },
  {
   "cell_type": "code",
   "execution_count": 37,
   "metadata": {},
   "outputs": [
    {
     "data": {
      "text/html": [
       "<div>\n",
       "<style scoped>\n",
       "    .dataframe tbody tr th:only-of-type {\n",
       "        vertical-align: middle;\n",
       "    }\n",
       "\n",
       "    .dataframe tbody tr th {\n",
       "        vertical-align: top;\n",
       "    }\n",
       "\n",
       "    .dataframe thead tr th {\n",
       "        text-align: left;\n",
       "    }\n",
       "\n",
       "    .dataframe thead tr:last-of-type th {\n",
       "        text-align: right;\n",
       "    }\n",
       "</style>\n",
       "<table border=\"1\" class=\"dataframe\">\n",
       "  <thead>\n",
       "    <tr>\n",
       "      <th></th>\n",
       "      <th colspan=\"2\" halign=\"left\">mean</th>\n",
       "      <th colspan=\"2\" halign=\"left\">median</th>\n",
       "    </tr>\n",
       "    <tr>\n",
       "      <th>has_discount</th>\n",
       "      <th>no</th>\n",
       "      <th>yes</th>\n",
       "      <th>no</th>\n",
       "      <th>yes</th>\n",
       "    </tr>\n",
       "    <tr>\n",
       "      <th>frequency</th>\n",
       "      <th></th>\n",
       "      <th></th>\n",
       "      <th></th>\n",
       "      <th></th>\n",
       "    </tr>\n",
       "  </thead>\n",
       "  <tbody>\n",
       "    <tr>\n",
       "      <th>once</th>\n",
       "      <td>24.17</td>\n",
       "      <td>51.42</td>\n",
       "      <td>12.0</td>\n",
       "      <td>32.94</td>\n",
       "    </tr>\n",
       "    <tr>\n",
       "      <th>several</th>\n",
       "      <td>18.75</td>\n",
       "      <td>37.22</td>\n",
       "      <td>10.6</td>\n",
       "      <td>22.80</td>\n",
       "    </tr>\n",
       "  </tbody>\n",
       "</table>\n",
       "</div>"
      ],
      "text/plain": [
       "               mean        median       \n",
       "has_discount     no    yes     no    yes\n",
       "frequency                               \n",
       "once          24.17  51.42   12.0  32.94\n",
       "several       18.75  37.22   10.6  22.80"
      ]
     },
     "execution_count": 37,
     "metadata": {},
     "output_type": "execute_result"
    }
   ],
   "source": [
    "df.pivot_table(index='frequency', columns='has_discount', values='total_sum', aggfunc=['mean', 'median']).round(2)"
   ]
  },
  {
   "cell_type": "markdown",
   "metadata": {},
   "source": [
    "При наличии скидки (промокода) средняя сумма заказа выше как для пользователей которые совершили одну покупку, так и для пользователей которые совершили несколько покупок."
   ]
  },
  {
   "cell_type": "markdown",
   "metadata": {},
   "source": [
    "<hr>"
   ]
  },
  {
   "cell_type": "markdown",
   "metadata": {},
   "source": [
    "### Посмотрим различаются ли средние суммы заказов в зависимости от частоты и размера скидки"
   ]
  },
  {
   "cell_type": "code",
   "execution_count": 38,
   "metadata": {},
   "outputs": [
    {
     "data": {
      "text/html": [
       "<style  type=\"text/css\" >\n",
       "#T_f2a611c8_9b2a_11ec_86d0_30c9ab3407carow0_col0,#T_f2a611c8_9b2a_11ec_86d0_30c9ab3407carow0_col1,#T_f2a611c8_9b2a_11ec_86d0_30c9ab3407carow0_col3,#T_f2a611c8_9b2a_11ec_86d0_30c9ab3407carow4_col2,#T_f2a611c8_9b2a_11ec_86d0_30c9ab3407carow5_col2{\n",
       "            background-color:  #440154;\n",
       "            color:  #f1f1f1;\n",
       "        }#T_f2a611c8_9b2a_11ec_86d0_30c9ab3407carow0_col2,#T_f2a611c8_9b2a_11ec_86d0_30c9ab3407carow5_col3{\n",
       "            background-color:  #440256;\n",
       "            color:  #f1f1f1;\n",
       "        }#T_f2a611c8_9b2a_11ec_86d0_30c9ab3407carow1_col0{\n",
       "            background-color:  #481b6d;\n",
       "            color:  #f1f1f1;\n",
       "        }#T_f2a611c8_9b2a_11ec_86d0_30c9ab3407carow1_col1{\n",
       "            background-color:  #48186a;\n",
       "            color:  #f1f1f1;\n",
       "        }#T_f2a611c8_9b2a_11ec_86d0_30c9ab3407carow1_col2{\n",
       "            background-color:  #481467;\n",
       "            color:  #f1f1f1;\n",
       "        }#T_f2a611c8_9b2a_11ec_86d0_30c9ab3407carow1_col3{\n",
       "            background-color:  #471164;\n",
       "            color:  #f1f1f1;\n",
       "        }#T_f2a611c8_9b2a_11ec_86d0_30c9ab3407carow2_col0{\n",
       "            background-color:  #424086;\n",
       "            color:  #f1f1f1;\n",
       "        }#T_f2a611c8_9b2a_11ec_86d0_30c9ab3407carow2_col1{\n",
       "            background-color:  #453882;\n",
       "            color:  #f1f1f1;\n",
       "        }#T_f2a611c8_9b2a_11ec_86d0_30c9ab3407carow2_col2{\n",
       "            background-color:  #472d7b;\n",
       "            color:  #f1f1f1;\n",
       "        }#T_f2a611c8_9b2a_11ec_86d0_30c9ab3407carow2_col3{\n",
       "            background-color:  #472f7d;\n",
       "            color:  #f1f1f1;\n",
       "        }#T_f2a611c8_9b2a_11ec_86d0_30c9ab3407carow3_col0{\n",
       "            background-color:  #33628d;\n",
       "            color:  #f1f1f1;\n",
       "        }#T_f2a611c8_9b2a_11ec_86d0_30c9ab3407carow3_col1{\n",
       "            background-color:  #34618d;\n",
       "            color:  #f1f1f1;\n",
       "        }#T_f2a611c8_9b2a_11ec_86d0_30c9ab3407carow3_col2{\n",
       "            background-color:  #433e85;\n",
       "            color:  #f1f1f1;\n",
       "        }#T_f2a611c8_9b2a_11ec_86d0_30c9ab3407carow3_col3{\n",
       "            background-color:  #3e4c8a;\n",
       "            color:  #f1f1f1;\n",
       "        }#T_f2a611c8_9b2a_11ec_86d0_30c9ab3407carow4_col0{\n",
       "            background-color:  #3e4a89;\n",
       "            color:  #f1f1f1;\n",
       "        }#T_f2a611c8_9b2a_11ec_86d0_30c9ab3407carow4_col1{\n",
       "            background-color:  #2d718e;\n",
       "            color:  #f1f1f1;\n",
       "        }#T_f2a611c8_9b2a_11ec_86d0_30c9ab3407carow4_col3{\n",
       "            background-color:  #306a8e;\n",
       "            color:  #f1f1f1;\n",
       "        }#T_f2a611c8_9b2a_11ec_86d0_30c9ab3407carow5_col0{\n",
       "            background-color:  #365d8d;\n",
       "            color:  #f1f1f1;\n",
       "        }#T_f2a611c8_9b2a_11ec_86d0_30c9ab3407carow5_col1{\n",
       "            background-color:  #287d8e;\n",
       "            color:  #000000;\n",
       "        }#T_f2a611c8_9b2a_11ec_86d0_30c9ab3407carow6_col0,#T_f2a611c8_9b2a_11ec_86d0_30c9ab3407carow6_col1,#T_f2a611c8_9b2a_11ec_86d0_30c9ab3407carow6_col2,#T_f2a611c8_9b2a_11ec_86d0_30c9ab3407carow6_col3{\n",
       "            background-color:  #fde725;\n",
       "            color:  #000000;\n",
       "        }</style><table id=\"T_f2a611c8_9b2a_11ec_86d0_30c9ab3407ca\" ><thead>    <tr>        <th class=\"blank level0\" ></th>        <th class=\"col_heading level0 col0\" colspan=2>mean</th>        <th class=\"col_heading level0 col2\" colspan=2>median</th>    </tr>    <tr>        <th class=\"index_name level1\" >frequency</th>        <th class=\"col_heading level1 col0\" >once</th>        <th class=\"col_heading level1 col1\" >several</th>        <th class=\"col_heading level1 col2\" >once</th>        <th class=\"col_heading level1 col3\" >several</th>    </tr>    <tr>        <th class=\"index_name level0\" >discount_bins</th>        <th class=\"blank\" ></th>        <th class=\"blank\" ></th>        <th class=\"blank\" ></th>        <th class=\"blank\" ></th>    </tr></thead><tbody>\n",
       "                <tr>\n",
       "                        <th id=\"T_f2a611c8_9b2a_11ec_86d0_30c9ab3407calevel0_row0\" class=\"row_heading level0 row0\" >0-10</th>\n",
       "                        <td id=\"T_f2a611c8_9b2a_11ec_86d0_30c9ab3407carow0_col0\" class=\"data row0 col0\" >8.73</td>\n",
       "                        <td id=\"T_f2a611c8_9b2a_11ec_86d0_30c9ab3407carow0_col1\" class=\"data row0 col1\" >8.43</td>\n",
       "                        <td id=\"T_f2a611c8_9b2a_11ec_86d0_30c9ab3407carow0_col2\" class=\"data row0 col2\" >6.48</td>\n",
       "                        <td id=\"T_f2a611c8_9b2a_11ec_86d0_30c9ab3407carow0_col3\" class=\"data row0 col3\" >7.0</td>\n",
       "            </tr>\n",
       "            <tr>\n",
       "                        <th id=\"T_f2a611c8_9b2a_11ec_86d0_30c9ab3407calevel0_row1\" class=\"row_heading level0 row1\" >10-20</th>\n",
       "                        <td id=\"T_f2a611c8_9b2a_11ec_86d0_30c9ab3407carow1_col0\" class=\"data row1 col0\" >24.92</td>\n",
       "                        <td id=\"T_f2a611c8_9b2a_11ec_86d0_30c9ab3407carow1_col1\" class=\"data row1 col1\" >24.29</td>\n",
       "                        <td id=\"T_f2a611c8_9b2a_11ec_86d0_30c9ab3407carow1_col2\" class=\"data row1 col2\" >22.32</td>\n",
       "                        <td id=\"T_f2a611c8_9b2a_11ec_86d0_30c9ab3407carow1_col3\" class=\"data row1 col3\" >21.04</td>\n",
       "            </tr>\n",
       "            <tr>\n",
       "                        <th id=\"T_f2a611c8_9b2a_11ec_86d0_30c9ab3407calevel0_row2\" class=\"row_heading level0 row2\" >20-50</th>\n",
       "                        <td id=\"T_f2a611c8_9b2a_11ec_86d0_30c9ab3407carow2_col0\" class=\"data row2 col0\" >50.73</td>\n",
       "                        <td id=\"T_f2a611c8_9b2a_11ec_86d0_30c9ab3407carow2_col1\" class=\"data row2 col1\" >49.1</td>\n",
       "                        <td id=\"T_f2a611c8_9b2a_11ec_86d0_30c9ab3407carow2_col2\" class=\"data row2 col2\" >46.75</td>\n",
       "                        <td id=\"T_f2a611c8_9b2a_11ec_86d0_30c9ab3407carow2_col3\" class=\"data row2 col3\" >50.04</td>\n",
       "            </tr>\n",
       "            <tr>\n",
       "                        <th id=\"T_f2a611c8_9b2a_11ec_86d0_30c9ab3407calevel0_row3\" class=\"row_heading level0 row3\" >50-100</th>\n",
       "                        <td id=\"T_f2a611c8_9b2a_11ec_86d0_30c9ab3407carow3_col0\" class=\"data row3 col0\" >77.41</td>\n",
       "                        <td id=\"T_f2a611c8_9b2a_11ec_86d0_30c9ab3407carow3_col1\" class=\"data row3 col1\" >84.74</td>\n",
       "                        <td id=\"T_f2a611c8_9b2a_11ec_86d0_30c9ab3407carow3_col2\" class=\"data row3 col2\" >66.41</td>\n",
       "                        <td id=\"T_f2a611c8_9b2a_11ec_86d0_30c9ab3407carow3_col3\" class=\"data row3 col3\" >78.94</td>\n",
       "            </tr>\n",
       "            <tr>\n",
       "                        <th id=\"T_f2a611c8_9b2a_11ec_86d0_30c9ab3407calevel0_row4\" class=\"row_heading level0 row4\" >100-200</th>\n",
       "                        <td id=\"T_f2a611c8_9b2a_11ec_86d0_30c9ab3407carow4_col0\" class=\"data row4 col0\" >58.56</td>\n",
       "                        <td id=\"T_f2a611c8_9b2a_11ec_86d0_30c9ab3407carow4_col1\" class=\"data row4 col1\" >100.82</td>\n",
       "                        <td id=\"T_f2a611c8_9b2a_11ec_86d0_30c9ab3407carow4_col2\" class=\"data row4 col2\" >5.15</td>\n",
       "                        <td id=\"T_f2a611c8_9b2a_11ec_86d0_30c9ab3407carow4_col3\" class=\"data row4 col3\" >114.69</td>\n",
       "            </tr>\n",
       "            <tr>\n",
       "                        <th id=\"T_f2a611c8_9b2a_11ec_86d0_30c9ab3407calevel0_row5\" class=\"row_heading level0 row5\" >200-300</th>\n",
       "                        <td id=\"T_f2a611c8_9b2a_11ec_86d0_30c9ab3407carow5_col0\" class=\"data row5 col0\" >73.21</td>\n",
       "                        <td id=\"T_f2a611c8_9b2a_11ec_86d0_30c9ab3407carow5_col1\" class=\"data row5 col1\" >113.0</td>\n",
       "                        <td id=\"T_f2a611c8_9b2a_11ec_86d0_30c9ab3407carow5_col2\" class=\"data row5 col2\" >4.02</td>\n",
       "                        <td id=\"T_f2a611c8_9b2a_11ec_86d0_30c9ab3407carow5_col3\" class=\"data row5 col3\" >8.78</td>\n",
       "            </tr>\n",
       "            <tr>\n",
       "                        <th id=\"T_f2a611c8_9b2a_11ec_86d0_30c9ab3407calevel0_row6\" class=\"row_heading level0 row6\" >above 300</th>\n",
       "                        <td id=\"T_f2a611c8_9b2a_11ec_86d0_30c9ab3407carow6_col0\" class=\"data row6 col0\" >231.19</td>\n",
       "                        <td id=\"T_f2a611c8_9b2a_11ec_86d0_30c9ab3407carow6_col1\" class=\"data row6 col1\" >258.16</td>\n",
       "                        <td id=\"T_f2a611c8_9b2a_11ec_86d0_30c9ab3407carow6_col2\" class=\"data row6 col2\" >343.88</td>\n",
       "                        <td id=\"T_f2a611c8_9b2a_11ec_86d0_30c9ab3407carow6_col3\" class=\"data row6 col3\" >322.76</td>\n",
       "            </tr>\n",
       "    </tbody></table>"
      ],
      "text/plain": [
       "<pandas.io.formats.style.Styler at 0x206cc47dd30>"
      ]
     },
     "execution_count": 38,
     "metadata": {},
     "output_type": "execute_result"
    }
   ],
   "source": [
    "# Зададим интервалы скидок\n",
    "df['discount_bins'] = pd.cut(df['discount'],\n",
    "                             bins=[0, 10, 20, 50, 100, 200, 300, 750],\n",
    "                             labels=['0-10', '10-20', '20-50', '50-100', '100-200', '200-300', 'above 300'])\n",
    "\n",
    "# Сделаем сводную таблицу\n",
    "df[df.has_discount == 'yes'] \\\n",
    "    .pivot_table(index='discount_bins', columns='frequency', values='total_sum', aggfunc=['mean', 'median']) \\\n",
    "    .round(2) \\\n",
    "    .style \\\n",
    "    .background_gradient(cmap='viridis') \\\n",
    "    .format('{:.5}')"
   ]
  },
  {
   "cell_type": "markdown",
   "metadata": {},
   "source": [
    "**Для пользователей, совершивших несколько покупок, с увеличением скидки увеличивается средняя сумма заказа после скидок.**"
   ]
  },
  {
   "cell_type": "markdown",
   "metadata": {},
   "source": [
    "<hr>"
   ]
  },
  {
   "cell_type": "markdown",
   "metadata": {},
   "source": [
    "### Посмотрим в какой день совершается больше всего покупок"
   ]
  },
  {
   "cell_type": "code",
   "execution_count": 39,
   "metadata": {},
   "outputs": [
    {
     "data": {
      "image/png": "[encoded data removed]",
      "text/plain": [
       "<Figure size 576x360 with 1 Axes>"
      ]
     },
     "metadata": {
      "needs_background": "light"
     },
     "output_type": "display_data"
    }
   ],
   "source": [
    "perchases_by_days = df.created_at.dt.day_name() \\\n",
    "    .value_counts() \\\n",
    "    .reset_index() \\\n",
    "    .rename(columns={'index': 'purchase_day', 'created_at': 'number'})\n",
    "\n",
    "plt.figure(figsize=(8, 5))\n",
    "order = ['Monday', 'Tuesday', 'Wednesday', 'Thursday', 'Friday', 'Saturday', 'Sunday']\n",
    "ax = sns.barplot(x='number', y='purchase_day', data=perchases_by_days, palette = 'coolwarm', order=order, orient='h')\n",
    "ax.set(ylabel='');"
   ]
  },
  {
   "cell_type": "markdown",
   "metadata": {},
   "source": [
    "**Таким образом, больше всего покупок осуществляется в субботу.**"
   ]
  },
  {
   "cell_type": "markdown",
   "metadata": {},
   "source": [
    "<hr>"
   ]
  },
  {
   "cell_type": "markdown",
   "metadata": {},
   "source": [
    "### Посмотрим на изменение общей суммы заказов по дням"
   ]
  },
  {
   "cell_type": "code",
   "execution_count": 40,
   "metadata": {},
   "outputs": [
    {
     "data": {
      "image/png": "[encoded data removed]",
      "text/plain": [
       "<Figure size 936x504 with 1 Axes>"
      ]
     },
     "metadata": {
      "needs_background": "light"
     },
     "output_type": "display_data"
    }
   ],
   "source": [
    "# Агрегируем данные по дням и посчитаем общую сумму заказов\n",
    "days_total = df.set_index('created_at').total_sum.resample(rule='1d').sum()\n",
    "\n",
    "# Визуализируем результат\n",
    "plt.figure(figsize=(13, 7))\n",
    "ax = sns.lineplot(data=days_total, linewidth = 2)\n",
    "ax.set(xlabel = '', ylabel = 'total sum')\n",
    "ax.xaxis.set_major_formatter(mdates.DateFormatter('%b %d'));"
   ]
  },
  {
   "cell_type": "markdown",
   "metadata": {},
   "source": [
    "Из графика видно, что присутствует высокая изменчивость, при этом в октябре произошло увеличение общей суммы заказов которое сопровождается еще большей изменчивостью. Для того чтобы увидеть тренды воспользуемся скользящим средним."
   ]
  },
  {
   "cell_type": "code",
   "execution_count": 41,
   "metadata": {},
   "outputs": [
    {
     "data": {
      "image/png": "[encoded data removed]",
      "text/plain": [
       "<Figure size 1440x720 with 4 Axes>"
      ]
     },
     "metadata": {
      "needs_background": "light"
     },
     "output_type": "display_data"
    }
   ],
   "source": [
    "# Зададим параметры для размера окна скользящего среднего\n",
    "windows = [3, 5, 7, 9]\n",
    "colors = ['#273746', '#FB7D06', '#ADB806', '#2618CE']\n",
    "\n",
    "# Сделаем расчеты и визуализируем результат\n",
    "fig, axes = plt.subplots(nrows=2, ncols=2, figsize=(20, 10), sharey='col', sharex=True)\n",
    "for window, ax, color in zip(windows, axes.flatten(), colors):\n",
    "    ax.plot(days_total.rolling(window=window).mean(), label=window, color=color)\n",
    "\n",
    "for ax in axes.flatten():\n",
    "    ax.set_frame_on(False)\n",
    "    ax.xaxis.set_major_formatter(mdates.DateFormatter('%b %d'))\n",
    "    ax.grid(True, color='#e2e2e2', alpha=0.5)\n",
    "    sns.despine()\n",
    "    \n",
    "for name, ax in zip(['3' , '5' , '7', '9'] , axes.flatten()):\n",
    "    ax.set(title='Rolling mean with the window of {}'.format(name))\n",
    "    ax.tick_params(labelbottom=True, which='both')"
   ]
  },
  {
   "cell_type": "markdown",
   "metadata": {},
   "source": [
    "**Анализ графиков показывает, что в анализируемом периоде наблюдается положительный тренд в изменении общей суммы заказов по дням. При этом существенное увеличение общей суммы заказов произошло в начале октября.**"
   ]
  },
  {
   "cell_type": "markdown",
   "metadata": {},
   "source": [
    "<hr>"
   ]
  },
  {
   "cell_type": "markdown",
   "metadata": {},
   "source": [
    "### Посмотрим на изменение средней суммы заказов по дням и на количество пользователей"
   ]
  },
  {
   "cell_type": "code",
   "execution_count": 42,
   "metadata": {},
   "outputs": [
    {
     "data": {
      "image/png": "[encoded data removed]",
      "text/plain": [
       "<Figure size 936x504 with 1 Axes>"
      ]
     },
     "metadata": {
      "needs_background": "light"
     },
     "output_type": "display_data"
    }
   ],
   "source": [
    "# Агрегируем данные по дням и посчитаем среднее значение суммы заказов по дням\n",
    "days_mean = df.set_index('created_at').total_sum.resample(rule='1d').mean()\n",
    "\n",
    "# Агрегируем данные по дням и посчитаем количество уникальных пользователей по дням\n",
    "days_visits = df.set_index('created_at').user_id.resample(rule='1d').nunique()\n",
    "\n",
    "# Визуализируем результат\n",
    "plt.figure(figsize=(13, 7))\n",
    "ax = sns.lineplot(data=days_mean, linewidth = 2)\n",
    "ax = sns.lineplot(data=days_visits, linewidth = 2)\n",
    "ax.set(xlabel = '', ylabel = '')\n",
    "ax.xaxis.set_major_formatter(mdates.DateFormatter('%b %d'))\n",
    "plt.legend(labels=['Mean total sum', 'Unique users']);"
   ]
  },
  {
   "cell_type": "markdown",
   "metadata": {},
   "source": [
    "Из графика видно, что присутствует высокая изменчивость как в средней сумме заказов по дням, так и количестве уникальных пользователей по дням. При этом прослеживается некоторый тренд - с ростом количества пользователей происходит снижение средней суммы заказов. Для того чтобы увидеть эти тренды более отчетливо воспользуемся скользящим средним с размером окна 5."
   ]
  },
  {
   "cell_type": "code",
   "execution_count": 43,
   "metadata": {},
   "outputs": [
    {
     "data": {
      "image/png": "[encoded data removed]",
      "text/plain": [
       "<Figure size 936x504 with 1 Axes>"
      ]
     },
     "metadata": {
      "needs_background": "light"
     },
     "output_type": "display_data"
    }
   ],
   "source": [
    "# Рассчитаем скользящее среднее для средней суммы заказов по дням\n",
    "rolling_sum = days_mean.rolling(window=5).mean()\n",
    "\n",
    "# Рассчитаем скользящее среднее для количества уникальных пользователей по дням\n",
    "rolling_visits = days_visits.rolling(window=5).mean()\n",
    "\n",
    "# Визуализируем результат\n",
    "plt.figure(figsize=(13, 7))\n",
    "ax = sns.lineplot(data=rolling_sum, linewidth = 2)\n",
    "ax = sns.lineplot(data=rolling_visits, linewidth = 2)\n",
    "ax.xaxis.set_major_formatter(mdates.DateFormatter('%b %d'))\n",
    "ax.set(xlabel = '', ylabel = '')\n",
    "plt.legend(labels=['Mean total sum', 'Unique users']);"
   ]
  },
  {
   "cell_type": "markdown",
   "metadata": {},
   "source": [
    "- **В период с сентября по декабрь происходит снижение средней суммы заказов;**\n",
    "- **В период с сентября по декабрь происходит рост количества уникальных пользователей.**"
   ]
  },
  {
   "cell_type": "markdown",
   "metadata": {},
   "source": [
    "<hr>"
   ]
  },
  {
   "cell_type": "markdown",
   "metadata": {},
   "source": [
    "### Посмотрим на динамику средней суммы заказа пользователя по неделям и построим доверительный интервал"
   ]
  },
  {
   "cell_type": "code",
   "execution_count": 44,
   "metadata": {},
   "outputs": [
    {
     "data": {
      "text/html": [
       "<div>\n",
       "<style scoped>\n",
       "    .dataframe tbody tr th:only-of-type {\n",
       "        vertical-align: middle;\n",
       "    }\n",
       "\n",
       "    .dataframe tbody tr th {\n",
       "        vertical-align: top;\n",
       "    }\n",
       "\n",
       "    .dataframe thead th {\n",
       "        text-align: right;\n",
       "    }\n",
       "</style>\n",
       "<table border=\"1\" class=\"dataframe\">\n",
       "  <thead>\n",
       "    <tr style=\"text-align: right;\">\n",
       "      <th></th>\n",
       "      <th>arpu</th>\n",
       "      <th>count</th>\n",
       "      <th>sd</th>\n",
       "    </tr>\n",
       "    <tr>\n",
       "      <th>week_period</th>\n",
       "      <th></th>\n",
       "      <th></th>\n",
       "      <th></th>\n",
       "    </tr>\n",
       "  </thead>\n",
       "  <tbody>\n",
       "    <tr>\n",
       "      <th>2021-08-16/2021-08-22</th>\n",
       "      <td>37.695688</td>\n",
       "      <td>63</td>\n",
       "      <td>81.719642</td>\n",
       "    </tr>\n",
       "    <tr>\n",
       "      <th>2021-08-23/2021-08-29</th>\n",
       "      <td>42.226586</td>\n",
       "      <td>98</td>\n",
       "      <td>53.192879</td>\n",
       "    </tr>\n",
       "    <tr>\n",
       "      <th>2021-08-30/2021-09-05</th>\n",
       "      <td>40.493490</td>\n",
       "      <td>101</td>\n",
       "      <td>53.544426</td>\n",
       "    </tr>\n",
       "    <tr>\n",
       "      <th>2021-09-06/2021-09-12</th>\n",
       "      <td>31.850942</td>\n",
       "      <td>118</td>\n",
       "      <td>31.843600</td>\n",
       "    </tr>\n",
       "    <tr>\n",
       "      <th>2021-09-13/2021-09-19</th>\n",
       "      <td>26.071232</td>\n",
       "      <td>135</td>\n",
       "      <td>27.077699</td>\n",
       "    </tr>\n",
       "  </tbody>\n",
       "</table>\n",
       "</div>"
      ],
      "text/plain": [
       "                            arpu  count         sd\n",
       "week_period                                       \n",
       "2021-08-16/2021-08-22  37.695688     63  81.719642\n",
       "2021-08-23/2021-08-29  42.226586     98  53.192879\n",
       "2021-08-30/2021-09-05  40.493490    101  53.544426\n",
       "2021-09-06/2021-09-12  31.850942    118  31.843600\n",
       "2021-09-13/2021-09-19  26.071232    135  27.077699"
      ]
     },
     "execution_count": 44,
     "metadata": {},
     "output_type": "execute_result"
    }
   ],
   "source": [
    "# Создадим дополнительный столбец с периодом по неделям\n",
    "df['week_period'] = df['created_at'].dt.to_period('W')\n",
    "\n",
    "# Посчитаем среднюю сумму заказа по месяцам и количество пользователей\n",
    "week_purchases = df.groupby(['week_period']) \\\n",
    "                    .agg(arpu=('total_sum', 'mean'),\n",
    "                         count=('user_id', 'nunique'),\n",
    "                         sd=('total_sum', 'std'))\n",
    "\n",
    "week_purchases.head()"
   ]
  },
  {
   "cell_type": "markdown",
   "metadata": {},
   "source": [
    "Воспользуемся формулой для строительства доверительного интервала для среднего:\n",
    "$$\n",
    "\\hat \\mu \\pm z_{1 - \\frac{\\alpha}{2}} \\cdot \\frac{sd} {\\sqrt{n}} \n",
    "$$"
   ]
  },
  {
   "cell_type": "code",
   "execution_count": 45,
   "metadata": {},
   "outputs": [
    {
     "data": {
      "text/html": [
       "<div>\n",
       "<style scoped>\n",
       "    .dataframe tbody tr th:only-of-type {\n",
       "        vertical-align: middle;\n",
       "    }\n",
       "\n",
       "    .dataframe tbody tr th {\n",
       "        vertical-align: top;\n",
       "    }\n",
       "\n",
       "    .dataframe thead th {\n",
       "        text-align: right;\n",
       "    }\n",
       "</style>\n",
       "<table border=\"1\" class=\"dataframe\">\n",
       "  <thead>\n",
       "    <tr style=\"text-align: right;\">\n",
       "      <th></th>\n",
       "      <th>arpu</th>\n",
       "      <th>count</th>\n",
       "      <th>sd</th>\n",
       "      <th>left</th>\n",
       "      <th>right</th>\n",
       "    </tr>\n",
       "    <tr>\n",
       "      <th>week_period</th>\n",
       "      <th></th>\n",
       "      <th></th>\n",
       "      <th></th>\n",
       "      <th></th>\n",
       "      <th></th>\n",
       "    </tr>\n",
       "  </thead>\n",
       "  <tbody>\n",
       "    <tr>\n",
       "      <th>2021-08-16/2021-08-22</th>\n",
       "      <td>37.695688</td>\n",
       "      <td>63</td>\n",
       "      <td>81.719642</td>\n",
       "      <td>17.516472</td>\n",
       "      <td>57.874903</td>\n",
       "    </tr>\n",
       "    <tr>\n",
       "      <th>2021-08-23/2021-08-29</th>\n",
       "      <td>42.226586</td>\n",
       "      <td>98</td>\n",
       "      <td>53.192879</td>\n",
       "      <td>31.695127</td>\n",
       "      <td>52.758045</td>\n",
       "    </tr>\n",
       "    <tr>\n",
       "      <th>2021-08-30/2021-09-05</th>\n",
       "      <td>40.493490</td>\n",
       "      <td>101</td>\n",
       "      <td>53.544426</td>\n",
       "      <td>30.051058</td>\n",
       "      <td>50.935922</td>\n",
       "    </tr>\n",
       "    <tr>\n",
       "      <th>2021-09-06/2021-09-12</th>\n",
       "      <td>31.850942</td>\n",
       "      <td>118</td>\n",
       "      <td>31.843600</td>\n",
       "      <td>26.105423</td>\n",
       "      <td>37.596460</td>\n",
       "    </tr>\n",
       "    <tr>\n",
       "      <th>2021-09-13/2021-09-19</th>\n",
       "      <td>26.071232</td>\n",
       "      <td>135</td>\n",
       "      <td>27.077699</td>\n",
       "      <td>21.503581</td>\n",
       "      <td>30.638884</td>\n",
       "    </tr>\n",
       "  </tbody>\n",
       "</table>\n",
       "</div>"
      ],
      "text/plain": [
       "                            arpu  count         sd       left      right\n",
       "week_period                                                             \n",
       "2021-08-16/2021-08-22  37.695688     63  81.719642  17.516472  57.874903\n",
       "2021-08-23/2021-08-29  42.226586     98  53.192879  31.695127  52.758045\n",
       "2021-08-30/2021-09-05  40.493490    101  53.544426  30.051058  50.935922\n",
       "2021-09-06/2021-09-12  31.850942    118  31.843600  26.105423  37.596460\n",
       "2021-09-13/2021-09-19  26.071232    135  27.077699  21.503581  30.638884"
      ]
     },
     "execution_count": 45,
     "metadata": {},
     "output_type": "execute_result"
    }
   ],
   "source": [
    "# Зададим уревень значимости\n",
    "alpha = 0.05\n",
    "\n",
    "# Рассчитаем границы интервалов\n",
    "q = norm.ppf(1 - alpha/2)\n",
    "week_purchases['left'] = week_purchases['arpu'] - q * week_purchases['sd']/np.sqrt(week_purchases['count'])\n",
    "week_purchases['right'] = week_purchases['arpu'] + q * week_purchases['sd']/np.sqrt(week_purchases['count'])\n",
    "\n",
    "week_purchases.head()"
   ]
  },
  {
   "cell_type": "code",
   "execution_count": 46,
   "metadata": {},
   "outputs": [
    {
     "data": {
      "image/png": "[encoded data removed]",
      "text/plain": [
       "<Figure size 1008x432 with 1 Axes>"
      ]
     },
     "metadata": {
      "needs_background": "light"
     },
     "output_type": "display_data"
    }
   ],
   "source": [
    "# Визуализируем результат\n",
    "ax = week_purchases['arpu'].plot(figsize=(14, 6))\n",
    "plt.fill_between(week_purchases.index, week_purchases['left'], week_purchases['right'], \n",
    "                 facecolor='red', alpha=0.1, interpolate=True)\n",
    "\n",
    "ax.set(xlabel = '');"
   ]
  },
  {
   "cell_type": "markdown",
   "metadata": {},
   "source": [
    "**Таким образом, в анализируемом периоде средняя сумма заказа пользователя в неделю снижается. Широкий 95% доверительный интервал в начале анализируемого периода может объясняется тем, что имеются данные только за половину августа.**"
   ]
  },
  {
   "cell_type": "markdown",
   "metadata": {},
   "source": [
    "<hr>"
   ]
  },
  {
   "cell_type": "markdown",
   "metadata": {},
   "source": [
    "# Summary"
   ]
  },
  {
   "cell_type": "markdown",
   "metadata": {},
   "source": [
    "## Выводы по когортному анализу\n",
    "\n",
    "\n",
    "### Месячные когорты:\n",
    "- Анализ месячных когорт показывает, что в последующие месяцы после первой покупки, происходит снижение повторных покупок клиентами. При этом заметен рост числа повторных покупок пользователями из когорты 2021-10 г.\n",
    "\n",
    "### Недельные когорты:\n",
    "- Анализ недельных когорт позволяет выявить определенную сезонность - через некоторый период происходит незначительное увеличение повторных покупок пользователями.\n",
    "- Пользователи пришедшие с 2021-09-20 по 2021-09-26 совершали наименьшее количество повторных покупок за анализируемый период.\n",
    "- У пользователей пришедших в период с 2021-09-27 по 2021-11-01 наблюдается увеличение числа повторных покупок по сравнению с другими когортами.\n",
    "\n",
    "### Retention curve:\n",
    "- Oколо 78% пользователей не делают повторных покупок после 1-й недели.\n",
    "- После 4-й недели происходит плавное снижение числа повторных покупок.\n",
    "- Пользователи практически полностью прекращают делать повторные покупки на 16-ю неделю."
   ]
  },
  {
   "cell_type": "markdown",
   "metadata": {},
   "source": [
    "## Краткие выводы по анализу\n",
    "\n",
    "- Большая часть пользователей в анализируемой выборке из даркстора 60e9ad4c603cd8578de756f5.\n",
    "- Сумма 80% заказов не превышает 50 ден. единиц.\n",
    "- Интересный факт: по некоторым промокодам скидка равна сумме заказа после скидки - 213 наблюдений. Возможно такие наблюдения являются ошибочными.\n",
    "- Чаще всего встречаются промокоды содержащие слово `yalla`.\n",
    "- Больше всего покупок осуществляется в субботу.\n",
    "- 53% пользователей совершили покупку только один раз.\n",
    "- В исследуемой выборке средняя сумма заказа при наличии скидки выше чем средняя сумма заказа без скидки.\n",
    "- При наличии скидки (промокода) средняя сумма заказа выше как для пользователей которые совершили одну покупку, так и для пользователей которые совершили несколько покупок.\n",
    "- Для пользователей, совершивших несколько покупок, с увеличением скидки увеличивается средняя сумма заказа после скидок.\n",
    "- В анализируемом периоде наблюдается положительный тренд в изменении общей суммы заказов по дням. При этом существенное увеличение общей суммы заказов произошло в начале октября.\n",
    "- В анализируемом периоде наблюдается тренд снижение дневной средней суммы заказов.\n",
    "- В период с сентября по декабрь наблюдается тренд ежедневного роста количества уникальных пользователей.\n",
    "- В анализируемом периоде средняя сумма заказа пользователя в неделю снижается."
   ]
  }
 ],
 "metadata": {
  "kernelspec": {
   "display_name": "Python 3",
   "language": "python",
   "name": "python3"
  },
  "language_info": {
   "codemirror_mode": {
    "name": "ipython",
    "version": 3
   },
   "file_extension": ".py",
   "mimetype": "text/x-python",
   "name": "python",
   "nbconvert_exporter": "python",
   "pygments_lexer": "ipython3",
   "version": "3.8.5"
  }
 },
 "nbformat": 4,
 "nbformat_minor": 4
}
