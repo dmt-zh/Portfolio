{
 "cells": [
  {
   "cell_type": "markdown",
   "metadata": {},
   "source": [
    "# А/А-тестирование мобильного приложения\n",
    "\n",
    "\n",
    "## Постановка задачи\n",
    "\n",
    "\n",
    "Необходимо посчитать результаты A/A-теста, проверяя метрику качества FPR (будем проверять на конверсии в покупку). Известно, что сплит-система сломана. Требуется проверить утверждение о поломке и найти ее причины, если сплит-система действительно сломана."
   ]
  },
  {
   "cell_type": "markdown",
   "metadata": {},
   "source": [
    "### Описание данных:\n",
    "\n",
    "\n",
    "| Поле                 | Описание                |\n",
    "| :--------------------| :-----------------------|\n",
    "| experimentVariant    | вариант эксперимента    |\n",
    "| version              | версия приложения       |\n",
    "| purchase             | факт покупки            |\n"
   ]
  },
  {
   "cell_type": "code",
   "execution_count": 1,
   "metadata": {},
   "outputs": [],
   "source": [
    "# Импорт библиотек\n",
    "import numpy as np\n",
    "import pandas as pd\n",
    "from scipy import stats\n",
    "\n",
    "import seaborn as sns\n",
    "sns.set_style('whitegrid')\n",
    "sns.set(font_scale = 1.2)\n",
    "\n",
    "import matplotlib.pyplot as plt\n",
    "%matplotlib inline"
   ]
  },
  {
   "cell_type": "code",
   "execution_count": 2,
   "metadata": {},
   "outputs": [
    {
     "name": "stdout",
     "output_type": "stream",
     "text": [
      "Размерность данных \"customers\" - (127018, 5)\n"
     ]
    },
    {
     "data": {
      "text/html": [
       "<div>\n",
       "<style scoped>\n",
       "    .dataframe tbody tr th:only-of-type {\n",
       "        vertical-align: middle;\n",
       "    }\n",
       "\n",
       "    .dataframe tbody tr th {\n",
       "        vertical-align: top;\n",
       "    }\n",
       "\n",
       "    .dataframe thead th {\n",
       "        text-align: right;\n",
       "    }\n",
       "</style>\n",
       "<table border=\"1\" class=\"dataframe\">\n",
       "  <thead>\n",
       "    <tr style=\"text-align: right;\">\n",
       "      <th></th>\n",
       "      <th>Unnamed: 0</th>\n",
       "      <th>uid</th>\n",
       "      <th>experimentVariant</th>\n",
       "      <th>version</th>\n",
       "      <th>purchase</th>\n",
       "    </tr>\n",
       "  </thead>\n",
       "  <tbody>\n",
       "    <tr>\n",
       "      <th>0</th>\n",
       "      <td>1</td>\n",
       "      <td>c4ca4238a0b923820dcc509a6f75849b</td>\n",
       "      <td>1</td>\n",
       "      <td>v2.8.0</td>\n",
       "      <td>0</td>\n",
       "    </tr>\n",
       "    <tr>\n",
       "      <th>1</th>\n",
       "      <td>2</td>\n",
       "      <td>c81e728d9d4c2f636f067f89cc14862c</td>\n",
       "      <td>0</td>\n",
       "      <td>v2.9.0</td>\n",
       "      <td>0</td>\n",
       "    </tr>\n",
       "    <tr>\n",
       "      <th>2</th>\n",
       "      <td>3</td>\n",
       "      <td>eccbc87e4b5ce2fe28308fd9f2a7baf3</td>\n",
       "      <td>1</td>\n",
       "      <td>v2.9.0</td>\n",
       "      <td>0</td>\n",
       "    </tr>\n",
       "    <tr>\n",
       "      <th>3</th>\n",
       "      <td>4</td>\n",
       "      <td>a87ff679a2f3e71d9181a67b7542122c</td>\n",
       "      <td>1</td>\n",
       "      <td>v2.8.0</td>\n",
       "      <td>0</td>\n",
       "    </tr>\n",
       "    <tr>\n",
       "      <th>4</th>\n",
       "      <td>5</td>\n",
       "      <td>e4da3b7fbbce2345d7772b0674a318d5</td>\n",
       "      <td>1</td>\n",
       "      <td>v2.8.0</td>\n",
       "      <td>0</td>\n",
       "    </tr>\n",
       "  </tbody>\n",
       "</table>\n",
       "</div>"
      ],
      "text/plain": [
       "   Unnamed: 0                               uid  experimentVariant version  \\\n",
       "0           1  c4ca4238a0b923820dcc509a6f75849b                  1  v2.8.0   \n",
       "1           2  c81e728d9d4c2f636f067f89cc14862c                  0  v2.9.0   \n",
       "2           3  eccbc87e4b5ce2fe28308fd9f2a7baf3                  1  v2.9.0   \n",
       "3           4  a87ff679a2f3e71d9181a67b7542122c                  1  v2.8.0   \n",
       "4           5  e4da3b7fbbce2345d7772b0674a318d5                  1  v2.8.0   \n",
       "\n",
       "   purchase  \n",
       "0         0  \n",
       "1         0  \n",
       "2         0  \n",
       "3         0  \n",
       "4         0  "
      ]
     },
     "execution_count": 2,
     "metadata": {},
     "output_type": "execute_result"
    }
   ],
   "source": [
    "# Загрузим данные, посмотрим на их размерность и отобразим первые 5 строк\n",
    "df = pd.read_csv('hw_aa.csv', sep=';')\n",
    "print(f'Размерность данных \"customers\" - {df.shape}')\n",
    "df.head()"
   ]
  },
  {
   "cell_type": "code",
   "execution_count": 3,
   "metadata": {},
   "outputs": [
    {
     "data": {
      "text/plain": [
       "experimentVariant    2\n",
       "version              4\n",
       "dtype: int64"
      ]
     },
     "execution_count": 3,
     "metadata": {},
     "output_type": "execute_result"
    }
   ],
   "source": [
    "# Посмотрим на количество уникальных значений по переменным experimentVariant и version\n",
    "df[['experimentVariant', 'version']].nunique()"
   ]
  },
  {
   "cell_type": "markdown",
   "metadata": {},
   "source": [
    "Таким образом, у нас 2 варианта эксперимента и 4 версии приложения."
   ]
  },
  {
   "cell_type": "markdown",
   "metadata": {},
   "source": [
    "Запустим симуляцию A/A теста и посмотрим, есть ли в наших выборках статистически значимые различия до экспериментального воздействия. Если выборки сделаны правильно тогда между двумя выборками НЕ должно быть никаких различий."
   ]
  },
  {
   "cell_type": "code",
   "execution_count": 4,
   "metadata": {},
   "outputs": [
    {
     "data": {
      "image/png": "[encoded data removed]",
      "text/plain": [
       "<Figure size 720x432 with 1 Axes>"
      ]
     },
     "metadata": {
      "needs_background": "light"
     },
     "output_type": "display_data"
    },
    {
     "name": "stdout",
     "output_type": "stream",
     "text": [
      "FPR value: 0.931\n"
     ]
    }
   ],
   "source": [
    "# Определим количество симуляций\n",
    "simulations = 1000\n",
    "\n",
    "# Определим размер выборки\n",
    "n_s = 1000\n",
    "\n",
    "# Определим переменную для сохранения результата\n",
    "res = []\n",
    "\n",
    "# Запуск симуляций A/A теста\n",
    "for i in range(simulations):\n",
    "    s1 = df[df['experimentVariant'] == 0].purchase.sample(n_s, replace = False).values    # выборка из одной группы\n",
    "    s2 = df[df['experimentVariant'] == 1].purchase.sample(n_s, replace = False).values    # выборка из другой группы\n",
    "    res.append(stats.ttest_ind(s1, s2, equal_var = False)[1])                             # сохраняем pvalue\n",
    "\n",
    "# Определим количество интервалов для построения гистограммы\n",
    "bins = round(1 + 3.2 * np.log(len(res)))\n",
    "\n",
    "# Визуализируем полученный результат\n",
    "plt.figure(figsize=(10, 6))\n",
    "ax = sns.histplot(pd.Series(res), bins=bins, kde=False)\n",
    "ax.set(title='Histogram of ttest A/A simulations',\n",
    "       xlabel='p-values', \n",
    "       ylabel='frequency')\n",
    "sns.despine()\n",
    "plt.show()\n",
    "\n",
    "# Проверяем, что количество ложноположительных случаев не превышает альфа\n",
    "print(f'FPR value: {sum(np.array(res) < 0.05) / simulations}')"
   ]
  },
  {
   "cell_type": "markdown",
   "metadata": {},
   "source": [
    "**Из результата проведенной симуляции видно, что в 93% случаев мы получаем статистически значимые различия. Это подтверждает поломку  сплит-системы.**<br>\n",
    "\n",
    "Попробуем разобратся в причине поломки. Сгруппируем данные по номеру эксперимента и версии приложения, рассчитаем конверсию и размер групп в каждом разрезе."
   ]
  },
  {
   "cell_type": "code",
   "execution_count": 5,
   "metadata": {},
   "outputs": [
    {
     "data": {
      "text/html": [
       "<div>\n",
       "<style scoped>\n",
       "    .dataframe tbody tr th:only-of-type {\n",
       "        vertical-align: middle;\n",
       "    }\n",
       "\n",
       "    .dataframe tbody tr th {\n",
       "        vertical-align: top;\n",
       "    }\n",
       "\n",
       "    .dataframe thead tr th {\n",
       "        text-align: left;\n",
       "    }\n",
       "\n",
       "    .dataframe thead tr:last-of-type th {\n",
       "        text-align: right;\n",
       "    }\n",
       "</style>\n",
       "<table border=\"1\" class=\"dataframe\">\n",
       "  <thead>\n",
       "    <tr>\n",
       "      <th></th>\n",
       "      <th colspan=\"2\" halign=\"left\">conversion</th>\n",
       "      <th colspan=\"2\" halign=\"left\">size</th>\n",
       "    </tr>\n",
       "    <tr>\n",
       "      <th>experimentVariant</th>\n",
       "      <th>0</th>\n",
       "      <th>1</th>\n",
       "      <th>0</th>\n",
       "      <th>1</th>\n",
       "    </tr>\n",
       "    <tr>\n",
       "      <th>version</th>\n",
       "      <th></th>\n",
       "      <th></th>\n",
       "      <th></th>\n",
       "      <th></th>\n",
       "    </tr>\n",
       "  </thead>\n",
       "  <tbody>\n",
       "    <tr>\n",
       "      <th>v2.8.0</th>\n",
       "      <td>0.10</td>\n",
       "      <td>4.56</td>\n",
       "      <td>41283.0</td>\n",
       "      <td>41552.0</td>\n",
       "    </tr>\n",
       "    <tr>\n",
       "      <th>v2.9.0</th>\n",
       "      <td>7.47</td>\n",
       "      <td>7.13</td>\n",
       "      <td>11921.0</td>\n",
       "      <td>12033.0</td>\n",
       "    </tr>\n",
       "    <tr>\n",
       "      <th>v3.7.4.0</th>\n",
       "      <td>5.99</td>\n",
       "      <td>6.30</td>\n",
       "      <td>4204.0</td>\n",
       "      <td>4221.0</td>\n",
       "    </tr>\n",
       "    <tr>\n",
       "      <th>v3.8.0.0</th>\n",
       "      <td>5.76</td>\n",
       "      <td>6.28</td>\n",
       "      <td>5694.0</td>\n",
       "      <td>6110.0</td>\n",
       "    </tr>\n",
       "  </tbody>\n",
       "</table>\n",
       "</div>"
      ],
      "text/plain": [
       "                  conversion           size         \n",
       "experimentVariant          0     1        0        1\n",
       "version                                             \n",
       "v2.8.0                  0.10  4.56  41283.0  41552.0\n",
       "v2.9.0                  7.47  7.13  11921.0  12033.0\n",
       "v3.7.4.0                5.99  6.30   4204.0   4221.0\n",
       "v3.8.0.0                5.76  6.28   5694.0   6110.0"
      ]
     },
     "execution_count": 5,
     "metadata": {},
     "output_type": "execute_result"
    }
   ],
   "source": [
    "table = df.groupby(['experimentVariant', 'version'], as_index=False) \\\n",
    "    .agg(conversion=('purchase', 'mean'),\n",
    "         size=('uid', 'count')) \\\n",
    "    .pivot(index='version', columns='experimentVariant', values=['conversion', 'size'])\n",
    "\n",
    "table['conversion'] = table['conversion'].mul(100).round(2)\n",
    "table"
   ]
  },
  {
   "cell_type": "code",
   "execution_count": 6,
   "metadata": {},
   "outputs": [
    {
     "name": "stdout",
     "output_type": "stream",
     "text": [
      "Процент пользователей приложения v2.8.0 в эксперименте 0 - 65.42%         \n",
      "Процент пользователей приложения v2.8.0 в эксперименте 1 - 65.01%\n"
     ]
    }
   ],
   "source": [
    "# Посмотрим какой процент составляет версия v2.8.0 в двух группах\n",
    "group_0 = (table.loc[('v2.8.0', 'size')][0] / table[('size', 0)].sum())\n",
    "group_1 = (table.loc[('v2.8.0', 'size')][1] / table[('size', 1)].sum())\n",
    "\n",
    "print(f'Процент пользователей приложения v2.8.0 в эксперименте 0 - {group_0:.2%} \\\n",
    "        \\nПроцент пользователей приложения v2.8.0 в эксперименте 1 - {group_1:.2%}')"
   ]
  },
  {
   "cell_type": "markdown",
   "metadata": {},
   "source": [
    "**Анализ сводной таблицы показывает, что в экспериментальную группу 0 попадают такие пользователи версии приложения `v2.8.0` у которых конверсия в покупку 0.1%, а в экспериментальную группу 1 попадают такие пользователи версии приложения `v2.8.0` у которых конверсия в покупку 4.56%. При этом на долю приложения `v2.8.0` в общей выборке по экспериментам приходится более 65% всех наблюдений. Таким образом, наша поломка, вероятнее всего, обусловлена неправильным сплитованием пользователей приложения версии `v2.8.0`**.\n",
    "\n",
    "\n",
    "Для подтверждения выдвинутой гипотезы, проведем повторную симуляцию без учета приложения версии `v2.8.0`."
   ]
  },
  {
   "cell_type": "code",
   "execution_count": 7,
   "metadata": {},
   "outputs": [],
   "source": [
    "# Отфильтруем данные\n",
    "sub_1 = df.query('experimentVariant == 0 & version != \"v2.8.0\"')\n",
    "sub_2 = df.query('experimentVariant == 1 & version != \"v2.8.0\"')"
   ]
  },
  {
   "cell_type": "code",
   "execution_count": 8,
   "metadata": {},
   "outputs": [
    {
     "data": {
      "image/png": "[encoded data removed]",
      "text/plain": [
       "<Figure size 720x432 with 1 Axes>"
      ]
     },
     "metadata": {
      "needs_background": "light"
     },
     "output_type": "display_data"
    },
    {
     "name": "stdout",
     "output_type": "stream",
     "text": [
      "FPR value: 0.041\n"
     ]
    }
   ],
   "source": [
    "# Определим количество симуляций\n",
    "simulations = 1000\n",
    "\n",
    "# Определим размер выборки\n",
    "n_s = 1000\n",
    "\n",
    "# Определим переменную для сохранения результата\n",
    "res = []\n",
    "\n",
    "# Запуск симуляций A/A теста\n",
    "for i in range(simulations):\n",
    "    s1 = sub_1.purchase.sample(n_s, replace = False).values    # выборка из одной группы\n",
    "    s2 = sub_2.purchase.sample(n_s, replace = False).values    # выборка из другой группы\n",
    "    res.append(stats.ttest_ind(s1, s2, equal_var = False)[1])  # сохраняем pvalue\n",
    "\n",
    "# Определим количество интервалов для построения гистограммы\n",
    "bins = round(1 + 3.2 * np.log(len(res)))\n",
    "\n",
    "# Визуализируем полученный результат\n",
    "plt.figure(figsize=(10, 6))\n",
    "ax = sns.histplot(pd.Series(res), bins=bins, kde=False)\n",
    "ax.set(title='Histogram of ttest A/A simulations',\n",
    "       xlabel='p-values', \n",
    "       ylabel='frequency')\n",
    "sns.despine()\n",
    "plt.show()\n",
    "\n",
    "# Проверяем, что количество ложноположительных случаев не превышает альфа\n",
    "print(f'FPR value: {sum(np.array(res) < 0.05) / simulations}')"
   ]
  },
  {
   "cell_type": "markdown",
   "metadata": {},
   "source": [
    "**Из результата проведенной симуляции видно, что FPR < 5%. Т.е. предположение о том, что поломка сплит-системы обусловлена неправильным сплитование пользователей приложения версии `v2.8.0` статистически доказано.**<br>"
   ]
  }
 ],
 "metadata": {
  "kernelspec": {
   "display_name": "Python 3",
   "language": "python",
   "name": "python3"
  },
  "language_info": {
   "codemirror_mode": {
    "name": "ipython",
    "version": 3
   },
   "file_extension": ".py",
   "mimetype": "text/x-python",
   "name": "python",
   "nbconvert_exporter": "python",
   "pygments_lexer": "ipython3",
   "version": "3.8.5"
  }
 },
 "nbformat": 4,
 "nbformat_minor": 4
}
